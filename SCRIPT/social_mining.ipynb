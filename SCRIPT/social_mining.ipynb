{
  "nbformat": 4,
  "nbformat_minor": 0,
  "metadata": {
    "colab": {
      "name": "social_mining.ipynb",
      "provenance": [],
      "collapsed_sections": [],
      "toc_visible": true
    },
    "kernelspec": {
      "name": "python3",
      "display_name": "Python 3"
    }
  },
  "cells": [
    {
      "cell_type": "markdown",
      "metadata": {
        "id": "pyvbZcpBy0Xo",
        "colab_type": "text"
      },
      "source": [
        "<center>\n",
        "\n",
        "#  Datamining for Big Data \n",
        "##  Recommendation System  with Graph Mining \n",
        "</center> \n"
      ]
    },
    {
      "cell_type": "markdown",
      "metadata": {
        "id": "odUCrFoCzOed",
        "colab_type": "text"
      },
      "source": [
        "### 0- Mounting Drive ..."
      ]
    },
    {
      "cell_type": "code",
      "metadata": {
        "id": "XYWuDCGIytsq",
        "colab_type": "code",
        "outputId": "18acc5f4-45d0-44fe-ae5c-770508d9ba7f",
        "colab": {
          "base_uri": "https://localhost:8080/",
          "height": 122
        }
      },
      "source": [
        "from google.colab import drive\n",
        "drive.mount('/content/drive')"
      ],
      "execution_count": 1,
      "outputs": [
        {
          "output_type": "stream",
          "text": [
            "Go to this URL in a browser: https://accounts.google.com/o/oauth2/auth?client_id=947318989803-6bn6qk8qdgf4n4g3pfee6491hc0brc4i.apps.googleusercontent.com&redirect_uri=urn%3aietf%3awg%3aoauth%3a2.0%3aoob&response_type=code&scope=email%20https%3a%2f%2fwww.googleapis.com%2fauth%2fdocs.test%20https%3a%2f%2fwww.googleapis.com%2fauth%2fdrive%20https%3a%2f%2fwww.googleapis.com%2fauth%2fdrive.photos.readonly%20https%3a%2f%2fwww.googleapis.com%2fauth%2fpeopleapi.readonly\n",
            "\n",
            "Enter your authorization code:\n",
            "··········\n",
            "Mounted at /content/drive\n"
          ],
          "name": "stdout"
        }
      ]
    },
    {
      "cell_type": "markdown",
      "metadata": {
        "id": "ENyZ3EikzeF-",
        "colab_type": "text"
      },
      "source": [
        "### 1- Loading Library, Dataset and Utilities functions ... "
      ]
    },
    {
      "cell_type": "code",
      "metadata": {
        "id": "2aDTi3xjzUqD",
        "colab_type": "code",
        "outputId": "84cccc08-e797-4e8e-9fa0-60707947ebd8",
        "colab": {
          "base_uri": "https://localhost:8080/",
          "height": 68
        }
      },
      "source": [
        "# Installing dependencies ....\n",
        "! pip install textblob\n",
        "\n",
        "# Loading dependencies  ....\n",
        "import networkx as nx \n",
        "from networkx.algorithms.distance_measures import diameter\n",
        "from networkx.algorithms.community import community_utils\n",
        "from networkx.algorithms.community import greedy_modularity_communities\n",
        "\n",
        "from networkx.algorithms.community import k_clique_communities\n",
        "from networkx.algorithms.centrality import edge_betweenness_centrality\n",
        "from networkx.algorithms.community.centrality import girvan_newman\n",
        "import pandas as pd\n",
        "import numpy as np\n",
        "import statistics as stats\n",
        "import community\n",
        "import collections\n",
        "import math\n",
        "from matplotlib  import pyplot as plt \n",
        "from textblob import TextBlob\n",
        "import re\n",
        "import random \n",
        "import json"
      ],
      "execution_count": 58,
      "outputs": [
        {
          "output_type": "stream",
          "text": [
            "Requirement already satisfied: textblob in /usr/local/lib/python3.6/dist-packages (0.15.3)\n",
            "Requirement already satisfied: nltk>=3.1 in /usr/local/lib/python3.6/dist-packages (from textblob) (3.2.5)\n",
            "Requirement already satisfied: six in /usr/local/lib/python3.6/dist-packages (from nltk>=3.1->textblob) (1.12.0)\n"
          ],
          "name": "stdout"
        }
      ]
    },
    {
      "cell_type": "code",
      "metadata": {
        "id": "7cgW3RZLz6gy",
        "colab_type": "code",
        "colab": {}
      },
      "source": [
        "# Initializing gloabal variables ...\n",
        "_root = \"/content/drive/My Drive/SOCIAL_MINING\"\n",
        "_url_src_dataset = _root+\"/data/export_articles_EGC_2004_2018.csv\"\n",
        "_url_similarity_score = _root+\"/data/similarityscore.csv\""
      ],
      "execution_count": 0,
      "outputs": []
    },
    {
      "cell_type": "code",
      "metadata": {
        "id": "NIzGE_Fz1Ti6",
        "colab_type": "code",
        "colab": {}
      },
      "source": [
        "# Implementing Utilities Functions ...\n",
        "def get_node_properties(node_id, df):\n",
        "  \"\"\"\n",
        "    Method used to get details/properties of a node given a node number \n",
        "  \n",
        "    @params: \n",
        "      node_id[Integer]: Node number / ID \n",
        "      df[Pandas.Dataframe]: Source DataFrame \n",
        "    @Returns:\n",
        "      Dictionaries of all details about the Node \n",
        "  \"\"\"\n",
        "  assert( node_id  in range(df.shape[0]) )\n",
        "  return dict(df.iloc[node_id])\n",
        "\n",
        "def is_positive_integer(i):\n",
        "  try:\n",
        "    i = int(i)\n",
        "    if i >=0:\n",
        "      return True\n",
        "  except Exception as e:\n",
        "    pass\n",
        "  return False \n",
        "\n",
        "def split_string_in_chunks(x, chunk_size  ):\n",
        "  chunks = len(x)\n",
        "  return [ x[i:i+chunk_size] for i in range(0, chunks, chunk_size) ]\n",
        "\n",
        "def _remove_all_special_chars(input_text):\n",
        "  assert (type(input_text) == str)\n",
        "\n",
        "  output_text = [re.sub(r\"[^a-zA-Z]+\", ' ', k) for k in input_text.split(\"\\n\")]\n",
        "  output_text = \" \".join(output_text).replace(\"\\n\", \" \")\n",
        "  output_text = output_text.lower()\n",
        "  return output_text\n",
        "\n",
        "def _reverse_key_value(my_dict):\n",
        "  tmp = dict()\n",
        "  for (k,v) in my_dict.items() :\n",
        "    if v not in tmp:\n",
        "      tmp[v] = list() \n",
        "    tmp[v].append(k)\n",
        "\n",
        "  return tmp \n"
      ],
      "execution_count": 0,
      "outputs": []
    },
    {
      "cell_type": "code",
      "metadata": {
        "id": "x3luTeTd2ApJ",
        "colab_type": "code",
        "colab": {}
      },
      "source": [
        "# Loading Dataset ...\n",
        "src_df = pd.read_csv(_url_src_dataset,delimiter=\"\\t\")\n",
        "sim_df = pd.read_csv(_url_similarity_score,delimiter=\",\")\n",
        "sim_df = sim_df.drop('Unnamed: 0', 1)"
      ],
      "execution_count": 0,
      "outputs": []
    },
    {
      "cell_type": "markdown",
      "metadata": {
        "id": "b9mV28c31IIo",
        "colab_type": "text"
      },
      "source": [
        "### 2- Data Visualization  ... "
      ]
    },
    {
      "cell_type": "code",
      "metadata": {
        "id": "3cQLNgTD1FfU",
        "colab_type": "code",
        "outputId": "f58d480f-bde2-484b-b8ea-06dea770ce01",
        "colab": {
          "base_uri": "https://localhost:8080/",
          "height": 527
        }
      },
      "source": [
        "print(\"src_df.shape: \", src_df.shape)\n",
        "print(src_df.columns)\n",
        "print(sim_df.columns)\n",
        "src_df.head(5)"
      ],
      "execution_count": 45,
      "outputs": [
        {
          "output_type": "stream",
          "text": [
            "src_df.shape:  (1269, 8)\n",
            "Index(['series', 'booktitle', 'year', 'title', 'abstract', 'authors',\n",
            "       'pdf1page', 'pdfarticle'],\n",
            "      dtype='object')\n",
            "Index(['0', '1', '2', '3', '4', '5', '6', '7', '8', '9',\n",
            "       ...\n",
            "       '1259', '1260', '1261', '1262', '1263', '1264', '1265', '1266', '1267',\n",
            "       '1268'],\n",
            "      dtype='object', length=1269)\n"
          ],
          "name": "stdout"
        },
        {
          "output_type": "execute_result",
          "data": {
            "text/html": [
              "<div>\n",
              "<style scoped>\n",
              "    .dataframe tbody tr th:only-of-type {\n",
              "        vertical-align: middle;\n",
              "    }\n",
              "\n",
              "    .dataframe tbody tr th {\n",
              "        vertical-align: top;\n",
              "    }\n",
              "\n",
              "    .dataframe thead th {\n",
              "        text-align: right;\n",
              "    }\n",
              "</style>\n",
              "<table border=\"1\" class=\"dataframe\">\n",
              "  <thead>\n",
              "    <tr style=\"text-align: right;\">\n",
              "      <th></th>\n",
              "      <th>series</th>\n",
              "      <th>booktitle</th>\n",
              "      <th>year</th>\n",
              "      <th>title</th>\n",
              "      <th>abstract</th>\n",
              "      <th>authors</th>\n",
              "      <th>pdf1page</th>\n",
              "      <th>pdfarticle</th>\n",
              "    </tr>\n",
              "  </thead>\n",
              "  <tbody>\n",
              "    <tr>\n",
              "      <th>0</th>\n",
              "      <td>Revue des Nouvelles Technologies de l'Information</td>\n",
              "      <td>EGC</td>\n",
              "      <td>2018</td>\n",
              "      <td>#Idéo2017 : une plateforme citoyenne dédiée à ...</td>\n",
              "      <td>Cette plateforme a pour objectif de permettre ...</td>\n",
              "      <td>Claudia Marinica, Julien Longhi, Nader Hassine...</td>\n",
              "      <td>http://editions-rnti.fr/render_pdf.php?p1&amp;p=10...</td>\n",
              "      <td>http://editions-rnti.fr/render_pdf.php?p=1002425</td>\n",
              "    </tr>\n",
              "    <tr>\n",
              "      <th>1</th>\n",
              "      <td>Revue des Nouvelles Technologies de l'Information</td>\n",
              "      <td>EGC</td>\n",
              "      <td>2018</td>\n",
              "      <td>A two level co-clustering algorithm for very l...</td>\n",
              "      <td>La classification croisée (co-clustering) est ...</td>\n",
              "      <td>Marius Barctus, Marc Boullé, Fabrice Clérot</td>\n",
              "      <td>http://editions-rnti.fr/render_pdf.php?p1&amp;p=10...</td>\n",
              "      <td>http://editions-rnti.fr/render_pdf.php?p=1002372</td>\n",
              "    </tr>\n",
              "    <tr>\n",
              "      <th>2</th>\n",
              "      <td>Revue des Nouvelles Technologies de l'Information</td>\n",
              "      <td>EGC</td>\n",
              "      <td>2018</td>\n",
              "      <td>ALGeoSPF: Un modèle de factorisation basé sur ...</td>\n",
              "      <td>La recommandation de points d'intérêts est dev...</td>\n",
              "      <td>Jean-Benoît Griesner, Talel Abdesssalem, Huber...</td>\n",
              "      <td>http://editions-rnti.fr/render_pdf.php?p1&amp;p=10...</td>\n",
              "      <td>http://editions-rnti.fr/render_pdf.php?p=1002380</td>\n",
              "    </tr>\n",
              "    <tr>\n",
              "      <th>3</th>\n",
              "      <td>Revue des Nouvelles Technologies de l'Information</td>\n",
              "      <td>EGC</td>\n",
              "      <td>2018</td>\n",
              "      <td>Analyse des sentiments à partir des commentair...</td>\n",
              "      <td>L'analyse des sentiments est un processus pend...</td>\n",
              "      <td>Abdeljalil Elouardighi, Mohcine Maghfour, Hafd...</td>\n",
              "      <td>http://editions-rnti.fr/render_pdf.php?p1&amp;p=10...</td>\n",
              "      <td>http://editions-rnti.fr/render_pdf.php?p=1002397</td>\n",
              "    </tr>\n",
              "    <tr>\n",
              "      <th>4</th>\n",
              "      <td>Revue des Nouvelles Technologies de l'Information</td>\n",
              "      <td>EGC</td>\n",
              "      <td>2018</td>\n",
              "      <td>Analyse en rôles sémantiques pour le résumé au...</td>\n",
              "      <td>Cet article présente une approche visant à ext...</td>\n",
              "      <td>Elyase Lassouli, Yasmine Mesbahi, Camille Prad...</td>\n",
              "      <td>http://editions-rnti.fr/render_pdf.php?p1&amp;p=10...</td>\n",
              "      <td>http://editions-rnti.fr/render_pdf.php?p=1002384</td>\n",
              "    </tr>\n",
              "  </tbody>\n",
              "</table>\n",
              "</div>"
            ],
            "text/plain": [
              "                                              series  ...                                        pdfarticle\n",
              "0  Revue des Nouvelles Technologies de l'Information  ...  http://editions-rnti.fr/render_pdf.php?p=1002425\n",
              "1  Revue des Nouvelles Technologies de l'Information  ...  http://editions-rnti.fr/render_pdf.php?p=1002372\n",
              "2  Revue des Nouvelles Technologies de l'Information  ...  http://editions-rnti.fr/render_pdf.php?p=1002380\n",
              "3  Revue des Nouvelles Technologies de l'Information  ...  http://editions-rnti.fr/render_pdf.php?p=1002397\n",
              "4  Revue des Nouvelles Technologies de l'Information  ...  http://editions-rnti.fr/render_pdf.php?p=1002384\n",
              "\n",
              "[5 rows x 8 columns]"
            ]
          },
          "metadata": {
            "tags": []
          },
          "execution_count": 45
        }
      ]
    },
    {
      "cell_type": "code",
      "metadata": {
        "id": "RBJy1h4BUNI8",
        "colab_type": "code",
        "colab": {
          "base_uri": "https://localhost:8080/",
          "height": 170
        },
        "outputId": "9a4b62d9-d529-4397-fd04-0f9ea48aa880"
      },
      "source": [
        "#src_df.loc[1145]\n",
        "src_df.loc[4]"
      ],
      "execution_count": 55,
      "outputs": [
        {
          "output_type": "execute_result",
          "data": {
            "text/plain": [
              "series        Revue des Nouvelles Technologies de l'Information\n",
              "booktitle                                                   EGC\n",
              "year                                                       2018\n",
              "title         Analyse en rôles sémantiques pour le résumé au...\n",
              "abstract      Cet article présente une approche visant à ext...\n",
              "authors       Elyase Lassouli, Yasmine Mesbahi, Camille Prad...\n",
              "pdf1page      http://editions-rnti.fr/render_pdf.php?p1&p=10...\n",
              "pdfarticle     http://editions-rnti.fr/render_pdf.php?p=1002384\n",
              "Name: 4, dtype: object"
            ]
          },
          "metadata": {
            "tags": []
          },
          "execution_count": 55
        }
      ]
    },
    {
      "cell_type": "markdown",
      "metadata": {
        "id": "zFyaQ8bnB35U",
        "colab_type": "text"
      },
      "source": [
        "### 3- Data Preprocessing ..."
      ]
    },
    {
      "cell_type": "code",
      "metadata": {
        "id": "lPlM0CXT24-5",
        "colab_type": "code",
        "outputId": "9e7d1186-5280-4709-eb07-57ff77727bc0",
        "colab": {
          "base_uri": "https://localhost:8080/",
          "height": 153
        }
      },
      "source": [
        "# Creating Trivial Distance Function base on disctance function derived from mxm matrix ...\n",
        "m,n = src_df.shape \n",
        "#m= 1000\n",
        "#dist_matrix = np.random.randint(0,1000, size=(m,m) ) \n",
        "dist_matrix = sim_df.values\n",
        "print(\"dist_matrix: \\n\", dist_matrix)"
      ],
      "execution_count": 47,
      "outputs": [
        {
          "output_type": "stream",
          "text": [
            "dist_matrix: \n",
            " [[1.         0.03175874 0.03774489 ... 0.         0.0163006  0.0202879 ]\n",
            " [0.03175874 1.         0.12842015 ... 0.00364649 0.01581375 0.14576674]\n",
            " [0.03774489 0.12842015 1.         ... 0.         0.02892527 0.06165638]\n",
            " ...\n",
            " [0.         0.00364649 0.         ... 1.         0.         0.        ]\n",
            " [0.0163006  0.01581375 0.02892527 ... 0.         1.         0.00410653]\n",
            " [0.0202879  0.14576674 0.06165638 ... 0.         0.00410653 1.        ]]\n"
          ],
          "name": "stdout"
        }
      ]
    },
    {
      "cell_type": "code",
      "metadata": {
        "id": "8HdXNJwv4hHD",
        "colab_type": "code",
        "outputId": "6ea3af0f-303a-43a8-8faf-705d1dbeb751",
        "colab": {
          "base_uri": "https://localhost:8080/",
          "height": 153
        }
      },
      "source": [
        "# Filtering the distance function using the defined threashold ... \n",
        "#_threashold = 0.04\n",
        "_threashold = 0.07\n",
        "for i in range(m):\n",
        "  dist_matrix[:,i] = [ 0 if x<_threashold  else x for x in dist_matrix[:,i]   ]\n",
        "print(\"dist_matrix: \\n\", dist_matrix)"
      ],
      "execution_count": 48,
      "outputs": [
        {
          "output_type": "stream",
          "text": [
            "dist_matrix: \n",
            " [[1.         0.         0.         ... 0.         0.         0.        ]\n",
            " [0.         1.         0.12842015 ... 0.         0.         0.14576674]\n",
            " [0.         0.12842015 1.         ... 0.         0.         0.        ]\n",
            " ...\n",
            " [0.         0.         0.         ... 1.         0.         0.        ]\n",
            " [0.         0.         0.         ... 0.         1.         0.        ]\n",
            " [0.         0.14576674 0.         ... 0.         0.         1.        ]]\n"
          ],
          "name": "stdout"
        }
      ]
    },
    {
      "cell_type": "code",
      "metadata": {
        "id": "lOQSORZi6lsp",
        "colab_type": "code",
        "outputId": "284c1a3c-e0c9-481c-e217-ad93937908ea",
        "colab": {
          "base_uri": "https://localhost:8080/",
          "height": 34
        }
      },
      "source": [
        "# Defining Nodes using source dataframe ...\n",
        "G = nx.Graph()\n",
        "for n in range(m):\n",
        "  # Adding the properties each node ... \n",
        "  G.add_node(n, **get_node_properties(n, src_df))\n",
        "\n",
        "print(\"Node Title Properties: \",G.nodes[0][\"title\"])\n",
        "\n",
        "# Defining Edegs based on the distance/weight matric  ...\n",
        "for i in range(m):\n",
        "  for j in range(m):\n",
        "    if dist_matrix[i,j] != 0 and i != j  :\n",
        "      G.add_edge(i,j,weight=dist_matrix[i,j] ) \n",
        "\n",
        "#print(\"Edge weight : \",G.edges[0, 1]['weight'])"
      ],
      "execution_count": 49,
      "outputs": [
        {
          "output_type": "stream",
          "text": [
            "Node Title Properties:  #Idéo2017 : une plateforme citoyenne dédiée à l'analyse des tweets lors des événements politiques\n"
          ],
          "name": "stdout"
        }
      ]
    },
    {
      "cell_type": "code",
      "metadata": {
        "id": "nxoGne_MJkIS",
        "colab_type": "code",
        "colab": {}
      },
      "source": [
        "# Plotting graph ...\n",
        "G.add_nodes_from(list(range(m) ))\n",
        "nx.draw(G, with_labels=True)\n",
        "plt.figure(figsize=(17,3))\n",
        "plt.show()\n",
        "\n"
      ],
      "execution_count": 0,
      "outputs": []
    },
    {
      "cell_type": "markdown",
      "metadata": {
        "id": "YTCyeq8EPrpX",
        "colab_type": "text"
      },
      "source": [
        "### 4- Network  Analysis ... "
      ]
    },
    {
      "cell_type": "code",
      "metadata": {
        "id": "tBNFXpBoP1HQ",
        "colab_type": "code",
        "outputId": "7d9027b0-bb1c-4240-b198-1c7537b52040",
        "colab": {
          "base_uri": "https://localhost:8080/",
          "height": 119
        }
      },
      "source": [
        "# Global Network Analysis ...\n",
        "n_edges = G.number_of_edges()\n",
        "n_nodes = G.number_of_nodes()\n",
        "#g_diameter = nx.diameter(G)\n",
        "g_degree = nx.degree(G)\n",
        "g_max_degree = max( [ x[1] for x in  g_degree ] )\n",
        "g_min_degree = min( [ x[1] for x in  g_degree ] )\n",
        "g_avg_degree = math.ceil(stats.mean( [ x[1] for x in  g_degree ] ))\n",
        "g_density = round(nx.density(G),2)\n",
        "\n",
        "print(\"Number of Edges\", n_edges )\n",
        "print(\"Number of Node\", n_nodes)\n",
        "#print(\"Graph Diameter\", g_diameter)\n",
        "print(\"Graph Max Degree \",g_max_degree  )\n",
        "print(\"Graph Min Degree \",g_min_degree  )\n",
        "print(\"Graph Mean Degree \",g_avg_degree  )\n",
        "print(\"Graph Density \", g_density)\n",
        "\n",
        "# Local Network Analysis ... \n",
        "\n"
      ],
      "execution_count": 51,
      "outputs": [
        {
          "output_type": "stream",
          "text": [
            "Number of Edges 121746\n",
            "Number of Node 1269\n",
            "Graph Max Degree  782\n",
            "Graph Min Degree  0\n",
            "Graph Mean Degree  192\n",
            "Graph Density  0.15\n"
          ],
          "name": "stdout"
        }
      ]
    },
    {
      "cell_type": "markdown",
      "metadata": {
        "id": "VuVa4fBrQ7F7",
        "colab_type": "text"
      },
      "source": [
        "### 5- Recommendation System Implementation ..."
      ]
    },
    {
      "cell_type": "code",
      "metadata": {
        "id": "wM1yw-ZAcStH",
        "colab_type": "code",
        "colab": {}
      },
      "source": [
        "# Selecting matching candidates per the book(s) read ... \n",
        "def detect_communities(G):\n",
        "  community_ = node_candidates_girvan_newman(G)\n",
        "  return community_ , _reverse_key_value( community_),community.modularity(community_, G )\n",
        "\n",
        "\n",
        "def node_candidates_girvan_newman(G):\n",
        "  community_ = community.best_partition(G,weight='weight', random_state= 1)\n",
        "  return community_\n",
        "\n",
        "def node_candidates_greedy(G):\n",
        "  greedy_com=list(greedy_modularity_communities(G, weight=\"weight\"))\n",
        "  return greedy_com\n",
        "\n",
        "def node_candidates_clique(G, n_cliques = 3):\n",
        "  clique_com = list(k_clique_communities(G, n_cliques))\n",
        "  return clique_com\n",
        "\n",
        "def node_candidates(community,list_read, nb_candidates = 10):\n",
        "  rv_community = _reverse_key_value( community)\n",
        "  tmp = list()\n",
        "  for one_read in list_read :\n",
        "    tmp.append(community[one_read])\n",
        "\n",
        "  nb_elem = len(tmp)\n",
        "  counter=collections.Counter(tmp)\n",
        "  freq_tmp =  dict(counter)\n",
        "  result = list()\n",
        "  for k,v in freq_tmp.items():\n",
        "    nb_items = int((v/nb_elem) * nb_candidates)\n",
        "    l2 = random.sample(rv_community[k], k=nb_items)\n",
        "    result = [*result, *l2]\n",
        "  return result \n",
        "\n",
        "# Ranking candidates ( google index based ranking No dead end trap and )...\n",
        "def ranking_candidate(G, list_read, list_candidate ):\n",
        "  assert(type(list_candidate)  == list)\n",
        "  assert(type(list_read) == list )\n",
        "\n",
        "  # remove  list_read from candidate \n",
        "  list_candidate =  [x for x in list_candidate if x not in list_read]\n",
        "  # Plot the subgrah of the articles read + candidates \n",
        "  combined = list_read + list_candidate\n",
        "  print(combined)\n",
        "  H = G.subgraph(combined)\n",
        "  print(H)\n",
        "  nx.draw(H, with_labels=True)\n",
        "  plt.figure(figsize=(17,3))\n",
        "  plt.show()\n",
        "  # Ranking based on proximity measure\n",
        "  #print(G.number_of_edges(1,7))\n",
        "  # Compute edge betweeness centrality in the Subgraph \n",
        "  all_edge_betweeness = edge_betweenness_centrality(H,weight=\"weight\") \n",
        "  #print(edge_betweenness_centrality(H,weight=\"weight\") )\n",
        "  # Compute weighted  betweeness score for each candidates (nodes )  ...\n",
        "  for edge in all_edge_betweeness:\n",
        "    score = all_edge_betweeness[edge]\n",
        "    H.nodes[edge[0]][\"betweeness_score\"] = (0 if  \"betweeness_score\" not in  H.nodes[edge[0]] else H.nodes[edge[0]][\"betweeness_score\"]) +  score\n",
        "    H.nodes[edge[1]][\"betweeness_score\"] = (0 if  \"betweeness_score\" not in  H.nodes[edge[1]] else H.nodes[edge[1]][\"betweeness_score\"]) +  score\n",
        "  \n",
        "  result = dict()\n",
        "  for candidate in list_candidate :\n",
        "    if \"betweeness_score\" in  H.nodes[candidate]:\n",
        "      result[candidate] = round( H.nodes[candidate][\"betweeness_score\"],3)\n",
        "    else:\n",
        "      result[candidate] = 0\n",
        "  \n",
        "  # Sort candidate in Descending order according to w\n",
        "  sorted_result = {k: v for k, v in sorted(result.items(), key=lambda item: item[1],reverse=True )}\n",
        "  return list(sorted_result.keys()), sorted_result\n",
        "\n",
        "#all_communities,_,_ = detect_communities(G)\n",
        "#node_candidates(all_communities,[4,5,6,7,8,9,1,2], nb_candidates = 100)"
      ],
      "execution_count": 0,
      "outputs": []
    },
    {
      "cell_type": "code",
      "metadata": {
        "id": "XrzXFdZuKP5r",
        "colab_type": "code",
        "colab": {}
      },
      "source": [
        "# Testing edge betweeness based community detection ...\n",
        "all_communities  = node_candidates_girvan_newman(G)\n",
        "all_communities_as_clusters = _reverse_key_value( all_communities)\n",
        "print(\"modularity_score\", community.modularity(all_communities, G ))\n",
        "print(json.dumps(all_communities_as_clusters)  )\n",
        "\n",
        "values = [all_communities.get(node) for node in G.nodes()]\n",
        "nx.draw_spring(G, cmap = plt.get_cmap('jet'), node_color = values, node_size=30, with_labels=False)"
      ],
      "execution_count": 0,
      "outputs": []
    },
    {
      "cell_type": "code",
      "metadata": {
        "id": "N8egR4ioBzsv",
        "colab_type": "code",
        "colab": {}
      },
      "source": [
        "# Testing Greedy community detection ...\n",
        "greedy_c = node_candidates_greedy(G, )\n",
        "sorted(sorted(greedy_c) )"
      ],
      "execution_count": 0,
      "outputs": []
    },
    {
      "cell_type": "code",
      "metadata": {
        "id": "wHxmEvbfK5eA",
        "colab_type": "code",
        "colab": {}
      },
      "source": [
        "# Testing Clique community detection (Strong Assumption) ...\n",
        "clique_c = node_candidates_clique(G)\n",
        "clique_c"
      ],
      "execution_count": 0,
      "outputs": []
    },
    {
      "cell_type": "code",
      "metadata": {
        "id": "6cyiFI1QK53S",
        "colab_type": "code",
        "colab": {
          "base_uri": "https://localhost:8080/",
          "height": 34
        },
        "outputId": "03589a9f-fbe5-4d30-a72c-a72dc5feb3c0"
      },
      "source": [
        "# Testing ranking candidate ... \n",
        "v,p = ranking_candidate(G, [5], [2,3,6,7])\n",
        "print(v,p)"
      ],
      "execution_count": 60,
      "outputs": [
        {
          "output_type": "stream",
          "text": [
            "[7, 2, 3, 6] {7: 15.4, 2: 4.4, 3: 4.4, 6: 4.4}\n"
          ],
          "name": "stdout"
        }
      ]
    },
    {
      "cell_type": "code",
      "metadata": {
        "id": "OfawFYtoRerO",
        "colab_type": "code",
        "colab": {}
      },
      "source": [
        "from networkx import edge_betweenness_centrality as betweenness\n",
        "def most_central_edge(G):\n",
        "    centrality = betweenness(G, weight='weight')\n",
        "    return max(centrality, key=centrality.get)\n",
        "\n",
        "\n",
        "comp = girvan_newman(G, most_valuable_edge=most_central_edge)\n",
        "tuple(sorted(c) for c in next(comp))\n"
      ],
      "execution_count": 0,
      "outputs": []
    },
    {
      "cell_type": "markdown",
      "metadata": {
        "id": "SwbaLBLcS0Tc",
        "colab_type": "text"
      },
      "source": [
        "### 6- System Evaluation ..."
      ]
    },
    {
      "cell_type": "markdown",
      "metadata": {
        "id": "67rcV-kSCfoQ",
        "colab_type": "text"
      },
      "source": [
        "### 7 - Demo (console)"
      ]
    },
    {
      "cell_type": "code",
      "metadata": {
        "id": "gSHgsz_6qqZ3",
        "colab_type": "code",
        "colab": {}
      },
      "source": [
        "all_communities,_,_ = detect_communities(G)\n"
      ],
      "execution_count": 0,
      "outputs": []
    },
    {
      "cell_type": "code",
      "metadata": {
        "id": "9f59K3aH-DnK",
        "colab_type": "code",
        "outputId": "e28f1c87-89ba-4cbd-b852-333cdea0e39d",
        "colab": {
          "base_uri": "https://localhost:8080/",
          "height": 911
        }
      },
      "source": [
        "book_read_id = None \n",
        "n_nodes = G.number_of_nodes()\n",
        "while True:\n",
        "  book_read_id = input(\"What book have you read : \")\n",
        "  if is_positive_integer(book_read_id) is True: \n",
        "    if int(book_read_id)  in range(n_nodes) :\n",
        "      break\n",
        "    else:\n",
        "       print(\"Invalid Input. book_id selected does not exists \")\n",
        "  else:\n",
        "    print(\"Invalid Input. Positive Number Expected \")\n",
        "\n",
        "\n",
        "# Recommendation ...\n",
        "node_selected = int(book_read_id)\n",
        "print(\"\\n\\nYou have read book id {}: [ {} ]\".format(book_read_id,G.nodes[node_selected][\"title\"]) )\n",
        "print(\"\\nRecommendation \")\n",
        "print(\"---------------\")\n",
        "list_read = [node_selected,8,9,1,2]\n",
        "lst_neighbors = node_candidates(all_communities,list_read, nb_candidates = 100)\n",
        "sorted_node , ranking_index = ranking_candidate(G, list_read, lst_neighbors)\n",
        "\n",
        "\n",
        "result_df = pd.DataFrame(columns=[\"Id\",\"Score\",\"Title\"])\n",
        "i = 0 \n",
        "for n in sorted_node:\n",
        "  result_df.loc[i, \"Id\"] = n\n",
        "  result_df.loc[i, \"Score\"] = ranking_index[n]\n",
        "  result_df.loc[i, \"Title\"] = str(G.nodes[n][\"title\"]).strip()\n",
        "  #print(\"id: \",n,\" | \", ranking_index[n], \"| Title:\",G.nodes[n][\"title\"])\n",
        "  i+=1\n",
        "\n",
        "pd.set_option(\"display.max_colwidth\",800)\n",
        "result_df\n",
        "\n",
        "# Be careful with with stop word elimination since there are some docs in english and french \n",
        "#30  |  0.22 | Title: Exploration et analyses multi-objectifs de séries temporelles de données météorologiques\n",
        "#14  |  0.02 | Title: Community structure in complex networks\n",
        " "
      ],
      "execution_count": 86,
      "outputs": [
        {
          "output_type": "stream",
          "text": [
            "What book have you read : 34\n",
            "\n",
            "\n",
            "You have read book id 34: [ Fouille de motifs temporels négatifs ]\n",
            "\n",
            "Recommendation \n",
            "---------------\n",
            "[34, 8, 9, 1, 2, 1158, 272, 364, 402, 1096, 598, 1176, 757, 441, 573, 739, 989, 654, 275, 447, 661, 805, 336, 625, 173, 686, 756, 117, 628, 30, 409, 483, 859, 445, 769, 218, 391, 1220, 962, 361, 193, 334, 900, 1007, 304, 490, 918, 362, 817, 813, 82, 161, 55, 32, 1202, 981, 618, 838, 476, 826, 3, 1258, 153, 582, 693, 892, 1175, 407, 77, 87, 309, 75, 420, 849, 907, 726, 977, 596, 820, 1188, 1090, 673, 770, 1062, 421, 375, 974, 156, 124, 772, 617, 790, 505, 22, 113, 510, 725, 633, 723, 1141, 443, 280, 1170, 931, 535]\n",
            "\n"
          ],
          "name": "stdout"
        },
        {
          "output_type": "display_data",
          "data": {
            "image/png": "[encoded data removed]",
            "text/plain": [
              "<Figure size 432x288 with 1 Axes>"
            ]
          },
          "metadata": {
            "tags": []
          }
        },
        {
          "output_type": "display_data",
          "data": {
            "text/plain": [
              "<Figure size 1224x216 with 0 Axes>"
            ]
          },
          "metadata": {
            "tags": []
          }
        },
        {
          "output_type": "execute_result",
          "data": {
            "text/html": [
              "<div>\n",
              "<style scoped>\n",
              "    .dataframe tbody tr th:only-of-type {\n",
              "        vertical-align: middle;\n",
              "    }\n",
              "\n",
              "    .dataframe tbody tr th {\n",
              "        vertical-align: top;\n",
              "    }\n",
              "\n",
              "    .dataframe thead th {\n",
              "        text-align: right;\n",
              "    }\n",
              "</style>\n",
              "<table border=\"1\" class=\"dataframe\">\n",
              "  <thead>\n",
              "    <tr style=\"text-align: right;\">\n",
              "      <th></th>\n",
              "      <th>Id</th>\n",
              "      <th>Score</th>\n",
              "      <th>Title</th>\n",
              "    </tr>\n",
              "  </thead>\n",
              "  <tbody>\n",
              "    <tr>\n",
              "      <th>0</th>\n",
              "      <td>361</td>\n",
              "      <td>0.259</td>\n",
              "      <td>Sélection de prototypes en vue d'une catégorisation de textes avec les K plus proches voisins : étude comparative</td>\n",
              "    </tr>\n",
              "    <tr>\n",
              "      <th>1</th>\n",
              "      <td>900</td>\n",
              "      <td>0.237</td>\n",
              "      <td>Visualisation et classification des parcours de vie</td>\n",
              "    </tr>\n",
              "    <tr>\n",
              "      <th>2</th>\n",
              "      <td>161</td>\n",
              "      <td>0.229</td>\n",
              "      <td>Découverte de labels dupliqués par l'exploration du treillis des classifieurs binaires</td>\n",
              "    </tr>\n",
              "    <tr>\n",
              "      <th>3</th>\n",
              "      <td>82</td>\n",
              "      <td>0.228</td>\n",
              "      <td>Classification d'objets 3D par extraction aléatoire de sous-parties discriminantes pour l'étude du sous-sol en prospection pétrolière</td>\n",
              "    </tr>\n",
              "    <tr>\n",
              "      <th>4</th>\n",
              "      <td>309</td>\n",
              "      <td>0.217</td>\n",
              "      <td>Clustering de données relationnelles pour la structuration de flux télévisuels</td>\n",
              "    </tr>\n",
              "    <tr>\n",
              "      <th>...</th>\n",
              "      <td>...</td>\n",
              "      <td>...</td>\n",
              "      <td>...</td>\n",
              "    </tr>\n",
              "    <tr>\n",
              "      <th>95</th>\n",
              "      <td>598</td>\n",
              "      <td>0.019</td>\n",
              "      <td>Utilisation de la Machine Cellulaire pour la Détection des Courriels Indésirables</td>\n",
              "    </tr>\n",
              "    <tr>\n",
              "      <th>96</th>\n",
              "      <td>1176</td>\n",
              "      <td>0.019</td>\n",
              "      <td>Tendances dans les expressions de gènes :  application à l'analyse du transcriptome  de Plasmodium Falciparum</td>\n",
              "    </tr>\n",
              "    <tr>\n",
              "      <th>97</th>\n",
              "      <td>55</td>\n",
              "      <td>0.019</td>\n",
              "      <td>Qu'est-ce qu'un bon système d'apprentissage ? La réponse a évolué avec le temps. Et demain?</td>\n",
              "    </tr>\n",
              "    <tr>\n",
              "      <th>98</th>\n",
              "      <td>32</td>\n",
              "      <td>0.019</td>\n",
              "      <td>Extraction de connaissances sur les défaillances de compteurs d'essieux</td>\n",
              "    </tr>\n",
              "    <tr>\n",
              "      <th>99</th>\n",
              "      <td>3</td>\n",
              "      <td>0.019</td>\n",
              "      <td>Analyse des sentiments à partir des commentaires Facebook publiés en Arabe standard ou dialectal marocain par une approche d'apprentissage automatique</td>\n",
              "    </tr>\n",
              "  </tbody>\n",
              "</table>\n",
              "<p>100 rows × 3 columns</p>\n",
              "</div>"
            ],
            "text/plain": [
              "      Id  ...                                                                                                                                                   Title\n",
              "0    361  ...                                       Sélection de prototypes en vue d'une catégorisation de textes avec les K plus proches voisins : étude comparative\n",
              "1    900  ...                                                                                                     Visualisation et classification des parcours de vie\n",
              "2    161  ...                                                                  Découverte de labels dupliqués par l'exploration du treillis des classifieurs binaires\n",
              "3     82  ...                   Classification d'objets 3D par extraction aléatoire de sous-parties discriminantes pour l'étude du sous-sol en prospection pétrolière\n",
              "4    309  ...                                                                          Clustering de données relationnelles pour la structuration de flux télévisuels\n",
              "..   ...  ...                                                                                                                                                     ...\n",
              "95   598  ...                                                                       Utilisation de la Machine Cellulaire pour la Détection des Courriels Indésirables\n",
              "96  1176  ...                                           Tendances dans les expressions de gènes :  application à l'analyse du transcriptome  de Plasmodium Falciparum\n",
              "97    55  ...                                                             Qu'est-ce qu'un bon système d'apprentissage ? La réponse a évolué avec le temps. Et demain?\n",
              "98    32  ...                                                                                 Extraction de connaissances sur les défaillances de compteurs d'essieux\n",
              "99     3  ...  Analyse des sentiments à partir des commentaires Facebook publiés en Arabe standard ou dialectal marocain par une approche d'apprentissage automatique\n",
              "\n",
              "[100 rows x 3 columns]"
            ]
          },
          "metadata": {
            "tags": []
          },
          "execution_count": 86
        }
      ]
    },
    {
      "cell_type": "markdown",
      "metadata": {
        "id": "eu6VGh1pSNDr",
        "colab_type": "text"
      },
      "source": [
        "For Live demo (Graphical User Interface) [link text](https://)"
      ]
    },
    {
      "cell_type": "markdown",
      "metadata": {
        "id": "5UFuqXgSmGiB",
        "colab_type": "text"
      },
      "source": [
        "### 8 -  Intermission "
      ]
    },
    {
      "cell_type": "markdown",
      "metadata": {
        "id": "4e8rX-OjOsUV",
        "colab_type": "text"
      },
      "source": [
        "#### 8-1 Scraping & Translating Documents"
      ]
    },
    {
      "cell_type": "code",
      "metadata": {
        "id": "5ZaC7svmYITg",
        "colab_type": "code",
        "outputId": "c689d4b7-6ef0-425c-fc0f-43ef8fd2c80e",
        "colab": {
          "base_uri": "https://localhost:8080/",
          "height": 1000
        }
      },
      "source": [
        "! pip install langdetect\n",
        "! pip install py-translate\n",
        "! pip install googletrans\n",
        "! pip install textract\n",
        "! pip install tika \n",
        "\n",
        "from langdetect import detect\n",
        "from googletrans import Translator\n",
        "import textract\n",
        "import urllib.request\n",
        "import time\n",
        "from tika import parser"
      ],
      "execution_count": 0,
      "outputs": [
        {
          "output_type": "stream",
          "text": [
            "Collecting langdetect\n",
            "\u001b[?25l  Downloading https://files.pythonhosted.org/packages/59/59/4bc44158a767a6d66de18c4136c8aa90491d56cc951c10b74dd1e13213c9/langdetect-1.0.7.zip (998kB)\n",
            "\u001b[K     |████████████████████████████████| 1.0MB 4.9MB/s \n",
            "\u001b[?25hRequirement already satisfied: six in /usr/local/lib/python3.6/dist-packages (from langdetect) (1.12.0)\n",
            "Building wheels for collected packages: langdetect\n",
            "  Building wheel for langdetect (setup.py) ... \u001b[?25l\u001b[?25hdone\n",
            "  Created wheel for langdetect: filename=langdetect-1.0.7-cp36-none-any.whl size=993460 sha256=18dc9c4013f094fb8953a32f4a33d01502eaf33e022cdf878afd5ed4a1fa7277\n",
            "  Stored in directory: /root/.cache/pip/wheels/ec/0c/a9/1647275e7ef5014e7b83ff30105180e332867d65e7617ddafe\n",
            "Successfully built langdetect\n",
            "Installing collected packages: langdetect\n",
            "Successfully installed langdetect-1.0.7\n",
            "Collecting py-translate\n",
            "\u001b[?25l  Downloading https://files.pythonhosted.org/packages/8f/bd/8ee839d3965f832e6a3eb054290aedf9ff0bb37350e0a0e81a0357d0a447/py_translate-1.0.3-py2.py3-none-any.whl (61kB)\n",
            "\u001b[K     |████████████████████████████████| 61kB 3.0MB/s \n",
            "\u001b[?25hInstalling collected packages: py-translate\n",
            "Successfully installed py-translate-1.0.3\n",
            "Collecting googletrans\n",
            "  Downloading https://files.pythonhosted.org/packages/fd/f0/a22d41d3846d1f46a4f20086141e0428ccc9c6d644aacbfd30990cf46886/googletrans-2.4.0.tar.gz\n",
            "Requirement already satisfied: requests in /usr/local/lib/python3.6/dist-packages (from googletrans) (2.21.0)\n",
            "Requirement already satisfied: certifi>=2017.4.17 in /usr/local/lib/python3.6/dist-packages (from requests->googletrans) (2019.11.28)\n",
            "Requirement already satisfied: chardet<3.1.0,>=3.0.2 in /usr/local/lib/python3.6/dist-packages (from requests->googletrans) (3.0.4)\n",
            "Requirement already satisfied: urllib3<1.25,>=1.21.1 in /usr/local/lib/python3.6/dist-packages (from requests->googletrans) (1.24.3)\n",
            "Requirement already satisfied: idna<2.9,>=2.5 in /usr/local/lib/python3.6/dist-packages (from requests->googletrans) (2.8)\n",
            "Building wheels for collected packages: googletrans\n",
            "  Building wheel for googletrans (setup.py) ... \u001b[?25l\u001b[?25hdone\n",
            "  Created wheel for googletrans: filename=googletrans-2.4.0-cp36-none-any.whl size=15776 sha256=d4881465d0bb2f9c7989c5b6d8545f8df5271ca3ccd1d1991255258f5c0bf957\n",
            "  Stored in directory: /root/.cache/pip/wheels/50/d6/e7/a8efd5f2427d5eb258070048718fa56ee5ac57fd6f53505f95\n",
            "Successfully built googletrans\n",
            "Installing collected packages: googletrans\n",
            "Successfully installed googletrans-2.4.0\n",
            "Collecting textract\n",
            "  Downloading https://files.pythonhosted.org/packages/32/31/ef9451e6e48a1a57e337c5f20d4ef58c1a13d91560d2574c738b1320bb8d/textract-1.6.3-py3-none-any.whl\n",
            "Collecting docx2txt==0.8\n",
            "  Downloading https://files.pythonhosted.org/packages/7d/7d/60ee3f2b16d9bfdfa72e8599470a2c1a5b759cb113c6fe1006be28359327/docx2txt-0.8.tar.gz\n",
            "Collecting pdfminer.six==20181108\n",
            "\u001b[?25l  Downloading https://files.pythonhosted.org/packages/8a/fd/6e8746e6965d1a7ea8e97253e3d79e625da5547e8f376f88de5d024bacb9/pdfminer.six-20181108-py2.py3-none-any.whl (5.6MB)\n",
            "\u001b[K     |████████████████████████████████| 5.6MB 6.8MB/s \n",
            "\u001b[?25hRequirement already satisfied: six==1.12.0 in /usr/local/lib/python3.6/dist-packages (from textract) (1.12.0)\n",
            "Collecting extract-msg==0.23.1\n",
            "\u001b[?25l  Downloading https://files.pythonhosted.org/packages/a1/90/84485a914ed90adb5e87df17e626be04162fbba146dfecf34643659a4633/extract_msg-0.23.1-py2.py3-none-any.whl (45kB)\n",
            "\u001b[K     |████████████████████████████████| 51kB 7.3MB/s \n",
            "\u001b[?25hCollecting beautifulsoup4==4.8.0\n",
            "\u001b[?25l  Downloading https://files.pythonhosted.org/packages/1a/b7/34eec2fe5a49718944e215fde81288eec1fa04638aa3fb57c1c6cd0f98c3/beautifulsoup4-4.8.0-py3-none-any.whl (97kB)\n",
            "\u001b[K     |████████████████████████████████| 102kB 10.2MB/s \n",
            "\u001b[?25hCollecting SpeechRecognition==3.8.1\n",
            "\u001b[?25l  Downloading https://files.pythonhosted.org/packages/26/e1/7f5678cd94ec1234269d23756dbdaa4c8cfaed973412f88ae8adf7893a50/SpeechRecognition-3.8.1-py2.py3-none-any.whl (32.8MB)\n",
            "\u001b[K     |████████████████████████████████| 32.8MB 117kB/s \n",
            "\u001b[?25hCollecting xlrd==1.2.0\n",
            "\u001b[?25l  Downloading https://files.pythonhosted.org/packages/b0/16/63576a1a001752e34bf8ea62e367997530dc553b689356b9879339cf45a4/xlrd-1.2.0-py2.py3-none-any.whl (103kB)\n",
            "\u001b[K     |████████████████████████████████| 112kB 50.4MB/s \n",
            "\u001b[?25hRequirement already satisfied: chardet==3.0.4 in /usr/local/lib/python3.6/dist-packages (from textract) (3.0.4)\n",
            "Collecting EbookLib==0.17.1\n",
            "\u001b[?25l  Downloading https://files.pythonhosted.org/packages/00/38/7d6ab2e569a9165249619d73b7bc6be0e713a899a3bc2513814b6598a84c/EbookLib-0.17.1.tar.gz (111kB)\n",
            "\u001b[K     |████████████████████████████████| 112kB 52.0MB/s \n",
            "\u001b[?25hCollecting argcomplete==1.10.0\n",
            "  Downloading https://files.pythonhosted.org/packages/4d/82/f44c9661e479207348a979b1f6f063625d11dc4ca6256af053719bbb0124/argcomplete-1.10.0-py2.py3-none-any.whl\n",
            "Collecting python-pptx==0.6.18\n",
            "\u001b[?25l  Downloading https://files.pythonhosted.org/packages/bf/86/eb979f7b0333ec769041aae36df8b9f1bd8bea5bbad44620663890dce561/python-pptx-0.6.18.tar.gz (8.9MB)\n",
            "\u001b[K     |████████████████████████████████| 8.9MB 21.1MB/s \n",
            "\u001b[?25hRequirement already satisfied: sortedcontainers in /usr/local/lib/python3.6/dist-packages (from pdfminer.six==20181108->textract) (2.1.0)\n",
            "Collecting pycryptodome\n",
            "\u001b[?25l  Downloading https://files.pythonhosted.org/packages/93/79/30fb604bf82abbab621ecdbbca932d294e1d4cf95336bb3fc2b5871d297a/pycryptodome-3.9.4-cp36-cp36m-manylinux1_x86_64.whl (9.7MB)\n",
            "\u001b[K     |████████████████████████████████| 9.7MB 44.8MB/s \n",
            "\u001b[?25hCollecting imapclient==2.1.0\n",
            "\u001b[?25l  Downloading https://files.pythonhosted.org/packages/dc/39/e1c2c2c6e2356ab6ea81fcfc0a74b044b311d6a91a45300811d9a6077ef7/IMAPClient-2.1.0-py2.py3-none-any.whl (73kB)\n",
            "\u001b[K     |████████████████████████████████| 81kB 9.3MB/s \n",
            "\u001b[?25hRequirement already satisfied: olefile==0.46 in /usr/local/lib/python3.6/dist-packages (from extract-msg==0.23.1->textract) (0.46)\n",
            "Requirement already satisfied: tzlocal==1.5.1 in /usr/local/lib/python3.6/dist-packages (from extract-msg==0.23.1->textract) (1.5.1)\n",
            "Collecting soupsieve>=1.2\n",
            "  Downloading https://files.pythonhosted.org/packages/81/94/03c0f04471fc245d08d0a99f7946ac228ca98da4fa75796c507f61e688c2/soupsieve-1.9.5-py2.py3-none-any.whl\n",
            "Requirement already satisfied: lxml in /usr/local/lib/python3.6/dist-packages (from EbookLib==0.17.1->textract) (4.2.6)\n",
            "Requirement already satisfied: Pillow>=3.3.2 in /usr/local/lib/python3.6/dist-packages (from python-pptx==0.6.18->textract) (4.3.0)\n",
            "Collecting XlsxWriter>=0.5.7\n",
            "\u001b[?25l  Downloading https://files.pythonhosted.org/packages/f2/16/da654cfbc0b05f2ad253c0f244b0c2a76c403bb774717b39c92653acb290/XlsxWriter-1.2.6-py2.py3-none-any.whl (141kB)\n",
            "\u001b[K     |████████████████████████████████| 143kB 51.2MB/s \n",
            "\u001b[?25hRequirement already satisfied: pytz in /usr/local/lib/python3.6/dist-packages (from tzlocal==1.5.1->extract-msg==0.23.1->textract) (2018.9)\n",
            "Building wheels for collected packages: docx2txt, EbookLib, python-pptx\n",
            "  Building wheel for docx2txt (setup.py) ... \u001b[?25l\u001b[?25hdone\n",
            "  Created wheel for docx2txt: filename=docx2txt-0.8-cp36-none-any.whl size=3965 sha256=57956ffac2c06ea9fc773e91827dfe70836a9fabe413b051261ae19aa767f9af\n",
            "  Stored in directory: /root/.cache/pip/wheels/b2/1f/26/a051209bbb77fc6bcfae2bb7e01fa0ff941b82292ab084d596\n",
            "  Building wheel for EbookLib (setup.py) ... \u001b[?25l\u001b[?25hdone\n",
            "  Created wheel for EbookLib: filename=EbookLib-0.17.1-cp36-none-any.whl size=38164 sha256=c0121da0a9ff52325dd4b76e84969bb9e9579df2585ae613e581f5c1eef9f860\n",
            "  Stored in directory: /root/.cache/pip/wheels/84/11/01/951369cbbf8f96878786a1f4da68bd7ac19a5d945b38e03d54\n",
            "  Building wheel for python-pptx (setup.py) ... \u001b[?25l\u001b[?25hdone\n",
            "  Created wheel for python-pptx: filename=python_pptx-0.6.18-cp36-none-any.whl size=275707 sha256=233dbd0f2f6cee3bc67ae8947d9c16583d06aefbbb2f64298954e9f74eab7f50\n",
            "  Stored in directory: /root/.cache/pip/wheels/1f/1f/2c/29acca422b420a0b5210bd2cd7e9669804520d602d2462f20b\n",
            "Successfully built docx2txt EbookLib python-pptx\n",
            "Installing collected packages: docx2txt, pycryptodome, pdfminer.six, imapclient, extract-msg, soupsieve, beautifulsoup4, SpeechRecognition, xlrd, EbookLib, argcomplete, XlsxWriter, python-pptx, textract\n",
            "  Found existing installation: beautifulsoup4 4.6.3\n",
            "    Uninstalling beautifulsoup4-4.6.3:\n",
            "      Successfully uninstalled beautifulsoup4-4.6.3\n",
            "  Found existing installation: xlrd 1.1.0\n",
            "    Uninstalling xlrd-1.1.0:\n",
            "      Successfully uninstalled xlrd-1.1.0\n",
            "Successfully installed EbookLib-0.17.1 SpeechRecognition-3.8.1 XlsxWriter-1.2.6 argcomplete-1.10.0 beautifulsoup4-4.8.0 docx2txt-0.8 extract-msg-0.23.1 imapclient-2.1.0 pdfminer.six-20181108 pycryptodome-3.9.4 python-pptx-0.6.18 soupsieve-1.9.5 textract-1.6.3 xlrd-1.2.0\n",
            "Collecting tika\n",
            "  Downloading https://files.pythonhosted.org/packages/10/b3/6a4fdab1ac3fb7b933f9803111221d39e2dc26ae87ed6992b9557c540270/tika-1.23.tar.gz\n",
            "Requirement already satisfied: setuptools in /usr/local/lib/python3.6/dist-packages (from tika) (42.0.2)\n",
            "Requirement already satisfied: requests in /usr/local/lib/python3.6/dist-packages (from tika) (2.21.0)\n",
            "Requirement already satisfied: certifi>=2017.4.17 in /usr/local/lib/python3.6/dist-packages (from requests->tika) (2019.11.28)\n",
            "Requirement already satisfied: chardet<3.1.0,>=3.0.2 in /usr/local/lib/python3.6/dist-packages (from requests->tika) (3.0.4)\n",
            "Requirement already satisfied: urllib3<1.25,>=1.21.1 in /usr/local/lib/python3.6/dist-packages (from requests->tika) (1.24.3)\n",
            "Requirement already satisfied: idna<2.9,>=2.5 in /usr/local/lib/python3.6/dist-packages (from requests->tika) (2.8)\n",
            "Building wheels for collected packages: tika\n",
            "  Building wheel for tika (setup.py) ... \u001b[?25l\u001b[?25hdone\n",
            "  Created wheel for tika: filename=tika-1.23-cp36-none-any.whl size=31852 sha256=6c83fb048ebc4603df66ef75b6b76ad36aeb55b97543796dec1f993597d2f682\n",
            "  Stored in directory: /root/.cache/pip/wheels/39/01/4c/184b118bbece0003fd5e7aba3e6a52579e590a84eb3d2b96e5\n",
            "Successfully built tika\n",
            "Installing collected packages: tika\n",
            "Successfully installed tika-1.23\n"
          ],
          "name": "stdout"
        }
      ]
    },
    {
      "cell_type": "code",
      "metadata": {
        "id": "k8l9uWxURd41",
        "colab_type": "code",
        "outputId": "e3e96466-868e-4aa8-d293-5cc2a2db52f7",
        "colab": {
          "base_uri": "https://localhost:8080/",
          "height": 810
        }
      },
      "source": [
        "# Retrieving title Columns from  src_df  \n",
        "article_title = src_df[\"title\"].values \n",
        "language_col  = list()\n",
        "\n",
        "# Browising trough  every title and evaluating their respective languages ...\n",
        "for i in range( article_title.shape[0] ):\n",
        "  lang = detect(article_title[i])\n",
        "  language_col.append(\"fr\" if lang != \"fr\" and lang != \"en\" else lang)\n",
        "\n",
        "# Adding new column  [lang] to new Dataframe [src_scrap_df]  ... \n",
        "src_scrap_df = pd.DataFrame(src_df)\n",
        "src_scrap_df[\"lang\"] = language_col\n",
        "\n",
        "# Saving new datafracme to output file ... \n",
        "#src_scrap_df.to_csv(_root+\"/out/articles_plus_lang.csv\")\n",
        "\n",
        "# Visualising Dataframe ....\n",
        "src_scrap_df.head(100)\n"
      ],
      "execution_count": 0,
      "outputs": [
        {
          "output_type": "execute_result",
          "data": {
            "text/html": [
              "<div>\n",
              "<style scoped>\n",
              "    .dataframe tbody tr th:only-of-type {\n",
              "        vertical-align: middle;\n",
              "    }\n",
              "\n",
              "    .dataframe tbody tr th {\n",
              "        vertical-align: top;\n",
              "    }\n",
              "\n",
              "    .dataframe thead th {\n",
              "        text-align: right;\n",
              "    }\n",
              "</style>\n",
              "<table border=\"1\" class=\"dataframe\">\n",
              "  <thead>\n",
              "    <tr style=\"text-align: right;\">\n",
              "      <th></th>\n",
              "      <th>series</th>\n",
              "      <th>booktitle</th>\n",
              "      <th>year</th>\n",
              "      <th>title</th>\n",
              "      <th>abstract</th>\n",
              "      <th>authors</th>\n",
              "      <th>pdf1page</th>\n",
              "      <th>pdfarticle</th>\n",
              "      <th>lang</th>\n",
              "    </tr>\n",
              "  </thead>\n",
              "  <tbody>\n",
              "    <tr>\n",
              "      <th>0</th>\n",
              "      <td>Revue des Nouvelles Technologies de l'Information</td>\n",
              "      <td>EGC</td>\n",
              "      <td>2018</td>\n",
              "      <td>#Idéo2017 : une plateforme citoyenne dédiée à ...</td>\n",
              "      <td>Cette plateforme a pour objectif de permettre ...</td>\n",
              "      <td>Claudia Marinica, Julien Longhi, Nader Hassine...</td>\n",
              "      <td>http://editions-rnti.fr/render_pdf.php?p1&amp;p=10...</td>\n",
              "      <td>http://editions-rnti.fr/render_pdf.php?p=1002425</td>\n",
              "      <td>fr</td>\n",
              "    </tr>\n",
              "    <tr>\n",
              "      <th>1</th>\n",
              "      <td>Revue des Nouvelles Technologies de l'Information</td>\n",
              "      <td>EGC</td>\n",
              "      <td>2018</td>\n",
              "      <td>A two level co-clustering algorithm for very l...</td>\n",
              "      <td>La classification croisée (co-clustering) est ...</td>\n",
              "      <td>Marius Barctus, Marc Boullé, Fabrice Clérot</td>\n",
              "      <td>http://editions-rnti.fr/render_pdf.php?p1&amp;p=10...</td>\n",
              "      <td>http://editions-rnti.fr/render_pdf.php?p=1002372</td>\n",
              "      <td>en</td>\n",
              "    </tr>\n",
              "    <tr>\n",
              "      <th>2</th>\n",
              "      <td>Revue des Nouvelles Technologies de l'Information</td>\n",
              "      <td>EGC</td>\n",
              "      <td>2018</td>\n",
              "      <td>ALGeoSPF: Un modèle de factorisation basé sur ...</td>\n",
              "      <td>La recommandation de points d'intérêts est dev...</td>\n",
              "      <td>Jean-Benoît Griesner, Talel Abdesssalem, Huber...</td>\n",
              "      <td>http://editions-rnti.fr/render_pdf.php?p1&amp;p=10...</td>\n",
              "      <td>http://editions-rnti.fr/render_pdf.php?p=1002380</td>\n",
              "      <td>fr</td>\n",
              "    </tr>\n",
              "    <tr>\n",
              "      <th>3</th>\n",
              "      <td>Revue des Nouvelles Technologies de l'Information</td>\n",
              "      <td>EGC</td>\n",
              "      <td>2018</td>\n",
              "      <td>Analyse des sentiments à partir des commentair...</td>\n",
              "      <td>L'analyse des sentiments est un processus pend...</td>\n",
              "      <td>Abdeljalil Elouardighi, Mohcine Maghfour, Hafd...</td>\n",
              "      <td>http://editions-rnti.fr/render_pdf.php?p1&amp;p=10...</td>\n",
              "      <td>http://editions-rnti.fr/render_pdf.php?p=1002397</td>\n",
              "      <td>fr</td>\n",
              "    </tr>\n",
              "    <tr>\n",
              "      <th>4</th>\n",
              "      <td>Revue des Nouvelles Technologies de l'Information</td>\n",
              "      <td>EGC</td>\n",
              "      <td>2018</td>\n",
              "      <td>Analyse en rôles sémantiques pour le résumé au...</td>\n",
              "      <td>Cet article présente une approche visant à ext...</td>\n",
              "      <td>Elyase Lassouli, Yasmine Mesbahi, Camille Prad...</td>\n",
              "      <td>http://editions-rnti.fr/render_pdf.php?p1&amp;p=10...</td>\n",
              "      <td>http://editions-rnti.fr/render_pdf.php?p=1002384</td>\n",
              "      <td>fr</td>\n",
              "    </tr>\n",
              "    <tr>\n",
              "      <th>...</th>\n",
              "      <td>...</td>\n",
              "      <td>...</td>\n",
              "      <td>...</td>\n",
              "      <td>...</td>\n",
              "      <td>...</td>\n",
              "      <td>...</td>\n",
              "      <td>...</td>\n",
              "      <td>...</td>\n",
              "      <td>...</td>\n",
              "    </tr>\n",
              "    <tr>\n",
              "      <th>95</th>\n",
              "      <td>Revue des Nouvelles Technologies de l'Information</td>\n",
              "      <td>EGC</td>\n",
              "      <td>2017</td>\n",
              "      <td>Expression des connaissances en langage nature...</td>\n",
              "      <td>NaN</td>\n",
              "      <td>Jérémy Vizzini, Cyril Labbé, François Portet</td>\n",
              "      <td>http://editions-rnti.fr/render_pdf.php?p1&amp;p=10...</td>\n",
              "      <td>http://editions-rnti.fr/render_pdf.php?p=1002319</td>\n",
              "      <td>fr</td>\n",
              "    </tr>\n",
              "    <tr>\n",
              "      <th>96</th>\n",
              "      <td>Revue des Nouvelles Technologies de l'Information</td>\n",
              "      <td>EGC</td>\n",
              "      <td>2017</td>\n",
              "      <td>Extraction automatique de paysages en imagerie...</td>\n",
              "      <td>Nous présentons ici une méthode originale pour...</td>\n",
              "      <td>Anne Toulet, Emmanuel Roux, Anne-Elisabeth Laq...</td>\n",
              "      <td>http://editions-rnti.fr/render_pdf.php?p1&amp;p=10...</td>\n",
              "      <td>http://editions-rnti.fr/render_pdf.php?p=1002285</td>\n",
              "      <td>fr</td>\n",
              "    </tr>\n",
              "    <tr>\n",
              "      <th>97</th>\n",
              "      <td>Revue des Nouvelles Technologies de l'Information</td>\n",
              "      <td>EGC</td>\n",
              "      <td>2017</td>\n",
              "      <td>Extraction de chroniques discriminantes</td>\n",
              "      <td>L'extraction de motifs séquentiels vise à extr...</td>\n",
              "      <td>Yann Dauxais, David Gross-Amblard, Thomas Guye...</td>\n",
              "      <td>http://editions-rnti.fr/render_pdf.php?p1&amp;p=10...</td>\n",
              "      <td>http://editions-rnti.fr/render_pdf.php?p=1002278</td>\n",
              "      <td>fr</td>\n",
              "    </tr>\n",
              "    <tr>\n",
              "      <th>98</th>\n",
              "      <td>Revue des Nouvelles Technologies de l'Information</td>\n",
              "      <td>EGC</td>\n",
              "      <td>2017</td>\n",
              "      <td>Extraction de relations pour le peuplement d'u...</td>\n",
              "      <td>Dans une base de connaissance, les entités se ...</td>\n",
              "      <td>Cédric Lopez, Elena Cabrio, Frédérique Segond</td>\n",
              "      <td>http://editions-rnti.fr/render_pdf.php?p1&amp;p=10...</td>\n",
              "      <td>http://editions-rnti.fr/render_pdf.php?p=1002301</td>\n",
              "      <td>fr</td>\n",
              "    </tr>\n",
              "    <tr>\n",
              "      <th>99</th>\n",
              "      <td>Revue des Nouvelles Technologies de l'Information</td>\n",
              "      <td>EGC</td>\n",
              "      <td>2017</td>\n",
              "      <td>Extraction des évolutions récurrentes dans un ...</td>\n",
              "      <td>Un grand nombre d'applications nécessitent d'a...</td>\n",
              "      <td>Zhi Cheng, Frédéric Flouvat, Nazha Selmaoui-Fo...</td>\n",
              "      <td>http://editions-rnti.fr/render_pdf.php?p1&amp;p=10...</td>\n",
              "      <td>http://editions-rnti.fr/render_pdf.php?p=1002273</td>\n",
              "      <td>fr</td>\n",
              "    </tr>\n",
              "  </tbody>\n",
              "</table>\n",
              "<p>100 rows × 9 columns</p>\n",
              "</div>"
            ],
            "text/plain": [
              "                                               series  ... lang\n",
              "0   Revue des Nouvelles Technologies de l'Information  ...   fr\n",
              "1   Revue des Nouvelles Technologies de l'Information  ...   en\n",
              "2   Revue des Nouvelles Technologies de l'Information  ...   fr\n",
              "3   Revue des Nouvelles Technologies de l'Information  ...   fr\n",
              "4   Revue des Nouvelles Technologies de l'Information  ...   fr\n",
              "..                                                ...  ...  ...\n",
              "95  Revue des Nouvelles Technologies de l'Information  ...   fr\n",
              "96  Revue des Nouvelles Technologies de l'Information  ...   fr\n",
              "97  Revue des Nouvelles Technologies de l'Information  ...   fr\n",
              "98  Revue des Nouvelles Technologies de l'Information  ...   fr\n",
              "99  Revue des Nouvelles Technologies de l'Information  ...   fr\n",
              "\n",
              "[100 rows x 9 columns]"
            ]
          },
          "metadata": {
            "tags": []
          },
          "execution_count": 8
        }
      ]
    },
    {
      "cell_type": "code",
      "metadata": {
        "id": "1H9Rupd4RnkF",
        "colab_type": "code",
        "outputId": "2a128f29-f37d-4860-e535-381800772c93",
        "colab": {
          "base_uri": "https://localhost:8080/",
          "height": 34
        }
      },
      "source": [
        "# Counting the number of Document written in english \n",
        "english_articles_df = src_scrap_df[src_scrap_df['lang'] == \"en\"]\n",
        "print(\"Number of documents detected in English: {} \".format( str(len(english_articles_df))))\n",
        "\n",
        "urls_articles_full = english_articles_df[\"pdfarticle\"].values \n",
        "ids  = english_articles_df.index.values\n",
        "\n",
        "\n",
        "# Downloading content of English Articles and save it locally...\n",
        "i = 0 \n",
        "for url in urls_articles_full: \n",
        "  if ids[i] < 967:\n",
        "    continue \n",
        "  filename = _root+\"/data/articles/pdf_{}.pdf\".format(str(ids[i]))\n",
        "  urllib.request.urlretrieve(url, filename) \n",
        "  time.sleep(2)\n",
        "  i += 1\n"
      ],
      "execution_count": 0,
      "outputs": [
        {
          "output_type": "stream",
          "text": [
            "Number of documents detected in English: 123 \n"
          ],
          "name": "stdout"
        }
      ]
    },
    {
      "cell_type": "code",
      "metadata": {
        "id": "bUvdFvf9hIEC",
        "colab_type": "code",
        "outputId": "2a6ce89d-c0db-46a1-aac1-224637584046",
        "colab": {
          "base_uri": "https://localhost:8080/",
          "height": 102
        }
      },
      "source": [
        "\n",
        "# Translating English articles into French using selenium/GoogleTrans ...\n",
        "max_char_google_trans = 4000\n",
        "docs_content = content_part4\n",
        "\n",
        "while True:\n",
        "  for cur_id in ids: \n",
        "    \n",
        "    if cur_id  in docs_content.keys():\n",
        "      continue\n",
        "    filename = _root+\"/data/articles/pdf_{}.pdf\".format(str(cur_id))\n",
        "    # Extracting content from pdf ...\n",
        "\n",
        "    \"\"\"\n",
        "    text = textract.process(filename, method=\"tesseract\", encoding = \"latin\", language='en')\n",
        "    #print(\"Lenght of Text \",len(text))\n",
        "    \"\"\"\n",
        "    \n",
        "    \n",
        "    # Parse data from file\n",
        "    text = parser.from_file(filename)\n",
        "    # Get files text content\n",
        "    text = text['content']\n",
        "\n",
        "    #print(text[0:300])\n",
        "\n",
        "    # Spliting content into chuncks using [max_char_google_trans]\n",
        "    text_parts  = split_string_in_chunks(text,max_char_google_trans)\n",
        "    print(\"Number of chuncks \",len(text_parts))\n",
        "\n",
        "    \n",
        "    # Translate each chunk \n",
        "    tmp = list()\n",
        "    is_break = False\n",
        "    try:\n",
        "      for chunk  in text_parts:\n",
        "        translator = Translator()\n",
        "        chunk  =chunk.strip()\n",
        "        chunk = chunk.replace(\"\\n\", \" \")\n",
        "        st = random.randint(2, 4)\n",
        "        time.sleep(st)\n",
        "        tmp.append( str(translator.translate(chunk[0:1000], src=\"en\", dest=\"fr\").text) )\n",
        "    except Exception as e :\n",
        "        is_break = True \n",
        "        print(e)\n",
        "        pass\n",
        "    if is_break is False:\n",
        "      translated_text = \" \".join(tmp)\n",
        "      docs_content[cur_id] = translated_text\n",
        "\n",
        "  if len(docs_content)  == len(ids) :\n",
        "    break\n",
        "  \n",
        "\n",
        "#print(docs_content)\n",
        "\n",
        "\n",
        "#src_scrap_df[\"content_translated\"] = list(docs_content.values())"
      ],
      "execution_count": 0,
      "outputs": [
        {
          "output_type": "stream",
          "text": [
            "Number of chuncks  9\n",
            "Number of chuncks  2\n",
            "Number of chuncks  2\n",
            "Number of chuncks  1\n",
            "Number of chuncks  7\n"
          ],
          "name": "stdout"
        }
      ]
    },
    {
      "cell_type": "markdown",
      "metadata": {
        "id": "vcY4FBVzZ9yd",
        "colab_type": "text"
      },
      "source": [
        "* Next week wednesday for class 26th on Social mining \n",
        "* GoogleTrans https://pypi.org/project/googletrans/  \\[ 15k max string \\]\n",
        "* Textract http://textract.readthedocs.io/en/latest/\n",
        "* http://ryancompton.net/2014/06/16/community-detection-and-colored-plotting-in-networkx/\n"
      ]
    },
    {
      "cell_type": "code",
      "metadata": {
        "id": "kjK0zNBrAt5y",
        "colab_type": "code",
        "outputId": "27d9abff-5dce-42dc-993c-0ff48713f6b7",
        "colab": {
          "base_uri": "https://localhost:8080/",
          "height": 34
        }
      },
      "source": [
        "docs_content =content_part3\n",
        "len(docs_content)"
      ],
      "execution_count": 0,
      "outputs": [
        {
          "output_type": "execute_result",
          "data": {
            "text/plain": [
              "123"
            ]
          },
          "metadata": {
            "tags": []
          },
          "execution_count": 55
        }
      ]
    },
    {
      "cell_type": "code",
      "metadata": {
        "id": "wvSr4zsNBPHU",
        "colab_type": "code",
        "outputId": "ceaebda4-d6c3-4294-e5e4-e083674ccfe8",
        "colab": {
          "base_uri": "https://localhost:8080/",
          "height": 34
        }
      },
      "source": [
        "content_part4 = dict(docs_content)\n",
        "len(content_part4)"
      ],
      "execution_count": 0,
      "outputs": [
        {
          "output_type": "execute_result",
          "data": {
            "text/plain": [
              "118"
            ]
          },
          "metadata": {
            "tags": []
          },
          "execution_count": 64
        }
      ]
    },
    {
      "cell_type": "code",
      "metadata": {
        "id": "j1XTZJNmPgow",
        "colab_type": "code",
        "outputId": "8ca6b048-3da9-43f5-92df-e0edac8179a8",
        "colab": {
          "base_uri": "https://localhost:8080/",
          "height": 34
        }
      },
      "source": [
        "content_part5 = dict(docs_content)\n",
        "len(content_part5)"
      ],
      "execution_count": 0,
      "outputs": [
        {
          "output_type": "execute_result",
          "data": {
            "text/plain": [
              "123"
            ]
          },
          "metadata": {
            "tags": []
          },
          "execution_count": 66
        }
      ]
    },
    {
      "cell_type": "code",
      "metadata": {
        "id": "hr4H5mPp9WgY",
        "colab_type": "code",
        "outputId": "db682d81-160d-4485-ae25-c32a22d45dcd",
        "colab": {
          "base_uri": "https://localhost:8080/",
          "height": 139
        }
      },
      "source": [
        "english_articles_df[\"content_translated\"] = list(docs_content.values())\n",
        "english_articles_df.to_csv(_root+\"/out/english_articles_translated.csv\")"
      ],
      "execution_count": 0,
      "outputs": [
        {
          "output_type": "stream",
          "text": [
            "/usr/local/lib/python3.6/dist-packages/ipykernel_launcher.py:1: SettingWithCopyWarning: \n",
            "A value is trying to be set on a copy of a slice from a DataFrame.\n",
            "Try using .loc[row_indexer,col_indexer] = value instead\n",
            "\n",
            "See the caveats in the documentation: http://pandas.pydata.org/pandas-docs/stable/user_guide/indexing.html#returning-a-view-versus-a-copy\n",
            "  \"\"\"Entry point for launching an IPython kernel.\n"
          ],
          "name": "stderr"
        }
      ]
    },
    {
      "cell_type": "code",
      "metadata": {
        "id": "Sa3yyzWyBJxT",
        "colab_type": "code",
        "colab": {}
      },
      "source": [
        "docs_content_saved = dict(docs_content)"
      ],
      "execution_count": 0,
      "outputs": []
    },
    {
      "cell_type": "code",
      "metadata": {
        "id": "GU-OJRQZFT7r",
        "colab_type": "code",
        "colab": {}
      },
      "source": [
        ""
      ],
      "execution_count": 0,
      "outputs": []
    },
    {
      "cell_type": "markdown",
      "metadata": {
        "id": "92abagLYmvVZ",
        "colab_type": "text"
      },
      "source": [
        "### 9- Deploying as a class "
      ]
    },
    {
      "cell_type": "code",
      "metadata": {
        "id": "oMzQzjm6nGdy",
        "colab_type": "code",
        "colab": {}
      },
      "source": [
        "####################\n",
        "#   DEPENDENCIES   #\n",
        "####################\n",
        "import networkx as nx \n",
        "from networkx.algorithms.distance_measures import diameter\n",
        "from networkx.algorithms.community import community_utils\n",
        "from networkx.algorithms.community import greedy_modularity_communities\n",
        "from networkx.algorithms.community import k_clique_communities\n",
        "from networkx.algorithms.centrality import edge_betweenness_centrality\n",
        "from networkx.algorithms.community.centrality import girvan_newman\n",
        "import pandas as pd\n",
        "import numpy as np\n",
        "import statistics as stats\n",
        "import community\n",
        "import collections\n",
        "import os.path\n",
        "\n",
        "import math\n",
        "from matplotlib  import pyplot as plt \n",
        "from textblob import TextBlob\n",
        "import re\n",
        "import random \n",
        "import json\n",
        "\n",
        "_root = \"/content/drive/My Drive/SOCIAL_MINING\"\n",
        "_url_src_dataset = _root+\"/data/export_articles_EGC_2004_2018.csv\"\n",
        "_url_similarity_score = _root+\"/data/similarityscore.csv\"\n",
        "\n",
        "class SocialMining :\n",
        "###############################################################################\n",
        "#                         SOCIAL MINING CLASS   \n",
        "###############################################################################\n",
        "  def __init__(self, _url_src_dataset, _url_similarity_score, _threashold = 0.07 ):\n",
        "    if os.path.exists(_url_src_dataset) is False:\n",
        "      raise Exception(\"File [{}] does not exit \".format(_url_src_dataset))\n",
        "    if os.path.exists(_url_similarity_score) is False:\n",
        "      raise Exception(\"File [{}] does not exit \".format(_url_similarity_score))\n",
        "    assert( type(_threashold) == float  and _threashold >= 0 )\n",
        "\n",
        "    self.url_src_dataset = _url_src_dataset \n",
        "    self.url_similarity_score = _url_similarity_score\n",
        "    self.threashold = _threashold\n",
        "    self.src_df = None\n",
        "    self.sim_df = None\n",
        "    self.G = None \n",
        "    self.dist_matrix = None\n",
        "    self.n_nodes = 0 \n",
        "    self.n_edges = 0\n",
        "    self.communities = None\n",
        "    \n",
        "    if self._load_data() is False:\n",
        "        raise Exception(\"Error occured while loading data \")\n",
        "\n",
        "    if self._build_graph() is False:\n",
        "        raise Exception(\"Error occured while Building graph \")\n",
        "    \n",
        "  \n",
        "\n",
        "  ####################\n",
        "  #     PUBLIC       #\n",
        "  ####################\n",
        "\n",
        "  def describe_graph(self):\n",
        "    # Global Network Analysis ...\n",
        "    n_edges = self.G.number_of_edges()\n",
        "    n_nodes = self.G.number_of_nodes()\n",
        "    g_degree = nx.degree(self.G)\n",
        "    g_max_degree = max( [ x[1] for x in  g_degree ] )\n",
        "    g_min_degree = min( [ x[1] for x in  g_degree ] )\n",
        "    g_avg_degree = math.ceil(stats.mean( [ x[1] for x in  g_degree ] ))\n",
        "    g_density = round(nx.density(self.G),2)\n",
        "    # printing metrics ...\n",
        "    print(\"Number of Edges\", n_edges )\n",
        "    print(\"Number of Node\", n_nodes)\n",
        "    print(\"Graph Max Degree \",g_max_degree  )\n",
        "    print(\"Graph Min Degree \",g_min_degree  )\n",
        "    print(\"Graph Mean Degree \",g_avg_degree  )\n",
        "    print(\"Graph Density \", g_density)\n",
        "\n",
        "\n",
        "  def detect_communities(self):\n",
        "    self.communities = self._node_candidates_girvan_newman()\n",
        "    return self.communities , SocialMining._reverse_key_value( self.communities),community.modularity(self.communities, self.G )\n",
        "\n",
        "\n",
        "  def recommend_articles(self, article_already_read, nb_recommendations = 10, plot_subgraph = True):\n",
        "    if  self.communities is None:\n",
        "      self.detect_communities()\n",
        "    \n",
        "    list_candidate = self._node_candidates(article_already_read, nb_candidates = nb_recommendations)\n",
        "    list_candidate_ranked = self._ranking_candidate(article_already_read, list_candidate, plot_subgraph = plot_subgraph )\n",
        "    return list_candidate_ranked\n",
        "\n",
        "  def set_threashold(self,_threashold):\n",
        "    assert( type(_threashold) == float )\n",
        "    self.threashold = _threashold\n",
        "    # Rebuilding  Graph ... \n",
        "    return self._build_graph()\n",
        "\n",
        "  def get_graph(self):\n",
        "    return self.G\n",
        "\n",
        "  ####################\n",
        "  #    PRIVATE       #\n",
        "  ####################\n",
        "\n",
        "  def _load_data(self):\n",
        "    try:\n",
        "      self.src_df = pd.read_csv(self.url_src_dataset,delimiter=\"\\t\")\n",
        "      self.sim_df = pd.read_csv(self.url_similarity_score,delimiter=\",\")\n",
        "      self.sim_df = self.sim_df.drop('Unnamed: 0', 1)\n",
        "      return True\n",
        "    except Exception as e:\n",
        "      print(e)\n",
        "      return False\n",
        "  \n",
        "  def _build_graph(self):\n",
        "    try:\n",
        "      m,n = self.src_df.shape \n",
        "      self.dist_matrix = self.sim_df.values\n",
        "      for i in range(m):\n",
        "        self.dist_matrix[:,i] = [ 0 if x<self.threashold  else x for x in self.dist_matrix[:,i]   ]\n",
        "      \n",
        "      self.G = nx.Graph()\n",
        "      for n in range(m):\n",
        "        # Adding the properties each node ... \n",
        "        self.G.add_node(n, **SocialMining.get_node_properties(n, self.src_df))\n",
        "\n",
        "      #print(\"Node Title Properties: \",self.G.nodes[0][\"title\"])\n",
        "\n",
        "      # Defining Edegs based on the distance/weight matric  ...\n",
        "      for i in range(m):\n",
        "        for j in range(m):\n",
        "          if self.dist_matrix[i,j] != 0 and i != j  :\n",
        "            self.G.add_edge(i,j,weight= self.dist_matrix[i,j] ) \n",
        "      \n",
        "      self.n_edges = self.G.number_of_edges()\n",
        "      self.n_nodes = self.G.number_of_nodes()\n",
        "\n",
        "      return True\n",
        "    except Exception as e:\n",
        "      print(e)\n",
        "      return False\n",
        "  \n",
        "\n",
        "  # Selecting matching candidates per the book(s) read ... \n",
        "\n",
        "  def _node_candidates_girvan_newman(self):\n",
        "    community_ = community.best_partition(self.G,weight='weight', random_state= 1)\n",
        "    return community_\n",
        "\n",
        "  def _node_candidates_greedy(self):\n",
        "    greedy_com=list(greedy_modularity_communities(self.G, weight=\"weight\"))\n",
        "    return greedy_com\n",
        "\n",
        "  def _node_candidates_clique(self, n_cliques = 3):\n",
        "    clique_com = list(k_clique_communities(self.G, n_cliques))\n",
        "    return clique_com\n",
        "\n",
        "  def _node_candidates(self,list_read, nb_candidates = 10):\n",
        "    rv_community = SocialMining._reverse_key_value( self.communities)\n",
        "    tmp = list()\n",
        "    for one_read in list_read :\n",
        "      tmp.append(self.communities[one_read])\n",
        "\n",
        "    nb_elem = len(tmp)\n",
        "    counter=collections.Counter(tmp)\n",
        "    freq_tmp =  dict(counter)\n",
        "    result = list()\n",
        "    for k,v in freq_tmp.items():\n",
        "      nb_items = int((v/nb_elem) * nb_candidates)\n",
        "      l2 = random.sample(rv_community[k], k=nb_items)\n",
        "      result = [*result, *l2]\n",
        "    return result \n",
        "\n",
        "  # Ranking candidates ( google index based ranking No dead end trap and )...\n",
        "  def _ranking_candidate(self, list_read, list_candidate, plot_subgraph = True ):\n",
        "    assert(type(list_candidate)  == list)\n",
        "    assert(type(list_read) == list )\n",
        "\n",
        "    # remove  list_read from candidate \n",
        "    list_candidate =  [x for x in list_candidate if x not in list_read]\n",
        "    # Plot the subgrah of the articles read + candidates \n",
        "    combined = list_read + list_candidate\n",
        "    H = self.G.subgraph(combined)\n",
        "    if plot_subgraph is True :\n",
        "      nx.draw(H, with_labels=True)\n",
        "      plt.figure(figsize=(17,3))\n",
        "      plt.show()\n",
        "    # Ranking based on proximity measure\n",
        "    # Compute edge betweeness centrality in the Subgraph \n",
        "    all_edge_betweeness = edge_betweenness_centrality(H,weight=\"weight\") \n",
        "    # Compute weighted  betweeness score for each candidates (nodes )  ...\n",
        "    for edge in all_edge_betweeness:\n",
        "      score = all_edge_betweeness[edge]\n",
        "      H.nodes[edge[0]][\"betweeness_score\"] = (0 if  \"betweeness_score\" not in  H.nodes[edge[0]] else H.nodes[edge[0]][\"betweeness_score\"]) +  score\n",
        "      H.nodes[edge[1]][\"betweeness_score\"] = (0 if  \"betweeness_score\" not in  H.nodes[edge[1]] else H.nodes[edge[1]][\"betweeness_score\"]) +  score\n",
        "    \n",
        "    result = dict()\n",
        "    for candidate in list_candidate :\n",
        "      if \"betweeness_score\" in  H.nodes[candidate]:\n",
        "        result[candidate] = round( H.nodes[candidate][\"betweeness_score\"],3)\n",
        "      else:\n",
        "        result[candidate] = 0\n",
        "\n",
        "    # Sort candidate in Descending order according to w\n",
        "    sorted_result = {k: v for k, v in sorted(result.items(), key=lambda item: item[1],reverse=True )}\n",
        "    return list(sorted_result.keys()), sorted_result\n",
        "\n",
        "\n",
        "  ####################\n",
        "  #   AXILIARIES     #\n",
        "  ####################\n",
        "    # Implementing Utilities Functions ...\n",
        "  def get_node_properties(node_id, df):\n",
        "    \"\"\"\n",
        "      Method used to get details/properties of a node given a node number \n",
        "    \n",
        "      @params: \n",
        "        node_id[Integer]: Node number / ID \n",
        "        df[Pandas.Dataframe]: Source DataFrame \n",
        "      @Returns:\n",
        "        Dictionaries of all details about the Node \n",
        "    \"\"\"\n",
        "    assert( node_id  in range(df.shape[0]) )\n",
        "    return dict(df.iloc[node_id])\n",
        "\n",
        "  def is_positive_integer(i):\n",
        "    try:\n",
        "      i = int(i)\n",
        "      if i >=0:\n",
        "        return True\n",
        "    except Exception as e:\n",
        "      pass\n",
        "    return False \n",
        "\n",
        "  def split_string_in_chunks(x, chunk_size  ):\n",
        "    chunks = len(x)\n",
        "    return [ x[i:i+chunk_size] for i in range(0, chunks, chunk_size) ]\n",
        "\n",
        "  def _remove_all_special_chars(input_text):\n",
        "    assert (type(input_text) == str)\n",
        "\n",
        "    output_text = [re.sub(r\"[^a-zA-Z]+\", ' ', k) for k in input_text.split(\"\\n\")]\n",
        "    output_text = \" \".join(output_text).replace(\"\\n\", \" \")\n",
        "    output_text = output_text.lower()\n",
        "    return output_text\n",
        "\n",
        "  def _reverse_key_value(my_dict):\n",
        "    tmp = dict()\n",
        "    for (k,v) in my_dict.items() :\n",
        "      if v not in tmp:\n",
        "        tmp[v] = list() \n",
        "      tmp[v].append(k)\n",
        "\n",
        "    return tmp \n",
        "  \n",
        "\n",
        "###############################################################################\n",
        "#                         END SOCIAL MINING CLASS   \n",
        "###############################################################################\n"
      ],
      "execution_count": 0,
      "outputs": []
    },
    {
      "cell_type": "code",
      "metadata": {
        "id": "I--4OWC76MKH",
        "colab_type": "code",
        "colab": {
          "base_uri": "https://localhost:8080/",
          "height": 119
        },
        "outputId": "2cf4eb6e-344c-4269-a5b5-8234dcea8f20"
      },
      "source": [
        "\n",
        "_root = \"/content/drive/My Drive/SOCIAL_MINING\"\n",
        "_url_src_dataset = _root+\"/data/export_articles_EGC_2004_2018.csv\"\n",
        "_url_similarity_score = _root+\"/data/similarityscore.csv\"\n",
        "\n",
        "# Instantiating Class ...\n",
        "sc = SocialMining(_url_src_dataset,_url_similarity_score,_threashold = 0.07)\n",
        "\n",
        "# Detecting communities ...\n",
        "sc.detect_communities()\n",
        "\n",
        "# Describing Graph ...\n",
        "sc.describe_graph()"
      ],
      "execution_count": 40,
      "outputs": [
        {
          "output_type": "stream",
          "text": [
            "Number of Edges 121746\n",
            "Number of Node 1269\n",
            "Graph Max Degree  782\n",
            "Graph Min Degree  0\n",
            "Graph Mean Degree  192\n",
            "Graph Density  0.15\n"
          ],
          "name": "stdout"
        }
      ]
    },
    {
      "cell_type": "code",
      "metadata": {
        "id": "93gKbPFLvP5A",
        "colab_type": "code",
        "colab": {
          "base_uri": "https://localhost:8080/",
          "height": 359
        },
        "outputId": "64cc8a27-0cb9-4e44-e5ff-8c96547ad287"
      },
      "source": [
        "# Recommanding articles ...\n",
        "_article_already_read = [2,5,67,17,233]\n",
        "_nb_recommendation = 10\n",
        "_plot_subgraph = False\n",
        "sorted_node , ranking_index = sc.recommend_articles(article_already_read= _article_already_read ,\n",
        "                                                    nb_recommendations=_nb_recommendation,\n",
        "                                                    plot_subgraph = _plot_subgraph)\n",
        "\n",
        "# Printing results  in dataFrame ...  \n",
        "result_df = pd.DataFrame(columns=[\"Id\",\"Score\",\"Title\"])\n",
        "i = 0 \n",
        "for n in sorted_node:\n",
        "  result_df.loc[i, \"Id\"] = n\n",
        "  result_df.loc[i, \"Score\"] = ranking_index[n]\n",
        "  result_df.loc[i, \"Title\"] = str(sc.get_graph().nodes[n][\"title\"]).strip()\n",
        "  #print(\"id: \",n,\" | \", ranking_index[n], \"| Title:\",G.nodes[n][\"title\"])\n",
        "  i+=1\n",
        "\n",
        "pd.set_option(\"display.max_colwidth\",800)\n",
        "result_df"
      ],
      "execution_count": 41,
      "outputs": [
        {
          "output_type": "execute_result",
          "data": {
            "text/html": [
              "<div>\n",
              "<style scoped>\n",
              "    .dataframe tbody tr th:only-of-type {\n",
              "        vertical-align: middle;\n",
              "    }\n",
              "\n",
              "    .dataframe tbody tr th {\n",
              "        vertical-align: top;\n",
              "    }\n",
              "\n",
              "    .dataframe thead th {\n",
              "        text-align: right;\n",
              "    }\n",
              "</style>\n",
              "<table border=\"1\" class=\"dataframe\">\n",
              "  <thead>\n",
              "    <tr style=\"text-align: right;\">\n",
              "      <th></th>\n",
              "      <th>Id</th>\n",
              "      <th>Score</th>\n",
              "      <th>Title</th>\n",
              "    </tr>\n",
              "  </thead>\n",
              "  <tbody>\n",
              "    <tr>\n",
              "      <th>0</th>\n",
              "      <td>61</td>\n",
              "      <td>0.667</td>\n",
              "      <td>Savoir au dela de voir: vision artificielle et raisonnement logique</td>\n",
              "    </tr>\n",
              "    <tr>\n",
              "      <th>1</th>\n",
              "      <td>230</td>\n",
              "      <td>0.476</td>\n",
              "      <td>Analyse et visualisation d'opinions dans un cadre de veille sur leWeb</td>\n",
              "    </tr>\n",
              "    <tr>\n",
              "      <th>2</th>\n",
              "      <td>887</td>\n",
              "      <td>0.248</td>\n",
              "      <td>Une approche ensembliste inspirée du boosting en classification non supervisée</td>\n",
              "    </tr>\n",
              "    <tr>\n",
              "      <th>3</th>\n",
              "      <td>977</td>\n",
              "      <td>0.229</td>\n",
              "      <td>Une étude des algorithmes de construction d'architecture des réseaux de neurones multicouches</td>\n",
              "    </tr>\n",
              "    <tr>\n",
              "      <th>4</th>\n",
              "      <td>933</td>\n",
              "      <td>0.114</td>\n",
              "      <td>Extension sémantique du modèle de similarité basé sur la proximité floue des termes</td>\n",
              "    </tr>\n",
              "    <tr>\n",
              "      <th>5</th>\n",
              "      <td>945</td>\n",
              "      <td>0.114</td>\n",
              "      <td>L'émergence de connaissances dans les communautés de pratique</td>\n",
              "    </tr>\n",
              "    <tr>\n",
              "      <th>6</th>\n",
              "      <td>1153</td>\n",
              "      <td>0.114</td>\n",
              "      <td>Modélisation de connaissances pour un système de médiation</td>\n",
              "    </tr>\n",
              "    <tr>\n",
              "      <th>7</th>\n",
              "      <td>712</td>\n",
              "      <td>0.114</td>\n",
              "      <td>Utilisation de graphes sémantiques pour l'extraction et la traduction des idées essentielles d'un texte</td>\n",
              "    </tr>\n",
              "    <tr>\n",
              "      <th>8</th>\n",
              "      <td>631</td>\n",
              "      <td>0.114</td>\n",
              "      <td>Combiner approche logique et numérique pour la réconciliation de données et l'alignement d'ontologies</td>\n",
              "    </tr>\n",
              "    <tr>\n",
              "      <th>9</th>\n",
              "      <td>1246</td>\n",
              "      <td>0</td>\n",
              "      <td>Recherche ciblée de documents sur le web</td>\n",
              "    </tr>\n",
              "  </tbody>\n",
              "</table>\n",
              "</div>"
            ],
            "text/plain": [
              "     Id  ...                                                                                                    Title\n",
              "0    61  ...                                      Savoir au dela de voir: vision artificielle et raisonnement logique\n",
              "1   230  ...                                    Analyse et visualisation d'opinions dans un cadre de veille sur leWeb\n",
              "2   887  ...                           Une approche ensembliste inspirée du boosting en classification non supervisée\n",
              "3   977  ...            Une étude des algorithmes de construction d'architecture des réseaux de neurones multicouches\n",
              "4   933  ...                      Extension sémantique du modèle de similarité basé sur la proximité floue des termes\n",
              "5   945  ...                                            L'émergence de connaissances dans les communautés de pratique\n",
              "6  1153  ...                                               Modélisation de connaissances pour un système de médiation\n",
              "7   712  ...  Utilisation de graphes sémantiques pour l'extraction et la traduction des idées essentielles d'un texte\n",
              "8   631  ...    Combiner approche logique et numérique pour la réconciliation de données et l'alignement d'ontologies\n",
              "9  1246  ...                                                                 Recherche ciblée de documents sur le web\n",
              "\n",
              "[10 rows x 3 columns]"
            ]
          },
          "metadata": {
            "tags": []
          },
          "execution_count": 41
        }
      ]
    },
    {
      "cell_type": "code",
      "metadata": {
        "id": "ShQTKdzH27jT",
        "colab_type": "code",
        "colab": {}
      },
      "source": [
        ""
      ],
      "execution_count": 0,
      "outputs": []
    }
  ]
}