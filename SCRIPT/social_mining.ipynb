{
 "cells": [
  {
   "cell_type": "markdown",
   "metadata": {
    "colab_type": "text",
    "id": "pyvbZcpBy0Xo"
   },
   "source": [
    "<center>\n",
    "\n",
    "#  Datamining for Big Data \n",
    "##  Recommendation System  with Graph Mining \n",
    "</center> \n"
   ]
  },
<<<<<<< Updated upstream
  "cells": [
    {
      "cell_type": "markdown",
      "metadata": {
        "id": "pyvbZcpBy0Xo",
        "colab_type": "text"
      },
      "source": [
        "<center>\n",
        "\n",
        "#  Datamining for Big Data \n",
        "##  Recommendation System  with Graph Mining \n",
        "</center> \n"
      ]
    },
    {
      "cell_type": "markdown",
      "metadata": {
        "id": "odUCrFoCzOed",
        "colab_type": "text"
      },
      "source": [
        "### 0- Mounting Drive ..."
      ]
    },
    {
      "cell_type": "code",
      "metadata": {
        "id": "XYWuDCGIytsq",
        "colab_type": "code",
        "outputId": "70b6d593-b150-4c67-bf86-7b741c6c1fe0",
        "colab": {
          "base_uri": "https://localhost:8080/",
          "height": 122
        }
      },
      "source": [
        "from google.colab import drive\n",
        "drive.mount('/content/drive')"
      ],
      "execution_count": 0,
      "outputs": [
        {
          "output_type": "stream",
          "text": [
            "Go to this URL in a browser: https://accounts.google.com/o/oauth2/auth?client_id=947318989803-6bn6qk8qdgf4n4g3pfee6491hc0brc4i.apps.googleusercontent.com&redirect_uri=urn%3aietf%3awg%3aoauth%3a2.0%3aoob&response_type=code&scope=email%20https%3a%2f%2fwww.googleapis.com%2fauth%2fdocs.test%20https%3a%2f%2fwww.googleapis.com%2fauth%2fdrive%20https%3a%2f%2fwww.googleapis.com%2fauth%2fdrive.photos.readonly%20https%3a%2f%2fwww.googleapis.com%2fauth%2fpeopleapi.readonly\n",
            "\n",
            "Enter your authorization code:\n",
            "··········\n",
            "Mounted at /content/drive\n"
          ],
          "name": "stdout"
        }
      ]
    },
    {
      "cell_type": "markdown",
      "metadata": {
        "id": "ENyZ3EikzeF-",
        "colab_type": "text"
      },
      "source": [
        "### 1- Loading Library, Dataset and Utilities functions ... "
      ]
    },
    {
      "cell_type": "code",
      "metadata": {
        "id": "2aDTi3xjzUqD",
        "colab_type": "code",
        "outputId": "87fe5865-e6d6-4bf2-ac42-58815e07929a",
        "colab": {
          "base_uri": "https://localhost:8080/",
          "height": 68
        }
      },
      "source": [
        "# Installing dependencies ....\n",
        "! pip install textblob\n",
        "\n",
        "# Loading dependencies  ....\n",
        "import networkx as nx \n",
        "from networkx.algorithms.distance_measures import diameter\n",
        "from networkx.algorithms.community import community_utils\n",
        "from networkx.algorithms.community import greedy_modularity_communities\n",
        "\n",
        "from networkx.algorithms.community import k_clique_communities\n",
        "from networkx.algorithms.centrality import edge_betweenness_centrality\n",
        "from networkx.algorithms.community.centrality import girvan_newman\n",
        "import pandas as pd\n",
        "import numpy as np\n",
        "import statistics as stats\n",
        "import community\n",
        "import collections\n",
        "import math\n",
        "from matplotlib  import pyplot as plt \n",
        "from textblob import TextBlob\n",
        "import re\n",
        "import random \n",
        "import json"
      ],
      "execution_count": 0,
      "outputs": [
        {
          "output_type": "stream",
          "text": [
            "Requirement already satisfied: textblob in /usr/local/lib/python3.6/dist-packages (0.15.3)\n",
            "Requirement already satisfied: nltk>=3.1 in /usr/local/lib/python3.6/dist-packages (from textblob) (3.2.5)\n",
            "Requirement already satisfied: six in /usr/local/lib/python3.6/dist-packages (from nltk>=3.1->textblob) (1.12.0)\n"
          ],
          "name": "stdout"
        }
      ]
    },
    {
      "cell_type": "code",
      "metadata": {
        "id": "7cgW3RZLz6gy",
        "colab_type": "code",
        "colab": {}
      },
      "source": [
        "# Initializing global variables ...\n",
        "_root = \"/content/drive/My Drive/SOCIAL_MINING\"\n",
        "_url_src_dataset = _root+\"/data/export_articles_EGC_2004_2018.csv\"\n",
        "_url_similarity_score = _root+\"/data/similarityscore.csv\""
      ],
      "execution_count": 0,
      "outputs": []
    },
    {
      "cell_type": "code",
      "metadata": {
        "id": "NIzGE_Fz1Ti6",
        "colab_type": "code",
        "colab": {}
      },
      "source": [
        "# Implementing Utilities Functions ...\n",
        "def get_node_properties(node_id, df):\n",
        "  \"\"\"\n",
        "    Method used to get details/properties of a node given a node number \n",
        "  \n",
        "    @params: \n",
        "      node_id[Integer]: Node number / ID \n",
        "      df[Pandas.Dataframe]: Source DataFrame \n",
        "    @Returns:\n",
        "      Dictionaries of all details about the Node \n",
        "  \"\"\"\n",
        "  assert( node_id  in range(df.shape[0]) )\n",
        "  return dict(df.iloc[node_id])\n",
        "\n",
        "def is_positive_integer(i):\n",
        "  try:\n",
        "    i = int(i)\n",
        "    if i >=0:\n",
        "      return True\n",
        "  except Exception as e:\n",
        "    pass\n",
        "  return False \n",
        "\n",
        "def split_string_in_chunks(x, chunk_size  ):\n",
        "  chunks = len(x)\n",
        "  return [ x[i:i+chunk_size] for i in range(0, chunks, chunk_size) ]\n",
        "\n",
        "def _remove_all_special_chars(input_text):\n",
        "  assert (type(input_text) == str)\n",
        "\n",
        "  output_text = [re.sub(r\"[^a-zA-Z]+\", ' ', k) for k in input_text.split(\"\\n\")]\n",
        "  output_text = \" \".join(output_text).replace(\"\\n\", \" \")\n",
        "  output_text = output_text.lower()\n",
        "  return output_text\n",
        "\n",
        "def _reverse_key_value(my_dict):\n",
        "  tmp = dict()\n",
        "  for (k,v) in my_dict.items() :\n",
        "    if v not in tmp:\n",
        "      tmp[v] = list() \n",
        "    tmp[v].append(k)\n",
        "\n",
        "  return tmp \n"
      ],
      "execution_count": 0,
      "outputs": []
    },
    {
      "cell_type": "code",
      "metadata": {
        "id": "x3luTeTd2ApJ",
        "colab_type": "code",
        "colab": {}
      },
      "source": [
        "# Loading Dataset ...\n",
        "src_df = pd.read_csv(_url_src_dataset,delimiter=\"\\t\")\n",
        "sim_df = pd.read_csv(_url_similarity_score,delimiter=\",\")\n",
        "sim_df = sim_df.drop('Unnamed: 0', 1)"
      ],
      "execution_count": 0,
      "outputs": []
=======
  {
   "cell_type": "markdown",
   "metadata": {
    "colab_type": "text",
    "id": "odUCrFoCzOed"
   },
   "source": [
    "### 0- Mounting Drive ..."
   ]
  },
  {
   "cell_type": "code",
   "execution_count": 1,
   "metadata": {
    "colab": {
     "base_uri": "https://localhost:8080/",
     "height": 122
>>>>>>> Stashed changes
    },
    "colab_type": "code",
    "id": "XYWuDCGIytsq",
    "outputId": "99eb00a6-d607-4610-a8e0-0eafc0ab8e31"
   },
   "outputs": [
    {
     "name": "stdout",
     "output_type": "stream",
     "text": [
      "Go to this URL in a browser: https://accounts.google.com/o/oauth2/auth?client_id=947318989803-6bn6qk8qdgf4n4g3pfee6491hc0brc4i.apps.googleusercontent.com&redirect_uri=urn%3aietf%3awg%3aoauth%3a2.0%3aoob&response_type=code&scope=email%20https%3a%2f%2fwww.googleapis.com%2fauth%2fdocs.test%20https%3a%2f%2fwww.googleapis.com%2fauth%2fdrive%20https%3a%2f%2fwww.googleapis.com%2fauth%2fdrive.photos.readonly%20https%3a%2f%2fwww.googleapis.com%2fauth%2fpeopleapi.readonly\n",
      "\n",
      "Enter your authorization code:\n",
      "··········\n",
      "Mounted at /content/drive\n"
     ]
    }
   ],
   "source": [
    "from google.colab import drive\n",
    "drive.mount('/content/drive')"
   ]
  },
  {
   "cell_type": "markdown",
   "metadata": {
    "colab_type": "text",
    "id": "ENyZ3EikzeF-"
   },
   "source": [
    "### 1- Loading Library, Dataset and Utilities functions ... "
   ]
  },
  {
   "cell_type": "code",
   "execution_count": 35,
   "metadata": {
    "colab": {
     "base_uri": "https://localhost:8080/",
     "height": 68
    },
    "colab_type": "code",
    "id": "2aDTi3xjzUqD",
    "outputId": "415b5d47-2c55-4d11-b15d-debda844022d"
   },
   "outputs": [
    {
<<<<<<< Updated upstream
      "cell_type": "code",
      "metadata": {
        "id": "3cQLNgTD1FfU",
        "colab_type": "code",
        "outputId": "1376e2f6-2678-4cd5-86cb-beba1e1ccd82",
        "colab": {
          "base_uri": "https://localhost:8080/",
          "height": 527
        }
      },
      "source": [
        "print(\"src_df.shape: \", src_df.shape)\n",
        "print(src_df.columns)\n",
        "print(sim_df.columns)\n",
        "src_df.head(5)"
      ],
      "execution_count": 0,
      "outputs": [
        {
          "output_type": "stream",
          "text": [
            "src_df.shape:  (1269, 8)\n",
            "Index(['series', 'booktitle', 'year', 'title', 'abstract', 'authors',\n",
            "       'pdf1page', 'pdfarticle'],\n",
            "      dtype='object')\n",
            "Index(['0', '1', '2', '3', '4', '5', '6', '7', '8', '9',\n",
            "       ...\n",
            "       '1259', '1260', '1261', '1262', '1263', '1264', '1265', '1266', '1267',\n",
            "       '1268'],\n",
            "      dtype='object', length=1269)\n"
          ],
          "name": "stdout"
        },
        {
          "output_type": "execute_result",
          "data": {
            "text/html": [
              "<div>\n",
              "<style scoped>\n",
              "    .dataframe tbody tr th:only-of-type {\n",
              "        vertical-align: middle;\n",
              "    }\n",
              "\n",
              "    .dataframe tbody tr th {\n",
              "        vertical-align: top;\n",
              "    }\n",
              "\n",
              "    .dataframe thead th {\n",
              "        text-align: right;\n",
              "    }\n",
              "</style>\n",
              "<table border=\"1\" class=\"dataframe\">\n",
              "  <thead>\n",
              "    <tr style=\"text-align: right;\">\n",
              "      <th></th>\n",
              "      <th>series</th>\n",
              "      <th>booktitle</th>\n",
              "      <th>year</th>\n",
              "      <th>title</th>\n",
              "      <th>abstract</th>\n",
              "      <th>authors</th>\n",
              "      <th>pdf1page</th>\n",
              "      <th>pdfarticle</th>\n",
              "    </tr>\n",
              "  </thead>\n",
              "  <tbody>\n",
              "    <tr>\n",
              "      <th>0</th>\n",
              "      <td>Revue des Nouvelles Technologies de l'Information</td>\n",
              "      <td>EGC</td>\n",
              "      <td>2018</td>\n",
              "      <td>#Idéo2017 : une plateforme citoyenne dédiée à ...</td>\n",
              "      <td>Cette plateforme a pour objectif de permettre ...</td>\n",
              "      <td>Claudia Marinica, Julien Longhi, Nader Hassine...</td>\n",
              "      <td>http://editions-rnti.fr/render_pdf.php?p1&amp;p=10...</td>\n",
              "      <td>http://editions-rnti.fr/render_pdf.php?p=1002425</td>\n",
              "    </tr>\n",
              "    <tr>\n",
              "      <th>1</th>\n",
              "      <td>Revue des Nouvelles Technologies de l'Information</td>\n",
              "      <td>EGC</td>\n",
              "      <td>2018</td>\n",
              "      <td>A two level co-clustering algorithm for very l...</td>\n",
              "      <td>La classification croisée (co-clustering) est ...</td>\n",
              "      <td>Marius Barctus, Marc Boullé, Fabrice Clérot</td>\n",
              "      <td>http://editions-rnti.fr/render_pdf.php?p1&amp;p=10...</td>\n",
              "      <td>http://editions-rnti.fr/render_pdf.php?p=1002372</td>\n",
              "    </tr>\n",
              "    <tr>\n",
              "      <th>2</th>\n",
              "      <td>Revue des Nouvelles Technologies de l'Information</td>\n",
              "      <td>EGC</td>\n",
              "      <td>2018</td>\n",
              "      <td>ALGeoSPF: Un modèle de factorisation basé sur ...</td>\n",
              "      <td>La recommandation de points d'intérêts est dev...</td>\n",
              "      <td>Jean-Benoît Griesner, Talel Abdesssalem, Huber...</td>\n",
              "      <td>http://editions-rnti.fr/render_pdf.php?p1&amp;p=10...</td>\n",
              "      <td>http://editions-rnti.fr/render_pdf.php?p=1002380</td>\n",
              "    </tr>\n",
              "    <tr>\n",
              "      <th>3</th>\n",
              "      <td>Revue des Nouvelles Technologies de l'Information</td>\n",
              "      <td>EGC</td>\n",
              "      <td>2018</td>\n",
              "      <td>Analyse des sentiments à partir des commentair...</td>\n",
              "      <td>L'analyse des sentiments est un processus pend...</td>\n",
              "      <td>Abdeljalil Elouardighi, Mohcine Maghfour, Hafd...</td>\n",
              "      <td>http://editions-rnti.fr/render_pdf.php?p1&amp;p=10...</td>\n",
              "      <td>http://editions-rnti.fr/render_pdf.php?p=1002397</td>\n",
              "    </tr>\n",
              "    <tr>\n",
              "      <th>4</th>\n",
              "      <td>Revue des Nouvelles Technologies de l'Information</td>\n",
              "      <td>EGC</td>\n",
              "      <td>2018</td>\n",
              "      <td>Analyse en rôles sémantiques pour le résumé au...</td>\n",
              "      <td>Cet article présente une approche visant à ext...</td>\n",
              "      <td>Elyase Lassouli, Yasmine Mesbahi, Camille Prad...</td>\n",
              "      <td>http://editions-rnti.fr/render_pdf.php?p1&amp;p=10...</td>\n",
              "      <td>http://editions-rnti.fr/render_pdf.php?p=1002384</td>\n",
              "    </tr>\n",
              "  </tbody>\n",
              "</table>\n",
              "</div>"
            ],
            "text/plain": [
              "                                              series  ...                                        pdfarticle\n",
              "0  Revue des Nouvelles Technologies de l'Information  ...  http://editions-rnti.fr/render_pdf.php?p=1002425\n",
              "1  Revue des Nouvelles Technologies de l'Information  ...  http://editions-rnti.fr/render_pdf.php?p=1002372\n",
              "2  Revue des Nouvelles Technologies de l'Information  ...  http://editions-rnti.fr/render_pdf.php?p=1002380\n",
              "3  Revue des Nouvelles Technologies de l'Information  ...  http://editions-rnti.fr/render_pdf.php?p=1002397\n",
              "4  Revue des Nouvelles Technologies de l'Information  ...  http://editions-rnti.fr/render_pdf.php?p=1002384\n",
              "\n",
              "[5 rows x 8 columns]"
            ]
          },
          "metadata": {
            "tags": []
          },
          "execution_count": 6
        }
      ]
    },
    {
      "cell_type": "code",
      "metadata": {
        "id": "RBJy1h4BUNI8",
        "colab_type": "code",
        "outputId": "0881d477-5f90-4107-ab76-29a65a9b89f0",
        "colab": {
          "base_uri": "https://localhost:8080/",
          "height": 170
        }
      },
      "source": [
        "#src_df.loc[1145]\n",
        "src_df.loc[4]"
      ],
      "execution_count": 0,
      "outputs": [
        {
          "output_type": "execute_result",
          "data": {
            "text/plain": [
              "series        Revue des Nouvelles Technologies de l'Information\n",
              "booktitle                                                   EGC\n",
              "year                                                       2018\n",
              "title         Analyse en rôles sémantiques pour le résumé au...\n",
              "abstract      Cet article présente une approche visant à ext...\n",
              "authors       Elyase Lassouli, Yasmine Mesbahi, Camille Prad...\n",
              "pdf1page      http://editions-rnti.fr/render_pdf.php?p1&p=10...\n",
              "pdfarticle     http://editions-rnti.fr/render_pdf.php?p=1002384\n",
              "Name: 4, dtype: object"
            ]
          },
          "metadata": {
            "tags": []
          },
          "execution_count": 7
        }
      ]
    },
    {
      "cell_type": "markdown",
      "metadata": {
        "id": "zFyaQ8bnB35U",
        "colab_type": "text"
      },
      "source": [
        "### 3- Data Preprocessing ..."
=======
     "name": "stdout",
     "output_type": "stream",
     "text": [
      "Requirement already satisfied: textblob in /home/kenneth/miniconda3/lib/python3.7/site-packages (0.15.3)\n",
      "Requirement already satisfied: nltk>=3.1 in /home/kenneth/miniconda3/lib/python3.7/site-packages (from textblob) (3.4.5)\n",
      "Requirement already satisfied: six in /home/kenneth/miniconda3/lib/python3.7/site-packages (from nltk>=3.1->textblob) (1.12.0)\n"
     ]
    }
   ],
   "source": [
    "# Installing dependencies ....\n",
    "! pip install textblob\n",
    "\n",
    "# Loading dependencies  ....\n",
    "import networkx as nx \n",
    "from networkx.algorithms.distance_measures import diameter\n",
    "from networkx.algorithms.community import community_utils\n",
    "from networkx.algorithms.community import greedy_modularity_communities\n",
    "\n",
    "from networkx.algorithms.community import k_clique_communities\n",
    "from networkx.algorithms.centrality import edge_betweenness_centrality\n",
    "from networkx.algorithms.community.centrality import girvan_newman\n",
    "import pandas as pd\n",
    "import numpy as np\n",
    "import statistics as stats\n",
    "import community\n",
    "import collections\n",
    "import math\n",
    "from matplotlib  import pyplot as plt \n",
    "from textblob import TextBlob\n",
    "import re\n",
    "import random \n",
    "import json\n",
    "import dash_core_components as dcc\n",
    "import dash_html_components as html\n",
    "import plotly.graph_objs as go"
   ]
  },
  {
   "cell_type": "code",
   "execution_count": 0,
   "metadata": {
    "colab": {},
    "colab_type": "code",
    "id": "7cgW3RZLz6gy"
   },
   "outputs": [],
   "source": [
    "# Initializing gloabal variables ...\n",
    "_root = \"/content/drive/My Drive/SOCIAL_MINING\"\n",
    "_url_src_dataset = _root+\"/data/export_articles_EGC_2004_2018.csv\"\n",
    "_url_similarity_score = _root+\"/data/similarityscore.csv\""
   ]
  },
  {
   "cell_type": "code",
   "execution_count": 2,
   "metadata": {},
   "outputs": [],
   "source": [
    "path = '/home/kenneth/Documents/MLDM M2/DATA MINING FOR BIG DATA/PROJECT/'+\\\n",
    "        'Social-Mining-Recommendation-System/DATASET'"
   ]
  },
  {
   "cell_type": "code",
   "execution_count": 5,
   "metadata": {},
   "outputs": [],
   "source": [
    "import os\n",
    "\n",
    "data = pd.read_csv(os.path.join(path, 'processed/pcomplete.csv'), sep = ',',).iloc[:, 1:]\n",
    "sort_dataset = data.sort_values(by=['year'])\n",
    "simscore = pd.read_csv(os.path.join(path, 'processed/similarityscore.csv')).iloc[:, 1:]"
   ]
  },
  {
   "cell_type": "code",
   "execution_count": 6,
   "metadata": {},
   "outputs": [
    {
     "data": {
      "text/html": [
       "<div>\n",
       "<style scoped>\n",
       "    .dataframe tbody tr th:only-of-type {\n",
       "        vertical-align: middle;\n",
       "    }\n",
       "\n",
       "    .dataframe tbody tr th {\n",
       "        vertical-align: top;\n",
       "    }\n",
       "\n",
       "    .dataframe thead th {\n",
       "        text-align: right;\n",
       "    }\n",
       "</style>\n",
       "<table border=\"1\" class=\"dataframe\">\n",
       "  <thead>\n",
       "    <tr style=\"text-align: right;\">\n",
       "      <th></th>\n",
       "      <th>0</th>\n",
       "      <th>1</th>\n",
       "      <th>2</th>\n",
       "      <th>3</th>\n",
       "      <th>4</th>\n",
       "      <th>5</th>\n",
       "      <th>6</th>\n",
       "      <th>7</th>\n",
       "      <th>8</th>\n",
       "      <th>9</th>\n",
       "      <th>...</th>\n",
       "      <th>1259</th>\n",
       "      <th>1260</th>\n",
       "      <th>1261</th>\n",
       "      <th>1262</th>\n",
       "      <th>1263</th>\n",
       "      <th>1264</th>\n",
       "      <th>1265</th>\n",
       "      <th>1266</th>\n",
       "      <th>1267</th>\n",
       "      <th>1268</th>\n",
       "    </tr>\n",
       "  </thead>\n",
       "  <tbody>\n",
       "    <tr>\n",
       "      <th>0</th>\n",
       "      <td>1.000000</td>\n",
       "      <td>0.029532</td>\n",
       "      <td>0.053901</td>\n",
       "      <td>0.053560</td>\n",
       "      <td>0.060623</td>\n",
       "      <td>0.063785</td>\n",
       "      <td>0.025400</td>\n",
       "      <td>0.038503</td>\n",
       "      <td>0.013188</td>\n",
       "      <td>0.030437</td>\n",
       "      <td>...</td>\n",
       "      <td>0.021660</td>\n",
       "      <td>0.0</td>\n",
       "      <td>0.0</td>\n",
       "      <td>0.016758</td>\n",
       "      <td>0.0</td>\n",
       "      <td>0.032758</td>\n",
       "      <td>0.031142</td>\n",
       "      <td>0.000000</td>\n",
       "      <td>0.016213</td>\n",
       "      <td>0.020832</td>\n",
       "    </tr>\n",
       "    <tr>\n",
       "      <th>1</th>\n",
       "      <td>0.029532</td>\n",
       "      <td>1.000000</td>\n",
       "      <td>0.070888</td>\n",
       "      <td>0.054872</td>\n",
       "      <td>0.067451</td>\n",
       "      <td>0.034809</td>\n",
       "      <td>0.036648</td>\n",
       "      <td>0.124817</td>\n",
       "      <td>0.035075</td>\n",
       "      <td>0.071775</td>\n",
       "      <td>...</td>\n",
       "      <td>0.042609</td>\n",
       "      <td>0.0</td>\n",
       "      <td>0.0</td>\n",
       "      <td>0.026103</td>\n",
       "      <td>0.0</td>\n",
       "      <td>0.049501</td>\n",
       "      <td>0.046239</td>\n",
       "      <td>0.002306</td>\n",
       "      <td>0.021818</td>\n",
       "      <td>0.031917</td>\n",
       "    </tr>\n",
       "    <tr>\n",
       "      <th>2</th>\n",
       "      <td>0.053901</td>\n",
       "      <td>0.070888</td>\n",
       "      <td>1.000000</td>\n",
       "      <td>0.053640</td>\n",
       "      <td>0.070727</td>\n",
       "      <td>0.051718</td>\n",
       "      <td>0.037077</td>\n",
       "      <td>0.116249</td>\n",
       "      <td>0.038164</td>\n",
       "      <td>0.083996</td>\n",
       "      <td>...</td>\n",
       "      <td>0.052078</td>\n",
       "      <td>0.0</td>\n",
       "      <td>0.0</td>\n",
       "      <td>0.048642</td>\n",
       "      <td>0.0</td>\n",
       "      <td>0.061961</td>\n",
       "      <td>0.092791</td>\n",
       "      <td>0.000000</td>\n",
       "      <td>0.026852</td>\n",
       "      <td>0.058738</td>\n",
       "    </tr>\n",
       "    <tr>\n",
       "      <th>3</th>\n",
       "      <td>0.053560</td>\n",
       "      <td>0.054872</td>\n",
       "      <td>0.053640</td>\n",
       "      <td>1.000000</td>\n",
       "      <td>0.080480</td>\n",
       "      <td>0.046704</td>\n",
       "      <td>0.051510</td>\n",
       "      <td>0.121847</td>\n",
       "      <td>0.036769</td>\n",
       "      <td>0.064792</td>\n",
       "      <td>...</td>\n",
       "      <td>0.024703</td>\n",
       "      <td>0.0</td>\n",
       "      <td>0.0</td>\n",
       "      <td>0.032768</td>\n",
       "      <td>0.0</td>\n",
       "      <td>0.052762</td>\n",
       "      <td>0.037557</td>\n",
       "      <td>0.003402</td>\n",
       "      <td>0.010180</td>\n",
       "      <td>0.024779</td>\n",
       "    </tr>\n",
       "    <tr>\n",
       "      <th>4</th>\n",
       "      <td>0.060623</td>\n",
       "      <td>0.067451</td>\n",
       "      <td>0.070727</td>\n",
       "      <td>0.080480</td>\n",
       "      <td>1.000000</td>\n",
       "      <td>0.071383</td>\n",
       "      <td>0.046404</td>\n",
       "      <td>0.104442</td>\n",
       "      <td>0.050913</td>\n",
       "      <td>0.087752</td>\n",
       "      <td>...</td>\n",
       "      <td>0.035774</td>\n",
       "      <td>0.0</td>\n",
       "      <td>0.0</td>\n",
       "      <td>0.045625</td>\n",
       "      <td>0.0</td>\n",
       "      <td>0.099166</td>\n",
       "      <td>0.041126</td>\n",
       "      <td>0.002121</td>\n",
       "      <td>0.102722</td>\n",
       "      <td>0.047201</td>\n",
       "    </tr>\n",
       "  </tbody>\n",
       "</table>\n",
       "<p>5 rows × 1269 columns</p>\n",
       "</div>"
      ],
      "text/plain": [
       "          0         1         2         3         4         5         6  \\\n",
       "0  1.000000  0.029532  0.053901  0.053560  0.060623  0.063785  0.025400   \n",
       "1  0.029532  1.000000  0.070888  0.054872  0.067451  0.034809  0.036648   \n",
       "2  0.053901  0.070888  1.000000  0.053640  0.070727  0.051718  0.037077   \n",
       "3  0.053560  0.054872  0.053640  1.000000  0.080480  0.046704  0.051510   \n",
       "4  0.060623  0.067451  0.070727  0.080480  1.000000  0.071383  0.046404   \n",
       "\n",
       "          7         8         9  ...      1259  1260  1261      1262  1263  \\\n",
       "0  0.038503  0.013188  0.030437  ...  0.021660   0.0   0.0  0.016758   0.0   \n",
       "1  0.124817  0.035075  0.071775  ...  0.042609   0.0   0.0  0.026103   0.0   \n",
       "2  0.116249  0.038164  0.083996  ...  0.052078   0.0   0.0  0.048642   0.0   \n",
       "3  0.121847  0.036769  0.064792  ...  0.024703   0.0   0.0  0.032768   0.0   \n",
       "4  0.104442  0.050913  0.087752  ...  0.035774   0.0   0.0  0.045625   0.0   \n",
       "\n",
       "       1264      1265      1266      1267      1268  \n",
       "0  0.032758  0.031142  0.000000  0.016213  0.020832  \n",
       "1  0.049501  0.046239  0.002306  0.021818  0.031917  \n",
       "2  0.061961  0.092791  0.000000  0.026852  0.058738  \n",
       "3  0.052762  0.037557  0.003402  0.010180  0.024779  \n",
       "4  0.099166  0.041126  0.002121  0.102722  0.047201  \n",
       "\n",
       "[5 rows x 1269 columns]"
>>>>>>> Stashed changes
      ]
     },
     "execution_count": 6,
     "metadata": {},
     "output_type": "execute_result"
    }
   ],
   "source": [
    "simscore.head()"
   ]
  },
  {
   "cell_type": "code",
   "execution_count": 15,
   "metadata": {
    "colab": {},
    "colab_type": "code",
    "id": "NIzGE_Fz1Ti6"
   },
   "outputs": [],
   "source": [
    "# Implementing Utilities Functions ...\n",
    "def get_node_properties(node_id, df):\n",
    "  \"\"\"\n",
    "    Method used to get details/properties of a node given a node number \n",
    "  \n",
    "    @params: \n",
    "      node_id[Integer]: Node number / ID \n",
    "      df[Pandas.Dataframe]: Source DataFrame \n",
    "    @Returns:\n",
    "      Dictionaries of all details about the Node \n",
    "  \"\"\"\n",
    "  assert( node_id  in range(df.shape[0]) )\n",
    "  return dict(df.iloc[node_id])\n",
    "\n",
    "def is_positive_integer(i):\n",
    "  try:\n",
    "    i = int(i)\n",
    "    if i >=0:\n",
    "      return True\n",
    "  except Exception as e:\n",
    "    pass\n",
    "  return False \n",
    "\n",
    "def split_string_in_chunks(x, chunk_size  ):\n",
    "  chunks = len(x)\n",
    "  return [ x[i:i+chunk_size] for i in range(0, chunks, chunk_size) ]\n",
    "\n",
    "def _remove_all_special_chars(input_text):\n",
    "  assert (type(input_text) == str)\n",
    "\n",
    "  output_text = [re.sub(r\"[^a-zA-Z]+\", ' ', k) for k in input_text.split(\"\\n\")]\n",
    "  output_text = \" \".join(output_text).replace(\"\\n\", \" \")\n",
    "  output_text = output_text.lower()\n",
    "  return output_text\n",
    "\n",
    "def _reverse_key_value(my_dict):\n",
    "  tmp = dict()\n",
    "  for (k,v) in my_dict.items() :\n",
    "    if v not in tmp:\n",
    "      tmp[v] = list() \n",
    "    tmp[v].append(k)\n",
    "\n",
    "  return tmp \n"
   ]
  },
  {
   "cell_type": "code",
   "execution_count": 0,
   "metadata": {
    "colab": {},
    "colab_type": "code",
    "id": "x3luTeTd2ApJ"
   },
   "outputs": [],
   "source": [
    "# Loading Dataset ...\n",
    "src_df = pd.read_csv(_url_src_dataset,delimiter=\"\\t\")\n",
    "sim_df = pd.read_csv(_url_similarity_score,delimiter=\",\")\n",
    "sim_df = sim_df.drop('Unnamed: 0', 1)"
   ]
  },
  {
   "cell_type": "markdown",
   "metadata": {
    "colab_type": "text",
    "id": "b9mV28c31IIo"
   },
   "source": [
    "### 2- Data Visualization  ... "
   ]
  },
  {
   "cell_type": "code",
   "execution_count": 6,
   "metadata": {
    "colab": {
     "base_uri": "https://localhost:8080/",
     "height": 527
    },
    "colab_type": "code",
    "id": "3cQLNgTD1FfU",
    "outputId": "b9b0117f-f12b-49e1-d03e-f34f3074d07c"
   },
   "outputs": [
    {
<<<<<<< Updated upstream
      "cell_type": "code",
      "metadata": {
        "id": "lPlM0CXT24-5",
        "colab_type": "code",
        "outputId": "f1015abd-cceb-458b-8bd6-c4ba5c70670f",
        "colab": {
          "base_uri": "https://localhost:8080/",
          "height": 153
        }
      },
      "source": [
        "# Creating Trivial Distance Function base on disctance function derived from mxm matrix ...\n",
        "m,n = src_df.shape  \n",
        "dist_matrix = sim_df.values\n",
        "print(\"dist_matrix: \\n\", dist_matrix)"
      ],
      "execution_count": 0,
      "outputs": [
        {
          "output_type": "stream",
          "text": [
            "dist_matrix: \n",
            " [[1.         0.03175874 0.03774489 ... 0.         0.0163006  0.0202879 ]\n",
            " [0.03175874 1.         0.12842015 ... 0.00364649 0.01581375 0.14576674]\n",
            " [0.03774489 0.12842015 1.         ... 0.         0.02892527 0.06165638]\n",
            " ...\n",
            " [0.         0.00364649 0.         ... 1.         0.         0.        ]\n",
            " [0.0163006  0.01581375 0.02892527 ... 0.         1.         0.00410653]\n",
            " [0.0202879  0.14576674 0.06165638 ... 0.         0.00410653 1.        ]]\n"
          ],
          "name": "stdout"
        }
      ]
    },
    {
      "cell_type": "code",
      "metadata": {
        "id": "8HdXNJwv4hHD",
        "colab_type": "code",
        "outputId": "0732c3ac-58e6-402b-eb2a-1721d26d28d5",
        "colab": {
          "base_uri": "https://localhost:8080/",
          "height": 153
        }
      },
      "source": [
        "# Filtering the distance function using the defined threashold ... \n",
        "#_threashold = 0.04\n",
        "#_threashold = 0.07\n",
        "_threashold = 0.03\n",
        "for i in range(m):\n",
        "  dist_matrix[:,i] = [ 0 if x<_threashold  else x for x in dist_matrix[:,i]   ]\n",
        "print(\"dist_matrix: \\n\", dist_matrix)"
      ],
      "execution_count": 0,
      "outputs": [
        {
          "output_type": "stream",
          "text": [
            "dist_matrix: \n",
            " [[1.         0.03175874 0.03774489 ... 0.         0.         0.        ]\n",
            " [0.03175874 1.         0.12842015 ... 0.         0.         0.14576674]\n",
            " [0.03774489 0.12842015 1.         ... 0.         0.         0.06165638]\n",
            " ...\n",
            " [0.         0.         0.         ... 1.         0.         0.        ]\n",
            " [0.         0.         0.         ... 0.         1.         0.        ]\n",
            " [0.         0.14576674 0.06165638 ... 0.         0.         1.        ]]\n"
          ],
          "name": "stdout"
        }
=======
     "name": "stdout",
     "output_type": "stream",
     "text": [
      "src_df.shape:  (1269, 8)\n",
      "Index(['series', 'booktitle', 'year', 'title', 'abstract', 'authors',\n",
      "       'pdf1page', 'pdfarticle'],\n",
      "      dtype='object')\n",
      "Index(['0', '1', '2', '3', '4', '5', '6', '7', '8', '9',\n",
      "       ...\n",
      "       '1259', '1260', '1261', '1262', '1263', '1264', '1265', '1266', '1267',\n",
      "       '1268'],\n",
      "      dtype='object', length=1269)\n"
     ]
    },
    {
     "data": {
      "text/html": [
       "<div>\n",
       "<style scoped>\n",
       "    .dataframe tbody tr th:only-of-type {\n",
       "        vertical-align: middle;\n",
       "    }\n",
       "\n",
       "    .dataframe tbody tr th {\n",
       "        vertical-align: top;\n",
       "    }\n",
       "\n",
       "    .dataframe thead th {\n",
       "        text-align: right;\n",
       "    }\n",
       "</style>\n",
       "<table border=\"1\" class=\"dataframe\">\n",
       "  <thead>\n",
       "    <tr style=\"text-align: right;\">\n",
       "      <th></th>\n",
       "      <th>series</th>\n",
       "      <th>booktitle</th>\n",
       "      <th>year</th>\n",
       "      <th>title</th>\n",
       "      <th>abstract</th>\n",
       "      <th>authors</th>\n",
       "      <th>pdf1page</th>\n",
       "      <th>pdfarticle</th>\n",
       "    </tr>\n",
       "  </thead>\n",
       "  <tbody>\n",
       "    <tr>\n",
       "      <th>0</th>\n",
       "      <td>Revue des Nouvelles Technologies de l'Information</td>\n",
       "      <td>EGC</td>\n",
       "      <td>2018</td>\n",
       "      <td>#Idéo2017 : une plateforme citoyenne dédiée à ...</td>\n",
       "      <td>Cette plateforme a pour objectif de permettre ...</td>\n",
       "      <td>Claudia Marinica, Julien Longhi, Nader Hassine...</td>\n",
       "      <td>http://editions-rnti.fr/render_pdf.php?p1&amp;p=10...</td>\n",
       "      <td>http://editions-rnti.fr/render_pdf.php?p=1002425</td>\n",
       "    </tr>\n",
       "    <tr>\n",
       "      <th>1</th>\n",
       "      <td>Revue des Nouvelles Technologies de l'Information</td>\n",
       "      <td>EGC</td>\n",
       "      <td>2018</td>\n",
       "      <td>A two level co-clustering algorithm for very l...</td>\n",
       "      <td>La classification croisée (co-clustering) est ...</td>\n",
       "      <td>Marius Barctus, Marc Boullé, Fabrice Clérot</td>\n",
       "      <td>http://editions-rnti.fr/render_pdf.php?p1&amp;p=10...</td>\n",
       "      <td>http://editions-rnti.fr/render_pdf.php?p=1002372</td>\n",
       "    </tr>\n",
       "    <tr>\n",
       "      <th>2</th>\n",
       "      <td>Revue des Nouvelles Technologies de l'Information</td>\n",
       "      <td>EGC</td>\n",
       "      <td>2018</td>\n",
       "      <td>ALGeoSPF: Un modèle de factorisation basé sur ...</td>\n",
       "      <td>La recommandation de points d'intérêts est dev...</td>\n",
       "      <td>Jean-Benoît Griesner, Talel Abdesssalem, Huber...</td>\n",
       "      <td>http://editions-rnti.fr/render_pdf.php?p1&amp;p=10...</td>\n",
       "      <td>http://editions-rnti.fr/render_pdf.php?p=1002380</td>\n",
       "    </tr>\n",
       "    <tr>\n",
       "      <th>3</th>\n",
       "      <td>Revue des Nouvelles Technologies de l'Information</td>\n",
       "      <td>EGC</td>\n",
       "      <td>2018</td>\n",
       "      <td>Analyse des sentiments à partir des commentair...</td>\n",
       "      <td>L'analyse des sentiments est un processus pend...</td>\n",
       "      <td>Abdeljalil Elouardighi, Mohcine Maghfour, Hafd...</td>\n",
       "      <td>http://editions-rnti.fr/render_pdf.php?p1&amp;p=10...</td>\n",
       "      <td>http://editions-rnti.fr/render_pdf.php?p=1002397</td>\n",
       "    </tr>\n",
       "    <tr>\n",
       "      <th>4</th>\n",
       "      <td>Revue des Nouvelles Technologies de l'Information</td>\n",
       "      <td>EGC</td>\n",
       "      <td>2018</td>\n",
       "      <td>Analyse en rôles sémantiques pour le résumé au...</td>\n",
       "      <td>Cet article présente une approche visant à ext...</td>\n",
       "      <td>Elyase Lassouli, Yasmine Mesbahi, Camille Prad...</td>\n",
       "      <td>http://editions-rnti.fr/render_pdf.php?p1&amp;p=10...</td>\n",
       "      <td>http://editions-rnti.fr/render_pdf.php?p=1002384</td>\n",
       "    </tr>\n",
       "  </tbody>\n",
       "</table>\n",
       "</div>"
      ],
      "text/plain": [
       "                                              series  ...                                        pdfarticle\n",
       "0  Revue des Nouvelles Technologies de l'Information  ...  http://editions-rnti.fr/render_pdf.php?p=1002425\n",
       "1  Revue des Nouvelles Technologies de l'Information  ...  http://editions-rnti.fr/render_pdf.php?p=1002372\n",
       "2  Revue des Nouvelles Technologies de l'Information  ...  http://editions-rnti.fr/render_pdf.php?p=1002380\n",
       "3  Revue des Nouvelles Technologies de l'Information  ...  http://editions-rnti.fr/render_pdf.php?p=1002397\n",
       "4  Revue des Nouvelles Technologies de l'Information  ...  http://editions-rnti.fr/render_pdf.php?p=1002384\n",
       "\n",
       "[5 rows x 8 columns]"
>>>>>>> Stashed changes
      ]
     },
     "execution_count": 6,
     "metadata": {
      "tags": []
     },
     "output_type": "execute_result"
    }
   ],
   "source": [
    "print(\"src_df.shape: \", src_df.shape)\n",
    "print(src_df.columns)\n",
    "print(sim_df.columns)\n",
    "src_df.head(5)"
   ]
  },
  {
   "cell_type": "code",
   "execution_count": 7,
   "metadata": {
    "colab": {
     "base_uri": "https://localhost:8080/",
     "height": 170
    },
    "colab_type": "code",
    "id": "RBJy1h4BUNI8",
    "outputId": "d040a55c-954f-452b-a847-674c3528669b"
   },
   "outputs": [
    {
<<<<<<< Updated upstream
      "cell_type": "code",
      "metadata": {
        "id": "lOQSORZi6lsp",
        "colab_type": "code",
        "outputId": "343d7009-af55-410d-c2d0-50d5043f53e7",
        "colab": {
          "base_uri": "https://localhost:8080/",
          "height": 34
        }
      },
      "source": [
        "# Defining Nodes using source dataframe ...\n",
        "G = nx.Graph()\n",
        "for n in range(m):\n",
        "  # Adding the properties each node ... \n",
        "  G.add_node(n, **get_node_properties(n, src_df))\n",
        "\n",
        "print(\"Node Title Properties: \",G.nodes[0][\"title\"])\n",
        "\n",
        "# Defining Edegs based on the distance/weight matric  ...\n",
        "for i in range(m):\n",
        "  for j in range(m):\n",
        "    if dist_matrix[i,j] != 0 and i != j  :\n",
        "      G.add_edge(i,j,weight=dist_matrix[i,j] ) \n",
        "\n",
        "#print(\"Edge weight : \",G.edges[0, 1]['weight'])"
      ],
      "execution_count": 0,
      "outputs": [
        {
          "output_type": "stream",
          "text": [
            "Node Title Properties:  #Idéo2017 : une plateforme citoyenne dédiée à l'analyse des tweets lors des événements politiques\n"
          ],
          "name": "stdout"
        }
=======
     "data": {
      "text/plain": [
       "series        Revue des Nouvelles Technologies de l'Information\n",
       "booktitle                                                   EGC\n",
       "year                                                       2018\n",
       "title         Analyse en rôles sémantiques pour le résumé au...\n",
       "abstract      Cet article présente une approche visant à ext...\n",
       "authors       Elyase Lassouli, Yasmine Mesbahi, Camille Prad...\n",
       "pdf1page      http://editions-rnti.fr/render_pdf.php?p1&p=10...\n",
       "pdfarticle     http://editions-rnti.fr/render_pdf.php?p=1002384\n",
       "Name: 4, dtype: object"
>>>>>>> Stashed changes
      ]
     },
     "execution_count": 7,
     "metadata": {
      "tags": []
     },
     "output_type": "execute_result"
    }
   ],
   "source": [
    "#src_df.loc[1145]\n",
    "src_df.loc[4]"
   ]
  },
  {
   "cell_type": "markdown",
   "metadata": {
    "colab_type": "text",
    "id": "zFyaQ8bnB35U"
   },
   "source": [
    "### 3- Data Preprocessing ..."
   ]
  },
  {
   "cell_type": "code",
   "execution_count": 8,
   "metadata": {
    "colab": {
     "base_uri": "https://localhost:8080/",
     "height": 153
    },
    "colab_type": "code",
    "id": "lPlM0CXT24-5",
    "outputId": "9caa2899-8e78-4c8e-a974-1f56f0d9b8c5"
   },
   "outputs": [
    {
<<<<<<< Updated upstream
      "cell_type": "code",
      "metadata": {
        "id": "nxoGne_MJkIS",
        "colab_type": "code",
        "outputId": "e3488828-670e-4eef-dbe7-bf80ee80a145",
        "colab": {
          "base_uri": "https://localhost:8080/",
          "height": 336
        }
      },
      "source": [
        "# Plotting graph ...\n",
        "G.add_nodes_from(list(range(m) ))\n",
        "nx.draw(G, with_labels=True)\n",
        "plt.figure(figsize=(17,3))\n",
        "plt.show()\n",
        "\n"
      ],
      "execution_count": 0,
      "outputs": [
        {
          "output_type": "display_data",
          "data": {
            "image/png": "iVBORw0KGgoAAAANSUhEUgAAAb4AAAEuCAYAAADx63eqAAAABHNCSVQICAgIfAhkiAAAAAlwSFlz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\nNlNDAAAAAElFTkSuQmCC\n",
            "text/plain": [
              "<Figure size 432x288 with 1 Axes>"
            ]
          },
          "metadata": {
            "tags": []
          }
        },
        {
          "output_type": "display_data",
          "data": {
            "text/plain": [
              "<Figure size 1224x216 with 0 Axes>"
            ]
          },
          "metadata": {
            "tags": []
          }
        }
      ]
=======
     "name": "stdout",
     "output_type": "stream",
     "text": [
      "dist_matrix: \n",
      " [[1.         0.03175874 0.03774489 ... 0.         0.0163006  0.0202879 ]\n",
      " [0.03175874 1.         0.12842015 ... 0.00364649 0.01581375 0.14576674]\n",
      " [0.03774489 0.12842015 1.         ... 0.         0.02892527 0.06165638]\n",
      " ...\n",
      " [0.         0.00364649 0.         ... 1.         0.         0.        ]\n",
      " [0.0163006  0.01581375 0.02892527 ... 0.         1.         0.00410653]\n",
      " [0.0202879  0.14576674 0.06165638 ... 0.         0.00410653 1.        ]]\n"
     ]
    }
   ],
   "source": [
    "# Creating Trivial Distance Function base on disctance function derived from mxm matrix ...\n",
    "m,n = src_df.shape \n",
    "#m= 1000\n",
    "#dist_matrix = np.random.randint(0,1000, size=(m,m) ) \n",
    "dist_matrix = sim_df.values\n",
    "print(\"dist_matrix: \\n\", dist_matrix)"
   ]
  },
  {
   "cell_type": "code",
   "execution_count": 7,
   "metadata": {},
   "outputs": [],
   "source": [
    "dist_matrix = np.array(simscore)"
   ]
  },
  {
   "cell_type": "code",
   "execution_count": 12,
   "metadata": {},
   "outputs": [],
   "source": [
    "m, n = dist_matrix.shape"
   ]
  },
  {
   "cell_type": "code",
   "execution_count": 13,
   "metadata": {
    "colab": {
     "base_uri": "https://localhost:8080/",
     "height": 153
>>>>>>> Stashed changes
    },
    "colab_type": "code",
    "id": "8HdXNJwv4hHD",
    "outputId": "bab9590c-5d10-4479-a039-ab775be5d580"
   },
   "outputs": [
    {
     "name": "stdout",
     "output_type": "stream",
     "text": [
      "dist_matrix: \n",
      " [[1.         0.         0.05390069 ... 0.         0.         0.        ]\n",
      " [0.         1.         0.07088781 ... 0.         0.         0.03191737]\n",
      " [0.05390069 0.07088781 1.         ... 0.         0.         0.05873764]\n",
      " ...\n",
      " [0.         0.         0.         ... 1.         0.         0.        ]\n",
      " [0.         0.         0.         ... 0.         1.         0.        ]\n",
      " [0.         0.03191737 0.05873764 ... 0.         0.         1.        ]]\n"
     ]
    }
   ],
   "source": [
    "# Filtering the distance function using the defined threashold ... \n",
    "#_threashold = 0.04\n",
    "#_threashold = 0.07\n",
    "_threashold = 0.03\n",
    "for i in range(m):\n",
    "  dist_matrix[:,i] = [ 0 if x<_threashold  else x for x in dist_matrix[:,i]   ]\n",
    "print(\"dist_matrix: \\n\", dist_matrix)"
   ]
  },
  {
   "cell_type": "code",
   "execution_count": 17,
   "metadata": {
    "colab": {
     "base_uri": "https://localhost:8080/",
     "height": 34
    },
    "colab_type": "code",
    "id": "lOQSORZi6lsp",
    "outputId": "ba9cc844-b146-4c23-daec-235a6ed3d6a3"
   },
   "outputs": [
    {
<<<<<<< Updated upstream
      "cell_type": "code",
      "metadata": {
        "id": "tBNFXpBoP1HQ",
        "colab_type": "code",
        "outputId": "6a3a8746-aa0b-4932-9a61-f50a0a0d4e09",
        "colab": {
          "base_uri": "https://localhost:8080/",
          "height": 119
        }
      },
      "source": [
        "# Global Network Analysis ...\n",
        "n_edges = G.number_of_edges()\n",
        "n_nodes = G.number_of_nodes()\n",
        "#g_diameter = nx.diameter(G)\n",
        "g_degree = nx.degree(G)\n",
        "g_max_degree = max( [ x[1] for x in  g_degree ] )\n",
        "g_min_degree = min( [ x[1] for x in  g_degree ] )\n",
        "g_avg_degree = math.ceil(stats.mean( [ x[1] for x in  g_degree ] ))\n",
        "g_density = round(nx.density(G),2)\n",
        "\n",
        "print(\"Number of Edges\", n_edges )\n",
        "print(\"Number of Node\", n_nodes)\n",
        "#print(\"Graph Diameter\", g_diameter)\n",
        "print(\"Graph Max Degree \",g_max_degree  )\n",
        "print(\"Graph Min Degree \",g_min_degree  )\n",
        "print(\"Graph Mean Degree \",g_avg_degree  )\n",
        "print(\"Graph Density \", g_density)\n",
        "\n",
        "# Local Network Analysis ... \n",
        "\n"
      ],
      "execution_count": 0,
      "outputs": [
        {
          "output_type": "stream",
          "text": [
            "Number of Edges 490158\n",
            "Number of Node 1269\n",
            "Graph Max Degree  1194\n",
            "Graph Min Degree  0\n",
            "Graph Mean Degree  773\n",
            "Graph Density  0.61\n"
          ],
          "name": "stdout"
        }
      ]
    },
=======
     "name": "stdout",
     "output_type": "stream",
     "text": [
      "Node Title Properties:  #Idéo2017 : une plateforme citoyenne dédiée à l'analyse des tweets lors des événements politiques\n"
     ]
    }
   ],
   "source": [
    "# Defining Nodes using source dataframe ...\n",
    "G = nx.Graph()\n",
    "for n in range(m):\n",
    "  # Adding the properties each node ... \n",
    "  G.add_node(n, **get_node_properties(n, data))\n",
    "\n",
    "print(\"Node Title Properties: \",G.nodes[0][\"title\"])\n",
    "\n",
    "# Defining Edegs based on the distance/weight matric  ...\n",
    "for i in range(m):\n",
    "  for j in range(m):\n",
    "    if dist_matrix[i,j] != 0 and i != j  :\n",
    "      G.add_edge(i,j,weight=dist_matrix[i,j]) \n",
    "\n",
    "#print(\"Edge weight : \",G.edges[0, 1]['weight'])"
   ]
  },
  {
   "cell_type": "code",
   "execution_count": 22,
   "metadata": {},
   "outputs": [],
   "source": [
    "E = [E for E in G.edges]"
   ]
  },
  {
   "cell_type": "code",
   "execution_count": 24,
   "metadata": {},
   "outputs": [
>>>>>>> Stashed changes
    {
     "data": {
      "text/plain": [
       "546103"
      ]
<<<<<<< Updated upstream
    },
    {
      "cell_type": "code",
      "metadata": {
        "id": "wM1yw-ZAcStH",
        "colab_type": "code",
        "colab": {}
      },
      "source": [
        "# Selecting matching candidates per the book(s) read ... \n",
        "def detect_communities(G):\n",
        "  community_ = node_candidates_girvan_newman(G)\n",
        "  return community_ , _reverse_key_value( community_),community.modularity(community_, G )\n",
        "\n",
        "\n",
        "def node_candidates_girvan_newman(G):\n",
        "  community_ = community.best_partition(G,weight='weight', random_state= 1)\n",
        "  return community_\n",
        "\n",
        "\n",
        "\n",
        "def node_candidates_greedy(G):\n",
        "  greedy_com=list(greedy_modularity_communities(G, weight=\"weight\"))\n",
        "  return greedy_com\n",
        "\n",
        "def node_candidates_clique(G, n_cliques = 3):\n",
        "  clique_com = list(k_clique_communities(G, n_cliques))\n",
        "  return clique_com\n",
        "\n",
        "def node_candidates(community,list_read, nb_candidates = 10):\n",
        "  rv_community = _reverse_key_value( community)\n",
        "  tmp = list()\n",
        "  for one_read in list_read :\n",
        "    tmp.append(community[one_read])\n",
        "\n",
        "  nb_elem = len(tmp)\n",
        "  counter=collections.Counter(tmp)\n",
        "  freq_tmp =  dict(counter)\n",
        "  result = list()\n",
        "  for k,v in freq_tmp.items():\n",
        "    nb_items = int((v/nb_elem) * nb_candidates)\n",
        "    l2 = random.sample(rv_community[k], k=nb_items)\n",
        "    result = [*result, *l2]\n",
        "  return result \n",
        "\n",
        "# Ranking candidates ( google index based ranking No dead end trap and )...\n",
        "def ranking_candidate(G, list_read, list_candidate ):\n",
        "  assert(type(list_candidate)  == list)\n",
        "  assert(type(list_read) == list )\n",
        "\n",
        "  # remove  list_read from candidate \n",
        "  list_candidate =  [x for x in list_candidate if x not in list_read]\n",
        "  # Plot the subgrah of the articles read + candidates \n",
        "  combined = list_read + list_candidate\n",
        "  print(combined)\n",
        "  H = G.subgraph(combined)\n",
        "  print(H)\n",
        "  nx.draw(H, with_labels=True)\n",
        "  plt.figure(figsize=(17,3))\n",
        "  plt.show()\n",
        "  # Ranking based on proximity measure\n",
        "  #print(G.number_of_edges(1,7))\n",
        "  # Compute edge betweeness centrality in the Subgraph \n",
        "  all_edge_betweeness = edge_betweenness_centrality(H,weight=\"weight\") \n",
        "  #print(edge_betweenness_centrality(H,weight=\"weight\") )\n",
        "  # Compute weighted  betweeness score for each candidates (nodes )  ...\n",
        "  for edge in all_edge_betweeness:\n",
        "    score = all_edge_betweeness[edge]\n",
        "    H.nodes[edge[0]][\"betweeness_score\"] = (0 if  \"betweeness_score\" not in  H.nodes[edge[0]] else H.nodes[edge[0]][\"betweeness_score\"]) +  score\n",
        "    H.nodes[edge[1]][\"betweeness_score\"] = (0 if  \"betweeness_score\" not in  H.nodes[edge[1]] else H.nodes[edge[1]][\"betweeness_score\"]) +  score\n",
        "  \n",
        "  result = dict()\n",
        "  for candidate in list_candidate :\n",
        "    if \"betweeness_score\" in  H.nodes[candidate]:\n",
        "      result[candidate] = round( H.nodes[candidate][\"betweeness_score\"],3)\n",
        "    else:\n",
        "      result[candidate] = 0\n",
        "  \n",
        "  # Sort candidate in Descending order according to w\n",
        "  sorted_result = {k: v for k, v in sorted(result.items(), key=lambda item: item[1],reverse=True )}\n",
        "  return list(sorted_result.keys()), sorted_result\n",
        "\n",
        "#all_communities,_,_ = detect_communities(G)\n",
        "#node_candidates(all_communities,[4,5,6,7,8,9,1,2], nb_candidates = 100)"
      ],
      "execution_count": 0,
      "outputs": []
    },
    {
      "cell_type": "code",
      "metadata": {
        "id": "XrzXFdZuKP5r",
        "colab_type": "code",
        "outputId": "7cbdafaa-3f3a-4140-bf6d-241980ba7017",
        "colab": {
          "base_uri": "https://localhost:8080/",
          "height": 373
        }
      },
      "source": [
        "# Testing edge betweeness based community detection ...\n",
        "all_communities  = node_candidates_girvan_newman(G)\n",
        "all_communities_as_clusters = _reverse_key_value( all_communities)\n",
        "print(\"modularity_score\", community.modularity(all_communities, G ))\n",
        "print(json.dumps(all_communities_as_clusters)  )\n",
        "\n",
        "values = [all_communities.get(node) for node in G.nodes()]\n",
        "nx.draw_spring(G, cmap = plt.get_cmap('jet'), node_color = values, node_size=30, with_labels=False)"
      ],
      "execution_count": 0,
      "outputs": [
        {
          "output_type": "stream",
          "text": [
            "modularity_score 0.12828382669842328\n",
            "{\"0\": [0, 4, 5, 12, 16, 17, 18, 19, 25, 28, 31, 35, 36, 38, 43, 44, 45, 46, 49, 53, 55, 56, 57, 60, 61, 62, 63, 65, 67, 68, 69, 73, 76, 78, 86, 89, 93, 95, 96, 98, 100, 101, 103, 104, 106, 109, 110, 111, 114, 120, 121, 125, 132, 137, 138, 140, 142, 143, 144, 147, 148, 152, 158, 166, 169, 171, 172, 174, 179, 180, 181, 182, 188, 192, 194, 196, 197, 204, 210, 211, 215, 217, 219, 220, 222, 225, 226, 228, 229, 230, 231, 233, 237, 240, 242, 248, 249, 250, 252, 254, 257, 258, 259, 260, 261, 262, 263, 264, 266, 269, 278, 279, 286, 287, 289, 290, 295, 296, 297, 301, 302, 312, 315, 318, 319, 320, 324, 326, 327, 335, 340, 343, 344, 354, 356, 357, 365, 366, 370, 372, 374, 377, 383, 384, 387, 388, 395, 398, 401, 405, 408, 412, 413, 415, 417, 418, 419, 423, 425, 427, 429, 431, 433, 437, 439, 440, 459, 460, 465, 466, 474, 477, 478, 481, 482, 485, 486, 495, 496, 501, 502, 503, 504, 509, 514, 515, 518, 524, 526, 527, 530, 532, 540, 550, 551, 552, 555, 556, 558, 559, 562, 563, 565, 566, 568, 573, 575, 579, 581, 583, 584, 585, 586, 588, 589, 590, 593, 595, 597, 599, 600, 608, 612, 613, 615, 620, 621, 622, 623, 624, 626, 627, 630, 631, 632, 635, 638, 644, 645, 646, 648, 649, 657, 666, 667, 669, 671, 678, 683, 684, 687, 690, 692, 695, 697, 704, 705, 706, 707, 708, 710, 712, 716, 717, 718, 719, 721, 728, 736, 743, 762, 763, 765, 768, 771, 774, 777, 780, 781, 783, 786, 791, 802, 803, 806, 810, 814, 823, 827, 831, 832, 834, 837, 841, 842, 843, 845, 850, 851, 852, 853, 857, 863, 865, 868, 870, 873, 874, 878, 881, 882, 884, 885, 886, 888, 890, 893, 894, 898, 901, 902, 903, 904, 906, 911, 914, 916, 922, 923, 932, 933, 934, 942, 945, 946, 952, 959, 960, 963, 964, 967, 969, 970, 973, 976, 978, 982, 984, 987, 988, 993, 994, 998, 1001, 1004, 1011, 1013, 1014, 1018, 1019, 1020, 1024, 1027, 1028, 1030, 1031, 1034, 1036, 1039, 1040, 1041, 1043, 1048, 1050, 1051, 1052, 1055, 1057, 1059, 1060, 1069, 1071, 1072, 1076, 1078, 1082, 1083, 1084, 1085, 1088, 1089, 1093, 1095, 1097, 1098, 1099, 1100, 1102, 1105, 1119, 1122, 1123, 1125, 1126, 1130, 1131, 1133, 1134, 1139, 1146, 1148, 1152, 1153, 1154, 1155, 1157, 1160, 1161, 1165, 1166, 1167, 1168, 1179, 1181, 1183, 1185, 1186, 1191, 1196, 1198, 1199, 1203, 1210, 1214, 1215, 1216, 1219, 1222, 1225, 1227, 1228, 1230, 1231, 1232, 1236, 1238, 1239, 1241, 1245, 1246, 1251, 1259, 1264, 1267], \"1\": [1, 2, 3, 6, 7, 8, 9, 10, 11, 13, 22, 30, 32, 37, 41, 47, 50, 51, 52, 54, 58, 59, 64, 66, 74, 75, 77, 79, 80, 81, 82, 83, 85, 87, 90, 105, 107, 108, 113, 116, 117, 118, 119, 123, 124, 126, 127, 128, 130, 135, 139, 141, 146, 149, 150, 151, 153, 155, 156, 157, 161, 167, 176, 177, 183, 184, 186, 189, 190, 193, 195, 199, 200, 201, 202, 206, 208, 216, 218, 221, 224, 227, 235, 236, 238, 239, 241, 244, 245, 247, 255, 256, 267, 268, 270, 271, 276, 277, 280, 281, 282, 288, 291, 292, 294, 298, 299, 300, 304, 305, 307, 308, 309, 313, 316, 322, 323, 328, 334, 337, 341, 345, 347, 348, 351, 352, 353, 358, 359, 360, 361, 362, 367, 368, 371, 375, 378, 385, 390, 391, 392, 393, 399, 400, 404, 407, 409, 410, 414, 416, 420, 421, 422, 426, 428, 432, 434, 436, 438, 442, 443, 444, 445, 446, 447, 448, 449, 450, 451, 454, 455, 456, 457, 469, 470, 473, 475, 476, 479, 480, 483, 484, 489, 490, 491, 494, 498, 505, 506, 510, 516, 520, 525, 528, 531, 534, 535, 537, 538, 547, 548, 549, 553, 554, 557, 561, 569, 572, 574, 576, 577, 580, 582, 596, 601, 604, 610, 614, 616, 617, 618, 628, 633, 634, 636, 641, 642, 656, 662, 663, 664, 665, 668, 670, 673, 679, 682, 686, 688, 689, 693, 696, 698, 699, 700, 701, 703, 709, 722, 723, 724, 725, 726, 727, 729, 731, 735, 737, 741, 748, 749, 751, 752, 754, 755, 756, 766, 767, 769, 770, 772, 773, 775, 778, 779, 782, 785, 789, 790, 792, 793, 796, 797, 799, 800, 801, 804, 807, 808, 811, 812, 813, 817, 819, 820, 822, 824, 826, 835, 838, 840, 844, 849, 858, 859, 860, 862, 871, 872, 875, 876, 879, 883, 887, 891, 892, 896, 897, 900, 905, 907, 908, 909, 910, 912, 917, 918, 920, 921, 924, 927, 928, 929, 930, 931, 939, 948, 949, 950, 951, 954, 955, 962, 968, 974, 975, 977, 979, 980, 981, 985, 986, 992, 996, 997, 1005, 1006, 1007, 1009, 1010, 1012, 1016, 1017, 1021, 1022, 1025, 1032, 1033, 1035, 1042, 1045, 1056, 1061, 1062, 1064, 1067, 1068, 1074, 1075, 1090, 1094, 1109, 1110, 1111, 1112, 1114, 1116, 1121, 1124, 1136, 1137, 1141, 1147, 1151, 1159, 1162, 1169, 1170, 1172, 1173, 1175, 1178, 1180, 1182, 1184, 1188, 1189, 1190, 1195, 1202, 1206, 1217, 1218, 1220, 1221, 1224, 1226, 1235, 1243, 1244, 1252, 1256, 1257, 1258, 1262, 1268], \"2\": [14, 15, 24, 26, 27, 29, 39, 40, 42, 70, 71, 94, 102, 112, 129, 134, 136, 145, 154, 164, 168, 170, 175, 198, 205, 232, 243, 246, 251, 265, 273, 283, 284, 285, 293, 311, 325, 338, 339, 342, 355, 379, 380, 382, 386, 397, 411, 424, 452, 458, 488, 493, 497, 507, 508, 517, 533, 539, 543, 546, 571, 658, 702, 715, 753, 788, 839, 846, 848, 880, 925, 953, 956, 991, 1086, 1192, 1194, 1234, 1242, 1265], \"3\": [20, 21, 23, 33, 34, 48, 88, 91, 97, 99, 115, 131, 133, 160, 162, 163, 165, 173, 178, 185, 187, 191, 203, 207, 212, 213, 223, 234, 253, 272, 274, 275, 303, 310, 314, 317, 321, 329, 330, 331, 332, 333, 336, 346, 350, 363, 364, 369, 373, 381, 394, 396, 402, 403, 406, 435, 441, 453, 461, 462, 463, 464, 467, 471, 472, 487, 499, 500, 513, 519, 522, 523, 529, 536, 541, 542, 544, 545, 560, 564, 567, 570, 587, 591, 592, 594, 598, 602, 603, 605, 606, 607, 609, 625, 629, 637, 639, 640, 647, 650, 651, 653, 654, 655, 659, 661, 672, 674, 675, 676, 680, 691, 694, 711, 713, 730, 732, 733, 738, 739, 740, 742, 745, 746, 747, 750, 757, 758, 759, 760, 761, 764, 784, 787, 805, 816, 818, 821, 825, 828, 830, 833, 847, 854, 861, 864, 866, 869, 877, 889, 895, 899, 913, 915, 919, 926, 935, 936, 937, 938, 940, 943, 944, 947, 957, 958, 965, 966, 971, 972, 983, 989, 990, 999, 1002, 1003, 1008, 1015, 1023, 1026, 1029, 1038, 1044, 1046, 1047, 1053, 1054, 1058, 1065, 1066, 1070, 1077, 1079, 1081, 1087, 1091, 1092, 1096, 1101, 1104, 1107, 1108, 1127, 1128, 1129, 1132, 1138, 1140, 1150, 1158, 1163, 1164, 1174, 1176, 1177, 1187, 1197, 1201, 1207, 1208, 1209, 1233, 1249, 1250, 1254], \"4\": [72, 84, 92, 122, 159, 209, 214, 306, 349, 376, 389, 430, 468, 492, 511, 512, 521, 578, 611, 619, 643, 652, 660, 677, 685, 714, 720, 734, 744, 794, 795, 798, 815, 829, 836, 855, 856, 867, 941, 961, 1000, 1037, 1049, 1063, 1106, 1113, 1205, 1211, 1237, 1247, 1266], \"5\": [681], \"6\": [776], \"7\": [809], \"8\": [995], \"9\": [1073], \"10\": [1080], \"11\": [1103], \"12\": [1115], \"13\": [1117], \"14\": [1118], \"15\": [1120], \"16\": [1135], \"17\": [1142], \"18\": [1143], \"19\": [1144], \"20\": [1145], \"21\": [1149], \"22\": [1156], \"23\": [1171], \"24\": [1193], \"25\": [1200], \"26\": [1204], \"27\": [1212], \"28\": [1213], \"29\": [1223], \"30\": [1229], \"31\": [1240], \"32\": [1248], \"33\": [1253], \"34\": [1255], \"35\": [1260], \"36\": [1261], \"37\": [1263]}\n"
          ],
          "name": "stdout"
        },
        {
          "output_type": "display_data",
          "data": {
            "image/png": "iVBORw0KGgoAAAANSUhEUgAAAb4AAAEuCAYAAADx63eqAAAABHNCSVQICAgIfAhkiAAAAAlwSFlz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\nyv8D07TYCxuEXKQAAAAASUVORK5CYII=\n",
            "text/plain": [
              "<Figure size 432x288 with 1 Axes>"
            ]
          },
          "metadata": {
            "tags": []
          }
        }
=======
     },
     "execution_count": 24,
     "metadata": {},
     "output_type": "execute_result"
    }
   ],
   "source": [
    "len(E)"
   ]
  },
  {
   "cell_type": "code",
   "execution_count": 26,
   "metadata": {},
   "outputs": [],
   "source": [
    "pos = nx.fruchterman_reingold_layout(G)"
   ]
  },
  {
   "cell_type": "code",
   "execution_count": 27,
   "metadata": {},
   "outputs": [],
   "source": [
    "Xv = [pos[k][0] for k in range(n)]\n",
    "Yv = [pos[k][1] for k in range(n)]\n"
   ]
  },
  {
   "cell_type": "code",
   "execution_count": 31,
   "metadata": {},
   "outputs": [
    {
     "data": {
      "text/plain": [
       "1268"
>>>>>>> Stashed changes
      ]
     },
     "execution_count": 31,
     "metadata": {},
     "output_type": "execute_result"
    }
   ],
   "source": [
    "len(Yv)"
   ]
  },
  {
   "cell_type": "code",
   "execution_count": 32,
   "metadata": {},
   "outputs": [],
   "source": [
    "Xed = []\n",
    "Yed = []\n",
    "for edge in E:\n",
    "    Xed += [pos[edge[0]][0], pos[edge[1]][0], None]\n",
    "    Yed += [pos[edge[0]][1], pos[edge[1]][1], None]"
   ]
  },
  {
   "cell_type": "code",
   "execution_count": 36,
   "metadata": {},
   "outputs": [],
   "source": [
    "etrace = go.Scattergl(x = Xed,\n",
    "                       y = Yed,\n",
    "                       mode = 'lines',\n",
    "                       line = dict(color='rgb(210,210,210)', width = .5),\n",
    "                       hoverinfo = 'none'\n",
    "                       )\n",
    "        \n",
    "vtrace = go.Scattergl(x = Xv,\n",
    "               y = Yv,\n",
    "               mode = 'markers',\n",
    "               name = 'net',\n",
    "               marker = dict(symbol='circle-dot',\n",
    "                             size = 5,\n",
    "                             color='#6959CD',\n",
    "                             line=dict(color='rgb(50,50,50)', width=0.5)\n",
    "                             ),\n",
    "#                       text = labels,\n",
    "               hoverinfo='text'\n",
    "               )"
   ]
  },
  {
   "cell_type": "code",
   "execution_count": 59,
   "metadata": {},
   "outputs": [],
   "source": [
    "axis=dict(showline=False, # hide axis line, grid, ticklabels and  title\n",
    "          zeroline=False,\n",
    "          showgrid=False,\n",
    "          showticklabels=False,\n",
    "          title=''\n",
    "          )\n",
    "\n",
    "width=800\n",
    "height=800\n",
    "layout= go.Layout(title= \"Coauthorship network of scientists working on network theory and experiment\"+\\\n",
    "              \"<br> Data source: <a href='https://networkdata.ics.uci.edu/data.php?id=11'> [1]</a>\",\n",
    "    font= dict(size=12),\n",
    "    showlegend=False,\n",
    "    autosize=False,\n",
    "    width=width,\n",
    "    height=height,\n",
    "    hovermode='closest',\n",
    "    annotations=[\n",
    "           dict(\n",
    "           showarrow=False,\n",
    "            text='This igraph.Graph has the Kamada-Kawai layout',\n",
    "            xref='paper',\n",
    "            yref='paper',\n",
    "            x=0,\n",
    "            y=-0.1,\n",
    "            xanchor='left',\n",
    "            yanchor='bottom',\n",
    "            font=dict(\n",
    "            size=14\n",
    "            )\n",
    "            )\n",
    "        ]\n",
    "    )"
   ]
  },
  {
   "cell_type": "code",
   "execution_count": null,
   "metadata": {},
   "outputs": [],
   "source": [
    "from plotly.graph_objs import *\n",
    "import chart_studio.plotly as py\n",
    "data1=[etrace, vtrace]\n",
    "fig1 = go.Figure(data=data1)\n",
    "#fig1['layout']['annotations'][0]['text']=annot\n",
    "py.iplot(fig1, filename='Coautorship-network-nx')"
   ]
  },
  {
   "cell_type": "code",
   "execution_count": 46,
   "metadata": {
    "colab": {
     "base_uri": "https://localhost:8080/",
     "height": 336
    },
    "colab_type": "code",
    "id": "nxoGne_MJkIS",
    "outputId": "e32fbbf9-d8ed-49a5-8d07-7abdf897572c"
   },
   "outputs": [
    {
<<<<<<< Updated upstream
      "cell_type": "code",
      "metadata": {
        "id": "qGhqV2d2BQDZ",
        "colab_type": "code",
        "outputId": "c082fefc-ff89-452e-fe04-fbe9b62f22ac",
        "colab": {
          "base_uri": "https://localhost:8080/",
          "height": 299
        }
      },
      "source": [
        "# Computing the number of nodes per clusters \n",
        "print(\"---- Louvain Algorithm ---- \")\n",
        "print(\"Total Number of clusters\",len(all_communities_as_clusters))\n",
        "\n",
        "cluster_nodes_len  = list() \n",
        "for i in all_communities_as_clusters:\n",
        "  val = all_communities_as_clusters[i]\n",
        "  cluster_nodes_len.append([i,len(val)])\n",
        "\n",
        "cluster_nodes_len = np.array(cluster_nodes_len)\n",
        "plt.bar(cluster_nodes_len[:,0], cluster_nodes_len[:,1])\n",
        "plt.show()"
      ],
      "execution_count": 0,
      "outputs": [
        {
          "output_type": "stream",
          "text": [
            "---- Louvain Algorithm ---- \n",
            "Total Number of clusters 38\n"
          ],
          "name": "stdout"
        },
        {
          "output_type": "display_data",
          "data": {
            "image/png": "iVBORw0KGgoAAAANSUhEUgAAAXcAAAD4CAYAAAAXUaZHAAAABHNCSVQICAgIfAhkiAAAAAlwSFlz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\nAABJRU5ErkJggg==\n",
            "text/plain": [
              "<Figure size 432x288 with 1 Axes>"
            ]
          },
          "metadata": {
            "tags": []
          }
        }
      ]
    },
    {
      "cell_type": "code",
      "metadata": {
        "id": "N8egR4ioBzsv",
        "colab_type": "code",
        "colab": {}
      },
      "source": [
        "# Testing Greedy community detection ...\n",
        "greedy_c = node_candidates_greedy(G, )\n",
        "sorted(sorted(greedy_c) )"
      ],
      "execution_count": 0,
      "outputs": []
    },
    {
      "cell_type": "code",
      "metadata": {
        "id": "MtSrPgEe7q9P",
        "colab_type": "code",
        "outputId": "1211f108-310f-41aa-b099-5f32542b28e3",
        "colab": {
          "base_uri": "https://localhost:8080/",
          "height": 353
        }
      },
      "source": [
        "# Computing the number of nodes per clusters \n",
        "print(\"---- Greedy Approach ---- \")\n",
        "greedy_c_list = list(greedy_c)\n",
        "print(\"Total Number of clusters\", len(greedy_c_list))\n",
        "print(\"modularity_score\", greedy_modularity_communities( G ))\n",
        "cluster_nodes_len =list() \n",
        "for i, cluster  in enumerate(greedy_c_list):\n",
        "  cluster_nodes_len.append([i,len(cluster)])\n",
        "print(cluster_nodes_len)\n",
        "cluster_nodes_len = np.array(cluster_nodes_len)\n",
        "plt.bar(cluster_nodes_len[:,0], cluster_nodes_len[:,1])\n",
        "plt.show()"
      ],
      "execution_count": 0,
      "outputs": [
        {
          "output_type": "stream",
          "text": [
            "---- Greedy Approach ---- \n",
            "Total Number of clusters 34\n",
            "modularity_score [frozenset({514, 237, 718, 1199, 623, 1043, 1203, 1048, 1019, 1214}), frozenset({706, 674, 645, 690, 627, 1238, 695, 697, 540, 510}), frozenset({1249, 1250, 1254, 1222, 1099, 1231, 787, 1244}), frozenset({320, 134, 39, 236, 142, 14, 495}), frozenset({738, 550, 786, 764, 733}), frozenset({446, 264, 766, 535, 1150}), frozenset({137, 132, 44}), frozenset({89, 125, 166}), frozenset({1266, 932, 652}), frozenset({290, 68}), frozenset({312, 194}), frozenset({600, 539}), frozenset({602, 36}), frozenset({201, 637}), frozenset({345, 836}), frozenset({857, 207}), frozenset({746, 919}), frozenset({957, 839}), frozenset({996, 958}), frozenset({57, 1004}), frozenset({1041, 204}), frozenset({1033, 1047}), frozenset({781, 1078}), frozenset({1005, 1127}), frozenset({1154, 1100}), frozenset({1227, 1157}), frozenset({1267, 46}), frozenset({0}), frozenset({1}), frozenset({2}), frozenset({3}), frozenset({4}), frozenset({5}), frozenset({6}), frozenset({7}), frozenset({8}), frozenset({9}), frozenset({10}), frozenset({11}), frozenset({12}), frozenset({13}), frozenset({15}), frozenset({16}), frozenset({17}), frozenset({18}), frozenset({19}), frozenset({20}), frozenset({21}), frozenset({22}), frozenset({23}), frozenset({24}), frozenset({25}), frozenset({26}), frozenset({27}), frozenset({28}), frozenset({29}), frozenset({30}), frozenset({31}), frozenset({32}), frozenset({33}), frozenset({34}), frozenset({35}), frozenset({37}), frozenset({38}), frozenset({40}), frozenset({41}), frozenset({42}), frozenset({43}), frozenset({45}), frozenset({47}), frozenset({48}), frozenset({49}), frozenset({50}), frozenset({51}), frozenset({52}), frozenset({53}), frozenset({54}), frozenset({55}), frozenset({56}), frozenset({58}), frozenset({59}), frozenset({60}), frozenset({61}), frozenset({62}), frozenset({63}), frozenset({64}), frozenset({65}), frozenset({66}), frozenset({67}), frozenset({69}), frozenset({70}), frozenset({71}), frozenset({72}), frozenset({73}), frozenset({74}), frozenset({75}), frozenset({76}), frozenset({77}), frozenset({78}), frozenset({79}), frozenset({80}), frozenset({81}), frozenset({82}), frozenset({83}), frozenset({84}), frozenset({85}), frozenset({86}), frozenset({87}), frozenset({88}), frozenset({90}), frozenset({91}), frozenset({92}), frozenset({93}), frozenset({94}), frozenset({95}), frozenset({96}), frozenset({97}), frozenset({98}), frozenset({99}), frozenset({100}), frozenset({101}), frozenset({102}), frozenset({103}), frozenset({104}), frozenset({105}), frozenset({106}), frozenset({107}), frozenset({108}), frozenset({109}), frozenset({110}), frozenset({111}), frozenset({112}), frozenset({113}), frozenset({114}), frozenset({115}), frozenset({116}), frozenset({117}), frozenset({118}), frozenset({119}), frozenset({120}), frozenset({121}), frozenset({122}), frozenset({123}), frozenset({124}), frozenset({126}), frozenset({127}), frozenset({128}), frozenset({129}), frozenset({130}), frozenset({131}), frozenset({133}), frozenset({135}), frozenset({136}), frozenset({138}), frozenset({139}), frozenset({140}), frozenset({141}), frozenset({143}), frozenset({144}), frozenset({145}), frozenset({146}), frozenset({147}), frozenset({148}), frozenset({149}), frozenset({150}), frozenset({151}), frozenset({152}), frozenset({153}), frozenset({154}), frozenset({155}), frozenset({156}), frozenset({157}), frozenset({158}), frozenset({159}), frozenset({160}), frozenset({161}), frozenset({162}), frozenset({163}), frozenset({164}), frozenset({165}), frozenset({167}), frozenset({168}), frozenset({169}), frozenset({170}), frozenset({171}), frozenset({172}), frozenset({173}), frozenset({174}), frozenset({175}), frozenset({176}), frozenset({177}), frozenset({178}), frozenset({179}), frozenset({180}), frozenset({181}), frozenset({182}), frozenset({183}), frozenset({184}), frozenset({185}), frozenset({186}), frozenset({187}), frozenset({188}), frozenset({189}), frozenset({190}), frozenset({191}), frozenset({192}), frozenset({193}), frozenset({195}), frozenset({196}), frozenset({197}), frozenset({198}), frozenset({199}), frozenset({200}), frozenset({202}), frozenset({203}), frozenset({205}), frozenset({206}), frozenset({208}), frozenset({209}), frozenset({210}), frozenset({211}), frozenset({212}), frozenset({213}), frozenset({214}), frozenset({215}), frozenset({216}), frozenset({217}), frozenset({218}), frozenset({219}), frozenset({220}), frozenset({221}), frozenset({222}), frozenset({223}), frozenset({224}), frozenset({225}), frozenset({226}), frozenset({227}), frozenset({228}), frozenset({229}), frozenset({230}), frozenset({231}), frozenset({232}), frozenset({233}), frozenset({234}), frozenset({235}), frozenset({238}), frozenset({239}), frozenset({240}), frozenset({241}), frozenset({242}), frozenset({243}), frozenset({244}), frozenset({245}), frozenset({246}), frozenset({247}), frozenset({248}), frozenset({249}), frozenset({250}), frozenset({251}), frozenset({252}), frozenset({253}), frozenset({254}), frozenset({255}), frozenset({256}), frozenset({257}), frozenset({258}), frozenset({259}), frozenset({260}), frozenset({261}), frozenset({262}), frozenset({263}), frozenset({265}), frozenset({266}), frozenset({267}), frozenset({268}), frozenset({269}), frozenset({270}), frozenset({271}), frozenset({272}), frozenset({273}), frozenset({274}), frozenset({275}), frozenset({276}), frozenset({277}), frozenset({278}), frozenset({279}), frozenset({280}), frozenset({281}), frozenset({282}), frozenset({283}), frozenset({284}), frozenset({285}), frozenset({286}), frozenset({287}), frozenset({288}), frozenset({289}), frozenset({291}), frozenset({292}), frozenset({293}), frozenset({294}), frozenset({295}), frozenset({296}), frozenset({297}), frozenset({298}), frozenset({299}), frozenset({300}), frozenset({301}), frozenset({302}), frozenset({303}), frozenset({304}), frozenset({305}), frozenset({306}), frozenset({307}), frozenset({308}), frozenset({309}), frozenset({310}), frozenset({311}), frozenset({313}), frozenset({314}), frozenset({315}), frozenset({316}), frozenset({317}), frozenset({318}), frozenset({319}), frozenset({321}), frozenset({322}), frozenset({323}), frozenset({324}), frozenset({325}), frozenset({326}), frozenset({327}), frozenset({328}), frozenset({329}), frozenset({330}), frozenset({331}), frozenset({332}), frozenset({333}), frozenset({334}), frozenset({335}), frozenset({336}), frozenset({337}), frozenset({338}), frozenset({339}), frozenset({340}), frozenset({341}), frozenset({342}), frozenset({343}), frozenset({344}), frozenset({346}), frozenset({347}), frozenset({348}), frozenset({349}), frozenset({350}), frozenset({351}), frozenset({352}), frozenset({353}), frozenset({354}), frozenset({355}), frozenset({356}), frozenset({357}), frozenset({358}), frozenset({359}), frozenset({360}), frozenset({361}), frozenset({362}), frozenset({363}), frozenset({364}), frozenset({365}), frozenset({366}), frozenset({367}), frozenset({368}), frozenset({369}), frozenset({370}), frozenset({371}), frozenset({372}), frozenset({373}), frozenset({374}), frozenset({375}), frozenset({376}), frozenset({377}), frozenset({378}), frozenset({379}), frozenset({380}), frozenset({381}), frozenset({382}), frozenset({383}), frozenset({384}), frozenset({385}), frozenset({386}), frozenset({387}), frozenset({388}), frozenset({389}), frozenset({390}), frozenset({391}), frozenset({392}), frozenset({393}), frozenset({394}), frozenset({395}), frozenset({396}), frozenset({397}), frozenset({398}), frozenset({399}), frozenset({400}), frozenset({401}), frozenset({402}), frozenset({403}), frozenset({404}), frozenset({405}), frozenset({406}), frozenset({407}), frozenset({408}), frozenset({409}), frozenset({410}), frozenset({411}), frozenset({412}), frozenset({413}), frozenset({414}), frozenset({415}), frozenset({416}), frozenset({417}), frozenset({418}), frozenset({419}), frozenset({420}), frozenset({421}), frozenset({422}), frozenset({423}), frozenset({424}), frozenset({425}), frozenset({426}), frozenset({427}), frozenset({428}), frozenset({429}), frozenset({430}), frozenset({431}), frozenset({432}), frozenset({433}), frozenset({434}), frozenset({435}), frozenset({436}), frozenset({437}), frozenset({438}), frozenset({439}), frozenset({440}), frozenset({441}), frozenset({442}), frozenset({443}), frozenset({444}), frozenset({445}), frozenset({447}), frozenset({448}), frozenset({449}), frozenset({450}), frozenset({451}), frozenset({452}), frozenset({453}), frozenset({454}), frozenset({455}), frozenset({456}), frozenset({457}), frozenset({458}), frozenset({459}), frozenset({460}), frozenset({461}), frozenset({462}), frozenset({463}), frozenset({464}), frozenset({465}), frozenset({466}), frozenset({467}), frozenset({468}), frozenset({469}), frozenset({470}), frozenset({471}), frozenset({472}), frozenset({473}), frozenset({474}), frozenset({475}), frozenset({476}), frozenset({477}), frozenset({478}), frozenset({479}), frozenset({480}), frozenset({481}), frozenset({482}), frozenset({483}), frozenset({484}), frozenset({485}), frozenset({486}), frozenset({487}), frozenset({488}), frozenset({489}), frozenset({490}), frozenset({491}), frozenset({492}), frozenset({493}), frozenset({494}), frozenset({496}), frozenset({497}), frozenset({498}), frozenset({499}), frozenset({500}), frozenset({501}), frozenset({502}), frozenset({503}), frozenset({504}), frozenset({505}), frozenset({506}), frozenset({507}), frozenset({508}), frozenset({509}), frozenset({511}), frozenset({512}), frozenset({513}), frozenset({515}), frozenset({516}), frozenset({517}), frozenset({518}), frozenset({519}), frozenset({520}), frozenset({521}), frozenset({522}), frozenset({523}), frozenset({524}), frozenset({525}), frozenset({526}), frozenset({527}), frozenset({528}), frozenset({529}), frozenset({530}), frozenset({531}), frozenset({532}), frozenset({533}), frozenset({534}), frozenset({536}), frozenset({537}), frozenset({538}), frozenset({541}), frozenset({542}), frozenset({543}), frozenset({544}), frozenset({545}), frozenset({546}), frozenset({547}), frozenset({548}), frozenset({549}), frozenset({551}), frozenset({552}), frozenset({553}), frozenset({554}), frozenset({555}), frozenset({556}), frozenset({557}), frozenset({558}), frozenset({559}), frozenset({560}), frozenset({561}), frozenset({562}), frozenset({563}), frozenset({564}), frozenset({565}), frozenset({566}), frozenset({567}), frozenset({568}), frozenset({569}), frozenset({570}), frozenset({571}), frozenset({572}), frozenset({573}), frozenset({574}), frozenset({575}), frozenset({576}), frozenset({577}), frozenset({578}), frozenset({579}), frozenset({580}), frozenset({581}), frozenset({582}), frozenset({583}), frozenset({584}), frozenset({585}), frozenset({586}), frozenset({587}), frozenset({588}), frozenset({589}), frozenset({590}), frozenset({591}), frozenset({592}), frozenset({593}), frozenset({594}), frozenset({595}), frozenset({596}), frozenset({597}), frozenset({598}), frozenset({599}), frozenset({601}), frozenset({603}), frozenset({604}), frozenset({605}), frozenset({606}), frozenset({607}), frozenset({608}), frozenset({609}), frozenset({610}), frozenset({611}), frozenset({612}), frozenset({613}), frozenset({614}), frozenset({615}), frozenset({616}), frozenset({617}), frozenset({618}), frozenset({619}), frozenset({620}), frozenset({621}), frozenset({622}), frozenset({624}), frozenset({625}), frozenset({626}), frozenset({628}), frozenset({629}), frozenset({630}), frozenset({631}), frozenset({632}), frozenset({633}), frozenset({634}), frozenset({635}), frozenset({636}), frozenset({638}), frozenset({639}), frozenset({640}), frozenset({641}), frozenset({642}), frozenset({643}), frozenset({644}), frozenset({646}), frozenset({647}), frozenset({648}), frozenset({649}), frozenset({650}), frozenset({651}), frozenset({653}), frozenset({654}), frozenset({655}), frozenset({656}), frozenset({657}), frozenset({658}), frozenset({659}), frozenset({660}), frozenset({661}), frozenset({662}), frozenset({663}), frozenset({664}), frozenset({665}), frozenset({666}), frozenset({667}), frozenset({668}), frozenset({669}), frozenset({670}), frozenset({671}), frozenset({672}), frozenset({673}), frozenset({675}), frozenset({676}), frozenset({677}), frozenset({678}), frozenset({679}), frozenset({680}), frozenset({681}), frozenset({682}), frozenset({683}), frozenset({684}), frozenset({685}), frozenset({686}), frozenset({687}), frozenset({688}), frozenset({689}), frozenset({691}), frozenset({692}), frozenset({693}), frozenset({694}), frozenset({696}), frozenset({698}), frozenset({699}), frozenset({700}), frozenset({701}), frozenset({702}), frozenset({703}), frozenset({704}), frozenset({705}), frozenset({707}), frozenset({708}), frozenset({709}), frozenset({710}), frozenset({711}), frozenset({712}), frozenset({713}), frozenset({714}), frozenset({715}), frozenset({716}), frozenset({717}), frozenset({719}), frozenset({720}), frozenset({721}), frozenset({722}), frozenset({723}), frozenset({724}), frozenset({725}), frozenset({726}), frozenset({727}), frozenset({728}), frozenset({729}), frozenset({730}), frozenset({731}), frozenset({732}), frozenset({734}), frozenset({735}), frozenset({736}), frozenset({737}), frozenset({739}), frozenset({740}), frozenset({741}), frozenset({742}), frozenset({743}), frozenset({744}), frozenset({745}), frozenset({747}), frozenset({748}), frozenset({749}), frozenset({750}), frozenset({751}), frozenset({752}), frozenset({753}), frozenset({754}), frozenset({755}), frozenset({756}), frozenset({757}), frozenset({758}), frozenset({759}), frozenset({760}), frozenset({761}), frozenset({762}), frozenset({763}), frozenset({765}), frozenset({767}), frozenset({768}), frozenset({769}), frozenset({770}), frozenset({771}), frozenset({772}), frozenset({773}), frozenset({774}), frozenset({775}), frozenset({776}), frozenset({777}), frozenset({778}), frozenset({779}), frozenset({780}), frozenset({782}), frozenset({783}), frozenset({784}), frozenset({785}), frozenset({788}), frozenset({789}), frozenset({790}), frozenset({791}), frozenset({792}), frozenset({793}), frozenset({794}), frozenset({795}), frozenset({796}), frozenset({797}), frozenset({798}), frozenset({799}), frozenset({800}), frozenset({801}), frozenset({802}), frozenset({803}), frozenset({804}), frozenset({805}), frozenset({806}), frozenset({807}), frozenset({808}), frozenset({809}), frozenset({810}), frozenset({811}), frozenset({812}), frozenset({813}), frozenset({814}), frozenset({815}), frozenset({816}), frozenset({817}), frozenset({818}), frozenset({819}), frozenset({820}), frozenset({821}), frozenset({822}), frozenset({823}), frozenset({824}), frozenset({825}), frozenset({826}), frozenset({827}), frozenset({828}), frozenset({829}), frozenset({830}), frozenset({831}), frozenset({832}), frozenset({833}), frozenset({834}), frozenset({835}), frozenset({837}), frozenset({838}), frozenset({840}), frozenset({841}), frozenset({842}), frozenset({843}), frozenset({844}), frozenset({845}), frozenset({846}), frozenset({847}), frozenset({848}), frozenset({849}), frozenset({850}), frozenset({851}), frozenset({852}), frozenset({853}), frozenset({854}), frozenset({855}), frozenset({856}), frozenset({858}), frozenset({859}), frozenset({860}), frozenset({861}), frozenset({862}), frozenset({863}), frozenset({864}), frozenset({865}), frozenset({866}), frozenset({867}), frozenset({868}), frozenset({869}), frozenset({870}), frozenset({871}), frozenset({872}), frozenset({873}), frozenset({874}), frozenset({875}), frozenset({876}), frozenset({877}), frozenset({878}), frozenset({879}), frozenset({880}), frozenset({881}), frozenset({882}), frozenset({883}), frozenset({884}), frozenset({885}), frozenset({886}), frozenset({887}), frozenset({888}), frozenset({889}), frozenset({890}), frozenset({891}), frozenset({892}), frozenset({893}), frozenset({894}), frozenset({895}), frozenset({896}), frozenset({897}), frozenset({898}), frozenset({899}), frozenset({900}), frozenset({901}), frozenset({902}), frozenset({903}), frozenset({904}), frozenset({905}), frozenset({906}), frozenset({907}), frozenset({908}), frozenset({909}), frozenset({910}), frozenset({911}), frozenset({912}), frozenset({913}), frozenset({914}), frozenset({915}), frozenset({916}), frozenset({917}), frozenset({918}), frozenset({920}), frozenset({921}), frozenset({922}), frozenset({923}), frozenset({924}), frozenset({925}), frozenset({926}), frozenset({927}), frozenset({928}), frozenset({929}), frozenset({930}), frozenset({931}), frozenset({933}), frozenset({934}), frozenset({935}), frozenset({936}), frozenset({937}), frozenset({938}), frozenset({939}), frozenset({940}), frozenset({941}), frozenset({942}), frozenset({943}), frozenset({944}), frozenset({945}), frozenset({946}), frozenset({947}), frozenset({948}), frozenset({949}), frozenset({950}), frozenset({951}), frozenset({952}), frozenset({953}), frozenset({954}), frozenset({955}), frozenset({956}), frozenset({959}), frozenset({960}), frozenset({961}), frozenset({962}), frozenset({963}), frozenset({964}), frozenset({965}), frozenset({966}), frozenset({967}), frozenset({968}), frozenset({969}), frozenset({970}), frozenset({971}), frozenset({972}), frozenset({973}), frozenset({974}), frozenset({975}), frozenset({976}), frozenset({977}), frozenset({978}), frozenset({979}), frozenset({980}), frozenset({981}), frozenset({982}), frozenset({983}), frozenset({984}), frozenset({985}), frozenset({986}), frozenset({987}), frozenset({988}), frozenset({989}), frozenset({990}), frozenset({991}), frozenset({992}), frozenset({993}), frozenset({994}), frozenset({995}), frozenset({997}), frozenset({998}), frozenset({999}), frozenset({1000}), frozenset({1001}), frozenset({1002}), frozenset({1003}), frozenset({1006}), frozenset({1007}), frozenset({1008}), frozenset({1009}), frozenset({1010}), frozenset({1011}), frozenset({1012}), frozenset({1013}), frozenset({1014}), frozenset({1015}), frozenset({1016}), frozenset({1017}), frozenset({1018}), frozenset({1020}), frozenset({1021}), frozenset({1022}), frozenset({1023}), frozenset({1024}), frozenset({1025}), frozenset({1026}), frozenset({1027}), frozenset({1028}), frozenset({1029}), frozenset({1030}), frozenset({1031}), frozenset({1032}), frozenset({1034}), frozenset({1035}), frozenset({1036}), frozenset({1037}), frozenset({1038}), frozenset({1039}), frozenset({1040}), frozenset({1042}), frozenset({1044}), frozenset({1045}), frozenset({1046}), frozenset({1049}), frozenset({1050}), frozenset({1051}), frozenset({1052}), frozenset({1053}), frozenset({1054}), frozenset({1055}), frozenset({1056}), frozenset({1057}), frozenset({1058}), frozenset({1059}), frozenset({1060}), frozenset({1061}), frozenset({1062}), frozenset({1063}), frozenset({1064}), frozenset({1065}), frozenset({1066}), frozenset({1067}), frozenset({1068}), frozenset({1069}), frozenset({1070}), frozenset({1071}), frozenset({1072}), frozenset({1073}), frozenset({1074}), frozenset({1075}), frozenset({1076}), frozenset({1077}), frozenset({1079}), frozenset({1080}), frozenset({1081}), frozenset({1082}), frozenset({1083}), frozenset({1084}), frozenset({1085}), frozenset({1086}), frozenset({1087}), frozenset({1088}), frozenset({1089}), frozenset({1090}), frozenset({1091}), frozenset({1092}), frozenset({1093}), frozenset({1094}), frozenset({1095}), frozenset({1096}), frozenset({1097}), frozenset({1098}), frozenset({1101}), frozenset({1102}), frozenset({1103}), frozenset({1104}), frozenset({1105}), frozenset({1106}), frozenset({1107}), frozenset({1108}), frozenset({1109}), frozenset({1110}), frozenset({1111}), frozenset({1112}), frozenset({1113}), frozenset({1114}), frozenset({1115}), frozenset({1116}), frozenset({1117}), frozenset({1118}), frozenset({1119}), frozenset({1120}), frozenset({1121}), frozenset({1122}), frozenset({1123}), frozenset({1124}), frozenset({1125}), frozenset({1126}), frozenset({1128}), frozenset({1129}), frozenset({1130}), frozenset({1131}), frozenset({1132}), frozenset({1133}), frozenset({1134}), frozenset({1135}), frozenset({1136}), frozenset({1137}), frozenset({1138}), frozenset({1139}), frozenset({1140}), frozenset({1141}), frozenset({1142}), frozenset({1143}), frozenset({1144}), frozenset({1145}), frozenset({1146}), frozenset({1147}), frozenset({1148}), frozenset({1149}), frozenset({1151}), frozenset({1152}), frozenset({1153}), frozenset({1155}), frozenset({1156}), frozenset({1158}), frozenset({1159}), frozenset({1160}), frozenset({1161}), frozenset({1162}), frozenset({1163}), frozenset({1164}), frozenset({1165}), frozenset({1166}), frozenset({1167}), frozenset({1168}), frozenset({1169}), frozenset({1170}), frozenset({1171}), frozenset({1172}), frozenset({1173}), frozenset({1174}), frozenset({1175}), frozenset({1176}), frozenset({1177}), frozenset({1178}), frozenset({1179}), frozenset({1180}), frozenset({1181}), frozenset({1182}), frozenset({1183}), frozenset({1184}), frozenset({1185}), frozenset({1186}), frozenset({1187}), frozenset({1188}), frozenset({1189}), frozenset({1190}), frozenset({1191}), frozenset({1192}), frozenset({1193}), frozenset({1194}), frozenset({1195}), frozenset({1196}), frozenset({1197}), frozenset({1198}), frozenset({1200}), frozenset({1201}), frozenset({1202}), frozenset({1204}), frozenset({1205}), frozenset({1206}), frozenset({1207}), frozenset({1208}), frozenset({1209}), frozenset({1210}), frozenset({1211}), frozenset({1212}), frozenset({1213}), frozenset({1215}), frozenset({1216}), frozenset({1217}), frozenset({1218}), frozenset({1219}), frozenset({1220}), frozenset({1221}), frozenset({1223}), frozenset({1224}), frozenset({1225}), frozenset({1226}), frozenset({1228}), frozenset({1229}), frozenset({1230}), frozenset({1232}), frozenset({1233}), frozenset({1234}), frozenset({1235}), frozenset({1236}), frozenset({1237}), frozenset({1239}), frozenset({1240}), frozenset({1241}), frozenset({1242}), frozenset({1243}), frozenset({1245}), frozenset({1246}), frozenset({1247}), frozenset({1248}), frozenset({1251}), frozenset({1252}), frozenset({1253}), frozenset({1255}), frozenset({1256}), frozenset({1257}), frozenset({1258}), frozenset({1259}), frozenset({1260}), frozenset({1261}), frozenset({1262}), frozenset({1263}), frozenset({1264}), frozenset({1265}), frozenset({1268})]\n",
            "[[0, 1236], [1, 1], [2, 1], [3, 1], [4, 1], [5, 1], [6, 1], [7, 1], [8, 1], [9, 1], [10, 1], [11, 1], [12, 1], [13, 1], [14, 1], [15, 1], [16, 1], [17, 1], [18, 1], [19, 1], [20, 1], [21, 1], [22, 1], [23, 1], [24, 1], [25, 1], [26, 1], [27, 1], [28, 1], [29, 1], [30, 1], [31, 1], [32, 1], [33, 1]]\n"
          ],
          "name": "stdout"
        },
        {
          "output_type": "display_data",
          "data": {
            "image/png": "iVBORw0KGgoAAAANSUhEUgAAAYIAAAD4CAYAAADhNOGaAAAABHNCSVQICAgIfAhkiAAAAAlwSFlz\nAAALEgAACxIB0t1+/AAAADh0RVh0U29mdHdhcmUAbWF0cGxvdGxpYiB2ZXJzaW9uMy4xLjIsIGh0\ndHA6Ly9tYXRwbG90bGliLm9yZy8li6FKAAAQg0lEQVR4nO3df4xlZX3H8fenu4KKrcuPCaG72y6t\nmxpKrJItYjSGSKuAxqWJEkhbV0uyNcEWSxMF+wfWxkRbK2piabYFXRIKEsSysbS6AYz1D5ABkZ8q\nUwTZDbCj/FBq1KLf/nGf1cuyM7M79+7cWZ/3K5nc5zznOed852RnPnOec8/dVBWSpH79yqQLkCRN\nlkEgSZ0zCCSpcwaBJHXOIJCkzq2cdAHzOeqoo2rdunWTLkOSDiq33Xbbd6tqal/HL+sgWLduHdPT\n05MuQ5IOKkke2p/xTg1JUucMAknqnEEgSZ0zCCSpcwaBJHXOIJCkzhkEktQ5g0CSOmcQSFLnlvWT\nxaNad8F/zLnuwQ+9cQkrkaTlyysCSeqcQSBJnVswCJJclmRXkruH+v4hyTeS3Jnkc0lWDa27MMlM\nkm8mecNQ/6mtbybJBeP/ViRJi7EvVwSfBk7do287cHxVvQz4FnAhQJLjgLOA323b/FOSFUlWAJ8E\nTgOOA85uYyVJE7ZgEFTVl4HH9+j7YlU90xZvBta09kbgqqr6cVV9G5gBTmxfM1X1QFX9BLiqjZUk\nTdg47hH8GfCfrb0aeHho3Y7WN1f/cyTZnGQ6yfTs7OwYypMkzWekIEjyN8AzwBXjKQeqaktVbaiq\nDVNT+/wf7EiSFmnRzxEkeTvwJuCUqqrWvRNYOzRsTetjnn5J0gQt6oogyanAe4A3V9UPh1ZtA85K\ncmiSY4H1wFeBW4H1SY5NcgiDG8rbRitdkjQOC14RJLkSOBk4KskO4CIG7xI6FNieBODmqnpnVd2T\n5GrgXgZTRudW1U/bft4FfAFYAVxWVfccgO9HkrSfFgyCqjp7L92XzjP+g8AH99J/PXD9flUnSTrg\nfLJYkjpnEEhS5wwCSeqcQSBJnTMIJKlzBoEkdc4gkKTOGQSS1DmDQJI6ZxBIUucMAknqnEEgSZ0z\nCCSpcwaBJHXOIJCkzhkEktQ5g0CSOmcQSFLnDAJJ6pxBIEmdMwgkqXMGgSR1ziCQpM4ZBJLUuQWD\nIMllSXYluXuo74gk25Pc314Pb/1J8okkM0nuTHLC0Dab2vj7k2w6MN+OJGl/7csVwaeBU/fouwC4\noarWAze0ZYDTgPXtazNwCQyCA7gIeCVwInDR7vCQJE3WgkFQVV8GHt+jeyOwtbW3AmcM9V9eAzcD\nq5IcA7wB2F5Vj1fVE8B2nhsukqQJWOw9gqOr6pHWfhQ4urVXAw8PjdvR+ubqf44km5NMJ5menZ1d\nZHmSpH018s3iqiqgxlDL7v1tqaoNVbVhampqXLuVJM1hsUHwWJvyob3uav07gbVD49a0vrn6JUkT\nttgg2AbsfufPJuC6of63tXcPnQQ81aaQvgC8Psnh7Sbx61ufJGnCVi40IMmVwMnAUUl2MHj3z4eA\nq5OcAzwEnNmGXw+cDswAPwTeAVBVjyf5O+DWNu4DVbXnDWhJ0gQsGARVdfYcq07Zy9gCzp1jP5cB\nl+1XdZKkA84niyWpcwaBJHXOIJCkzhkEktQ5g0CSOmcQSFLnDAJJ6pxBIEmdMwgkqXMGgSR1ziCQ\npM4ZBJLUOYNAkjpnEEhS5wwCSeqcQSBJnTMIJKlzBoEkdc4gkKTOGQSS1DmDQJI6ZxBIUucMAknq\nnEEgSZ0zCCSpcyMFQZK/SnJPkruTXJnk+UmOTXJLkpkkn0lySBt7aFueaevXjeMbkCSNZtFBkGQ1\n8JfAhqo6HlgBnAV8GLi4ql4CPAGc0zY5B3ii9V/cxkmSJmzUqaGVwAuSrAReCDwCvA64pq3fCpzR\n2hvbMm39KUky4vElSSNadBBU1U7gI8B3GATAU8BtwJNV9UwbtgNY3dqrgYfbts+08Ufuud8km5NM\nJ5menZ1dbHmSpH00ytTQ4Qz+yj8W+HXgMODUUQuqqi1VtaGqNkxNTY26O0nSAkaZGvoD4NtVNVtV\n/wdcC7waWNWmigDWADtbeyewFqCtfzHwvRGOL0kag1GC4DvASUle2Ob6TwHuBW4C3tLGbAKua+1t\nbZm2/saqqhGOL0kag1HuEdzC4Kbv7cBdbV9bgPcC5yeZYXAP4NK2yaXAka3/fOCCEeqWJI3JyoWH\nzK2qLgIu2qP7AeDEvYz9EfDWUY4nSRo/nyyWpM4ZBJLUOYNAkjpnEEhS5wwCSeqcQSBJnTMIJKlz\nBoEkdc4gkKTOGQSS1DmDQJI6ZxBIUucMAknqnEEgSZ0zCCSpcwaBJHXOIJCkzhkEktQ5g0CSOmcQ\nSFLnDAJJ6pxBIEmdMwgkqXMGgSR1bqQgSLIqyTVJvpHkviSvSnJEku1J7m+vh7exSfKJJDNJ7kxy\nwni+BUnSKEa9Ivg48F9V9VLg94D7gAuAG6pqPXBDWwY4DVjfvjYDl4x4bEnSGCw6CJK8GHgtcClA\nVf2kqp4ENgJb27CtwBmtvRG4vAZuBlYlOWbRlUuSxmKUK4JjgVngU0m+luRfkxwGHF1Vj7QxjwJH\nt/Zq4OGh7Xe0vmdJsjnJdJLp2dnZEcqTJO2LUYJgJXACcElVvQL4X34xDQRAVRVQ+7PTqtpSVRuq\nasPU1NQI5UmS9sUoQbAD2FFVt7TlaxgEw2O7p3za6662fiewdmj7Na1PkjRBiw6CqnoUeDjJ77Su\nU4B7gW3Apta3CbiutbcBb2vvHjoJeGpoCkmSNCErR9z+L4ArkhwCPAC8g0G4XJ3kHOAh4Mw29nrg\ndGAG+GEbK0masJGCoKruADbsZdUpexlbwLmjHE+SNH4+WSxJnTMIJKlzBoEkdc4gkKTOGQSS1DmD\nQJI6ZxBIUucMAknqnEEgSZ0zCCSpcwaBJHXOIJCkzhkEktQ5g0CSOmcQSFLnDAJJ6pxBIEmdMwgk\nqXMGgSR1ziCQpM4ZBJLUOYNAkjpnEEhS5wwCSeqcQSBJnRs5CJKsSPK1JJ9vy8cmuSXJTJLPJDmk\n9R/almfa+nWjHluSNLpxXBGcB9w3tPxh4OKqegnwBHBO6z8HeKL1X9zGSZImbKQgSLIGeCPwr205\nwOuAa9qQrcAZrb2xLdPWn9LGS5ImaNQrgo8B7wF+1paPBJ6sqmfa8g5gdWuvBh4GaOufauOfJcnm\nJNNJpmdnZ0csT5K0kEUHQZI3Abuq6rYx1kNVbamqDVW1YWpqapy7liTtxcoRtn018OYkpwPPB34N\n+DiwKsnK9lf/GmBnG78TWAvsSLISeDHwvRGOL0kag0VfEVTVhVW1pqrWAWcBN1bVHwM3AW9pwzYB\n17X2trZMW39jVdVijy9JGo8D8RzBe4Hzk8wwuAdwaeu/FDiy9Z8PXHAAji1J2k+jTA39XFV9CfhS\naz8AnLiXMT8C3jqO40mSxscniyWpcwaBJHXOIJCkzhkEktQ5g0CSOmcQSFLnDAJJ6pxBIEmdMwgk\nqXMGgSR1ziCQpM4ZBJLUOYNAkjpnEEhS5wwCSeqcQSBJnTMIJKlzBoEkdc4gkKTOGQSS1DmDQJI6\nZxBIUucMAknqnEEgSZ1bdBAkWZvkpiT3JrknyXmt/4gk25Pc314Pb/1J8okkM0nuTHLCuL4JSdLi\njXJF8Azw11V1HHAScG6S44ALgBuqaj1wQ1sGOA1Y3742A5eMcGxJ0pgsOgiq6pGqur21fwDcB6wG\nNgJb27CtwBmtvRG4vAZuBlYlOWbRlUuSxmIs9wiSrANeAdwCHF1Vj7RVjwJHt/Zq4OGhzXa0vj33\ntTnJdJLp2dnZcZQnSZrHyEGQ5EXAZ4F3V9X3h9dVVQG1P/urqi1VtaGqNkxNTY1aniRpASMFQZLn\nMQiBK6rq2tb92O4pn/a6q/XvBNYObb6m9UmSJmiUdw0FuBS4r6o+OrRqG7CptTcB1w31v629e+gk\n4KmhKSRJ0oSsHGHbVwN/CtyV5I7W9z7gQ8DVSc4BHgLObOuuB04HZoAfAu8Y4diSpDFZdBBU1VeA\nzLH6lL2ML+DcxR5PknRg+GSxJHXOIJCkzhkEktQ5g0CSOmcQSFLnDAJJ6pxBIEmdMwgkqXMGgSR1\nziCQpM4ZBJLUOYNAkjpnEEhS5wwCSeqcQSBJnTMIJKlzBoEkdc4gkKTOGQSS1DmDQJI6ZxBIUucM\nAknqnEEgSZ0zCCSpcwaBJHVuyYMgyalJvplkJskFS318SdKzLWkQJFkBfBI4DTgOODvJcUtZgyTp\n2Zb6iuBEYKaqHqiqnwBXARuXuAZJ0pCVS3y81cDDQ8s7gFcOD0iyGdjcFp9O8s0xHfso4Ls/P86H\nx7TXA+tZNR8krHlpWPPSOFhr/s392WCpg2BBVbUF2DLu/SaZrqoN497vgWTNS8Oal4Y1L41W87r9\n2Wapp4Z2AmuHlte0PknShCx1ENwKrE9ybJJDgLOAbUtcgyRpyJJODVXVM0neBXwBWAFcVlX3LNHh\nxz7dtASseWlY89Kw5qWx3zWnqg5EIZKkg4RPFktS5wwCSepcF0FwMH6sRZIHk9yV5I4k05OuZ2+S\nXJZkV5K7h/qOSLI9yf3t9fBJ1rinOWp+f5Kd7VzfkeT0Sda4pyRrk9yU5N4k9yQ5r/Uv23M9T83L\n9lwneX6Sryb5eqv5b1v/sUluab8/PtPe6LIszFPzp5N8e+g8v3ze/fyy3yNoH2vxLeAPGTzAditw\ndlXdO9HCFpDkQWBDVS3bh1mSvBZ4Gri8qo5vfX8PPF5VH2qhe3hVvXeSdQ6bo+b3A09X1UcmWdtc\nkhwDHFNVtyf5VeA24Azg7SzTcz1PzWeyTM91kgCHVdXTSZ4HfAU4DzgfuLaqrkryz8DXq+qSSda6\n2zw1vxP4fFVdsy/76eGKwI+1OECq6svA43t0bwS2tvZWBj/8y8YcNS9rVfVIVd3e2j8A7mPwlP6y\nPdfz1Lxs1cDTbfF57auA1wG7f6Eut/M8V837pYcg2NvHWizrf5BNAV9Mclv72I2DxdFV9UhrPwoc\nPcli9sO7ktzZpo6WzRTLnpKsA14B3MJBcq73qBmW8blOsiLJHcAuYDvwP8CTVfVMG7Lsfn/sWXNV\n7T7PH2zn+eIkh863jx6C4GD1mqo6gcEntZ7bpjQOKjWYdzwY5h4vAX4beDnwCPCPky1n75K8CPgs\n8O6q+v7wuuV6rvdS87I+11X106p6OYNPPTgReOmES1rQnjUnOR64kEHtvw8cAcw7ZdhDEByUH2tR\nVTvb6y7gcwz+UR4MHmvzw7vniXdNuJ4FVdVj7YfpZ8C/sAzPdZv//SxwRVVd27qX9bneW80Hw7kG\nqKongZuAVwGrkux++HbZ/v4YqvnUNjVXVfVj4FMscJ57CIKD7mMtkhzWbrCR5DDg9cDd82+1bGwD\nNrX2JuC6CdayT3b/Mm3+iGV2rtsNwUuB+6rqo0Orlu25nqvm5Xyuk0wlWdXaL2DwBpP7GPxyfUsb\nttzO895q/sbQHwhhcE9j3vP8S/+uIYD2FrWP8YuPtfjghEuaV5LfYnAVAIOPAfm35VhzkiuBkxl8\n7O1jwEXAvwNXA78BPAScWVXL5ubsHDWfzGCqooAHgT8fmnufuCSvAf4buAv4Wet+H4M592V5ruep\n+WyW6blO8jIGN4NXMPgj+eqq+kD7ebyKwRTL14A/aX9pT9w8Nd8ITAEB7gDeOXRT+bn76SEIJElz\n62FqSJI0D4NAkjpnEEhS5wwCSeqcQSBJnTMIJKlzBoEkde7/Af266vzLaeGRAAAAAElFTkSuQmCC\n",
            "text/plain": [
              "<Figure size 432x288 with 1 Axes>"
            ]
          },
          "metadata": {
            "tags": []
          }
        }
=======
     "data": {
      "image/png": "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\n",
      "text/plain": [
       "<Figure size 432x288 with 1 Axes>"
>>>>>>> Stashed changes
      ]
     },
     "metadata": {},
     "output_type": "display_data"
    },
    {
<<<<<<< Updated upstream
      "cell_type": "markdown",
      "metadata": {
        "id": "x5QgWg4iAv1a",
        "colab_type": "text"
      },
      "source": [
        "* Highly unbalanced"
      ]
    },
    {
      "cell_type": "code",
      "metadata": {
        "id": "wHxmEvbfK5eA",
        "colab_type": "code",
        "colab": {}
      },
      "source": [
        "# Testing Clique community detection (Strong Assumption) ...\n",
        "clique_c = node_candidates_clique(G,n_cliques =200)\n",
        "clique_c\n"
      ],
      "execution_count": 0,
      "outputs": []
    },
    {
      "cell_type": "markdown",
      "metadata": {
        "id": "2nQkteB9A2Wu",
        "colab_type": "text"
      },
      "source": [
        "* Memory overflow "
      ]
    },
    {
      "cell_type": "code",
      "metadata": {
        "id": "OfawFYtoRerO",
        "colab_type": "code",
        "colab": {}
      },
      "source": [
        "from networkx import edge_betweenness_centrality as betweenness\n",
        "def most_central_edge(G):\n",
        "    centrality = betweenness(G, weight='weight')\n",
        "    return max(centrality, key=centrality.get)\n",
        "\n",
        "\n",
        "comp = girvan_newman(G, most_valuable_edge=most_central_edge)\n",
        "tuple(sorted(c) for c in next(comp))\n"
      ],
      "execution_count": 0,
      "outputs": []
    },
    {
      "cell_type": "code",
      "metadata": {
        "id": "6cyiFI1QK53S",
        "colab_type": "code",
        "outputId": "03589a9f-fbe5-4d30-a72c-a72dc5feb3c0",
        "colab": {
          "base_uri": "https://localhost:8080/",
          "height": 34
        }
      },
      "source": [
        "# Testing ranking candidate ... \n",
        "v,p = ranking_candidate(G, [5], [2,3,6,7])\n",
        "print(v,p)"
      ],
      "execution_count": 0,
      "outputs": [
        {
          "output_type": "stream",
          "text": [
            "[7, 2, 3, 6] {7: 15.4, 2: 4.4, 3: 4.4, 6: 4.4}\n"
          ],
          "name": "stdout"
        }
      ]
    },
    {
      "cell_type": "markdown",
      "metadata": {
        "id": "SwbaLBLcS0Tc",
        "colab_type": "text"
      },
      "source": [
        "### 6- System Evaluation ..."
=======
     "data": {
      "text/plain": [
       "<Figure size 1224x216 with 0 Axes>"
>>>>>>> Stashed changes
      ]
     },
     "metadata": {},
     "output_type": "display_data"
    }
   ],
   "source": [
    "# Plotting graph ...\n",
    "G.add_nodes_from(list(range(m)))\n",
    "nx.draw(G, with_labels=True)\n",
    "plt.figure(figsize=(17,3))\n",
    "plt.show()\n",
    "\n"
   ]
  },
  {
   "cell_type": "markdown",
   "metadata": {
    "colab_type": "text",
    "id": "YTCyeq8EPrpX"
   },
   "source": [
    "### 4- Network  Analysis ... "
   ]
  },
  {
   "cell_type": "code",
   "execution_count": 11,
   "metadata": {
    "colab": {
     "base_uri": "https://localhost:8080/",
     "height": 119
    },
    "colab_type": "code",
    "id": "tBNFXpBoP1HQ",
    "outputId": "3e9cdef7-c932-4c00-cb84-b1ffff9873ec"
   },
   "outputs": [
    {
     "name": "stdout",
     "output_type": "stream",
     "text": [
      "Number of Edges 490158\n",
      "Number of Node 1269\n",
      "Graph Max Degree  1194\n",
      "Graph Min Degree  0\n",
      "Graph Mean Degree  773\n",
      "Graph Density  0.61\n"
     ]
    }
   ],
   "source": [
    "# Global Network Analysis ...\n",
    "n_edges = G.number_of_edges()\n",
    "n_nodes = G.number_of_nodes()\n",
    "#g_diameter = nx.diameter(G)\n",
    "g_degree = nx.degree(G)\n",
    "g_max_degree = max( [ x[1] for x in  g_degree ] )\n",
    "g_min_degree = min( [ x[1] for x in  g_degree ] )\n",
    "g_avg_degree = math.ceil(stats.mean( [ x[1] for x in  g_degree ] ))\n",
    "g_density = round(nx.density(G),2)\n",
    "\n",
    "print(\"Number of Edges\", n_edges )\n",
    "print(\"Number of Node\", n_nodes)\n",
    "#print(\"Graph Diameter\", g_diameter)\n",
    "print(\"Graph Max Degree \",g_max_degree  )\n",
    "print(\"Graph Min Degree \",g_min_degree  )\n",
    "print(\"Graph Mean Degree \",g_avg_degree  )\n",
    "print(\"Graph Density \", g_density)\n",
    "\n",
    "# Local Network Analysis ... \n",
    "\n"
   ]
  },
  {
   "cell_type": "markdown",
   "metadata": {
    "colab_type": "text",
    "id": "VuVa4fBrQ7F7"
   },
   "source": [
    "### 5- Recommendation System Implementation ..."
   ]
  },
  {
   "cell_type": "code",
   "execution_count": 0,
   "metadata": {
    "colab": {},
    "colab_type": "code",
    "id": "wM1yw-ZAcStH"
   },
   "outputs": [],
   "source": [
    "# Selecting matching candidates per the book(s) read ... \n",
    "def detect_communities(G):\n",
    "  community_ = node_candidates_girvan_newman(G)\n",
    "  return community_ , _reverse_key_value( community_),community.modularity(community_, G )\n",
    "\n",
    "\n",
    "def node_candidates_girvan_newman(G):\n",
    "  community_ = community.best_partition(G,weight='weight', random_state= 1)\n",
    "  return community_\n",
    "\n",
    "def node_candidates_greedy(G):\n",
    "  greedy_com=list(greedy_modularity_communities(G, weight=\"weight\"))\n",
    "  return greedy_com\n",
    "\n",
    "def node_candidates_clique(G, n_cliques = 3):\n",
    "  clique_com = list(k_clique_communities(G, n_cliques))\n",
    "  return clique_com\n",
    "\n",
    "def node_candidates(community,list_read, nb_candidates = 10):\n",
    "  rv_community = _reverse_key_value( community)\n",
    "  tmp = list()\n",
    "  for one_read in list_read :\n",
    "    tmp.append(community[one_read])\n",
    "\n",
    "  nb_elem = len(tmp)\n",
    "  counter=collections.Counter(tmp)\n",
    "  freq_tmp =  dict(counter)\n",
    "  result = list()\n",
    "  for k,v in freq_tmp.items():\n",
    "    nb_items = int((v/nb_elem) * nb_candidates)\n",
    "    l2 = random.sample(rv_community[k], k=nb_items)\n",
    "    result = [*result, *l2]\n",
    "  return result \n",
    "\n",
    "# Ranking candidates ( google index based ranking No dead end trap and )...\n",
    "def ranking_candidate(G, list_read, list_candidate ):\n",
    "  assert(type(list_candidate)  == list)\n",
    "  assert(type(list_read) == list )\n",
    "\n",
    "  # remove  list_read from candidate \n",
    "  list_candidate =  [x for x in list_candidate if x not in list_read]\n",
    "  # Plot the subgrah of the articles read + candidates \n",
    "  combined = list_read + list_candidate\n",
    "  print(combined)\n",
    "  H = G.subgraph(combined)\n",
    "  print(H)\n",
    "  nx.draw(H, with_labels=True)\n",
    "  plt.figure(figsize=(17,3))\n",
    "  plt.show()\n",
    "  # Ranking based on proximity measure\n",
    "  #print(G.number_of_edges(1,7))\n",
    "  # Compute edge betweeness centrality in the Subgraph \n",
    "  all_edge_betweeness = edge_betweenness_centrality(H,weight=\"weight\") \n",
    "  #print(edge_betweenness_centrality(H,weight=\"weight\") )\n",
    "  # Compute weighted  betweeness score for each candidates (nodes )  ...\n",
    "  for edge in all_edge_betweeness:\n",
    "    score = all_edge_betweeness[edge]\n",
    "    H.nodes[edge[0]][\"betweeness_score\"] = (0 if  \"betweeness_score\" not in  H.nodes[edge[0]] else H.nodes[edge[0]][\"betweeness_score\"]) +  score\n",
    "    H.nodes[edge[1]][\"betweeness_score\"] = (0 if  \"betweeness_score\" not in  H.nodes[edge[1]] else H.nodes[edge[1]][\"betweeness_score\"]) +  score\n",
    "  \n",
    "  result = dict()\n",
    "  for candidate in list_candidate :\n",
    "    if \"betweeness_score\" in  H.nodes[candidate]:\n",
    "      result[candidate] = round( H.nodes[candidate][\"betweeness_score\"],3)\n",
    "    else:\n",
    "      result[candidate] = 0\n",
    "  \n",
    "  # Sort candidate in Descending order according to w\n",
    "  sorted_result = {k: v for k, v in sorted(result.items(), key=lambda item: item[1],reverse=True )}\n",
    "  return list(sorted_result.keys()), sorted_result\n",
    "\n",
    "#all_communities,_,_ = detect_communities(G)\n",
    "#node_candidates(all_communities,[4,5,6,7,8,9,1,2], nb_candidates = 100)"
   ]
  },
  {
   "cell_type": "code",
   "execution_count": 13,
   "metadata": {
    "colab": {
     "base_uri": "https://localhost:8080/",
     "height": 373
    },
    "colab_type": "code",
    "id": "XrzXFdZuKP5r",
    "outputId": "79ff9d40-3431-4751-9173-3e1147a50da7"
   },
   "outputs": [
    {
     "name": "stdout",
     "output_type": "stream",
     "text": [
      "modularity_score 0.12828382669842328\n",
      "{\"0\": [0, 4, 5, 12, 16, 17, 18, 19, 25, 28, 31, 35, 36, 38, 43, 44, 45, 46, 49, 53, 55, 56, 57, 60, 61, 62, 63, 65, 67, 68, 69, 73, 76, 78, 86, 89, 93, 95, 96, 98, 100, 101, 103, 104, 106, 109, 110, 111, 114, 120, 121, 125, 132, 137, 138, 140, 142, 143, 144, 147, 148, 152, 158, 166, 169, 171, 172, 174, 179, 180, 181, 182, 188, 192, 194, 196, 197, 204, 210, 211, 215, 217, 219, 220, 222, 225, 226, 228, 229, 230, 231, 233, 237, 240, 242, 248, 249, 250, 252, 254, 257, 258, 259, 260, 261, 262, 263, 264, 266, 269, 278, 279, 286, 287, 289, 290, 295, 296, 297, 301, 302, 312, 315, 318, 319, 320, 324, 326, 327, 335, 340, 343, 344, 354, 356, 357, 365, 366, 370, 372, 374, 377, 383, 384, 387, 388, 395, 398, 401, 405, 408, 412, 413, 415, 417, 418, 419, 423, 425, 427, 429, 431, 433, 437, 439, 440, 459, 460, 465, 466, 474, 477, 478, 481, 482, 485, 486, 495, 496, 501, 502, 503, 504, 509, 514, 515, 518, 524, 526, 527, 530, 532, 540, 550, 551, 552, 555, 556, 558, 559, 562, 563, 565, 566, 568, 573, 575, 579, 581, 583, 584, 585, 586, 588, 589, 590, 593, 595, 597, 599, 600, 608, 612, 613, 615, 620, 621, 622, 623, 624, 626, 627, 630, 631, 632, 635, 638, 644, 645, 646, 648, 649, 657, 666, 667, 669, 671, 678, 683, 684, 687, 690, 692, 695, 697, 704, 705, 706, 707, 708, 710, 712, 716, 717, 718, 719, 721, 728, 736, 743, 762, 763, 765, 768, 771, 774, 777, 780, 781, 783, 786, 791, 802, 803, 806, 810, 814, 823, 827, 831, 832, 834, 837, 841, 842, 843, 845, 850, 851, 852, 853, 857, 863, 865, 868, 870, 873, 874, 878, 881, 882, 884, 885, 886, 888, 890, 893, 894, 898, 901, 902, 903, 904, 906, 911, 914, 916, 922, 923, 932, 933, 934, 942, 945, 946, 952, 959, 960, 963, 964, 967, 969, 970, 973, 976, 978, 982, 984, 987, 988, 993, 994, 998, 1001, 1004, 1011, 1013, 1014, 1018, 1019, 1020, 1024, 1027, 1028, 1030, 1031, 1034, 1036, 1039, 1040, 1041, 1043, 1048, 1050, 1051, 1052, 1055, 1057, 1059, 1060, 1069, 1071, 1072, 1076, 1078, 1082, 1083, 1084, 1085, 1088, 1089, 1093, 1095, 1097, 1098, 1099, 1100, 1102, 1105, 1119, 1122, 1123, 1125, 1126, 1130, 1131, 1133, 1134, 1139, 1146, 1148, 1152, 1153, 1154, 1155, 1157, 1160, 1161, 1165, 1166, 1167, 1168, 1179, 1181, 1183, 1185, 1186, 1191, 1196, 1198, 1199, 1203, 1210, 1214, 1215, 1216, 1219, 1222, 1225, 1227, 1228, 1230, 1231, 1232, 1236, 1238, 1239, 1241, 1245, 1246, 1251, 1259, 1264, 1267], \"1\": [1, 2, 3, 6, 7, 8, 9, 10, 11, 13, 22, 30, 32, 37, 41, 47, 50, 51, 52, 54, 58, 59, 64, 66, 74, 75, 77, 79, 80, 81, 82, 83, 85, 87, 90, 105, 107, 108, 113, 116, 117, 118, 119, 123, 124, 126, 127, 128, 130, 135, 139, 141, 146, 149, 150, 151, 153, 155, 156, 157, 161, 167, 176, 177, 183, 184, 186, 189, 190, 193, 195, 199, 200, 201, 202, 206, 208, 216, 218, 221, 224, 227, 235, 236, 238, 239, 241, 244, 245, 247, 255, 256, 267, 268, 270, 271, 276, 277, 280, 281, 282, 288, 291, 292, 294, 298, 299, 300, 304, 305, 307, 308, 309, 313, 316, 322, 323, 328, 334, 337, 341, 345, 347, 348, 351, 352, 353, 358, 359, 360, 361, 362, 367, 368, 371, 375, 378, 385, 390, 391, 392, 393, 399, 400, 404, 407, 409, 410, 414, 416, 420, 421, 422, 426, 428, 432, 434, 436, 438, 442, 443, 444, 445, 446, 447, 448, 449, 450, 451, 454, 455, 456, 457, 469, 470, 473, 475, 476, 479, 480, 483, 484, 489, 490, 491, 494, 498, 505, 506, 510, 516, 520, 525, 528, 531, 534, 535, 537, 538, 547, 548, 549, 553, 554, 557, 561, 569, 572, 574, 576, 577, 580, 582, 596, 601, 604, 610, 614, 616, 617, 618, 628, 633, 634, 636, 641, 642, 656, 662, 663, 664, 665, 668, 670, 673, 679, 682, 686, 688, 689, 693, 696, 698, 699, 700, 701, 703, 709, 722, 723, 724, 725, 726, 727, 729, 731, 735, 737, 741, 748, 749, 751, 752, 754, 755, 756, 766, 767, 769, 770, 772, 773, 775, 778, 779, 782, 785, 789, 790, 792, 793, 796, 797, 799, 800, 801, 804, 807, 808, 811, 812, 813, 817, 819, 820, 822, 824, 826, 835, 838, 840, 844, 849, 858, 859, 860, 862, 871, 872, 875, 876, 879, 883, 887, 891, 892, 896, 897, 900, 905, 907, 908, 909, 910, 912, 917, 918, 920, 921, 924, 927, 928, 929, 930, 931, 939, 948, 949, 950, 951, 954, 955, 962, 968, 974, 975, 977, 979, 980, 981, 985, 986, 992, 996, 997, 1005, 1006, 1007, 1009, 1010, 1012, 1016, 1017, 1021, 1022, 1025, 1032, 1033, 1035, 1042, 1045, 1056, 1061, 1062, 1064, 1067, 1068, 1074, 1075, 1090, 1094, 1109, 1110, 1111, 1112, 1114, 1116, 1121, 1124, 1136, 1137, 1141, 1147, 1151, 1159, 1162, 1169, 1170, 1172, 1173, 1175, 1178, 1180, 1182, 1184, 1188, 1189, 1190, 1195, 1202, 1206, 1217, 1218, 1220, 1221, 1224, 1226, 1235, 1243, 1244, 1252, 1256, 1257, 1258, 1262, 1268], \"2\": [14, 15, 24, 26, 27, 29, 39, 40, 42, 70, 71, 94, 102, 112, 129, 134, 136, 145, 154, 164, 168, 170, 175, 198, 205, 232, 243, 246, 251, 265, 273, 283, 284, 285, 293, 311, 325, 338, 339, 342, 355, 379, 380, 382, 386, 397, 411, 424, 452, 458, 488, 493, 497, 507, 508, 517, 533, 539, 543, 546, 571, 658, 702, 715, 753, 788, 839, 846, 848, 880, 925, 953, 956, 991, 1086, 1192, 1194, 1234, 1242, 1265], \"3\": [20, 21, 23, 33, 34, 48, 88, 91, 97, 99, 115, 131, 133, 160, 162, 163, 165, 173, 178, 185, 187, 191, 203, 207, 212, 213, 223, 234, 253, 272, 274, 275, 303, 310, 314, 317, 321, 329, 330, 331, 332, 333, 336, 346, 350, 363, 364, 369, 373, 381, 394, 396, 402, 403, 406, 435, 441, 453, 461, 462, 463, 464, 467, 471, 472, 487, 499, 500, 513, 519, 522, 523, 529, 536, 541, 542, 544, 545, 560, 564, 567, 570, 587, 591, 592, 594, 598, 602, 603, 605, 606, 607, 609, 625, 629, 637, 639, 640, 647, 650, 651, 653, 654, 655, 659, 661, 672, 674, 675, 676, 680, 691, 694, 711, 713, 730, 732, 733, 738, 739, 740, 742, 745, 746, 747, 750, 757, 758, 759, 760, 761, 764, 784, 787, 805, 816, 818, 821, 825, 828, 830, 833, 847, 854, 861, 864, 866, 869, 877, 889, 895, 899, 913, 915, 919, 926, 935, 936, 937, 938, 940, 943, 944, 947, 957, 958, 965, 966, 971, 972, 983, 989, 990, 999, 1002, 1003, 1008, 1015, 1023, 1026, 1029, 1038, 1044, 1046, 1047, 1053, 1054, 1058, 1065, 1066, 1070, 1077, 1079, 1081, 1087, 1091, 1092, 1096, 1101, 1104, 1107, 1108, 1127, 1128, 1129, 1132, 1138, 1140, 1150, 1158, 1163, 1164, 1174, 1176, 1177, 1187, 1197, 1201, 1207, 1208, 1209, 1233, 1249, 1250, 1254], \"4\": [72, 84, 92, 122, 159, 209, 214, 306, 349, 376, 389, 430, 468, 492, 511, 512, 521, 578, 611, 619, 643, 652, 660, 677, 685, 714, 720, 734, 744, 794, 795, 798, 815, 829, 836, 855, 856, 867, 941, 961, 1000, 1037, 1049, 1063, 1106, 1113, 1205, 1211, 1237, 1247, 1266], \"5\": [681], \"6\": [776], \"7\": [809], \"8\": [995], \"9\": [1073], \"10\": [1080], \"11\": [1103], \"12\": [1115], \"13\": [1117], \"14\": [1118], \"15\": [1120], \"16\": [1135], \"17\": [1142], \"18\": [1143], \"19\": [1144], \"20\": [1145], \"21\": [1149], \"22\": [1156], \"23\": [1171], \"24\": [1193], \"25\": [1200], \"26\": [1204], \"27\": [1212], \"28\": [1213], \"29\": [1223], \"30\": [1229], \"31\": [1240], \"32\": [1248], \"33\": [1253], \"34\": [1255], \"35\": [1260], \"36\": [1261], \"37\": [1263]}\n"
     ]
    },
    {
<<<<<<< Updated upstream
      "cell_type": "code",
      "metadata": {
        "id": "9f59K3aH-DnK",
        "colab_type": "code",
        "outputId": "7885e83d-7aed-4d63-ad3f-63c0e5ddc84e",
        "colab": {
          "base_uri": "https://localhost:8080/",
          "height": 1000
        }
      },
      "source": [
        "book_read_id = None \n",
        "n_nodes = G.number_of_nodes()\n",
        "list_read = list()\n",
        "while True:\n",
        "  book_read_id = input(\"What book have you read <Enter END to exit>: \")\n",
        "  if book_read_id.upper().strip() == \"END\":\n",
        "    break\n",
        "  elif is_positive_integer(book_read_id) is True: \n",
        "    if int(book_read_id)  in range(n_nodes) :\n",
        "      list_read.append(int(book_read_id))\n",
        "    else:\n",
        "       print(\"Invalid Input. book_id selected does not exists \")\n",
        "  else:\n",
        "    print(\"Invalid Input. Positive Number Expected \")\n",
        "\n",
        "\n",
        "# Recommendation ...\n",
        "list_read =  list(set(list_read))\n",
        "print(\"\\n\\nYou have read {} Articles : [ {} ]\".format( str(len(list_read)), str(list_read) ) )\n",
        "\n",
        "if(len(list_read) == 0 ):\n",
        "  raise Exception(\"No Articles provided \")\n",
        "print(\"\\nRecommendation \")\n",
        "print(\"---------------\")\n",
        "\n",
        "lst_neighbors = node_candidates(all_communities,list_read, nb_candidates = 20)\n",
        "sorted_node , ranking_index = ranking_candidate(G, list_read, lst_neighbors)\n",
        "\n",
        "\n",
        "result_df = pd.DataFrame(columns=[\"Id\",\"Score\",\"Title\"])\n",
        "i = 0 \n",
        "for n in sorted_node:\n",
        "  result_df.loc[i, \"Id\"] = n\n",
        "  result_df.loc[i, \"Score\"] = ranking_index[n]\n",
        "  result_df.loc[i, \"Title\"] = str(G.nodes[n][\"title\"]).strip()\n",
        "  #print(\"id: \",n,\" | \", ranking_index[n], \"| Title:\",G.nodes[n][\"title\"])\n",
        "  i+=1\n",
        "\n",
        "pd.set_option(\"display.max_colwidth\",800)\n",
        "result_df\n",
        "\n",
        "# Be careful with with stop word elimination since there are some docs in english and french \n",
        "#30  |  0.22 | Title: Exploration et analyses multi-objectifs de séries temporelles de données météorologiques\n",
        "#14  |  0.02 | Title: Community structure in complex networks\n",
        " "
      ],
      "execution_count": 0,
      "outputs": [
        {
          "output_type": "stream",
          "text": [
            "What book have you read <Enter END to exit>: 2\n",
            "What book have you read <Enter END to exit>: 45\n",
            "What book have you read <Enter END to exit>: 67\n",
            "What book have you read <Enter END to exit>: end\n",
            "\n",
            "\n",
            "You have read 3 Articles : [ [2, 67, 45] ]\n",
            "\n",
            "Recommendation \n",
            "---------------\n",
            "[2, 67, 45, 879, 778, 1190, 547, 316, 268, 324, 814, 878, 874, 780, 1031, 415, 514, 558, 1168, 888, 192, 103]\n",
            "\n"
          ],
          "name": "stdout"
        },
        {
          "output_type": "display_data",
          "data": {
            "image/png": "iVBORw0KGgoAAAANSUhEUgAAAb4AAAEuCAYAAADx63eqAAAABHNCSVQICAgIfAhkiAAAAAlwSFlz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\nAOAofwJqW7AkzcAcFAAAAABJRU5ErkJggg==\n",
            "text/plain": [
              "<Figure size 432x288 with 1 Axes>"
            ]
          },
          "metadata": {
            "tags": []
          }
        },
        {
          "output_type": "display_data",
          "data": {
            "text/plain": [
              "<Figure size 1224x216 with 0 Axes>"
            ]
          },
          "metadata": {
            "tags": []
          }
        },
        {
          "output_type": "execute_result",
          "data": {
            "text/html": [
              "<div>\n",
              "<style scoped>\n",
              "    .dataframe tbody tr th:only-of-type {\n",
              "        vertical-align: middle;\n",
              "    }\n",
              "\n",
              "    .dataframe tbody tr th {\n",
              "        vertical-align: top;\n",
              "    }\n",
              "\n",
              "    .dataframe thead th {\n",
              "        text-align: right;\n",
              "    }\n",
              "</style>\n",
              "<table border=\"1\" class=\"dataframe\">\n",
              "  <thead>\n",
              "    <tr style=\"text-align: right;\">\n",
              "      <th></th>\n",
              "      <th>Id</th>\n",
              "      <th>Score</th>\n",
              "      <th>Title</th>\n",
              "    </tr>\n",
              "  </thead>\n",
              "  <tbody>\n",
              "    <tr>\n",
              "      <th>0</th>\n",
              "      <td>814</td>\n",
              "      <td>0.238</td>\n",
              "      <td>Conception de systèmes d'information spatio-temporelle adaptatifs avec ASTIS</td>\n",
              "    </tr>\n",
              "    <tr>\n",
              "      <th>1</th>\n",
              "      <td>103</td>\n",
              "      <td>0.195</td>\n",
              "      <td>Faciliter les contributions personnelles pour préserver la mémoire des événements historiques</td>\n",
              "    </tr>\n",
              "    <tr>\n",
              "      <th>2</th>\n",
              "      <td>268</td>\n",
              "      <td>0.176</td>\n",
              "      <td>Modèle de Biclustering dans un paradigme \"Mapreduce\"</td>\n",
              "    </tr>\n",
              "    <tr>\n",
              "      <th>3</th>\n",
              "      <td>780</td>\n",
              "      <td>0.16</td>\n",
              "      <td>RDBToOnto : un logiciel dédié à l'apprentissage d'ontologies à partir de bases de données relationnelles</td>\n",
              "    </tr>\n",
              "    <tr>\n",
              "      <th>4</th>\n",
              "      <td>1168</td>\n",
              "      <td>0.16</td>\n",
              "      <td>Restructuration automatique de documents dans les corpus semi-structurés hétérogènes</td>\n",
              "    </tr>\n",
              "    <tr>\n",
              "      <th>5</th>\n",
              "      <td>874</td>\n",
              "      <td>0.152</td>\n",
              "      <td>SOM pour la Classification Automatique Non supervisée de Documents Textuels basés sur Wordnet</td>\n",
              "    </tr>\n",
              "    <tr>\n",
              "      <th>6</th>\n",
              "      <td>888</td>\n",
              "      <td>0.152</td>\n",
              "      <td>Une approche ontologique pour automatiser le contrôle de conformité dans le domaine du bâtiment</td>\n",
              "    </tr>\n",
              "    <tr>\n",
              "      <th>7</th>\n",
              "      <td>1190</td>\n",
              "      <td>0.145</td>\n",
              "      <td>Accélération de EM pour données qualitatives : études comparative de différentes versions</td>\n",
              "    </tr>\n",
              "    <tr>\n",
              "      <th>8</th>\n",
              "      <td>878</td>\n",
              "      <td>0.143</td>\n",
              "      <td>Système multi-agent argumentatif pour la classification des connaissances cruciales</td>\n",
              "    </tr>\n",
              "    <tr>\n",
              "      <th>9</th>\n",
              "      <td>316</td>\n",
              "      <td>0.141</td>\n",
              "      <td>Construction de cube OLAP à partir d'un entrepôt de données orienté colonnes</td>\n",
              "    </tr>\n",
              "    <tr>\n",
              "      <th>10</th>\n",
              "      <td>879</td>\n",
              "      <td>0.134</td>\n",
              "      <td>Un algorithme de classification topographique non supervisée à deux niveaux simultanés</td>\n",
              "    </tr>\n",
              "    <tr>\n",
              "      <th>11</th>\n",
              "      <td>547</td>\n",
              "      <td>0.134</td>\n",
              "      <td>Intégration de données haptiques brutes dans des systèmes experts de diagnostic des connaissances</td>\n",
              "    </tr>\n",
              "    <tr>\n",
              "      <th>12</th>\n",
              "      <td>1031</td>\n",
              "      <td>0.134</td>\n",
              "      <td>Enrichissement d'ontologies dans le secteur de l'eau douce en environnement Internet distribué et multilingue</td>\n",
              "    </tr>\n",
              "    <tr>\n",
              "      <th>13</th>\n",
              "      <td>415</td>\n",
              "      <td>0.126</td>\n",
              "      <td>Paramétrage intelligent de l'alignement d'ontologies par l'intégrale de Choquet</td>\n",
              "    </tr>\n",
              "    <tr>\n",
              "      <th>14</th>\n",
              "      <td>192</td>\n",
              "      <td>0.126</td>\n",
              "      <td>Nettoyage de données guidé par la sémantique inter-colonnes</td>\n",
              "    </tr>\n",
              "    <tr>\n",
              "      <th>15</th>\n",
              "      <td>778</td>\n",
              "      <td>0.117</td>\n",
              "      <td>Privacy and Data Mining: New Developments and Challenges</td>\n",
              "    </tr>\n",
              "    <tr>\n",
              "      <th>16</th>\n",
              "      <td>324</td>\n",
              "      <td>0.108</td>\n",
              "      <td>Du texte à la base de données géographiques</td>\n",
              "    </tr>\n",
              "    <tr>\n",
              "      <th>17</th>\n",
              "      <td>514</td>\n",
              "      <td>0.108</td>\n",
              "      <td>Apport de la catégorisation iconique pour la gestion coopérative des connaissances1</td>\n",
              "    </tr>\n",
              "    <tr>\n",
              "      <th>18</th>\n",
              "      <td>558</td>\n",
              "      <td>0.108</td>\n",
              "      <td>Modèle pour une analyse du phénomène de linéarité de catégories sémantiques dans les énoncés en français</td>\n",
              "    </tr>\n",
              "  </tbody>\n",
              "</table>\n",
              "</div>"
            ],
            "text/plain": [
              "      Id  ...                                                                                                          Title\n",
              "0    814  ...                                   Conception de systèmes d'information spatio-temporelle adaptatifs avec ASTIS\n",
              "1    103  ...                  Faciliter les contributions personnelles pour préserver la mémoire des événements historiques\n",
              "2    268  ...                                                           Modèle de Biclustering dans un paradigme \"Mapreduce\"\n",
              "3    780  ...       RDBToOnto : un logiciel dédié à l'apprentissage d'ontologies à partir de bases de données relationnelles\n",
              "4   1168  ...                           Restructuration automatique de documents dans les corpus semi-structurés hétérogènes\n",
              "5    874  ...                  SOM pour la Classification Automatique Non supervisée de Documents Textuels basés sur Wordnet\n",
              "6    888  ...                Une approche ontologique pour automatiser le contrôle de conformité dans le domaine du bâtiment\n",
              "7   1190  ...                      Accélération de EM pour données qualitatives : études comparative de différentes versions\n",
              "8    878  ...                            Système multi-agent argumentatif pour la classification des connaissances cruciales\n",
              "9    316  ...                                   Construction de cube OLAP à partir d'un entrepôt de données orienté colonnes\n",
              "10   879  ...                         Un algorithme de classification topographique non supervisée à deux niveaux simultanés\n",
              "11   547  ...              Intégration de données haptiques brutes dans des systèmes experts de diagnostic des connaissances\n",
              "12  1031  ...  Enrichissement d'ontologies dans le secteur de l'eau douce en environnement Internet distribué et multilingue\n",
              "13   415  ...                                Paramétrage intelligent de l'alignement d'ontologies par l'intégrale de Choquet\n",
              "14   192  ...                                                    Nettoyage de données guidé par la sémantique inter-colonnes\n",
              "15   778  ...                                                       Privacy and Data Mining: New Developments and Challenges\n",
              "16   324  ...                                                                    Du texte à la base de données géographiques\n",
              "17   514  ...                            Apport de la catégorisation iconique pour la gestion coopérative des connaissances1\n",
              "18   558  ...       Modèle pour une analyse du phénomène de linéarité de catégories sémantiques dans les énoncés en français\n",
              "\n",
              "[19 rows x 3 columns]"
            ]
          },
          "metadata": {
            "tags": []
          },
          "execution_count": 32
        }
=======
     "data": {
      "image/png": "iVBORw0KGgoAAAANSUhEUgAAAb4AAAEuCAYAAADx63eqAAAABHNCSVQICAgIfAhkiAAAAAlwSFlz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\n",
      "text/plain": [
       "<Figure size 432x288 with 1 Axes>"
>>>>>>> Stashed changes
      ]
     },
     "metadata": {
      "tags": []
     },
     "output_type": "display_data"
    }
   ],
   "source": [
    "# Testing edge betweeness based community detection ...\n",
    "all_communities  = node_candidates_girvan_newman(G)\n",
    "all_communities_as_clusters = _reverse_key_value( all_communities)\n",
    "print(\"modularity_score\", community.modularity(all_communities, G ))\n",
    "print(json.dumps(all_communities_as_clusters)  )\n",
    "\n",
    "values = [all_communities.get(node) for node in G.nodes()]\n",
    "nx.draw_spring(G, cmap = plt.get_cmap('jet'), node_color = values, node_size=30, with_labels=False)"
   ]
  },
  {
   "cell_type": "code",
   "execution_count": 0,
   "metadata": {
    "colab": {},
    "colab_type": "code",
    "id": "N8egR4ioBzsv"
   },
   "outputs": [],
   "source": [
    "# Testing Greedy community detection ...\n",
    "greedy_c = node_candidates_greedy(G, )\n",
    "sorted(sorted(greedy_c) )"
   ]
  },
  {
   "cell_type": "code",
   "execution_count": 0,
   "metadata": {
    "colab": {},
    "colab_type": "code",
    "id": "wHxmEvbfK5eA"
   },
   "outputs": [],
   "source": [
    "# Testing Clique community detection (Strong Assumption) ...\n",
    "clique_c = node_candidates_clique(G)\n",
    "clique_c"
   ]
  },
  {
   "cell_type": "code",
   "execution_count": 0,
   "metadata": {
    "colab": {
     "base_uri": "https://localhost:8080/",
     "height": 34
    },
    "colab_type": "code",
    "id": "6cyiFI1QK53S",
    "outputId": "03589a9f-fbe5-4d30-a72c-a72dc5feb3c0"
   },
   "outputs": [
    {
     "name": "stdout",
     "output_type": "stream",
     "text": [
      "[7, 2, 3, 6] {7: 15.4, 2: 4.4, 3: 4.4, 6: 4.4}\n"
     ]
    }
   ],
   "source": [
    "# Testing ranking candidate ... \n",
    "v,p = ranking_candidate(G, [5], [2,3,6,7])\n",
    "print(v,p)"
   ]
  },
  {
   "cell_type": "code",
   "execution_count": 0,
   "metadata": {
    "colab": {},
    "colab_type": "code",
    "id": "OfawFYtoRerO"
   },
   "outputs": [],
   "source": [
    "from networkx import edge_betweenness_centrality as betweenness\n",
    "def most_central_edge(G):\n",
    "    centrality = betweenness(G, weight='weight')\n",
    "    return max(centrality, key=centrality.get)\n",
    "\n",
    "\n",
    "comp = girvan_newman(G, most_valuable_edge=most_central_edge)\n",
    "tuple(sorted(c) for c in next(comp))\n"
   ]
  },
  {
   "cell_type": "markdown",
   "metadata": {
    "colab_type": "text",
    "id": "SwbaLBLcS0Tc"
   },
   "source": [
    "### 6- System Evaluation ..."
   ]
  },
  {
   "cell_type": "markdown",
   "metadata": {
    "colab_type": "text",
    "id": "67rcV-kSCfoQ"
   },
   "source": [
    "### 7 - Demo (console)"
   ]
  },
  {
   "cell_type": "code",
   "execution_count": 0,
   "metadata": {
    "colab": {},
    "colab_type": "code",
    "id": "gSHgsz_6qqZ3"
   },
   "outputs": [],
   "source": [
    "all_communities,_,_ = detect_communities(G)\n"
   ]
  },
  {
   "cell_type": "code",
   "execution_count": 15,
   "metadata": {
    "colab": {
     "base_uri": "https://localhost:8080/",
     "height": 911
    },
    "colab_type": "code",
    "id": "9f59K3aH-DnK",
    "outputId": "8e98167e-130b-4ac5-fed8-076d324cc255"
   },
   "outputs": [
    {
     "name": "stdout",
     "output_type": "stream",
     "text": [
      "What book have you read : 34\n",
      "\n",
      "\n",
      "You have read book id 34: [ Fouille de motifs temporels négatifs ]\n",
      "\n",
      "Recommendation \n",
      "---------------\n",
      "[34, 8, 9, 1, 2, 915, 234, 310, 1233, 567, 711, 713, 691, 23, 971, 464, 523, 560, 1002, 1150, 676, 1163, 1091, 730, 653, 490, 432, 309, 85, 385, 361, 939, 807, 679, 1172, 1075, 1017, 79, 83, 456, 1042, 1226, 183, 153, 443, 986, 323, 161, 469, 900, 236, 844, 689, 1220, 483, 52, 195, 975, 82, 840, 445, 244, 81, 473, 118, 1257, 859, 770, 535, 176, 307, 22, 876, 238, 337, 909, 907, 1190, 811, 548, 255, 800, 547, 123, 371, 1268, 789, 819, 656, 1195, 470, 281, 313, 534, 449, 1025, 709, 167, 910, 392, 146, 572, 347, 135]\n",
      "\n"
     ]
    },
    {
     "data": {
      "image/png": "iVBORw0KGgoAAAANSUhEUgAAAb4AAAEuCAYAAADx63eqAAAABHNCSVQICAgIfAhkiAAAAAlwSFlz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\n",
      "text/plain": [
       "<Figure size 432x288 with 1 Axes>"
      ]
     },
     "metadata": {
      "tags": []
     },
     "output_type": "display_data"
    },
    {
     "data": {
      "text/plain": [
       "<Figure size 1224x216 with 0 Axes>"
      ]
     },
     "metadata": {
      "tags": []
     },
     "output_type": "display_data"
    },
    {
     "data": {
      "text/html": [
       "<div>\n",
       "<style scoped>\n",
       "    .dataframe tbody tr th:only-of-type {\n",
       "        vertical-align: middle;\n",
       "    }\n",
       "\n",
       "    .dataframe tbody tr th {\n",
       "        vertical-align: top;\n",
       "    }\n",
       "\n",
       "    .dataframe thead th {\n",
       "        text-align: right;\n",
       "    }\n",
       "</style>\n",
       "<table border=\"1\" class=\"dataframe\">\n",
       "  <thead>\n",
       "    <tr style=\"text-align: right;\">\n",
       "      <th></th>\n",
       "      <th>Id</th>\n",
       "      <th>Score</th>\n",
       "      <th>Title</th>\n",
       "    </tr>\n",
       "  </thead>\n",
       "  <tbody>\n",
       "    <tr>\n",
       "      <th>0</th>\n",
       "      <td>1163</td>\n",
       "      <td>0.077</td>\n",
       "      <td>Raisonnement en gestion des compétences</td>\n",
       "    </tr>\n",
       "    <tr>\n",
       "      <th>1</th>\n",
       "      <td>392</td>\n",
       "      <td>0.066</td>\n",
       "      <td>Comprendre et interpréter les données : enjeux et implantations d'un système de codage dans des gisements de données historiques</td>\n",
       "    </tr>\n",
       "    <tr>\n",
       "      <th>2</th>\n",
       "      <td>1195</td>\n",
       "      <td>0.062</td>\n",
       "      <td>Apprentissage et optimisation conjoints : extraction de connaissances pertinentes sur les systèmes de production</td>\n",
       "    </tr>\n",
       "    <tr>\n",
       "      <th>3</th>\n",
       "      <td>534</td>\n",
       "      <td>0.062</td>\n",
       "      <td>Early Classification on Temporal Sequences</td>\n",
       "    </tr>\n",
       "    <tr>\n",
       "      <th>4</th>\n",
       "      <td>323</td>\n",
       "      <td>0.06</td>\n",
       "      <td>Détection de situations à risque basée sur des détecteurs de mouvement à domicile pour les personnes dépendantes</td>\n",
       "    </tr>\n",
       "    <tr>\n",
       "      <th>...</th>\n",
       "      <td>...</td>\n",
       "      <td>...</td>\n",
       "      <td>...</td>\n",
       "    </tr>\n",
       "    <tr>\n",
       "      <th>94</th>\n",
       "      <td>1220</td>\n",
       "      <td>0.019</td>\n",
       "      <td>Fouille de grands ensembles de données avec un boosting proximal SVM</td>\n",
       "    </tr>\n",
       "    <tr>\n",
       "      <th>95</th>\n",
       "      <td>82</td>\n",
       "      <td>0.019</td>\n",
       "      <td>Classification d'objets 3D par extraction aléatoire de sous-parties discriminantes pour l'étude du sous-sol en prospection pétrolière</td>\n",
       "    </tr>\n",
       "    <tr>\n",
       "      <th>96</th>\n",
       "      <td>789</td>\n",
       "      <td>0.019</td>\n",
       "      <td>Un critère d'évaluation Bayésienne pour la construction d'arbres de décision</td>\n",
       "    </tr>\n",
       "    <tr>\n",
       "      <th>97</th>\n",
       "      <td>313</td>\n",
       "      <td>0.019</td>\n",
       "      <td>Comparaison de bornes théoriques pour l'accélération du clustering incrémental en une passe</td>\n",
       "    </tr>\n",
       "    <tr>\n",
       "      <th>98</th>\n",
       "      <td>709</td>\n",
       "      <td>0.019</td>\n",
       "      <td>Une nouvelle stratégie d'Apprentissage Bayésienne</td>\n",
       "    </tr>\n",
       "  </tbody>\n",
       "</table>\n",
       "<p>99 rows × 3 columns</p>\n",
       "</div>"
      ],
      "text/plain": [
       "      Id  ...                                                                                                                                  Title\n",
       "0   1163  ...                                                                                                Raisonnement en gestion des compétences\n",
       "1    392  ...       Comprendre et interpréter les données : enjeux et implantations d'un système de codage dans des gisements de données historiques\n",
       "2   1195  ...                       Apprentissage et optimisation conjoints : extraction de connaissances pertinentes sur les systèmes de production\n",
       "3    534  ...                                                                                             Early Classification on Temporal Sequences\n",
       "4    323  ...                       Détection de situations à risque basée sur des détecteurs de mouvement à domicile pour les personnes dépendantes\n",
       "..   ...  ...                                                                                                                                    ...\n",
       "94  1220  ...                                                                   Fouille de grands ensembles de données avec un boosting proximal SVM\n",
       "95    82  ...  Classification d'objets 3D par extraction aléatoire de sous-parties discriminantes pour l'étude du sous-sol en prospection pétrolière\n",
       "96   789  ...                                                           Un critère d'évaluation Bayésienne pour la construction d'arbres de décision\n",
       "97   313  ...                                            Comparaison de bornes théoriques pour l'accélération du clustering incrémental en une passe\n",
       "98   709  ...                                                                                      Une nouvelle stratégie d'Apprentissage Bayésienne\n",
       "\n",
       "[99 rows x 3 columns]"
      ]
     },
     "execution_count": 15,
     "metadata": {
      "tags": []
     },
     "output_type": "execute_result"
    }
   ],
   "source": [
    "book_read_id = None \n",
    "n_nodes = G.number_of_nodes()\n",
    "while True:\n",
    "  book_read_id = input(\"What book have you read : \")\n",
    "  if is_positive_integer(book_read_id) is True: \n",
    "    if int(book_read_id)  in range(n_nodes) :\n",
    "      break\n",
    "    else:\n",
    "       print(\"Invalid Input. book_id selected does not exists \")\n",
    "  else:\n",
    "    print(\"Invalid Input. Positive Number Expected \")\n",
    "\n",
    "\n",
    "# Recommendation ...\n",
    "node_selected = int(book_read_id)\n",
    "print(\"\\n\\nYou have read book id {}: [ {} ]\".format(book_read_id,G.nodes[node_selected][\"title\"]) )\n",
    "print(\"\\nRecommendation \")\n",
    "print(\"---------------\")\n",
    "list_read = [node_selected,8,9,1,2]\n",
    "lst_neighbors = node_candidates(all_communities,list_read, nb_candidates = 100)\n",
    "sorted_node , ranking_index = ranking_candidate(G, list_read, lst_neighbors)\n",
    "\n",
    "\n",
    "result_df = pd.DataFrame(columns=[\"Id\",\"Score\",\"Title\"])\n",
    "i = 0 \n",
    "for n in sorted_node:\n",
    "  result_df.loc[i, \"Id\"] = n\n",
    "  result_df.loc[i, \"Score\"] = ranking_index[n]\n",
    "  result_df.loc[i, \"Title\"] = str(G.nodes[n][\"title\"]).strip()\n",
    "  #print(\"id: \",n,\" | \", ranking_index[n], \"| Title:\",G.nodes[n][\"title\"])\n",
    "  i+=1\n",
    "\n",
    "pd.set_option(\"display.max_colwidth\",800)\n",
    "result_df\n",
    "\n",
    "# Be careful with with stop word elimination since there are some docs in english and french \n",
    "#30  |  0.22 | Title: Exploration et analyses multi-objectifs de séries temporelles de données météorologiques\n",
    "#14  |  0.02 | Title: Community structure in complex networks\n",
    " "
   ]
  },
  {
   "cell_type": "markdown",
   "metadata": {
    "colab_type": "text",
    "id": "eu6VGh1pSNDr"
   },
   "source": [
    "For Live demo (Graphical User Interface) [link text](https://)"
   ]
  },
  {
   "cell_type": "markdown",
   "metadata": {
    "colab_type": "text",
    "id": "5UFuqXgSmGiB"
   },
   "source": [
    "### 8 -  Intermission "
   ]
  },
  {
   "cell_type": "markdown",
   "metadata": {
    "colab_type": "text",
    "id": "4e8rX-OjOsUV"
   },
   "source": [
    "#### 8-1 Scraping & Translating Documents"
   ]
  },
  {
   "cell_type": "code",
   "execution_count": 1,
   "metadata": {
    "colab": {
     "base_uri": "https://localhost:8080/",
     "height": 1000
    },
    "colab_type": "code",
    "id": "5ZaC7svmYITg",
    "outputId": "c689d4b7-6ef0-425c-fc0f-43ef8fd2c80e",
    "scrolled": true
   },
   "outputs": [
    {
     "name": "stdout",
     "output_type": "stream",
     "text": [
      "Requirement already satisfied: langdetect in /home/kenneth/miniconda3/lib/python3.7/site-packages (1.0.7)\n",
      "Requirement already satisfied: six in /home/kenneth/miniconda3/lib/python3.7/site-packages (from langdetect) (1.12.0)\n",
      "Collecting py-translate\n",
      "\u001b[?25l  Downloading https://files.pythonhosted.org/packages/8f/bd/8ee839d3965f832e6a3eb054290aedf9ff0bb37350e0a0e81a0357d0a447/py_translate-1.0.3-py2.py3-none-any.whl (61kB)\n",
      "\u001b[K     |████████████████████████████████| 61kB 771kB/s eta 0:00:01\n",
      "\u001b[?25hInstalling collected packages: py-translate\n",
      "Successfully installed py-translate-1.0.3\n",
      "Requirement already satisfied: googletrans in /home/kenneth/miniconda3/lib/python3.7/site-packages (2.4.0)\n",
      "Requirement already satisfied: requests in /home/kenneth/miniconda3/lib/python3.7/site-packages (from googletrans) (2.22.0)\n",
      "Requirement already satisfied: urllib3!=1.25.0,!=1.25.1,<1.26,>=1.21.1 in /home/kenneth/miniconda3/lib/python3.7/site-packages (from requests->googletrans) (1.25.7)\n",
      "Requirement already satisfied: idna<2.9,>=2.5 in /home/kenneth/miniconda3/lib/python3.7/site-packages (from requests->googletrans) (2.8)\n",
      "Requirement already satisfied: chardet<3.1.0,>=3.0.2 in /home/kenneth/miniconda3/lib/python3.7/site-packages (from requests->googletrans) (3.0.4)\n",
      "Requirement already satisfied: certifi>=2017.4.17 in /home/kenneth/miniconda3/lib/python3.7/site-packages (from requests->googletrans) (2019.11.28)\n",
      "Requirement already satisfied: textract in /home/kenneth/miniconda3/lib/python3.7/site-packages (1.6.3)\n",
      "Requirement already satisfied: six==1.12.0 in /home/kenneth/miniconda3/lib/python3.7/site-packages (from textract) (1.12.0)\n",
      "Requirement already satisfied: python-pptx==0.6.18 in /home/kenneth/miniconda3/lib/python3.7/site-packages (from textract) (0.6.18)\n",
      "Requirement already satisfied: chardet==3.0.4 in /home/kenneth/miniconda3/lib/python3.7/site-packages (from textract) (3.0.4)\n",
      "Requirement already satisfied: EbookLib==0.17.1 in /home/kenneth/miniconda3/lib/python3.7/site-packages (from textract) (0.17.1)\n",
      "Requirement already satisfied: argcomplete==1.10.0 in /home/kenneth/miniconda3/lib/python3.7/site-packages (from textract) (1.10.0)\n",
      "Requirement already satisfied: SpeechRecognition==3.8.1 in /home/kenneth/miniconda3/lib/python3.7/site-packages (from textract) (3.8.1)\n",
      "Requirement already satisfied: docx2txt==0.8 in /home/kenneth/miniconda3/lib/python3.7/site-packages (from textract) (0.8)\n",
      "Requirement already satisfied: xlrd==1.2.0 in /home/kenneth/miniconda3/lib/python3.7/site-packages (from textract) (1.2.0)\n",
      "Requirement already satisfied: beautifulsoup4==4.8.0 in /home/kenneth/miniconda3/lib/python3.7/site-packages (from textract) (4.8.0)\n",
      "Requirement already satisfied: pdfminer.six==20181108 in /home/kenneth/miniconda3/lib/python3.7/site-packages (from textract) (20181108)\n",
      "Requirement already satisfied: extract-msg==0.23.1 in /home/kenneth/miniconda3/lib/python3.7/site-packages (from textract) (0.23.1)\n",
      "Requirement already satisfied: Pillow>=3.3.2 in /home/kenneth/miniconda3/lib/python3.7/site-packages (from python-pptx==0.6.18->textract) (6.2.1)\n",
      "Requirement already satisfied: XlsxWriter>=0.5.7 in /home/kenneth/miniconda3/lib/python3.7/site-packages (from python-pptx==0.6.18->textract) (1.2.7)\n",
      "Requirement already satisfied: lxml>=3.1.0 in /home/kenneth/miniconda3/lib/python3.7/site-packages (from python-pptx==0.6.18->textract) (4.4.2)\n",
      "Requirement already satisfied: soupsieve>=1.2 in /home/kenneth/miniconda3/lib/python3.7/site-packages (from beautifulsoup4==4.8.0->textract) (1.9.5)\n",
      "Requirement already satisfied: pycryptodome in /home/kenneth/miniconda3/lib/python3.7/site-packages (from pdfminer.six==20181108->textract) (3.9.4)\n",
      "Requirement already satisfied: sortedcontainers in /home/kenneth/miniconda3/lib/python3.7/site-packages (from pdfminer.six==20181108->textract) (2.1.0)\n",
      "Requirement already satisfied: imapclient==2.1.0 in /home/kenneth/miniconda3/lib/python3.7/site-packages (from extract-msg==0.23.1->textract) (2.1.0)\n",
      "Requirement already satisfied: tzlocal==1.5.1 in /home/kenneth/miniconda3/lib/python3.7/site-packages (from extract-msg==0.23.1->textract) (1.5.1)\n",
      "Requirement already satisfied: olefile==0.46 in /home/kenneth/miniconda3/lib/python3.7/site-packages (from extract-msg==0.23.1->textract) (0.46)\n",
      "Requirement already satisfied: pytz in /home/kenneth/miniconda3/lib/python3.7/site-packages (from tzlocal==1.5.1->extract-msg==0.23.1->textract) (2019.3)\n",
      "Collecting tika\n",
      "  Downloading https://files.pythonhosted.org/packages/10/b3/6a4fdab1ac3fb7b933f9803111221d39e2dc26ae87ed6992b9557c540270/tika-1.23.tar.gz\n",
      "Requirement already satisfied: setuptools in /home/kenneth/miniconda3/lib/python3.7/site-packages (from tika) (42.0.2.post20191203)\n",
      "Requirement already satisfied: requests in /home/kenneth/miniconda3/lib/python3.7/site-packages (from tika) (2.22.0)\n",
      "Requirement already satisfied: certifi>=2017.4.17 in /home/kenneth/miniconda3/lib/python3.7/site-packages (from requests->tika) (2019.11.28)\n",
      "Requirement already satisfied: chardet<3.1.0,>=3.0.2 in /home/kenneth/miniconda3/lib/python3.7/site-packages (from requests->tika) (3.0.4)\n",
      "Requirement already satisfied: urllib3!=1.25.0,!=1.25.1,<1.26,>=1.21.1 in /home/kenneth/miniconda3/lib/python3.7/site-packages (from requests->tika) (1.25.7)\n",
      "Requirement already satisfied: idna<2.9,>=2.5 in /home/kenneth/miniconda3/lib/python3.7/site-packages (from requests->tika) (2.8)\n",
      "Building wheels for collected packages: tika\n",
      "  Building wheel for tika (setup.py) ... \u001b[?25ldone\n",
      "\u001b[?25h  Created wheel for tika: filename=tika-1.23-cp37-none-any.whl size=31854 sha256=51c8fba4f39bcdebe54052abf4066ad5f49b17fa081b87af70ed01e2596d6806\n",
      "  Stored in directory: /home/kenneth/.cache/pip/wheels/39/01/4c/184b118bbece0003fd5e7aba3e6a52579e590a84eb3d2b96e5\n",
      "Successfully built tika\n",
      "Installing collected packages: tika\n",
      "Successfully installed tika-1.23\n"
     ]
    }
   ],
   "source": [
    "! pip install langdetect\n",
    "! pip install py-translate\n",
    "! pip install googletrans\n",
    "! pip install textract\n",
    "! pip install tika \n",
    "\n",
    "from langdetect import detect\n",
    "from googletrans import Translator\n",
    "import textract\n",
    "import urllib.request\n",
    "import time\n",
    "from tika import parser"
   ]
  },
  {
   "cell_type": "code",
   "execution_count": 0,
   "metadata": {
    "colab": {
     "base_uri": "https://localhost:8080/",
     "height": 810
    },
    "colab_type": "code",
    "id": "k8l9uWxURd41",
    "outputId": "e3e96466-868e-4aa8-d293-5cc2a2db52f7"
   },
   "outputs": [
    {
     "data": {
      "text/html": [
       "<div>\n",
       "<style scoped>\n",
       "    .dataframe tbody tr th:only-of-type {\n",
       "        vertical-align: middle;\n",
       "    }\n",
       "\n",
       "    .dataframe tbody tr th {\n",
       "        vertical-align: top;\n",
       "    }\n",
       "\n",
       "    .dataframe thead th {\n",
       "        text-align: right;\n",
       "    }\n",
       "</style>\n",
       "<table border=\"1\" class=\"dataframe\">\n",
       "  <thead>\n",
       "    <tr style=\"text-align: right;\">\n",
       "      <th></th>\n",
       "      <th>series</th>\n",
       "      <th>booktitle</th>\n",
       "      <th>year</th>\n",
       "      <th>title</th>\n",
       "      <th>abstract</th>\n",
       "      <th>authors</th>\n",
       "      <th>pdf1page</th>\n",
       "      <th>pdfarticle</th>\n",
       "      <th>lang</th>\n",
       "    </tr>\n",
       "  </thead>\n",
       "  <tbody>\n",
       "    <tr>\n",
       "      <th>0</th>\n",
       "      <td>Revue des Nouvelles Technologies de l'Information</td>\n",
       "      <td>EGC</td>\n",
       "      <td>2018</td>\n",
       "      <td>#Idéo2017 : une plateforme citoyenne dédiée à ...</td>\n",
       "      <td>Cette plateforme a pour objectif de permettre ...</td>\n",
       "      <td>Claudia Marinica, Julien Longhi, Nader Hassine...</td>\n",
       "      <td>http://editions-rnti.fr/render_pdf.php?p1&amp;p=10...</td>\n",
       "      <td>http://editions-rnti.fr/render_pdf.php?p=1002425</td>\n",
       "      <td>fr</td>\n",
       "    </tr>\n",
       "    <tr>\n",
       "      <th>1</th>\n",
       "      <td>Revue des Nouvelles Technologies de l'Information</td>\n",
       "      <td>EGC</td>\n",
       "      <td>2018</td>\n",
       "      <td>A two level co-clustering algorithm for very l...</td>\n",
       "      <td>La classification croisée (co-clustering) est ...</td>\n",
       "      <td>Marius Barctus, Marc Boullé, Fabrice Clérot</td>\n",
       "      <td>http://editions-rnti.fr/render_pdf.php?p1&amp;p=10...</td>\n",
       "      <td>http://editions-rnti.fr/render_pdf.php?p=1002372</td>\n",
       "      <td>en</td>\n",
       "    </tr>\n",
       "    <tr>\n",
       "      <th>2</th>\n",
       "      <td>Revue des Nouvelles Technologies de l'Information</td>\n",
       "      <td>EGC</td>\n",
       "      <td>2018</td>\n",
       "      <td>ALGeoSPF: Un modèle de factorisation basé sur ...</td>\n",
       "      <td>La recommandation de points d'intérêts est dev...</td>\n",
       "      <td>Jean-Benoît Griesner, Talel Abdesssalem, Huber...</td>\n",
       "      <td>http://editions-rnti.fr/render_pdf.php?p1&amp;p=10...</td>\n",
       "      <td>http://editions-rnti.fr/render_pdf.php?p=1002380</td>\n",
       "      <td>fr</td>\n",
       "    </tr>\n",
       "    <tr>\n",
       "      <th>3</th>\n",
       "      <td>Revue des Nouvelles Technologies de l'Information</td>\n",
       "      <td>EGC</td>\n",
       "      <td>2018</td>\n",
       "      <td>Analyse des sentiments à partir des commentair...</td>\n",
       "      <td>L'analyse des sentiments est un processus pend...</td>\n",
       "      <td>Abdeljalil Elouardighi, Mohcine Maghfour, Hafd...</td>\n",
       "      <td>http://editions-rnti.fr/render_pdf.php?p1&amp;p=10...</td>\n",
       "      <td>http://editions-rnti.fr/render_pdf.php?p=1002397</td>\n",
       "      <td>fr</td>\n",
       "    </tr>\n",
       "    <tr>\n",
       "      <th>4</th>\n",
       "      <td>Revue des Nouvelles Technologies de l'Information</td>\n",
       "      <td>EGC</td>\n",
       "      <td>2018</td>\n",
       "      <td>Analyse en rôles sémantiques pour le résumé au...</td>\n",
       "      <td>Cet article présente une approche visant à ext...</td>\n",
       "      <td>Elyase Lassouli, Yasmine Mesbahi, Camille Prad...</td>\n",
       "      <td>http://editions-rnti.fr/render_pdf.php?p1&amp;p=10...</td>\n",
       "      <td>http://editions-rnti.fr/render_pdf.php?p=1002384</td>\n",
       "      <td>fr</td>\n",
       "    </tr>\n",
       "    <tr>\n",
       "      <th>...</th>\n",
       "      <td>...</td>\n",
       "      <td>...</td>\n",
       "      <td>...</td>\n",
       "      <td>...</td>\n",
       "      <td>...</td>\n",
       "      <td>...</td>\n",
       "      <td>...</td>\n",
       "      <td>...</td>\n",
       "      <td>...</td>\n",
       "    </tr>\n",
       "    <tr>\n",
       "      <th>95</th>\n",
       "      <td>Revue des Nouvelles Technologies de l'Information</td>\n",
       "      <td>EGC</td>\n",
       "      <td>2017</td>\n",
       "      <td>Expression des connaissances en langage nature...</td>\n",
       "      <td>NaN</td>\n",
       "      <td>Jérémy Vizzini, Cyril Labbé, François Portet</td>\n",
       "      <td>http://editions-rnti.fr/render_pdf.php?p1&amp;p=10...</td>\n",
       "      <td>http://editions-rnti.fr/render_pdf.php?p=1002319</td>\n",
       "      <td>fr</td>\n",
       "    </tr>\n",
       "    <tr>\n",
       "      <th>96</th>\n",
       "      <td>Revue des Nouvelles Technologies de l'Information</td>\n",
       "      <td>EGC</td>\n",
       "      <td>2017</td>\n",
       "      <td>Extraction automatique de paysages en imagerie...</td>\n",
       "      <td>Nous présentons ici une méthode originale pour...</td>\n",
       "      <td>Anne Toulet, Emmanuel Roux, Anne-Elisabeth Laq...</td>\n",
       "      <td>http://editions-rnti.fr/render_pdf.php?p1&amp;p=10...</td>\n",
       "      <td>http://editions-rnti.fr/render_pdf.php?p=1002285</td>\n",
       "      <td>fr</td>\n",
       "    </tr>\n",
       "    <tr>\n",
       "      <th>97</th>\n",
       "      <td>Revue des Nouvelles Technologies de l'Information</td>\n",
       "      <td>EGC</td>\n",
       "      <td>2017</td>\n",
       "      <td>Extraction de chroniques discriminantes</td>\n",
       "      <td>L'extraction de motifs séquentiels vise à extr...</td>\n",
       "      <td>Yann Dauxais, David Gross-Amblard, Thomas Guye...</td>\n",
       "      <td>http://editions-rnti.fr/render_pdf.php?p1&amp;p=10...</td>\n",
       "      <td>http://editions-rnti.fr/render_pdf.php?p=1002278</td>\n",
       "      <td>fr</td>\n",
       "    </tr>\n",
       "    <tr>\n",
       "      <th>98</th>\n",
       "      <td>Revue des Nouvelles Technologies de l'Information</td>\n",
       "      <td>EGC</td>\n",
       "      <td>2017</td>\n",
       "      <td>Extraction de relations pour le peuplement d'u...</td>\n",
       "      <td>Dans une base de connaissance, les entités se ...</td>\n",
       "      <td>Cédric Lopez, Elena Cabrio, Frédérique Segond</td>\n",
       "      <td>http://editions-rnti.fr/render_pdf.php?p1&amp;p=10...</td>\n",
       "      <td>http://editions-rnti.fr/render_pdf.php?p=1002301</td>\n",
       "      <td>fr</td>\n",
       "    </tr>\n",
       "    <tr>\n",
       "      <th>99</th>\n",
       "      <td>Revue des Nouvelles Technologies de l'Information</td>\n",
       "      <td>EGC</td>\n",
       "      <td>2017</td>\n",
       "      <td>Extraction des évolutions récurrentes dans un ...</td>\n",
       "      <td>Un grand nombre d'applications nécessitent d'a...</td>\n",
       "      <td>Zhi Cheng, Frédéric Flouvat, Nazha Selmaoui-Fo...</td>\n",
       "      <td>http://editions-rnti.fr/render_pdf.php?p1&amp;p=10...</td>\n",
       "      <td>http://editions-rnti.fr/render_pdf.php?p=1002273</td>\n",
       "      <td>fr</td>\n",
       "    </tr>\n",
       "  </tbody>\n",
       "</table>\n",
       "<p>100 rows × 9 columns</p>\n",
       "</div>"
      ],
      "text/plain": [
       "                                               series  ... lang\n",
       "0   Revue des Nouvelles Technologies de l'Information  ...   fr\n",
       "1   Revue des Nouvelles Technologies de l'Information  ...   en\n",
       "2   Revue des Nouvelles Technologies de l'Information  ...   fr\n",
       "3   Revue des Nouvelles Technologies de l'Information  ...   fr\n",
       "4   Revue des Nouvelles Technologies de l'Information  ...   fr\n",
       "..                                                ...  ...  ...\n",
       "95  Revue des Nouvelles Technologies de l'Information  ...   fr\n",
       "96  Revue des Nouvelles Technologies de l'Information  ...   fr\n",
       "97  Revue des Nouvelles Technologies de l'Information  ...   fr\n",
       "98  Revue des Nouvelles Technologies de l'Information  ...   fr\n",
       "99  Revue des Nouvelles Technologies de l'Information  ...   fr\n",
       "\n",
       "[100 rows x 9 columns]"
      ]
     },
     "execution_count": 8,
     "metadata": {
      "tags": []
     },
     "output_type": "execute_result"
    }
   ],
   "source": [
    "# Retrieving title Columns from  src_df  \n",
    "article_title = src_df[\"title\"].values \n",
    "language_col  = list()\n",
    "\n",
    "# Browising trough  every title and evaluating their respective languages ...\n",
    "for i in range( article_title.shape[0] ):\n",
    "  lang = detect(article_title[i])\n",
    "  language_col.append(\"fr\" if lang != \"fr\" and lang != \"en\" else lang)\n",
    "\n",
    "# Adding new column  [lang] to new Dataframe [src_scrap_df]  ... \n",
    "src_scrap_df = pd.DataFrame(src_df)\n",
    "src_scrap_df[\"lang\"] = language_col\n",
    "\n",
    "# Saving new datafracme to output file ... \n",
    "#src_scrap_df.to_csv(_root+\"/out/articles_plus_lang.csv\")\n",
    "\n",
    "# Visualising Dataframe ....\n",
    "src_scrap_df.head(100)\n"
   ]
  },
  {
   "cell_type": "code",
   "execution_count": 0,
   "metadata": {
    "colab": {
     "base_uri": "https://localhost:8080/",
     "height": 34
    },
    "colab_type": "code",
    "id": "1H9Rupd4RnkF",
    "outputId": "2a128f29-f37d-4860-e535-381800772c93"
   },
   "outputs": [
    {
<<<<<<< Updated upstream
      "cell_type": "code",
      "metadata": {
        "id": "kjK0zNBrAt5y",
        "colab_type": "code",
        "outputId": "27d9abff-5dce-42dc-993c-0ff48713f6b7",
        "colab": {
          "base_uri": "https://localhost:8080/",
          "height": 34
        }
      },
      "source": [
        "docs_content =content_part3\n",
        "len(docs_content)"
      ],
      "execution_count": 0,
      "outputs": [
        {
          "output_type": "execute_result",
          "data": {
            "text/plain": [
              "123"
            ]
          },
          "metadata": {
            "tags": []
          },
          "execution_count": 55
        }
      ]
=======
     "name": "stdout",
     "output_type": "stream",
     "text": [
      "Number of documents detected in English: 123 \n"
     ]
    }
   ],
   "source": [
    "# Counting the number of Document written in english \n",
    "english_articles_df = src_scrap_df[src_scrap_df['lang'] == \"en\"]\n",
    "print(\"Number of documents detected in English: {} \".format( str(len(english_articles_df))))\n",
    "\n",
    "urls_articles_full = english_articles_df[\"pdfarticle\"].values \n",
    "ids  = english_articles_df.index.values\n",
    "\n",
    "\n",
    "# Downloading content of English Articles and save it locally...\n",
    "i = 0 \n",
    "for url in urls_articles_full: \n",
    "  if ids[i] < 967:\n",
    "    continue \n",
    "  filename = _root+\"/data/articles/pdf_{}.pdf\".format(str(ids[i]))\n",
    "  urllib.request.urlretrieve(url, filename) \n",
    "  time.sleep(2)\n",
    "  i += 1\n"
   ]
  },
  {
   "cell_type": "code",
   "execution_count": 0,
   "metadata": {
    "colab": {
     "base_uri": "https://localhost:8080/",
     "height": 102
    },
    "colab_type": "code",
    "id": "bUvdFvf9hIEC",
    "outputId": "2a6ce89d-c0db-46a1-aac1-224637584046"
   },
   "outputs": [
    {
     "name": "stdout",
     "output_type": "stream",
     "text": [
      "Number of chuncks  9\n",
      "Number of chuncks  2\n",
      "Number of chuncks  2\n",
      "Number of chuncks  1\n",
      "Number of chuncks  7\n"
     ]
    }
   ],
   "source": [
    "\n",
    "# Translating English articles into French using selenium/GoogleTrans ...\n",
    "max_char_google_trans = 4000\n",
    "docs_content = content_part4\n",
    "\n",
    "while True:\n",
    "  for cur_id in ids: \n",
    "    \n",
    "    if cur_id  in docs_content.keys():\n",
    "      continue\n",
    "    filename = _root+\"/data/articles/pdf_{}.pdf\".format(str(cur_id))\n",
    "    # Extracting content from pdf ...\n",
    "\n",
    "    \"\"\"\n",
    "    text = textract.process(filename, method=\"tesseract\", encoding = \"latin\", language='en')\n",
    "    #print(\"Lenght of Text \",len(text))\n",
    "    \"\"\"\n",
    "    \n",
    "    \n",
    "    # Parse data from file\n",
    "    text = parser.from_file(filename)\n",
    "    # Get files text content\n",
    "    text = text['content']\n",
    "\n",
    "    #print(text[0:300])\n",
    "\n",
    "    # Spliting content into chuncks using [max_char_google_trans]\n",
    "    text_parts  = split_string_in_chunks(text,max_char_google_trans)\n",
    "    print(\"Number of chuncks \",len(text_parts))\n",
    "\n",
    "    \n",
    "    # Translate each chunk \n",
    "    tmp = list()\n",
    "    is_break = False\n",
    "    try:\n",
    "      for chunk  in text_parts:\n",
    "        translator = Translator()\n",
    "        chunk  =chunk.strip()\n",
    "        chunk = chunk.replace(\"\\n\", \" \")\n",
    "        st = random.randint(2, 4)\n",
    "        time.sleep(st)\n",
    "        tmp.append( str(translator.translate(chunk[0:1000], src=\"en\", dest=\"fr\").text) )\n",
    "    except Exception as e :\n",
    "        is_break = True \n",
    "        print(e)\n",
    "        pass\n",
    "    if is_break is False:\n",
    "      translated_text = \" \".join(tmp)\n",
    "      docs_content[cur_id] = translated_text\n",
    "\n",
    "  if len(docs_content)  == len(ids) :\n",
    "    break\n",
    "  \n",
    "\n",
    "#print(docs_content)\n",
    "\n",
    "\n",
    "#src_scrap_df[\"content_translated\"] = list(docs_content.values())"
   ]
  },
  {
   "cell_type": "markdown",
   "metadata": {
    "colab_type": "text",
    "id": "vcY4FBVzZ9yd"
   },
   "source": [
    "* Next week wednesday for class 26th on Social mining \n",
    "* GoogleTrans https://pypi.org/project/googletrans/  \\[ 15k max string \\]\n",
    "* Textract http://textract.readthedocs.io/en/latest/\n",
    "* http://ryancompton.net/2014/06/16/community-detection-and-colored-plotting-in-networkx/\n"
   ]
  },
  {
   "cell_type": "code",
   "execution_count": 0,
   "metadata": {
    "colab": {
     "base_uri": "https://localhost:8080/",
     "height": 34
>>>>>>> Stashed changes
    },
    "colab_type": "code",
    "id": "kjK0zNBrAt5y",
    "outputId": "27d9abff-5dce-42dc-993c-0ff48713f6b7"
   },
   "outputs": [
    {
     "data": {
      "text/plain": [
       "123"
      ]
     },
     "execution_count": 55,
     "metadata": {
      "tags": []
     },
     "output_type": "execute_result"
    }
   ],
   "source": [
    "docs_content =content_part3\n",
    "len(docs_content)"
   ]
  },
  {
   "cell_type": "code",
   "execution_count": 0,
   "metadata": {
    "colab": {
     "base_uri": "https://localhost:8080/",
     "height": 34
    },
    "colab_type": "code",
    "id": "wvSr4zsNBPHU",
    "outputId": "ceaebda4-d6c3-4294-e5e4-e083674ccfe8"
   },
   "outputs": [
    {
     "data": {
      "text/plain": [
       "118"
      ]
     },
     "execution_count": 64,
     "metadata": {
      "tags": []
     },
     "output_type": "execute_result"
    }
   ],
   "source": [
    "content_part4 = dict(docs_content)\n",
    "len(content_part4)"
   ]
  },
  {
   "cell_type": "code",
   "execution_count": 0,
   "metadata": {
    "colab": {
     "base_uri": "https://localhost:8080/",
     "height": 34
    },
    "colab_type": "code",
    "id": "j1XTZJNmPgow",
    "outputId": "8ca6b048-3da9-43f5-92df-e0edac8179a8"
   },
   "outputs": [
    {
     "data": {
      "text/plain": [
       "123"
      ]
     },
     "execution_count": 66,
     "metadata": {
      "tags": []
     },
     "output_type": "execute_result"
    }
   ],
   "source": [
    "content_part5 = dict(docs_content)\n",
    "len(content_part5)"
   ]
  },
  {
   "cell_type": "code",
   "execution_count": 0,
   "metadata": {
    "colab": {
     "base_uri": "https://localhost:8080/",
     "height": 139
    },
    "colab_type": "code",
    "id": "hr4H5mPp9WgY",
    "outputId": "db682d81-160d-4485-ae25-c32a22d45dcd"
   },
   "outputs": [
    {
     "name": "stderr",
     "output_type": "stream",
     "text": [
      "/usr/local/lib/python3.6/dist-packages/ipykernel_launcher.py:1: SettingWithCopyWarning: \n",
      "A value is trying to be set on a copy of a slice from a DataFrame.\n",
      "Try using .loc[row_indexer,col_indexer] = value instead\n",
      "\n",
      "See the caveats in the documentation: http://pandas.pydata.org/pandas-docs/stable/user_guide/indexing.html#returning-a-view-versus-a-copy\n",
      "  \"\"\"Entry point for launching an IPython kernel.\n"
     ]
    }
   ],
   "source": [
    "english_articles_df[\"content_translated\"] = list(docs_content.values())\n",
    "english_articles_df.to_csv(_root+\"/out/english_articles_translated.csv\")"
   ]
  },
  {
   "cell_type": "code",
   "execution_count": 0,
   "metadata": {
    "colab": {},
    "colab_type": "code",
    "id": "Sa3yyzWyBJxT"
   },
   "outputs": [],
   "source": [
    "docs_content_saved = dict(docs_content)"
   ]
  },
  {
   "cell_type": "code",
   "execution_count": 0,
   "metadata": {
    "colab": {},
    "colab_type": "code",
    "id": "GU-OJRQZFT7r"
   },
   "outputs": [],
   "source": []
  },
  {
   "cell_type": "markdown",
   "metadata": {
    "colab_type": "text",
    "id": "92abagLYmvVZ"
   },
   "source": [
    "### 9- Deploying as a class "
   ]
  },
  {
   "cell_type": "code",
   "execution_count": 0,
   "metadata": {
    "colab": {},
    "colab_type": "code",
    "id": "oMzQzjm6nGdy"
   },
   "outputs": [],
   "source": [
    "####################\n",
    "#   DEPENDENCIES   #\n",
    "####################\n",
    "import networkx as nx \n",
    "from networkx.algorithms.distance_measures import diameter\n",
    "from networkx.algorithms.community import community_utils\n",
    "from networkx.algorithms.community import greedy_modularity_communities\n",
    "from networkx.algorithms.community import k_clique_communities\n",
    "from networkx.algorithms.centrality import edge_betweenness_centrality\n",
    "from networkx.algorithms.community.centrality import girvan_newman\n",
    "import pandas as pd\n",
    "import numpy as np\n",
    "import statistics as stats\n",
    "import community\n",
    "import collections\n",
    "import os.path\n",
    "\n",
    "import math\n",
    "from matplotlib  import pyplot as plt \n",
    "from textblob import TextBlob\n",
    "import re\n",
    "import random \n",
    "import json\n",
    "\n",
    "_root = \"/content/drive/My Drive/SOCIAL_MINING\"\n",
    "_url_src_dataset = _root+\"/data/export_articles_EGC_2004_2018.csv\"\n",
    "_url_similarity_score = _root+\"/data/similarityscore.csv\"\n",
    "\n",
    "class SocialMining :\n",
    "###############################################################################\n",
    "#                         SOCIAL MINING CLASS   \n",
    "###############################################################################\n",
    "  def __init__(self, _url_src_dataset, _url_similarity_score, _threashold = 0.07 ):\n",
    "    if os.path.exists(_url_src_dataset) is False:\n",
    "      raise Exception(\"File [{}] does not exit \".format(_url_src_dataset))\n",
    "    if os.path.exists(_url_similarity_score) is False:\n",
    "      raise Exception(\"File [{}] does not exit \".format(_url_similarity_score))\n",
    "    assert( type(_threashold) == float  and _threashold >= 0 )\n",
    "\n",
    "    self.url_src_dataset = _url_src_dataset \n",
    "    self.url_similarity_score = _url_similarity_score\n",
    "    self.threashold = _threashold\n",
    "    self.src_df = None\n",
    "    self.sim_df = None\n",
    "    self.G = None \n",
    "    self.dist_matrix = None\n",
    "    self.n_nodes = 0 \n",
    "    self.n_edges = 0\n",
    "    self.communities = None\n",
    "    \n",
    "    if self._load_data() is False:\n",
    "        raise Exception(\"Error occured while loading data \")\n",
    "\n",
    "    if self._build_graph() is False:\n",
    "        raise Exception(\"Error occured while Building graph \")\n",
    "    \n",
    "  \n",
    "\n",
    "  ####################\n",
    "  #     PUBLIC       #\n",
    "  ####################\n",
    "\n",
    "  def describe_graph(self):\n",
    "    # Global Network Analysis ...\n",
    "    n_edges = self.G.number_of_edges()\n",
    "    n_nodes = self.G.number_of_nodes()\n",
    "    g_degree = nx.degree(self.G)\n",
    "    g_max_degree = max( [ x[1] for x in  g_degree ] )\n",
    "    g_min_degree = min( [ x[1] for x in  g_degree ] )\n",
    "    g_avg_degree = math.ceil(stats.mean( [ x[1] for x in  g_degree ] ))\n",
    "    g_density = round(nx.density(self.G),2)\n",
    "    # printing metrics ...\n",
    "    print(\"Number of Edges\", n_edges )\n",
    "    print(\"Number of Node\", n_nodes)\n",
    "    print(\"Graph Max Degree \",g_max_degree  )\n",
    "    print(\"Graph Min Degree \",g_min_degree  )\n",
    "    print(\"Graph Mean Degree \",g_avg_degree  )\n",
    "    print(\"Graph Density \", g_density)\n",
    "\n",
    "\n",
    "  def detect_communities(self):\n",
    "    self.communities = self._node_candidates_girvan_newman()\n",
    "    return self.communities , SocialMining._reverse_key_value( self.communities),community.modularity(self.communities, self.G )\n",
    "\n",
    "\n",
    "  def recommend_articles(self, article_already_read, nb_recommendations = 10, plot_subgraph = True):\n",
    "    if  self.communities is None:\n",
    "      self.detect_communities()\n",
    "    \n",
    "    list_candidate = self._node_candidates(article_already_read, nb_candidates = nb_recommendations)\n",
    "    list_candidate_ranked = self._ranking_candidate(article_already_read, list_candidate, plot_subgraph = plot_subgraph )\n",
    "    return list_candidate_ranked\n",
    "\n",
    "  def set_threashold(self,_threashold):\n",
    "    assert( type(_threashold) == float )\n",
    "    self.threashold = _threashold\n",
    "    # Rebuilding  Graph ... \n",
    "    return self._build_graph()\n",
    "\n",
    "  def get_graph(self):\n",
    "    return self.G\n",
    "\n",
    "  ####################\n",
    "  #    PRIVATE       #\n",
    "  ####################\n",
    "\n",
    "  def _load_data(self):\n",
    "    try:\n",
    "      self.src_df = pd.read_csv(self.url_src_dataset,delimiter=\"\\t\")\n",
    "      self.sim_df = pd.read_csv(self.url_similarity_score,delimiter=\",\")\n",
    "      self.sim_df = self.sim_df.drop('Unnamed: 0', 1)\n",
    "      return True\n",
    "    except Exception as e:\n",
    "      print(e)\n",
    "      return False\n",
    "  \n",
    "  def _build_graph(self):\n",
    "    try:\n",
    "      m,n = self.src_df.shape \n",
    "      self.dist_matrix = self.sim_df.values\n",
    "      for i in range(m):\n",
    "        self.dist_matrix[:,i] = [ 0 if x<self.threashold  else x for x in self.dist_matrix[:,i]   ]\n",
    "      \n",
    "      self.G = nx.Graph()\n",
    "      for n in range(m):\n",
    "        # Adding the properties each node ... \n",
    "        self.G.add_node(n, **SocialMining.get_node_properties(n, self.src_df))\n",
    "\n",
    "      #print(\"Node Title Properties: \",self.G.nodes[0][\"title\"])\n",
    "\n",
    "      # Defining Edegs based on the distance/weight matric  ...\n",
    "      for i in range(m):\n",
    "        for j in range(m):\n",
    "          if self.dist_matrix[i,j] != 0 and i != j  :\n",
    "            self.G.add_edge(i,j,weight= self.dist_matrix[i,j] ) \n",
    "      \n",
    "      self.n_edges = self.G.number_of_edges()\n",
    "      self.n_nodes = self.G.number_of_nodes()\n",
    "\n",
    "      return True\n",
    "    except Exception as e:\n",
    "      print(e)\n",
    "      return False\n",
    "  \n",
    "\n",
    "  # Selecting matching candidates per the book(s) read ... \n",
    "\n",
    "  def _node_candidates_girvan_newman(self):\n",
    "    community_ = community.best_partition(self.G,weight='weight', random_state= 1)\n",
    "    return community_\n",
    "\n",
    "  def _node_candidates_greedy(self):\n",
    "    greedy_com=list(greedy_modularity_communities(self.G, weight=\"weight\"))\n",
    "    return greedy_com\n",
    "\n",
    "  def _node_candidates_clique(self, n_cliques = 3):\n",
    "    clique_com = list(k_clique_communities(self.G, n_cliques))\n",
    "    return clique_com\n",
    "\n",
    "  def _node_candidates(self,list_read, nb_candidates = 10):\n",
    "    rv_community = SocialMining._reverse_key_value( self.communities)\n",
    "    tmp = list()\n",
    "    for one_read in list_read :\n",
    "      tmp.append(self.communities[one_read])\n",
    "\n",
    "    nb_elem = len(tmp)\n",
    "    counter=collections.Counter(tmp)\n",
    "    freq_tmp =  dict(counter)\n",
    "    result = list()\n",
    "    for k,v in freq_tmp.items():\n",
    "      nb_items = int((v/nb_elem) * nb_candidates)\n",
    "      l2 = random.sample(rv_community[k], k=nb_items)\n",
    "      result = [*result, *l2]\n",
    "    return result \n",
    "\n",
    "  # Ranking candidates ( google index based ranking No dead end trap and )...\n",
    "  def _ranking_candidate(self, list_read, list_candidate, plot_subgraph = True ):\n",
    "    assert(type(list_candidate)  == list)\n",
    "    assert(type(list_read) == list )\n",
    "\n",
    "    # remove  list_read from candidate \n",
    "    list_candidate =  [x for x in list_candidate if x not in list_read]\n",
    "    # Plot the subgrah of the articles read + candidates \n",
    "    combined = list_read + list_candidate\n",
    "    H = self.G.subgraph(combined)\n",
    "    if plot_subgraph is True :\n",
    "      nx.draw(H, with_labels=True)\n",
    "      plt.figure(figsize=(17,3))\n",
    "      plt.show()\n",
    "    # Ranking based on proximity measure\n",
    "    # Compute edge betweeness centrality in the Subgraph \n",
    "    all_edge_betweeness = edge_betweenness_centrality(H,weight=\"weight\") \n",
    "    # Compute weighted  betweeness score for each candidates (nodes )  ...\n",
    "    for edge in all_edge_betweeness:\n",
    "      score = all_edge_betweeness[edge]\n",
    "      H.nodes[edge[0]][\"betweeness_score\"] = (0 if  \"betweeness_score\" not in  H.nodes[edge[0]] else H.nodes[edge[0]][\"betweeness_score\"]) +  score\n",
    "      H.nodes[edge[1]][\"betweeness_score\"] = (0 if  \"betweeness_score\" not in  H.nodes[edge[1]] else H.nodes[edge[1]][\"betweeness_score\"]) +  score\n",
    "    \n",
    "    result = dict()\n",
    "    for candidate in list_candidate :\n",
    "      if \"betweeness_score\" in  H.nodes[candidate]:\n",
    "        result[candidate] = round( H.nodes[candidate][\"betweeness_score\"],3)\n",
    "      else:\n",
    "        result[candidate] = 0\n",
    "\n",
    "    # Sort candidate in Descending order according to w\n",
    "    sorted_result = {k: v for k, v in sorted(result.items(), key=lambda item: item[1],reverse=True )}\n",
    "    return list(sorted_result.keys()), sorted_result\n",
    "\n",
    "\n",
    "  ####################\n",
    "  #   AXILIARIES     #\n",
    "  ####################\n",
    "    # Implementing Utilities Functions ...\n",
    "  def get_node_properties(node_id, df):\n",
    "    \"\"\"\n",
    "      Method used to get details/properties of a node given a node number \n",
    "    \n",
    "      @params: \n",
    "        node_id[Integer]: Node number / ID \n",
    "        df[Pandas.Dataframe]: Source DataFrame \n",
    "      @Returns:\n",
    "        Dictionaries of all details about the Node \n",
    "    \"\"\"\n",
    "    assert( node_id  in range(df.shape[0]) )\n",
    "    return dict(df.iloc[node_id])\n",
    "\n",
    "  def is_positive_integer(i):\n",
    "    try:\n",
    "      i = int(i)\n",
    "      if i >=0:\n",
    "        return True\n",
    "    except Exception as e:\n",
    "      pass\n",
    "    return False \n",
    "\n",
    "  def split_string_in_chunks(x, chunk_size  ):\n",
    "    chunks = len(x)\n",
    "    return [ x[i:i+chunk_size] for i in range(0, chunks, chunk_size) ]\n",
    "\n",
    "  def _remove_all_special_chars(input_text):\n",
    "    assert (type(input_text) == str)\n",
    "\n",
    "    output_text = [re.sub(r\"[^a-zA-Z]+\", ' ', k) for k in input_text.split(\"\\n\")]\n",
    "    output_text = \" \".join(output_text).replace(\"\\n\", \" \")\n",
    "    output_text = output_text.lower()\n",
    "    return output_text\n",
    "\n",
    "  def _reverse_key_value(my_dict):\n",
    "    tmp = dict()\n",
    "    for (k,v) in my_dict.items() :\n",
    "      if v not in tmp:\n",
    "        tmp[v] = list() \n",
    "      tmp[v].append(k)\n",
    "\n",
    "    return tmp \n",
    "  \n",
    "\n",
    "###############################################################################\n",
    "#                         END SOCIAL MINING CLASS   \n",
    "###############################################################################\n"
   ]
  },
  {
   "cell_type": "code",
   "execution_count": 0,
   "metadata": {
    "colab": {
     "base_uri": "https://localhost:8080/",
     "height": 156
    },
    "colab_type": "code",
    "id": "I--4OWC76MKH",
    "outputId": "474fb9b3-f206-478d-d1d3-122611892276"
   },
   "outputs": [
    {
<<<<<<< Updated upstream
      "cell_type": "markdown",
      "metadata": {
        "id": "9ChrKm5-uibi",
        "colab_type": "text"
      },
      "source": [
        "#### 8-2 Exporting graph to and GML and PAJEK .."
      ]
    },
    {
      "cell_type": "code",
      "metadata": {
        "id": "w9Qg_qs9urqM",
        "colab_type": "code",
        "outputId": "c5b9bc46-d29f-4981-b13a-7aa15f8218d6",
        "colab": {
          "base_uri": "https://localhost:8080/",
          "height": 105
        }
      },
      "source": [
        "strigifier = lambda x : str(x)\n",
        "nx.write_gml(G, _root+\"/out/full_graph.gml\", stringizer= strigifier)\n",
        "nx.write_pajek(G, _root+\"/out/full_graph.pajek\" )"
      ],
      "execution_count": 0,
      "outputs": [
        {
          "output_type": "stream",
          "text": [
            "/usr/local/lib/python3.6/dist-packages/networkx/readwrite/pajek.py:77: UserWarning: Node attribute year is not processed. Non-string attribute.\n",
            "  'Non-string attribute'))\n",
            "/usr/local/lib/python3.6/dist-packages/networkx/readwrite/pajek.py:77: UserWarning: Node attribute abstract is not processed. Non-string attribute.\n",
            "  'Non-string attribute'))\n"
          ],
          "name": "stderr"
        }
      ]
=======
     "name": "stdout",
     "output_type": "stream",
     "text": [
      "{\"0\": [0, 4, 5, 12, 16, 17, 18, 19, 25, 28, 31, 35, 36, 38, 43, 44, 45, 46, 49, 53, 55, 56, 57, 60, 61, 62, 63, 65, 67, 68, 69, 73, 76, 78, 86, 89, 93, 95, 96, 98, 100, 101, 103, 104, 106, 109, 110, 111, 114, 120, 121, 125, 132, 137, 138, 140, 142, 143, 144, 147, 148, 152, 158, 166, 169, 171, 172, 174, 179, 180, 181, 182, 188, 192, 194, 196, 197, 204, 210, 211, 215, 217, 219, 220, 222, 225, 226, 228, 229, 230, 231, 233, 237, 240, 242, 248, 249, 250, 252, 254, 257, 258, 259, 260, 261, 262, 263, 264, 266, 269, 278, 279, 286, 287, 289, 290, 295, 296, 297, 301, 302, 312, 315, 318, 319, 320, 324, 326, 327, 335, 340, 343, 344, 354, 356, 357, 365, 366, 370, 372, 374, 377, 383, 384, 387, 388, 395, 398, 401, 405, 408, 412, 413, 415, 417, 418, 419, 423, 425, 427, 429, 431, 433, 437, 439, 440, 459, 460, 465, 466, 474, 477, 478, 481, 482, 485, 486, 495, 496, 501, 502, 503, 504, 509, 514, 515, 518, 524, 526, 527, 530, 532, 540, 550, 551, 552, 555, 556, 558, 559, 562, 563, 565, 566, 568, 573, 575, 579, 581, 583, 584, 585, 586, 588, 589, 590, 593, 595, 597, 599, 600, 608, 612, 613, 615, 620, 621, 622, 623, 624, 626, 627, 630, 631, 632, 635, 638, 644, 645, 646, 648, 649, 657, 666, 667, 669, 671, 678, 683, 684, 687, 690, 692, 695, 697, 704, 705, 706, 707, 708, 710, 712, 716, 717, 718, 719, 721, 728, 736, 743, 762, 763, 765, 768, 771, 774, 777, 780, 781, 783, 786, 791, 802, 803, 806, 810, 814, 823, 827, 831, 832, 834, 837, 841, 842, 843, 845, 850, 851, 852, 853, 857, 863, 865, 868, 870, 873, 874, 878, 881, 882, 884, 885, 886, 888, 890, 893, 894, 898, 901, 902, 903, 904, 906, 911, 914, 916, 922, 923, 932, 933, 934, 942, 945, 946, 952, 959, 960, 963, 964, 967, 969, 970, 973, 976, 978, 982, 984, 987, 988, 993, 994, 998, 1001, 1004, 1011, 1013, 1014, 1018, 1019, 1020, 1024, 1027, 1028, 1030, 1031, 1034, 1036, 1039, 1040, 1041, 1043, 1048, 1050, 1051, 1052, 1055, 1057, 1059, 1060, 1069, 1071, 1072, 1076, 1078, 1082, 1083, 1084, 1085, 1088, 1089, 1093, 1095, 1097, 1098, 1099, 1100, 1102, 1105, 1119, 1122, 1123, 1125, 1126, 1130, 1131, 1133, 1134, 1139, 1146, 1148, 1152, 1153, 1154, 1155, 1157, 1160, 1161, 1165, 1166, 1167, 1168, 1179, 1181, 1183, 1185, 1186, 1191, 1196, 1198, 1199, 1203, 1210, 1214, 1215, 1216, 1219, 1222, 1225, 1227, 1228, 1230, 1231, 1232, 1236, 1238, 1239, 1241, 1245, 1246, 1251, 1259, 1264, 1267], \"1\": [1, 2, 3, 6, 7, 8, 9, 10, 11, 13, 22, 30, 32, 37, 41, 47, 50, 51, 52, 54, 58, 59, 64, 66, 74, 75, 77, 79, 80, 81, 82, 83, 85, 87, 90, 105, 107, 108, 113, 116, 117, 118, 119, 123, 124, 126, 127, 128, 130, 135, 139, 141, 146, 149, 150, 151, 153, 155, 156, 157, 161, 167, 176, 177, 183, 184, 186, 189, 190, 193, 195, 199, 200, 201, 202, 206, 208, 216, 218, 221, 224, 227, 235, 236, 238, 239, 241, 244, 245, 247, 255, 256, 267, 268, 270, 271, 276, 277, 280, 281, 282, 288, 291, 292, 294, 298, 299, 300, 304, 305, 307, 308, 309, 313, 316, 322, 323, 328, 334, 337, 341, 345, 347, 348, 351, 352, 353, 358, 359, 360, 361, 362, 367, 368, 371, 375, 378, 385, 390, 391, 392, 393, 399, 400, 404, 407, 409, 410, 414, 416, 420, 421, 422, 426, 428, 432, 434, 436, 438, 442, 443, 444, 445, 446, 447, 448, 449, 450, 451, 454, 455, 456, 457, 469, 470, 473, 475, 476, 479, 480, 483, 484, 489, 490, 491, 494, 498, 505, 506, 510, 516, 520, 525, 528, 531, 534, 535, 537, 538, 547, 548, 549, 553, 554, 557, 561, 569, 572, 574, 576, 577, 580, 582, 596, 601, 604, 610, 614, 616, 617, 618, 628, 633, 634, 636, 641, 642, 656, 662, 663, 664, 665, 668, 670, 673, 679, 682, 686, 688, 689, 693, 696, 698, 699, 700, 701, 703, 709, 722, 723, 724, 725, 726, 727, 729, 731, 735, 737, 741, 748, 749, 751, 752, 754, 755, 756, 766, 767, 769, 770, 772, 773, 775, 778, 779, 782, 785, 789, 790, 792, 793, 796, 797, 799, 800, 801, 804, 807, 808, 811, 812, 813, 817, 819, 820, 822, 824, 826, 835, 838, 840, 844, 849, 858, 859, 860, 862, 871, 872, 875, 876, 879, 883, 887, 891, 892, 896, 897, 900, 905, 907, 908, 909, 910, 912, 917, 918, 920, 921, 924, 927, 928, 929, 930, 931, 939, 948, 949, 950, 951, 954, 955, 962, 968, 974, 975, 977, 979, 980, 981, 985, 986, 992, 996, 997, 1005, 1006, 1007, 1009, 1010, 1012, 1016, 1017, 1021, 1022, 1025, 1032, 1033, 1035, 1042, 1045, 1056, 1061, 1062, 1064, 1067, 1068, 1074, 1075, 1090, 1094, 1109, 1110, 1111, 1112, 1114, 1116, 1121, 1124, 1136, 1137, 1141, 1147, 1151, 1159, 1162, 1169, 1170, 1172, 1173, 1175, 1178, 1180, 1182, 1184, 1188, 1189, 1190, 1195, 1202, 1206, 1217, 1218, 1220, 1221, 1224, 1226, 1235, 1243, 1244, 1252, 1256, 1257, 1258, 1262, 1268], \"2\": [14, 15, 24, 26, 27, 29, 39, 40, 42, 70, 71, 94, 102, 112, 129, 134, 136, 145, 154, 164, 168, 170, 175, 198, 205, 232, 243, 246, 251, 265, 273, 283, 284, 285, 293, 311, 325, 338, 339, 342, 355, 379, 380, 382, 386, 397, 411, 424, 452, 458, 488, 493, 497, 507, 508, 517, 533, 539, 543, 546, 571, 658, 702, 715, 753, 788, 839, 846, 848, 880, 925, 953, 956, 991, 1086, 1192, 1194, 1234, 1242, 1265], \"3\": [20, 21, 23, 33, 34, 48, 88, 91, 97, 99, 115, 131, 133, 160, 162, 163, 165, 173, 178, 185, 187, 191, 203, 207, 212, 213, 223, 234, 253, 272, 274, 275, 303, 310, 314, 317, 321, 329, 330, 331, 332, 333, 336, 346, 350, 363, 364, 369, 373, 381, 394, 396, 402, 403, 406, 435, 441, 453, 461, 462, 463, 464, 467, 471, 472, 487, 499, 500, 513, 519, 522, 523, 529, 536, 541, 542, 544, 545, 560, 564, 567, 570, 587, 591, 592, 594, 598, 602, 603, 605, 606, 607, 609, 625, 629, 637, 639, 640, 647, 650, 651, 653, 654, 655, 659, 661, 672, 674, 675, 676, 680, 691, 694, 711, 713, 730, 732, 733, 738, 739, 740, 742, 745, 746, 747, 750, 757, 758, 759, 760, 761, 764, 784, 787, 805, 816, 818, 821, 825, 828, 830, 833, 847, 854, 861, 864, 866, 869, 877, 889, 895, 899, 913, 915, 919, 926, 935, 936, 937, 938, 940, 943, 944, 947, 957, 958, 965, 966, 971, 972, 983, 989, 990, 999, 1002, 1003, 1008, 1015, 1023, 1026, 1029, 1038, 1044, 1046, 1047, 1053, 1054, 1058, 1065, 1066, 1070, 1077, 1079, 1081, 1087, 1091, 1092, 1096, 1101, 1104, 1107, 1108, 1127, 1128, 1129, 1132, 1138, 1140, 1150, 1158, 1163, 1164, 1174, 1176, 1177, 1187, 1197, 1201, 1207, 1208, 1209, 1233, 1249, 1250, 1254], \"4\": [72, 84, 92, 122, 159, 209, 214, 306, 349, 376, 389, 430, 468, 492, 511, 512, 521, 578, 611, 619, 643, 652, 660, 677, 685, 714, 720, 734, 744, 794, 795, 798, 815, 829, 836, 855, 856, 867, 941, 961, 1000, 1037, 1049, 1063, 1106, 1113, 1205, 1211, 1237, 1247, 1266], \"5\": [681], \"6\": [776], \"7\": [809], \"8\": [995], \"9\": [1073], \"10\": [1080], \"11\": [1103], \"12\": [1115], \"13\": [1117], \"14\": [1118], \"15\": [1120], \"16\": [1135], \"17\": [1142], \"18\": [1143], \"19\": [1144], \"20\": [1145], \"21\": [1149], \"22\": [1156], \"23\": [1171], \"24\": [1193], \"25\": [1200], \"26\": [1204], \"27\": [1212], \"28\": [1213], \"29\": [1223], \"30\": [1229], \"31\": [1240], \"32\": [1248], \"33\": [1253], \"34\": [1255], \"35\": [1260], \"36\": [1261], \"37\": [1263]}\n",
      "Number of Edges 490158\n",
      "Number of Node 1269\n",
      "Graph Max Degree  1194\n",
      "Graph Min Degree  0\n",
      "Graph Mean Degree  773\n",
      "Graph Density  0.61\n"
     ]
    }
   ],
   "source": [
    "\n",
    "_root = \"/content/drive/My Drive/SOCIAL_MINING\"\n",
    "_url_src_dataset = _root+\"/data/export_articles_EGC_2004_2018.csv\"\n",
    "_url_similarity_score = _root+\"/data/similarityscore.csv\"\n",
    "\n",
    "# Instantiating Class ...\n",
    "sc = SocialMining(_url_src_dataset,_url_similarity_score,_threashold = 0.03)\n",
    "\n",
    "# Detecting communities ...\n",
    "_, rev_com , _ = sc.detect_communities()\n",
    "print(json.dumps(rev_com))\n",
    "\n",
    "# Describing Graph ...\n",
    "sc.describe_graph()"
   ]
  },
  {
   "cell_type": "code",
   "execution_count": 0,
   "metadata": {
    "colab": {
     "base_uri": "https://localhost:8080/",
     "height": 647
>>>>>>> Stashed changes
    },
    "colab_type": "code",
    "id": "93gKbPFLvP5A",
    "outputId": "7b591616-da19-4ca6-b861-8f573f77e789"
   },
   "outputs": [
    {
     "data": {
      "image/png": "iVBORw0KGgoAAAANSUhEUgAAAb4AAAEuCAYAAADx63eqAAAABHNCSVQICAgIfAhkiAAAAAlwSFlz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\nwzAMI1dY4mMYhmHkyv8H2IyInE7E7KkAAAAASUVORK5CYII=\n",
      "text/plain": [
       "<Figure size 432x288 with 1 Axes>"
      ]
     },
     "metadata": {
      "tags": []
     },
     "output_type": "display_data"
    },
    {
<<<<<<< Updated upstream
      "cell_type": "code",
      "metadata": {
        "id": "oMzQzjm6nGdy",
        "colab_type": "code",
        "colab": {}
      },
      "source": [
        "####################\n",
        "#   DEPENDENCIES   #\n",
        "####################\n",
        "import networkx as nx \n",
        "from networkx.algorithms.distance_measures import diameter\n",
        "from networkx.algorithms.community import community_utils\n",
        "from networkx.algorithms.community import greedy_modularity_communities\n",
        "from networkx.algorithms.community import k_clique_communities\n",
        "from networkx.algorithms.centrality import edge_betweenness_centrality\n",
        "from networkx.algorithms.community.centrality import girvan_newman\n",
        "import pandas as pd\n",
        "import numpy as np\n",
        "import statistics as stats\n",
        "import community\n",
        "import collections\n",
        "import os.path\n",
        "\n",
        "import math\n",
        "from matplotlib  import pyplot as plt \n",
        "from textblob import TextBlob\n",
        "import re\n",
        "import random \n",
        "import json\n",
        "\n",
        "_root = \"/content/drive/My Drive/SOCIAL_MINING\"\n",
        "_url_src_dataset = _root+\"/data/export_articles_EGC_2004_2018.csv\"\n",
        "_url_similarity_score = _root+\"/data/similarityscore.csv\"\n",
        "\n",
        "class SocialMining :\n",
        "###############################################################################\n",
        "#                         SOCIAL MINING CLASS   \n",
        "###############################################################################\n",
        "  def __init__(self, _url_src_dataset, _url_similarity_score, _threashold = 0.07 ):\n",
        "    if os.path.exists(_url_src_dataset) is False:\n",
        "      raise Exception(\"File [{}] does not exit \".format(_url_src_dataset))\n",
        "    if os.path.exists(_url_similarity_score) is False:\n",
        "      raise Exception(\"File [{}] does not exit \".format(_url_similarity_score))\n",
        "    assert( type(_threashold) == float  and _threashold >= 0 )\n",
        "\n",
        "    self.url_src_dataset = _url_src_dataset \n",
        "    self.url_similarity_score = _url_similarity_score\n",
        "    self.threashold = _threashold\n",
        "    self.src_df = None\n",
        "    self.sim_df = None\n",
        "    self.G = None \n",
        "    self.dist_matrix = None\n",
        "    self.n_nodes = 0 \n",
        "    self.n_edges = 0\n",
        "    self.communities = None\n",
        "    \n",
        "    if self._load_data() is False:\n",
        "        raise Exception(\"Error occured while loading data \")\n",
        "\n",
        "    if self._build_graph() is False:\n",
        "        raise Exception(\"Error occured while Building graph \")\n",
        "    \n",
        "  \n",
        "\n",
        "  ####################\n",
        "  #     PUBLIC       #\n",
        "  ####################\n",
        "\n",
        "  def describe_graph(self):\n",
        "    # Global Network Analysis ...\n",
        "    n_edges = self.G.number_of_edges()\n",
        "    n_nodes = self.G.number_of_nodes()\n",
        "    g_degree = nx.degree(self.G)\n",
        "    g_max_degree = max( [ x[1] for x in  g_degree ] )\n",
        "    g_min_degree = min( [ x[1] for x in  g_degree ] )\n",
        "    g_avg_degree = math.ceil(stats.mean( [ x[1] for x in  g_degree ] ))\n",
        "    g_density = round(nx.density(self.G),2)\n",
        "    # printing metrics ...\n",
        "    print(\"Number of Edges\", n_edges )\n",
        "    print(\"Number of Node\", n_nodes)\n",
        "    print(\"Graph Max Degree \",g_max_degree  )\n",
        "    print(\"Graph Min Degree \",g_min_degree  )\n",
        "    print(\"Graph Mean Degree \",g_avg_degree  )\n",
        "    print(\"Graph Density \", g_density)\n",
        "\n",
        "\n",
        "  def detect_communities(self):\n",
        "    self.communities = self._node_candidates_girvan_newman()\n",
        "    return self.communities , SocialMining._reverse_key_value( self.communities),community.modularity(self.communities, self.G )\n",
        "\n",
        "\n",
        "  def recommend_articles(self, article_already_read, nb_recommendations = 10, plot_subgraph = True):\n",
        "    if  self.communities is None:\n",
        "      self.detect_communities()\n",
        "    \n",
        "    list_candidate = self._node_candidates(article_already_read, nb_candidates = nb_recommendations)\n",
        "    list_candidate_ranked = self._ranking_candidate(article_already_read, list_candidate, plot_subgraph = plot_subgraph )\n",
        "    return list_candidate_ranked\n",
        "\n",
        "  def set_threashold(self,_threashold):\n",
        "    assert( type(_threashold) == float )\n",
        "    self.threashold = _threashold\n",
        "    # Rebuilding  Graph ... \n",
        "    return self._build_graph()\n",
        "\n",
        "  def get_graph(self):\n",
        "    return self.G\n",
        "\n",
        "  ####################\n",
        "  #    PRIVATE       #\n",
        "  ####################\n",
        "\n",
        "  def _load_data(self):\n",
        "    try:\n",
        "      self.src_df = pd.read_csv(self.url_src_dataset,delimiter=\"\\t\")\n",
        "      self.sim_df = pd.read_csv(self.url_similarity_score,delimiter=\",\")\n",
        "      self.sim_df = self.sim_df.drop('Unnamed: 0', 1)\n",
        "      return True\n",
        "    except Exception as e:\n",
        "      print(e)\n",
        "      return False\n",
        "  \n",
        "  def _build_graph(self):\n",
        "    try:\n",
        "      m,n = self.src_df.shape \n",
        "      self.dist_matrix = self.sim_df.values\n",
        "      for i in range(m):\n",
        "        self.dist_matrix[:,i] = [ 0 if x<self.threashold  else x for x in self.dist_matrix[:,i]   ]\n",
        "      \n",
        "      self.G = nx.Graph()\n",
        "      for n in range(m):\n",
        "        # Adding the properties each node ... \n",
        "        self.G.add_node(n, **SocialMining.get_node_properties(n, self.src_df))\n",
        "\n",
        "      #print(\"Node Title Properties: \",self.G.nodes[0][\"title\"])\n",
        "\n",
        "      # Defining Edegs based on the distance/weight matric  ...\n",
        "      for i in range(m):\n",
        "        for j in range(m):\n",
        "          if self.dist_matrix[i,j] != 0 and i != j  :\n",
        "            self.G.add_edge(i,j,weight= self.dist_matrix[i,j] ) \n",
        "      \n",
        "      self.n_edges = self.G.number_of_edges()\n",
        "      self.n_nodes = self.G.number_of_nodes()\n",
        "\n",
        "      return True\n",
        "    except Exception as e:\n",
        "      print(e)\n",
        "      return False\n",
        "  \n",
        "\n",
        "  # Selecting matching candidates per the book(s) read ... \n",
        "\n",
        "  def _node_candidates_girvan_newman(self):\n",
        "    community_ = community.best_partition(self.G,weight='weight', random_state= 1)\n",
        "    return community_\n",
        "\n",
        "  def _node_candidates_greedy(self):\n",
        "    greedy_com=list(greedy_modularity_communities(self.G, weight=\"weight\"))\n",
        "    return greedy_com\n",
        "\n",
        "  def _node_candidates_clique(self, n_cliques = 3):\n",
        "    clique_com = list(k_clique_communities(self.G, n_cliques))\n",
        "    return clique_com\n",
        "\n",
        "  def _node_candidates(self,list_read, nb_candidates = 10):\n",
        "    rv_community = SocialMining._reverse_key_value( self.communities)\n",
        "    tmp = list()\n",
        "    for one_read in list_read :\n",
        "      tmp.append(self.communities[one_read])\n",
        "\n",
        "    nb_elem = len(tmp)\n",
        "    counter=collections.Counter(tmp)\n",
        "    freq_tmp =  dict(counter)\n",
        "    result = list()\n",
        "    for k,v in freq_tmp.items():\n",
        "      nb_items = int((v/nb_elem) * nb_candidates)\n",
        "      l2 = random.sample(rv_community[k], k=nb_items)\n",
        "      result = [*result, *l2]\n",
        "    return result \n",
        "\n",
        "  # Ranking candidates ( google index based ranking No dead end trap and )...\n",
        "  def _ranking_candidate(self, list_read, list_candidate, plot_subgraph = True ):\n",
        "    assert(type(list_candidate)  == list)\n",
        "    assert(type(list_read) == list )\n",
        "\n",
        "    # remove  list_read from candidate \n",
        "    list_candidate =  [x for x in list_candidate if x not in list_read]\n",
        "    # Plot the subgrah of the articles read + candidates \n",
        "    combined = list_read + list_candidate\n",
        "    H = self.G.subgraph(combined)\n",
        "    if plot_subgraph is True :\n",
        "      nx.draw(H, with_labels=True)\n",
        "      plt.figure(figsize=(17,3))\n",
        "      plt.show()\n",
        "    # Ranking based on proximity measure\n",
        "    # Compute edge betweeness centrality in the Subgraph \n",
        "    all_edge_betweeness = edge_betweenness_centrality(H,weight=\"weight\") \n",
        "    # Compute weighted  betweeness score for each candidates (nodes )  ...\n",
        "    for edge in all_edge_betweeness:\n",
        "      score = all_edge_betweeness[edge]\n",
        "      H.nodes[edge[0]][\"betweeness_score\"] = (0 if  \"betweeness_score\" not in  H.nodes[edge[0]] else H.nodes[edge[0]][\"betweeness_score\"]) +  score\n",
        "      H.nodes[edge[1]][\"betweeness_score\"] = (0 if  \"betweeness_score\" not in  H.nodes[edge[1]] else H.nodes[edge[1]][\"betweeness_score\"]) +  score\n",
        "    \n",
        "    result = dict()\n",
        "    for candidate in list_candidate :\n",
        "      if \"betweeness_score\" in  H.nodes[candidate]:\n",
        "        result[candidate] = round( H.nodes[candidate][\"betweeness_score\"],3)\n",
        "      else:\n",
        "        result[candidate] = 0\n",
        "\n",
        "    # Sort candidate in Descending order according to w\n",
        "    sorted_result = {k: v for k, v in sorted(result.items(), key=lambda item: item[1],reverse=True )}\n",
        "    return list(sorted_result.keys()), sorted_result\n",
        "\n",
        "\n",
        "  ####################\n",
        "  #   AXILIARIES     #\n",
        "  ####################\n",
        "    # Implementing Utilities Functions ...\n",
        "  def get_node_properties(node_id, df):\n",
        "    \"\"\"\n",
        "      Method used to get details/properties of a node given a node number \n",
        "    \n",
        "      @params: \n",
        "        node_id[Integer]: Node number / ID \n",
        "        df[Pandas.Dataframe]: Source DataFrame \n",
        "      @Returns:\n",
        "        Dictionaries of all details about the Node \n",
        "    \"\"\"\n",
        "    assert( node_id  in range(df.shape[0]) )\n",
        "    return dict(df.iloc[node_id])\n",
        "\n",
        "  def is_positive_integer(i):\n",
        "    try:\n",
        "      i = int(i)\n",
        "      if i >=0:\n",
        "        return True\n",
        "    except Exception as e:\n",
        "      pass\n",
        "    return False \n",
        "\n",
        "  def split_string_in_chunks(x, chunk_size  ):\n",
        "    chunks = len(x)\n",
        "    return [ x[i:i+chunk_size] for i in range(0, chunks, chunk_size) ]\n",
        "\n",
        "  def _remove_all_special_chars(input_text):\n",
        "    assert (type(input_text) == str)\n",
        "\n",
        "    output_text = [re.sub(r\"[^a-zA-Z]+\", ' ', k) for k in input_text.split(\"\\n\")]\n",
        "    output_text = \" \".join(output_text).replace(\"\\n\", \" \")\n",
        "    output_text = output_text.lower()\n",
        "    return output_text\n",
        "\n",
        "  def _reverse_key_value(my_dict):\n",
        "    tmp = dict()\n",
        "    for (k,v) in my_dict.items() :\n",
        "      if v not in tmp:\n",
        "        tmp[v] = list() \n",
        "      tmp[v].append(k)\n",
        "\n",
        "    return tmp \n",
        "  \n",
        "\n",
        "###############################################################################\n",
        "#                         END SOCIAL MINING CLASS   \n",
        "###############################################################################\n"
      ],
      "execution_count": 0,
      "outputs": []
    },
    {
      "cell_type": "code",
      "metadata": {
        "id": "I--4OWC76MKH",
        "colab_type": "code",
        "outputId": "7d8260f4-388c-4d90-975b-67034c101b25",
        "colab": {
          "base_uri": "https://localhost:8080/",
          "height": 156
        }
      },
      "source": [
        "\n",
        "_root = \"/content/drive/My Drive/SOCIAL_MINING\"\n",
        "_url_src_dataset = _root+\"/data/export_articles_EGC_2004_2018.csv\"\n",
        "_url_similarity_score = _root+\"/data/similarityscore.csv\"\n",
        "\n",
        "# Instantiating Class ...\n",
        "sc = SocialMining(_url_src_dataset,_url_similarity_score,_threashold = 0.03)\n",
        "\n",
        "# Detecting communities ...\n",
        "_, rev_com , _ = sc.detect_communities()\n",
        "print(json.dumps(rev_com))\n",
        "\n",
        "# Describing Graph ...\n",
        "sc.describe_graph()"
      ],
      "execution_count": 0,
      "outputs": [
        {
          "output_type": "stream",
          "text": [
            "{\"0\": [0, 4, 5, 12, 16, 17, 18, 19, 25, 28, 31, 35, 36, 38, 43, 44, 45, 46, 49, 53, 55, 56, 57, 60, 61, 62, 63, 65, 67, 68, 69, 73, 76, 78, 86, 89, 93, 95, 96, 98, 100, 101, 103, 104, 106, 109, 110, 111, 114, 120, 121, 125, 132, 137, 138, 140, 142, 143, 144, 147, 148, 152, 158, 166, 169, 171, 172, 174, 179, 180, 181, 182, 188, 192, 194, 196, 197, 204, 210, 211, 215, 217, 219, 220, 222, 225, 226, 228, 229, 230, 231, 233, 237, 240, 242, 248, 249, 250, 252, 254, 257, 258, 259, 260, 261, 262, 263, 264, 266, 269, 278, 279, 286, 287, 289, 290, 295, 296, 297, 301, 302, 312, 315, 318, 319, 320, 324, 326, 327, 335, 340, 343, 344, 354, 356, 357, 365, 366, 370, 372, 374, 377, 383, 384, 387, 388, 395, 398, 401, 405, 408, 412, 413, 415, 417, 418, 419, 423, 425, 427, 429, 431, 433, 437, 439, 440, 459, 460, 465, 466, 474, 477, 478, 481, 482, 485, 486, 495, 496, 501, 502, 503, 504, 509, 514, 515, 518, 524, 526, 527, 530, 532, 540, 550, 551, 552, 555, 556, 558, 559, 562, 563, 565, 566, 568, 573, 575, 579, 581, 583, 584, 585, 586, 588, 589, 590, 593, 595, 597, 599, 600, 608, 612, 613, 615, 620, 621, 622, 623, 624, 626, 627, 630, 631, 632, 635, 638, 644, 645, 646, 648, 649, 657, 666, 667, 669, 671, 678, 683, 684, 687, 690, 692, 695, 697, 704, 705, 706, 707, 708, 710, 712, 716, 717, 718, 719, 721, 728, 736, 743, 762, 763, 765, 768, 771, 774, 777, 780, 781, 783, 786, 791, 802, 803, 806, 810, 814, 823, 827, 831, 832, 834, 837, 841, 842, 843, 845, 850, 851, 852, 853, 857, 863, 865, 868, 870, 873, 874, 878, 881, 882, 884, 885, 886, 888, 890, 893, 894, 898, 901, 902, 903, 904, 906, 911, 914, 916, 922, 923, 932, 933, 934, 942, 945, 946, 952, 959, 960, 963, 964, 967, 969, 970, 973, 976, 978, 982, 984, 987, 988, 993, 994, 998, 1001, 1004, 1011, 1013, 1014, 1018, 1019, 1020, 1024, 1027, 1028, 1030, 1031, 1034, 1036, 1039, 1040, 1041, 1043, 1048, 1050, 1051, 1052, 1055, 1057, 1059, 1060, 1069, 1071, 1072, 1076, 1078, 1082, 1083, 1084, 1085, 1088, 1089, 1093, 1095, 1097, 1098, 1099, 1100, 1102, 1105, 1119, 1122, 1123, 1125, 1126, 1130, 1131, 1133, 1134, 1139, 1146, 1148, 1152, 1153, 1154, 1155, 1157, 1160, 1161, 1165, 1166, 1167, 1168, 1179, 1181, 1183, 1185, 1186, 1191, 1196, 1198, 1199, 1203, 1210, 1214, 1215, 1216, 1219, 1222, 1225, 1227, 1228, 1230, 1231, 1232, 1236, 1238, 1239, 1241, 1245, 1246, 1251, 1259, 1264, 1267], \"1\": [1, 2, 3, 6, 7, 8, 9, 10, 11, 13, 22, 30, 32, 37, 41, 47, 50, 51, 52, 54, 58, 59, 64, 66, 74, 75, 77, 79, 80, 81, 82, 83, 85, 87, 90, 105, 107, 108, 113, 116, 117, 118, 119, 123, 124, 126, 127, 128, 130, 135, 139, 141, 146, 149, 150, 151, 153, 155, 156, 157, 161, 167, 176, 177, 183, 184, 186, 189, 190, 193, 195, 199, 200, 201, 202, 206, 208, 216, 218, 221, 224, 227, 235, 236, 238, 239, 241, 244, 245, 247, 255, 256, 267, 268, 270, 271, 276, 277, 280, 281, 282, 288, 291, 292, 294, 298, 299, 300, 304, 305, 307, 308, 309, 313, 316, 322, 323, 328, 334, 337, 341, 345, 347, 348, 351, 352, 353, 358, 359, 360, 361, 362, 367, 368, 371, 375, 378, 385, 390, 391, 392, 393, 399, 400, 404, 407, 409, 410, 414, 416, 420, 421, 422, 426, 428, 432, 434, 436, 438, 442, 443, 444, 445, 446, 447, 448, 449, 450, 451, 454, 455, 456, 457, 469, 470, 473, 475, 476, 479, 480, 483, 484, 489, 490, 491, 494, 498, 505, 506, 510, 516, 520, 525, 528, 531, 534, 535, 537, 538, 547, 548, 549, 553, 554, 557, 561, 569, 572, 574, 576, 577, 580, 582, 596, 601, 604, 610, 614, 616, 617, 618, 628, 633, 634, 636, 641, 642, 656, 662, 663, 664, 665, 668, 670, 673, 679, 682, 686, 688, 689, 693, 696, 698, 699, 700, 701, 703, 709, 722, 723, 724, 725, 726, 727, 729, 731, 735, 737, 741, 748, 749, 751, 752, 754, 755, 756, 766, 767, 769, 770, 772, 773, 775, 778, 779, 782, 785, 789, 790, 792, 793, 796, 797, 799, 800, 801, 804, 807, 808, 811, 812, 813, 817, 819, 820, 822, 824, 826, 835, 838, 840, 844, 849, 858, 859, 860, 862, 871, 872, 875, 876, 879, 883, 887, 891, 892, 896, 897, 900, 905, 907, 908, 909, 910, 912, 917, 918, 920, 921, 924, 927, 928, 929, 930, 931, 939, 948, 949, 950, 951, 954, 955, 962, 968, 974, 975, 977, 979, 980, 981, 985, 986, 992, 996, 997, 1005, 1006, 1007, 1009, 1010, 1012, 1016, 1017, 1021, 1022, 1025, 1032, 1033, 1035, 1042, 1045, 1056, 1061, 1062, 1064, 1067, 1068, 1074, 1075, 1090, 1094, 1109, 1110, 1111, 1112, 1114, 1116, 1121, 1124, 1136, 1137, 1141, 1147, 1151, 1159, 1162, 1169, 1170, 1172, 1173, 1175, 1178, 1180, 1182, 1184, 1188, 1189, 1190, 1195, 1202, 1206, 1217, 1218, 1220, 1221, 1224, 1226, 1235, 1243, 1244, 1252, 1256, 1257, 1258, 1262, 1268], \"2\": [14, 15, 24, 26, 27, 29, 39, 40, 42, 70, 71, 94, 102, 112, 129, 134, 136, 145, 154, 164, 168, 170, 175, 198, 205, 232, 243, 246, 251, 265, 273, 283, 284, 285, 293, 311, 325, 338, 339, 342, 355, 379, 380, 382, 386, 397, 411, 424, 452, 458, 488, 493, 497, 507, 508, 517, 533, 539, 543, 546, 571, 658, 702, 715, 753, 788, 839, 846, 848, 880, 925, 953, 956, 991, 1086, 1192, 1194, 1234, 1242, 1265], \"3\": [20, 21, 23, 33, 34, 48, 88, 91, 97, 99, 115, 131, 133, 160, 162, 163, 165, 173, 178, 185, 187, 191, 203, 207, 212, 213, 223, 234, 253, 272, 274, 275, 303, 310, 314, 317, 321, 329, 330, 331, 332, 333, 336, 346, 350, 363, 364, 369, 373, 381, 394, 396, 402, 403, 406, 435, 441, 453, 461, 462, 463, 464, 467, 471, 472, 487, 499, 500, 513, 519, 522, 523, 529, 536, 541, 542, 544, 545, 560, 564, 567, 570, 587, 591, 592, 594, 598, 602, 603, 605, 606, 607, 609, 625, 629, 637, 639, 640, 647, 650, 651, 653, 654, 655, 659, 661, 672, 674, 675, 676, 680, 691, 694, 711, 713, 730, 732, 733, 738, 739, 740, 742, 745, 746, 747, 750, 757, 758, 759, 760, 761, 764, 784, 787, 805, 816, 818, 821, 825, 828, 830, 833, 847, 854, 861, 864, 866, 869, 877, 889, 895, 899, 913, 915, 919, 926, 935, 936, 937, 938, 940, 943, 944, 947, 957, 958, 965, 966, 971, 972, 983, 989, 990, 999, 1002, 1003, 1008, 1015, 1023, 1026, 1029, 1038, 1044, 1046, 1047, 1053, 1054, 1058, 1065, 1066, 1070, 1077, 1079, 1081, 1087, 1091, 1092, 1096, 1101, 1104, 1107, 1108, 1127, 1128, 1129, 1132, 1138, 1140, 1150, 1158, 1163, 1164, 1174, 1176, 1177, 1187, 1197, 1201, 1207, 1208, 1209, 1233, 1249, 1250, 1254], \"4\": [72, 84, 92, 122, 159, 209, 214, 306, 349, 376, 389, 430, 468, 492, 511, 512, 521, 578, 611, 619, 643, 652, 660, 677, 685, 714, 720, 734, 744, 794, 795, 798, 815, 829, 836, 855, 856, 867, 941, 961, 1000, 1037, 1049, 1063, 1106, 1113, 1205, 1211, 1237, 1247, 1266], \"5\": [681], \"6\": [776], \"7\": [809], \"8\": [995], \"9\": [1073], \"10\": [1080], \"11\": [1103], \"12\": [1115], \"13\": [1117], \"14\": [1118], \"15\": [1120], \"16\": [1135], \"17\": [1142], \"18\": [1143], \"19\": [1144], \"20\": [1145], \"21\": [1149], \"22\": [1156], \"23\": [1171], \"24\": [1193], \"25\": [1200], \"26\": [1204], \"27\": [1212], \"28\": [1213], \"29\": [1223], \"30\": [1229], \"31\": [1240], \"32\": [1248], \"33\": [1253], \"34\": [1255], \"35\": [1260], \"36\": [1261], \"37\": [1263]}\n",
            "Number of Edges 490158\n",
            "Number of Node 1269\n",
            "Graph Max Degree  1194\n",
            "Graph Min Degree  0\n",
            "Graph Mean Degree  773\n",
            "Graph Density  0.61\n"
          ],
          "name": "stdout"
        }
=======
     "data": {
      "text/plain": [
       "<Figure size 1224x216 with 0 Axes>"
>>>>>>> Stashed changes
      ]
     },
     "metadata": {
      "tags": []
     },
     "output_type": "display_data"
    },
    {
<<<<<<< Updated upstream
      "cell_type": "code",
      "metadata": {
        "id": "93gKbPFLvP5A",
        "colab_type": "code",
        "colab": {}
      },
      "source": [
        "# Recommanding articles ...\n",
        "_article_already_read = [2,5,67,17,233]\n",
        "_nb_recommendation = 10\n",
        "_plot_subgraph = True\n",
        "sorted_node , ranking_index = sc.recommend_articles(article_already_read= _article_already_read ,\n",
        "                                                    nb_recommendations=_nb_recommendation,\n",
        "                                                    plot_subgraph = _plot_subgraph)\n",
        "\n",
        "# Printing results  in dataFrame ...  \n",
        "result_df = pd.DataFrame(columns=[\"Id\",\"Score\",\"Title\"])\n",
        "i = 0 \n",
        "for n in sorted_node:\n",
        "  result_df.loc[i, \"Id\"] = n\n",
        "  result_df.loc[i, \"Score\"] = ranking_index[n]\n",
        "  result_df.loc[i, \"Title\"] = str(sc.get_graph().nodes[n][\"title\"]).strip()\n",
        "  # print(\"id: \",n,\" | \", ranking_index[n], \"| Title:\",G.nodes[n][\"title\"])\n",
        "  i+=1\n",
        "\n",
        "\n",
        "\n",
        "pd.set_option(\"display.max_colwidth\",800)\n",
        "result_df"
      ],
      "execution_count": 0,
      "outputs": []
    },
    {
      "cell_type": "markdown",
      "metadata": {
        "id": "vcY4FBVzZ9yd",
        "colab_type": "text"
      },
      "source": [
        " \n",
        "* GoogleTrans https://pypi.org/project/googletrans/  \\[ 15k max string \\]\n",
        "* Textract http://textract.readthedocs.io/en/latest/\n",
        "* http://ryancompton.net/2014/06/16/community-detection-and-colored-plotting-in-networkx/\n",
        "* https://automatetheboringstuff.com/chapter13/\n",
        "* https://pypi.org/project/PyPDF2/\n",
        "* https://github.com/euske/pdfminer\n",
        "* https://www.geeksforgeeks.org/python-reading-contents-of-pdf-using-ocr-optical-character-recognition/\n",
        "\n"
      ]
    },
    {
      "cell_type": "code",
      "metadata": {
        "id": "OOZYMJ4DGWHS",
        "colab_type": "code",
        "colab": {}
      },
      "source": [
        ""
      ],
      "execution_count": 0,
      "outputs": []
=======
     "data": {
      "text/html": [
       "<div>\n",
       "<style scoped>\n",
       "    .dataframe tbody tr th:only-of-type {\n",
       "        vertical-align: middle;\n",
       "    }\n",
       "\n",
       "    .dataframe tbody tr th {\n",
       "        vertical-align: top;\n",
       "    }\n",
       "\n",
       "    .dataframe thead th {\n",
       "        text-align: right;\n",
       "    }\n",
       "</style>\n",
       "<table border=\"1\" class=\"dataframe\">\n",
       "  <thead>\n",
       "    <tr style=\"text-align: right;\">\n",
       "      <th></th>\n",
       "      <th>Id</th>\n",
       "      <th>Score</th>\n",
       "      <th>Title</th>\n",
       "    </tr>\n",
       "  </thead>\n",
       "  <tbody>\n",
       "    <tr>\n",
       "      <th>0</th>\n",
       "      <td>456</td>\n",
       "      <td>0.495</td>\n",
       "      <td>Development of a distributed recommender system using the Hadoop Framework</td>\n",
       "    </tr>\n",
       "    <tr>\n",
       "      <th>1</th>\n",
       "      <td>1133</td>\n",
       "      <td>0.319</td>\n",
       "      <td>Extraction de termes centrée autour de l'expert</td>\n",
       "    </tr>\n",
       "    <tr>\n",
       "      <th>2</th>\n",
       "      <td>705</td>\n",
       "      <td>0.275</td>\n",
       "      <td>Une approche fondée sur la corrélation entre prédicats pour le traitement des réponses pléthoriques</td>\n",
       "    </tr>\n",
       "    <tr>\n",
       "      <th>3</th>\n",
       "      <td>448</td>\n",
       "      <td>0.231</td>\n",
       "      <td>Clustering hiérarchique non paramétrique de données fonctionnelles</td>\n",
       "    </tr>\n",
       "    <tr>\n",
       "      <th>4</th>\n",
       "      <td>615</td>\n",
       "      <td>0.209</td>\n",
       "      <td>Apprentissage de patrons lexico-syntaxiques à partir de textes</td>\n",
       "    </tr>\n",
       "    <tr>\n",
       "      <th>5</th>\n",
       "      <td>12</td>\n",
       "      <td>0.165</td>\n",
       "      <td>Catégorisation d'articles scientifiques basée sur les relations sémantiques des mots-clés</td>\n",
       "    </tr>\n",
       "    <tr>\n",
       "      <th>6</th>\n",
       "      <td>340</td>\n",
       "      <td>0.165</td>\n",
       "      <td>Intégration de plusieurs formes de représentations spatiales dans un modèle de simulation</td>\n",
       "    </tr>\n",
       "    <tr>\n",
       "      <th>7</th>\n",
       "      <td>46</td>\n",
       "      <td>0.143</td>\n",
       "      <td>NFB: protocole de Notarisation des Documents dans la Blockchain</td>\n",
       "    </tr>\n",
       "    <tr>\n",
       "      <th>8</th>\n",
       "      <td>623</td>\n",
       "      <td>0.143</td>\n",
       "      <td>CARTOCEL : Un outil de cartographie des connaissances guidée par la machine cellulaire CASI</td>\n",
       "    </tr>\n",
       "  </tbody>\n",
       "</table>\n",
       "</div>"
      ],
      "text/plain": [
       "     Id  ...                                                                                                Title\n",
       "0   456  ...                           Development of a distributed recommender system using the Hadoop Framework\n",
       "1  1133  ...                                                      Extraction de termes centrée autour de l'expert\n",
       "2   705  ...  Une approche fondée sur la corrélation entre prédicats pour le traitement des réponses pléthoriques\n",
       "3   448  ...                                   Clustering hiérarchique non paramétrique de données fonctionnelles\n",
       "4   615  ...                                       Apprentissage de patrons lexico-syntaxiques à partir de textes\n",
       "5    12  ...            Catégorisation d'articles scientifiques basée sur les relations sémantiques des mots-clés\n",
       "6   340  ...            Intégration de plusieurs formes de représentations spatiales dans un modèle de simulation\n",
       "7    46  ...                                      NFB: protocole de Notarisation des Documents dans la Blockchain\n",
       "8   623  ...          CARTOCEL : Un outil de cartographie des connaissances guidée par la machine cellulaire CASI\n",
       "\n",
       "[9 rows x 3 columns]"
      ]
     },
     "execution_count": 23,
     "metadata": {
      "tags": []
     },
     "output_type": "execute_result"
>>>>>>> Stashed changes
    }
   ],
   "source": [
    "# Recommanding articles ...\n",
    "_article_already_read = [2,5,67,17,233]\n",
    "_nb_recommendation = 10\n",
    "_plot_subgraph = True\n",
    "sorted_node , ranking_index = sc.recommend_articles(article_already_read= _article_already_read ,\n",
    "                                                    nb_recommendations=_nb_recommendation,\n",
    "                                                    plot_subgraph = _plot_subgraph)\n",
    "\n",
    "# Printing results  in dataFrame ...  \n",
    "result_df = pd.DataFrame(columns=[\"Id\",\"Score\",\"Title\"])\n",
    "i = 0 \n",
    "for n in sorted_node:\n",
    "  result_df.loc[i, \"Id\"] = n\n",
    "  result_df.loc[i, \"Score\"] = ranking_index[n]\n",
    "  result_df.loc[i, \"Title\"] = str(sc.get_graph().nodes[n][\"title\"]).strip()\n",
    "  #print(\"id: \",n,\" | \", ranking_index[n], \"| Title:\",G.nodes[n][\"title\"])\n",
    "  i+=1\n",
    "\n",
    "pd.set_option(\"display.max_colwidth\",800)\n",
    "result_df"
   ]
  },
  {
   "cell_type": "code",
   "execution_count": 0,
   "metadata": {
    "colab": {},
    "colab_type": "code",
    "id": "ShQTKdzH27jT"
   },
   "outputs": [],
   "source": []
  }
 ],
 "metadata": {
  "accelerator": "GPU",
  "colab": {
   "collapsed_sections": [],
   "name": "social_mining.ipynb",
   "provenance": [],
   "toc_visible": true
  },
  "kernelspec": {
   "display_name": "Python 3",
   "language": "python",
   "name": "python3"
  },
  "language_info": {
   "codemirror_mode": {
    "name": "ipython",
    "version": 3
   },
   "file_extension": ".py",
   "mimetype": "text/x-python",
   "name": "python",
   "nbconvert_exporter": "python",
   "pygments_lexer": "ipython3",
   "version": "3.7.5"
  }
 },
 "nbformat": 4,
 "nbformat_minor": 1
}
