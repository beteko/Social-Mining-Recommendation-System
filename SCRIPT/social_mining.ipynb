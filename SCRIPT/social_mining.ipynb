{
  "nbformat": 4,
  "nbformat_minor": 0,
  "metadata": {
    "colab": {
      "name": "social_mining.ipynb",
      "provenance": [],
      "collapsed_sections": [],
      "toc_visible": true
    },
    "kernelspec": {
      "name": "python3",
      "display_name": "Python 3"
    },
    "accelerator": "GPU"
  },
  "cells": [
    {
      "cell_type": "markdown",
      "metadata": {
        "id": "pyvbZcpBy0Xo",
        "colab_type": "text"
      },
      "source": [
        "<center>\n",
        "\n",
        "#  Datamining for Big Data \n",
        "##  Recommendation System  with Graph Mining \n",
        "</center> \n"
      ]
    },
    {
      "cell_type": "markdown",
      "metadata": {
        "id": "odUCrFoCzOed",
        "colab_type": "text"
      },
      "source": [
        "### 0- Mounting Drive ..."
      ]
    },
    {
      "cell_type": "code",
      "metadata": {
        "id": "XYWuDCGIytsq",
        "colab_type": "code",
        "outputId": "70b6d593-b150-4c67-bf86-7b741c6c1fe0",
        "colab": {
          "base_uri": "https://localhost:8080/",
          "height": 122
        }
      },
      "source": [
        "from google.colab import drive\n",
        "drive.mount('/content/drive')"
      ],
      "execution_count": 0,
      "outputs": [
        {
          "output_type": "stream",
          "text": [
            "Go to this URL in a browser: https://accounts.google.com/o/oauth2/auth?client_id=947318989803-6bn6qk8qdgf4n4g3pfee6491hc0brc4i.apps.googleusercontent.com&redirect_uri=urn%3aietf%3awg%3aoauth%3a2.0%3aoob&response_type=code&scope=email%20https%3a%2f%2fwww.googleapis.com%2fauth%2fdocs.test%20https%3a%2f%2fwww.googleapis.com%2fauth%2fdrive%20https%3a%2f%2fwww.googleapis.com%2fauth%2fdrive.photos.readonly%20https%3a%2f%2fwww.googleapis.com%2fauth%2fpeopleapi.readonly\n",
            "\n",
            "Enter your authorization code:\n",
            "··········\n",
            "Mounted at /content/drive\n"
          ],
          "name": "stdout"
        }
      ]
    },
    {
      "cell_type": "markdown",
      "metadata": {
        "id": "ENyZ3EikzeF-",
        "colab_type": "text"
      },
      "source": [
        "### 1- Loading Library, Dataset and Utilities functions ... "
      ]
    },
    {
      "cell_type": "code",
      "metadata": {
        "id": "2aDTi3xjzUqD",
        "colab_type": "code",
        "outputId": "87fe5865-e6d6-4bf2-ac42-58815e07929a",
        "colab": {
          "base_uri": "https://localhost:8080/",
          "height": 68
        }
      },
      "source": [
        "# Installing dependencies ....\n",
        "! pip install textblob\n",
        "\n",
        "# Loading dependencies  ....\n",
        "import networkx as nx \n",
        "from networkx.algorithms.distance_measures import diameter\n",
        "from networkx.algorithms.community import community_utils\n",
        "from networkx.algorithms.community import greedy_modularity_communities\n",
        "\n",
        "from networkx.algorithms.community import k_clique_communities\n",
        "from networkx.algorithms.centrality import edge_betweenness_centrality\n",
        "from networkx.algorithms.community.centrality import girvan_newman\n",
        "import pandas as pd\n",
        "import numpy as np\n",
        "import statistics as stats\n",
        "import community\n",
        "import collections\n",
        "import math\n",
        "from matplotlib  import pyplot as plt \n",
        "from textblob import TextBlob\n",
        "import re\n",
        "import random \n",
        "import json"
      ],
      "execution_count": 0,
      "outputs": [
        {
          "output_type": "stream",
          "text": [
            "Requirement already satisfied: textblob in /usr/local/lib/python3.6/dist-packages (0.15.3)\n",
            "Requirement already satisfied: nltk>=3.1 in /usr/local/lib/python3.6/dist-packages (from textblob) (3.2.5)\n",
            "Requirement already satisfied: six in /usr/local/lib/python3.6/dist-packages (from nltk>=3.1->textblob) (1.12.0)\n"
          ],
          "name": "stdout"
        }
      ]
    },
    {
      "cell_type": "code",
      "metadata": {
        "id": "7cgW3RZLz6gy",
        "colab_type": "code",
        "colab": {}
      },
      "source": [
        "# Initializing global variables ...\n",
        "_root = \"/content/drive/My Drive/SOCIAL_MINING\"\n",
        "_url_src_dataset = _root+\"/data/export_articles_EGC_2004_2018.csv\"\n",
        "_url_similarity_score = _root+\"/data/similarityscore.csv\""
      ],
      "execution_count": 0,
      "outputs": []
    },
    {
      "cell_type": "code",
      "metadata": {
        "id": "NIzGE_Fz1Ti6",
        "colab_type": "code",
        "colab": {}
      },
      "source": [
        "# Implementing Utilities Functions ...\n",
        "def get_node_properties(node_id, df):\n",
        "  \"\"\"\n",
        "    Method used to get details/properties of a node given a node number \n",
        "  \n",
        "    @params: \n",
        "      node_id[Integer]: Node number / ID \n",
        "      df[Pandas.Dataframe]: Source DataFrame \n",
        "    @Returns:\n",
        "      Dictionaries of all details about the Node \n",
        "  \"\"\"\n",
        "  assert( node_id  in range(df.shape[0]) )\n",
        "  return dict(df.iloc[node_id])\n",
        "\n",
        "def is_positive_integer(i):\n",
        "  try:\n",
        "    i = int(i)\n",
        "    if i >=0:\n",
        "      return True\n",
        "  except Exception as e:\n",
        "    pass\n",
        "  return False \n",
        "\n",
        "def split_string_in_chunks(x, chunk_size  ):\n",
        "  chunks = len(x)\n",
        "  return [ x[i:i+chunk_size] for i in range(0, chunks, chunk_size) ]\n",
        "\n",
        "def _remove_all_special_chars(input_text):\n",
        "  assert (type(input_text) == str)\n",
        "\n",
        "  output_text = [re.sub(r\"[^a-zA-Z]+\", ' ', k) for k in input_text.split(\"\\n\")]\n",
        "  output_text = \" \".join(output_text).replace(\"\\n\", \" \")\n",
        "  output_text = output_text.lower()\n",
        "  return output_text\n",
        "\n",
        "def _reverse_key_value(my_dict):\n",
        "  tmp = dict()\n",
        "  for (k,v) in my_dict.items() :\n",
        "    if v not in tmp:\n",
        "      tmp[v] = list() \n",
        "    tmp[v].append(k)\n",
        "\n",
        "  return tmp \n"
      ],
      "execution_count": 0,
      "outputs": []
    },
    {
      "cell_type": "code",
      "metadata": {
        "id": "x3luTeTd2ApJ",
        "colab_type": "code",
        "colab": {}
      },
      "source": [
        "# Loading Dataset ...\n",
        "src_df = pd.read_csv(_url_src_dataset,delimiter=\"\\t\")\n",
        "sim_df = pd.read_csv(_url_similarity_score,delimiter=\",\")\n",
        "sim_df = sim_df.drop('Unnamed: 0', 1)"
      ],
      "execution_count": 0,
      "outputs": []
    },
    {
      "cell_type": "markdown",
      "metadata": {
        "id": "b9mV28c31IIo",
        "colab_type": "text"
      },
      "source": [
        "### 2- Data Visualization  ... "
      ]
    },
    {
      "cell_type": "code",
      "metadata": {
        "id": "3cQLNgTD1FfU",
        "colab_type": "code",
        "outputId": "1376e2f6-2678-4cd5-86cb-beba1e1ccd82",
        "colab": {
          "base_uri": "https://localhost:8080/",
          "height": 527
        }
      },
      "source": [
        "print(\"src_df.shape: \", src_df.shape)\n",
        "print(src_df.columns)\n",
        "print(sim_df.columns)\n",
        "src_df.head(5)"
      ],
      "execution_count": 0,
      "outputs": [
        {
          "output_type": "stream",
          "text": [
            "src_df.shape:  (1269, 8)\n",
            "Index(['series', 'booktitle', 'year', 'title', 'abstract', 'authors',\n",
            "       'pdf1page', 'pdfarticle'],\n",
            "      dtype='object')\n",
            "Index(['0', '1', '2', '3', '4', '5', '6', '7', '8', '9',\n",
            "       ...\n",
            "       '1259', '1260', '1261', '1262', '1263', '1264', '1265', '1266', '1267',\n",
            "       '1268'],\n",
            "      dtype='object', length=1269)\n"
          ],
          "name": "stdout"
        },
        {
          "output_type": "execute_result",
          "data": {
            "text/html": [
              "<div>\n",
              "<style scoped>\n",
              "    .dataframe tbody tr th:only-of-type {\n",
              "        vertical-align: middle;\n",
              "    }\n",
              "\n",
              "    .dataframe tbody tr th {\n",
              "        vertical-align: top;\n",
              "    }\n",
              "\n",
              "    .dataframe thead th {\n",
              "        text-align: right;\n",
              "    }\n",
              "</style>\n",
              "<table border=\"1\" class=\"dataframe\">\n",
              "  <thead>\n",
              "    <tr style=\"text-align: right;\">\n",
              "      <th></th>\n",
              "      <th>series</th>\n",
              "      <th>booktitle</th>\n",
              "      <th>year</th>\n",
              "      <th>title</th>\n",
              "      <th>abstract</th>\n",
              "      <th>authors</th>\n",
              "      <th>pdf1page</th>\n",
              "      <th>pdfarticle</th>\n",
              "    </tr>\n",
              "  </thead>\n",
              "  <tbody>\n",
              "    <tr>\n",
              "      <th>0</th>\n",
              "      <td>Revue des Nouvelles Technologies de l'Information</td>\n",
              "      <td>EGC</td>\n",
              "      <td>2018</td>\n",
              "      <td>#Idéo2017 : une plateforme citoyenne dédiée à ...</td>\n",
              "      <td>Cette plateforme a pour objectif de permettre ...</td>\n",
              "      <td>Claudia Marinica, Julien Longhi, Nader Hassine...</td>\n",
              "      <td>http://editions-rnti.fr/render_pdf.php?p1&amp;p=10...</td>\n",
              "      <td>http://editions-rnti.fr/render_pdf.php?p=1002425</td>\n",
              "    </tr>\n",
              "    <tr>\n",
              "      <th>1</th>\n",
              "      <td>Revue des Nouvelles Technologies de l'Information</td>\n",
              "      <td>EGC</td>\n",
              "      <td>2018</td>\n",
              "      <td>A two level co-clustering algorithm for very l...</td>\n",
              "      <td>La classification croisée (co-clustering) est ...</td>\n",
              "      <td>Marius Barctus, Marc Boullé, Fabrice Clérot</td>\n",
              "      <td>http://editions-rnti.fr/render_pdf.php?p1&amp;p=10...</td>\n",
              "      <td>http://editions-rnti.fr/render_pdf.php?p=1002372</td>\n",
              "    </tr>\n",
              "    <tr>\n",
              "      <th>2</th>\n",
              "      <td>Revue des Nouvelles Technologies de l'Information</td>\n",
              "      <td>EGC</td>\n",
              "      <td>2018</td>\n",
              "      <td>ALGeoSPF: Un modèle de factorisation basé sur ...</td>\n",
              "      <td>La recommandation de points d'intérêts est dev...</td>\n",
              "      <td>Jean-Benoît Griesner, Talel Abdesssalem, Huber...</td>\n",
              "      <td>http://editions-rnti.fr/render_pdf.php?p1&amp;p=10...</td>\n",
              "      <td>http://editions-rnti.fr/render_pdf.php?p=1002380</td>\n",
              "    </tr>\n",
              "    <tr>\n",
              "      <th>3</th>\n",
              "      <td>Revue des Nouvelles Technologies de l'Information</td>\n",
              "      <td>EGC</td>\n",
              "      <td>2018</td>\n",
              "      <td>Analyse des sentiments à partir des commentair...</td>\n",
              "      <td>L'analyse des sentiments est un processus pend...</td>\n",
              "      <td>Abdeljalil Elouardighi, Mohcine Maghfour, Hafd...</td>\n",
              "      <td>http://editions-rnti.fr/render_pdf.php?p1&amp;p=10...</td>\n",
              "      <td>http://editions-rnti.fr/render_pdf.php?p=1002397</td>\n",
              "    </tr>\n",
              "    <tr>\n",
              "      <th>4</th>\n",
              "      <td>Revue des Nouvelles Technologies de l'Information</td>\n",
              "      <td>EGC</td>\n",
              "      <td>2018</td>\n",
              "      <td>Analyse en rôles sémantiques pour le résumé au...</td>\n",
              "      <td>Cet article présente une approche visant à ext...</td>\n",
              "      <td>Elyase Lassouli, Yasmine Mesbahi, Camille Prad...</td>\n",
              "      <td>http://editions-rnti.fr/render_pdf.php?p1&amp;p=10...</td>\n",
              "      <td>http://editions-rnti.fr/render_pdf.php?p=1002384</td>\n",
              "    </tr>\n",
              "  </tbody>\n",
              "</table>\n",
              "</div>"
            ],
            "text/plain": [
              "                                              series  ...                                        pdfarticle\n",
              "0  Revue des Nouvelles Technologies de l'Information  ...  http://editions-rnti.fr/render_pdf.php?p=1002425\n",
              "1  Revue des Nouvelles Technologies de l'Information  ...  http://editions-rnti.fr/render_pdf.php?p=1002372\n",
              "2  Revue des Nouvelles Technologies de l'Information  ...  http://editions-rnti.fr/render_pdf.php?p=1002380\n",
              "3  Revue des Nouvelles Technologies de l'Information  ...  http://editions-rnti.fr/render_pdf.php?p=1002397\n",
              "4  Revue des Nouvelles Technologies de l'Information  ...  http://editions-rnti.fr/render_pdf.php?p=1002384\n",
              "\n",
              "[5 rows x 8 columns]"
            ]
          },
          "metadata": {
            "tags": []
          },
          "execution_count": 6
        }
      ]
    },
    {
      "cell_type": "code",
      "metadata": {
        "id": "RBJy1h4BUNI8",
        "colab_type": "code",
        "outputId": "0881d477-5f90-4107-ab76-29a65a9b89f0",
        "colab": {
          "base_uri": "https://localhost:8080/",
          "height": 170
        }
      },
      "source": [
        "#src_df.loc[1145]\n",
        "src_df.loc[4]"
      ],
      "execution_count": 0,
      "outputs": [
        {
          "output_type": "execute_result",
          "data": {
            "text/plain": [
              "series        Revue des Nouvelles Technologies de l'Information\n",
              "booktitle                                                   EGC\n",
              "year                                                       2018\n",
              "title         Analyse en rôles sémantiques pour le résumé au...\n",
              "abstract      Cet article présente une approche visant à ext...\n",
              "authors       Elyase Lassouli, Yasmine Mesbahi, Camille Prad...\n",
              "pdf1page      http://editions-rnti.fr/render_pdf.php?p1&p=10...\n",
              "pdfarticle     http://editions-rnti.fr/render_pdf.php?p=1002384\n",
              "Name: 4, dtype: object"
            ]
          },
          "metadata": {
            "tags": []
          },
          "execution_count": 7
        }
      ]
    },
    {
      "cell_type": "markdown",
      "metadata": {
        "id": "zFyaQ8bnB35U",
        "colab_type": "text"
      },
      "source": [
        "### 3- Data Preprocessing ..."
      ]
    },
    {
      "cell_type": "code",
      "metadata": {
        "id": "lPlM0CXT24-5",
        "colab_type": "code",
        "outputId": "f1015abd-cceb-458b-8bd6-c4ba5c70670f",
        "colab": {
          "base_uri": "https://localhost:8080/",
          "height": 153
        }
      },
      "source": [
        "# Creating Trivial Distance Function base on disctance function derived from mxm matrix ...\n",
        "m,n = src_df.shape  \n",
        "dist_matrix = sim_df.values\n",
        "print(\"dist_matrix: \\n\", dist_matrix)"
      ],
      "execution_count": 0,
      "outputs": [
        {
          "output_type": "stream",
          "text": [
            "dist_matrix: \n",
            " [[1.         0.03175874 0.03774489 ... 0.         0.0163006  0.0202879 ]\n",
            " [0.03175874 1.         0.12842015 ... 0.00364649 0.01581375 0.14576674]\n",
            " [0.03774489 0.12842015 1.         ... 0.         0.02892527 0.06165638]\n",
            " ...\n",
            " [0.         0.00364649 0.         ... 1.         0.         0.        ]\n",
            " [0.0163006  0.01581375 0.02892527 ... 0.         1.         0.00410653]\n",
            " [0.0202879  0.14576674 0.06165638 ... 0.         0.00410653 1.        ]]\n"
          ],
          "name": "stdout"
        }
      ]
    },
    {
      "cell_type": "code",
      "metadata": {
        "id": "8HdXNJwv4hHD",
        "colab_type": "code",
        "outputId": "0732c3ac-58e6-402b-eb2a-1721d26d28d5",
        "colab": {
          "base_uri": "https://localhost:8080/",
          "height": 153
        }
      },
      "source": [
        "# Filtering the distance function using the defined threashold ... \n",
        "#_threashold = 0.04\n",
        "#_threashold = 0.07\n",
        "_threashold = 0.03\n",
        "for i in range(m):\n",
        "  dist_matrix[:,i] = [ 0 if x<_threashold  else x for x in dist_matrix[:,i]   ]\n",
        "print(\"dist_matrix: \\n\", dist_matrix)"
      ],
      "execution_count": 0,
      "outputs": [
        {
          "output_type": "stream",
          "text": [
            "dist_matrix: \n",
            " [[1.         0.03175874 0.03774489 ... 0.         0.         0.        ]\n",
            " [0.03175874 1.         0.12842015 ... 0.         0.         0.14576674]\n",
            " [0.03774489 0.12842015 1.         ... 0.         0.         0.06165638]\n",
            " ...\n",
            " [0.         0.         0.         ... 1.         0.         0.        ]\n",
            " [0.         0.         0.         ... 0.         1.         0.        ]\n",
            " [0.         0.14576674 0.06165638 ... 0.         0.         1.        ]]\n"
          ],
          "name": "stdout"
        }
      ]
    },
    {
      "cell_type": "code",
      "metadata": {
        "id": "lOQSORZi6lsp",
        "colab_type": "code",
        "outputId": "343d7009-af55-410d-c2d0-50d5043f53e7",
        "colab": {
          "base_uri": "https://localhost:8080/",
          "height": 34
        }
      },
      "source": [
        "# Defining Nodes using source dataframe ...\n",
        "G = nx.Graph()\n",
        "for n in range(m):\n",
        "  # Adding the properties each node ... \n",
        "  G.add_node(n, **get_node_properties(n, src_df))\n",
        "\n",
        "print(\"Node Title Properties: \",G.nodes[0][\"title\"])\n",
        "\n",
        "# Defining Edegs based on the distance/weight matric  ...\n",
        "for i in range(m):\n",
        "  for j in range(m):\n",
        "    if dist_matrix[i,j] != 0 and i != j  :\n",
        "      G.add_edge(i,j,weight=dist_matrix[i,j] ) \n",
        "\n",
        "#print(\"Edge weight : \",G.edges[0, 1]['weight'])"
      ],
      "execution_count": 0,
      "outputs": [
        {
          "output_type": "stream",
          "text": [
            "Node Title Properties:  #Idéo2017 : une plateforme citoyenne dédiée à l'analyse des tweets lors des événements politiques\n"
          ],
          "name": "stdout"
        }
      ]
    },
    {
      "cell_type": "code",
      "metadata": {
        "id": "nxoGne_MJkIS",
        "colab_type": "code",
        "outputId": "e3488828-670e-4eef-dbe7-bf80ee80a145",
        "colab": {
          "base_uri": "https://localhost:8080/",
          "height": 336
        }
      },
      "source": [
        "# Plotting graph ...\n",
        "G.add_nodes_from(list(range(m) ))\n",
        "nx.draw(G, with_labels=True)\n",
        "plt.figure(figsize=(17,3))\n",
        "plt.show()\n",
        "\n"
      ],
      "execution_count": 0,
      "outputs": [
        {
          "output_type": "display_data",
          "data": {
            "image/png": "[encoded data removed]",
            "text/plain": [
              "<Figure size 432x288 with 1 Axes>"
            ]
          },
          "metadata": {
            "tags": []
          }
        },
        {
          "output_type": "display_data",
          "data": {
            "text/plain": [
              "<Figure size 1224x216 with 0 Axes>"
            ]
          },
          "metadata": {
            "tags": []
          }
        }
      ]
    },
    {
      "cell_type": "markdown",
      "metadata": {
        "id": "YTCyeq8EPrpX",
        "colab_type": "text"
      },
      "source": [
        "### 4- Network  Analysis ... "
      ]
    },
    {
      "cell_type": "code",
      "metadata": {
        "id": "tBNFXpBoP1HQ",
        "colab_type": "code",
        "outputId": "6a3a8746-aa0b-4932-9a61-f50a0a0d4e09",
        "colab": {
          "base_uri": "https://localhost:8080/",
          "height": 119
        }
      },
      "source": [
        "# Global Network Analysis ...\n",
        "n_edges = G.number_of_edges()\n",
        "n_nodes = G.number_of_nodes()\n",
        "#g_diameter = nx.diameter(G)\n",
        "g_degree = nx.degree(G)\n",
        "g_max_degree = max( [ x[1] for x in  g_degree ] )\n",
        "g_min_degree = min( [ x[1] for x in  g_degree ] )\n",
        "g_avg_degree = math.ceil(stats.mean( [ x[1] for x in  g_degree ] ))\n",
        "g_density = round(nx.density(G),2)\n",
        "\n",
        "print(\"Number of Edges\", n_edges )\n",
        "print(\"Number of Node\", n_nodes)\n",
        "#print(\"Graph Diameter\", g_diameter)\n",
        "print(\"Graph Max Degree \",g_max_degree  )\n",
        "print(\"Graph Min Degree \",g_min_degree  )\n",
        "print(\"Graph Mean Degree \",g_avg_degree  )\n",
        "print(\"Graph Density \", g_density)\n",
        "\n",
        "# Local Network Analysis ... \n",
        "\n"
      ],
      "execution_count": 0,
      "outputs": [
        {
          "output_type": "stream",
          "text": [
            "Number of Edges 490158\n",
            "Number of Node 1269\n",
            "Graph Max Degree  1194\n",
            "Graph Min Degree  0\n",
            "Graph Mean Degree  773\n",
            "Graph Density  0.61\n"
          ],
          "name": "stdout"
        }
      ]
    },
    {
      "cell_type": "markdown",
      "metadata": {
        "id": "VuVa4fBrQ7F7",
        "colab_type": "text"
      },
      "source": [
        "### 5- Recommendation System Implementation ..."
      ]
    },
    {
      "cell_type": "code",
      "metadata": {
        "id": "wM1yw-ZAcStH",
        "colab_type": "code",
        "colab": {}
      },
      "source": [
        "# Selecting matching candidates per the book(s) read ... \n",
        "def detect_communities(G):\n",
        "  community_ = node_candidates_girvan_newman(G)\n",
        "  return community_ , _reverse_key_value( community_),community.modularity(community_, G )\n",
        "\n",
        "\n",
        "def node_candidates_girvan_newman(G):\n",
        "  community_ = community.best_partition(G,weight='weight', random_state= 1)\n",
        "  return community_\n",
        "\n",
        "\n",
        "\n",
        "def node_candidates_greedy(G):\n",
        "  greedy_com=list(greedy_modularity_communities(G, weight=\"weight\"))\n",
        "  return greedy_com\n",
        "\n",
        "def node_candidates_clique(G, n_cliques = 3):\n",
        "  clique_com = list(k_clique_communities(G, n_cliques))\n",
        "  return clique_com\n",
        "\n",
        "def node_candidates(community,list_read, nb_candidates = 10):\n",
        "  rv_community = _reverse_key_value( community)\n",
        "  tmp = list()\n",
        "  for one_read in list_read :\n",
        "    tmp.append(community[one_read])\n",
        "\n",
        "  nb_elem = len(tmp)\n",
        "  counter=collections.Counter(tmp)\n",
        "  freq_tmp =  dict(counter)\n",
        "  result = list()\n",
        "  for k,v in freq_tmp.items():\n",
        "    nb_items = int((v/nb_elem) * nb_candidates)\n",
        "    l2 = random.sample(rv_community[k], k=nb_items)\n",
        "    result = [*result, *l2]\n",
        "  return result \n",
        "\n",
        "# Ranking candidates ( google index based ranking No dead end trap and )...\n",
        "def ranking_candidate(G, list_read, list_candidate ):\n",
        "  assert(type(list_candidate)  == list)\n",
        "  assert(type(list_read) == list )\n",
        "\n",
        "  # remove  list_read from candidate \n",
        "  list_candidate =  [x for x in list_candidate if x not in list_read]\n",
        "  # Plot the subgrah of the articles read + candidates \n",
        "  combined = list_read + list_candidate\n",
        "  print(combined)\n",
        "  H = G.subgraph(combined)\n",
        "  print(H)\n",
        "  nx.draw(H, with_labels=True)\n",
        "  plt.figure(figsize=(17,3))\n",
        "  plt.show()\n",
        "  # Ranking based on proximity measure\n",
        "  #print(G.number_of_edges(1,7))\n",
        "  # Compute edge betweeness centrality in the Subgraph \n",
        "  all_edge_betweeness = edge_betweenness_centrality(H,weight=\"weight\") \n",
        "  #print(edge_betweenness_centrality(H,weight=\"weight\") )\n",
        "  # Compute weighted  betweeness score for each candidates (nodes )  ...\n",
        "  for edge in all_edge_betweeness:\n",
        "    score = all_edge_betweeness[edge]\n",
        "    H.nodes[edge[0]][\"betweeness_score\"] = (0 if  \"betweeness_score\" not in  H.nodes[edge[0]] else H.nodes[edge[0]][\"betweeness_score\"]) +  score\n",
        "    H.nodes[edge[1]][\"betweeness_score\"] = (0 if  \"betweeness_score\" not in  H.nodes[edge[1]] else H.nodes[edge[1]][\"betweeness_score\"]) +  score\n",
        "  \n",
        "  result = dict()\n",
        "  for candidate in list_candidate :\n",
        "    if \"betweeness_score\" in  H.nodes[candidate]:\n",
        "      result[candidate] = round( H.nodes[candidate][\"betweeness_score\"],3)\n",
        "    else:\n",
        "      result[candidate] = 0\n",
        "  \n",
        "  # Sort candidate in Descending order according to w\n",
        "  sorted_result = {k: v for k, v in sorted(result.items(), key=lambda item: item[1],reverse=True )}\n",
        "  return list(sorted_result.keys()), sorted_result\n",
        "\n",
        "#all_communities,_,_ = detect_communities(G)\n",
        "#node_candidates(all_communities,[4,5,6,7,8,9,1,2], nb_candidates = 100)"
      ],
      "execution_count": 0,
      "outputs": []
    },
    {
      "cell_type": "code",
      "metadata": {
        "id": "XrzXFdZuKP5r",
        "colab_type": "code",
        "outputId": "7cbdafaa-3f3a-4140-bf6d-241980ba7017",
        "colab": {
          "base_uri": "https://localhost:8080/",
          "height": 373
        }
      },
      "source": [
        "# Testing edge betweeness based community detection ...\n",
        "all_communities  = node_candidates_girvan_newman(G)\n",
        "all_communities_as_clusters = _reverse_key_value( all_communities)\n",
        "print(\"modularity_score\", community.modularity(all_communities, G ))\n",
        "print(json.dumps(all_communities_as_clusters)  )\n",
        "\n",
        "values = [all_communities.get(node) for node in G.nodes()]\n",
        "nx.draw_spring(G, cmap = plt.get_cmap('jet'), node_color = values, node_size=30, with_labels=False)"
      ],
      "execution_count": 0,
      "outputs": [
        {
          "output_type": "stream",
          "text": [
            "modularity_score 0.12828382669842328\n",
            "{\"0\": [0, 4, 5, 12, 16, 17, 18, 19, 25, 28, 31, 35, 36, 38, 43, 44, 45, 46, 49, 53, 55, 56, 57, 60, 61, 62, 63, 65, 67, 68, 69, 73, 76, 78, 86, 89, 93, 95, 96, 98, 100, 101, 103, 104, 106, 109, 110, 111, 114, 120, 121, 125, 132, 137, 138, 140, 142, 143, 144, 147, 148, 152, 158, 166, 169, 171, 172, 174, 179, 180, 181, 182, 188, 192, 194, 196, 197, 204, 210, 211, 215, 217, 219, 220, 222, 225, 226, 228, 229, 230, 231, 233, 237, 240, 242, 248, 249, 250, 252, 254, 257, 258, 259, 260, 261, 262, 263, 264, 266, 269, 278, 279, 286, 287, 289, 290, 295, 296, 297, 301, 302, 312, 315, 318, 319, 320, 324, 326, 327, 335, 340, 343, 344, 354, 356, 357, 365, 366, 370, 372, 374, 377, 383, 384, 387, 388, 395, 398, 401, 405, 408, 412, 413, 415, 417, 418, 419, 423, 425, 427, 429, 431, 433, 437, 439, 440, 459, 460, 465, 466, 474, 477, 478, 481, 482, 485, 486, 495, 496, 501, 502, 503, 504, 509, 514, 515, 518, 524, 526, 527, 530, 532, 540, 550, 551, 552, 555, 556, 558, 559, 562, 563, 565, 566, 568, 573, 575, 579, 581, 583, 584, 585, 586, 588, 589, 590, 593, 595, 597, 599, 600, 608, 612, 613, 615, 620, 621, 622, 623, 624, 626, 627, 630, 631, 632, 635, 638, 644, 645, 646, 648, 649, 657, 666, 667, 669, 671, 678, 683, 684, 687, 690, 692, 695, 697, 704, 705, 706, 707, 708, 710, 712, 716, 717, 718, 719, 721, 728, 736, 743, 762, 763, 765, 768, 771, 774, 777, 780, 781, 783, 786, 791, 802, 803, 806, 810, 814, 823, 827, 831, 832, 834, 837, 841, 842, 843, 845, 850, 851, 852, 853, 857, 863, 865, 868, 870, 873, 874, 878, 881, 882, 884, 885, 886, 888, 890, 893, 894, 898, 901, 902, 903, 904, 906, 911, 914, 916, 922, 923, 932, 933, 934, 942, 945, 946, 952, 959, 960, 963, 964, 967, 969, 970, 973, 976, 978, 982, 984, 987, 988, 993, 994, 998, 1001, 1004, 1011, 1013, 1014, 1018, 1019, 1020, 1024, 1027, 1028, 1030, 1031, 1034, 1036, 1039, 1040, 1041, 1043, 1048, 1050, 1051, 1052, 1055, 1057, 1059, 1060, 1069, 1071, 1072, 1076, 1078, 1082, 1083, 1084, 1085, 1088, 1089, 1093, 1095, 1097, 1098, 1099, 1100, 1102, 1105, 1119, 1122, 1123, 1125, 1126, 1130, 1131, 1133, 1134, 1139, 1146, 1148, 1152, 1153, 1154, 1155, 1157, 1160, 1161, 1165, 1166, 1167, 1168, 1179, 1181, 1183, 1185, 1186, 1191, 1196, 1198, 1199, 1203, 1210, 1214, 1215, 1216, 1219, 1222, 1225, 1227, 1228, 1230, 1231, 1232, 1236, 1238, 1239, 1241, 1245, 1246, 1251, 1259, 1264, 1267], \"1\": [1, 2, 3, 6, 7, 8, 9, 10, 11, 13, 22, 30, 32, 37, 41, 47, 50, 51, 52, 54, 58, 59, 64, 66, 74, 75, 77, 79, 80, 81, 82, 83, 85, 87, 90, 105, 107, 108, 113, 116, 117, 118, 119, 123, 124, 126, 127, 128, 130, 135, 139, 141, 146, 149, 150, 151, 153, 155, 156, 157, 161, 167, 176, 177, 183, 184, 186, 189, 190, 193, 195, 199, 200, 201, 202, 206, 208, 216, 218, 221, 224, 227, 235, 236, 238, 239, 241, 244, 245, 247, 255, 256, 267, 268, 270, 271, 276, 277, 280, 281, 282, 288, 291, 292, 294, 298, 299, 300, 304, 305, 307, 308, 309, 313, 316, 322, 323, 328, 334, 337, 341, 345, 347, 348, 351, 352, 353, 358, 359, 360, 361, 362, 367, 368, 371, 375, 378, 385, 390, 391, 392, 393, 399, 400, 404, 407, 409, 410, 414, 416, 420, 421, 422, 426, 428, 432, 434, 436, 438, 442, 443, 444, 445, 446, 447, 448, 449, 450, 451, 454, 455, 456, 457, 469, 470, 473, 475, 476, 479, 480, 483, 484, 489, 490, 491, 494, 498, 505, 506, 510, 516, 520, 525, 528, 531, 534, 535, 537, 538, 547, 548, 549, 553, 554, 557, 561, 569, 572, 574, 576, 577, 580, 582, 596, 601, 604, 610, 614, 616, 617, 618, 628, 633, 634, 636, 641, 642, 656, 662, 663, 664, 665, 668, 670, 673, 679, 682, 686, 688, 689, 693, 696, 698, 699, 700, 701, 703, 709, 722, 723, 724, 725, 726, 727, 729, 731, 735, 737, 741, 748, 749, 751, 752, 754, 755, 756, 766, 767, 769, 770, 772, 773, 775, 778, 779, 782, 785, 789, 790, 792, 793, 796, 797, 799, 800, 801, 804, 807, 808, 811, 812, 813, 817, 819, 820, 822, 824, 826, 835, 838, 840, 844, 849, 858, 859, 860, 862, 871, 872, 875, 876, 879, 883, 887, 891, 892, 896, 897, 900, 905, 907, 908, 909, 910, 912, 917, 918, 920, 921, 924, 927, 928, 929, 930, 931, 939, 948, 949, 950, 951, 954, 955, 962, 968, 974, 975, 977, 979, 980, 981, 985, 986, 992, 996, 997, 1005, 1006, 1007, 1009, 1010, 1012, 1016, 1017, 1021, 1022, 1025, 1032, 1033, 1035, 1042, 1045, 1056, 1061, 1062, 1064, 1067, 1068, 1074, 1075, 1090, 1094, 1109, 1110, 1111, 1112, 1114, 1116, 1121, 1124, 1136, 1137, 1141, 1147, 1151, 1159, 1162, 1169, 1170, 1172, 1173, 1175, 1178, 1180, 1182, 1184, 1188, 1189, 1190, 1195, 1202, 1206, 1217, 1218, 1220, 1221, 1224, 1226, 1235, 1243, 1244, 1252, 1256, 1257, 1258, 1262, 1268], \"2\": [14, 15, 24, 26, 27, 29, 39, 40, 42, 70, 71, 94, 102, 112, 129, 134, 136, 145, 154, 164, 168, 170, 175, 198, 205, 232, 243, 246, 251, 265, 273, 283, 284, 285, 293, 311, 325, 338, 339, 342, 355, 379, 380, 382, 386, 397, 411, 424, 452, 458, 488, 493, 497, 507, 508, 517, 533, 539, 543, 546, 571, 658, 702, 715, 753, 788, 839, 846, 848, 880, 925, 953, 956, 991, 1086, 1192, 1194, 1234, 1242, 1265], \"3\": [20, 21, 23, 33, 34, 48, 88, 91, 97, 99, 115, 131, 133, 160, 162, 163, 165, 173, 178, 185, 187, 191, 203, 207, 212, 213, 223, 234, 253, 272, 274, 275, 303, 310, 314, 317, 321, 329, 330, 331, 332, 333, 336, 346, 350, 363, 364, 369, 373, 381, 394, 396, 402, 403, 406, 435, 441, 453, 461, 462, 463, 464, 467, 471, 472, 487, 499, 500, 513, 519, 522, 523, 529, 536, 541, 542, 544, 545, 560, 564, 567, 570, 587, 591, 592, 594, 598, 602, 603, 605, 606, 607, 609, 625, 629, 637, 639, 640, 647, 650, 651, 653, 654, 655, 659, 661, 672, 674, 675, 676, 680, 691, 694, 711, 713, 730, 732, 733, 738, 739, 740, 742, 745, 746, 747, 750, 757, 758, 759, 760, 761, 764, 784, 787, 805, 816, 818, 821, 825, 828, 830, 833, 847, 854, 861, 864, 866, 869, 877, 889, 895, 899, 913, 915, 919, 926, 935, 936, 937, 938, 940, 943, 944, 947, 957, 958, 965, 966, 971, 972, 983, 989, 990, 999, 1002, 1003, 1008, 1015, 1023, 1026, 1029, 1038, 1044, 1046, 1047, 1053, 1054, 1058, 1065, 1066, 1070, 1077, 1079, 1081, 1087, 1091, 1092, 1096, 1101, 1104, 1107, 1108, 1127, 1128, 1129, 1132, 1138, 1140, 1150, 1158, 1163, 1164, 1174, 1176, 1177, 1187, 1197, 1201, 1207, 1208, 1209, 1233, 1249, 1250, 1254], \"4\": [72, 84, 92, 122, 159, 209, 214, 306, 349, 376, 389, 430, 468, 492, 511, 512, 521, 578, 611, 619, 643, 652, 660, 677, 685, 714, 720, 734, 744, 794, 795, 798, 815, 829, 836, 855, 856, 867, 941, 961, 1000, 1037, 1049, 1063, 1106, 1113, 1205, 1211, 1237, 1247, 1266], \"5\": [681], \"6\": [776], \"7\": [809], \"8\": [995], \"9\": [1073], \"10\": [1080], \"11\": [1103], \"12\": [1115], \"13\": [1117], \"14\": [1118], \"15\": [1120], \"16\": [1135], \"17\": [1142], \"18\": [1143], \"19\": [1144], \"20\": [1145], \"21\": [1149], \"22\": [1156], \"23\": [1171], \"24\": [1193], \"25\": [1200], \"26\": [1204], \"27\": [1212], \"28\": [1213], \"29\": [1223], \"30\": [1229], \"31\": [1240], \"32\": [1248], \"33\": [1253], \"34\": [1255], \"35\": [1260], \"36\": [1261], \"37\": [1263]}\n"
          ],
          "name": "stdout"
        },
        {
          "output_type": "display_data",
          "data": {
            "image/png": "[encoded data removed]",
            "text/plain": [
              "<Figure size 432x288 with 1 Axes>"
            ]
          },
          "metadata": {
            "tags": []
          }
        }
      ]
    },
    {
      "cell_type": "code",
      "metadata": {
        "id": "qGhqV2d2BQDZ",
        "colab_type": "code",
        "outputId": "c082fefc-ff89-452e-fe04-fbe9b62f22ac",
        "colab": {
          "base_uri": "https://localhost:8080/",
          "height": 299
        }
      },
      "source": [
        "# Computing the number of nodes per clusters \n",
        "print(\"---- Louvain Algorithm ---- \")\n",
        "print(\"Total Number of clusters\",len(all_communities_as_clusters))\n",
        "\n",
        "cluster_nodes_len  = list() \n",
        "for i in all_communities_as_clusters:\n",
        "  val = all_communities_as_clusters[i]\n",
        "  cluster_nodes_len.append([i,len(val)])\n",
        "\n",
        "cluster_nodes_len = np.array(cluster_nodes_len)\n",
        "plt.bar(cluster_nodes_len[:,0], cluster_nodes_len[:,1])\n",
        "plt.show()"
      ],
      "execution_count": 0,
      "outputs": [
        {
          "output_type": "stream",
          "text": [
            "---- Louvain Algorithm ---- \n",
            "Total Number of clusters 38\n"
          ],
          "name": "stdout"
        },
        {
          "output_type": "display_data",
          "data": {
            "image/png": "[encoded data removed]",
            "text/plain": [
              "<Figure size 432x288 with 1 Axes>"
            ]
          },
          "metadata": {
            "tags": []
          }
        }
      ]
    },
    {
      "cell_type": "code",
      "metadata": {
        "id": "N8egR4ioBzsv",
        "colab_type": "code",
        "colab": {}
      },
      "source": [
        "# Testing Greedy community detection ...\n",
        "greedy_c = node_candidates_greedy(G, )\n",
        "sorted(sorted(greedy_c) )"
      ],
      "execution_count": 0,
      "outputs": []
    },
    {
      "cell_type": "code",
      "metadata": {
        "id": "MtSrPgEe7q9P",
        "colab_type": "code",
        "outputId": "1211f108-310f-41aa-b099-5f32542b28e3",
        "colab": {
          "base_uri": "https://localhost:8080/",
          "height": 353
        }
      },
      "source": [
        "# Computing the number of nodes per clusters \n",
        "print(\"---- Greedy Approach ---- \")\n",
        "greedy_c_list = list(greedy_c)\n",
        "print(\"Total Number of clusters\", len(greedy_c_list))\n",
        "print(\"modularity_score\", greedy_modularity_communities( G ))\n",
        "cluster_nodes_len =list() \n",
        "for i, cluster  in enumerate(greedy_c_list):\n",
        "  cluster_nodes_len.append([i,len(cluster)])\n",
        "print(cluster_nodes_len)\n",
        "cluster_nodes_len = np.array(cluster_nodes_len)\n",
        "plt.bar(cluster_nodes_len[:,0], cluster_nodes_len[:,1])\n",
        "plt.show()"
      ],
      "execution_count": 0,
      "outputs": [
        {
          "output_type": "stream",
          "text": [
            "---- Greedy Approach ---- \n",
            "Total Number of clusters 34\n",
            "modularity_score [frozenset({514, 237, 718, 1199, 623, 1043, 1203, 1048, 1019, 1214}), frozenset({706, 674, 645, 690, 627, 1238, 695, 697, 540, 510}), frozenset({1249, 1250, 1254, 1222, 1099, 1231, 787, 1244}), frozenset({320, 134, 39, 236, 142, 14, 495}), frozenset({738, 550, 786, 764, 733}), frozenset({446, 264, 766, 535, 1150}), frozenset({137, 132, 44}), frozenset({89, 125, 166}), frozenset({1266, 932, 652}), frozenset({290, 68}), frozenset({312, 194}), frozenset({600, 539}), frozenset({602, 36}), frozenset({201, 637}), frozenset({345, 836}), frozenset({857, 207}), frozenset({746, 919}), frozenset({957, 839}), frozenset({996, 958}), frozenset({57, 1004}), frozenset({1041, 204}), frozenset({1033, 1047}), frozenset({781, 1078}), frozenset({1005, 1127}), frozenset({1154, 1100}), frozenset({1227, 1157}), frozenset({1267, 46}), frozenset({0}), frozenset({1}), frozenset({2}), frozenset({3}), frozenset({4}), frozenset({5}), frozenset({6}), frozenset({7}), frozenset({8}), frozenset({9}), frozenset({10}), frozenset({11}), frozenset({12}), frozenset({13}), frozenset({15}), frozenset({16}), frozenset({17}), frozenset({18}), frozenset({19}), frozenset({20}), frozenset({21}), frozenset({22}), frozenset({23}), frozenset({24}), frozenset({25}), frozenset({26}), frozenset({27}), frozenset({28}), frozenset({29}), frozenset({30}), frozenset({31}), frozenset({32}), frozenset({33}), frozenset({34}), frozenset({35}), frozenset({37}), frozenset({38}), frozenset({40}), frozenset({41}), frozenset({42}), frozenset({43}), frozenset({45}), frozenset({47}), frozenset({48}), frozenset({49}), frozenset({50}), frozenset({51}), frozenset({52}), frozenset({53}), frozenset({54}), frozenset({55}), frozenset({56}), frozenset({58}), frozenset({59}), frozenset({60}), frozenset({61}), frozenset({62}), frozenset({63}), frozenset({64}), frozenset({65}), frozenset({66}), frozenset({67}), frozenset({69}), frozenset({70}), frozenset({71}), frozenset({72}), frozenset({73}), frozenset({74}), frozenset({75}), frozenset({76}), frozenset({77}), frozenset({78}), frozenset({79}), frozenset({80}), frozenset({81}), frozenset({82}), frozenset({83}), frozenset({84}), frozenset({85}), frozenset({86}), frozenset({87}), frozenset({88}), frozenset({90}), frozenset({91}), frozenset({92}), frozenset({93}), frozenset({94}), frozenset({95}), frozenset({96}), frozenset({97}), frozenset({98}), frozenset({99}), frozenset({100}), frozenset({101}), frozenset({102}), frozenset({103}), frozenset({104}), frozenset({105}), frozenset({106}), frozenset({107}), frozenset({108}), frozenset({109}), frozenset({110}), frozenset({111}), frozenset({112}), frozenset({113}), frozenset({114}), frozenset({115}), frozenset({116}), frozenset({117}), frozenset({118}), frozenset({119}), frozenset({120}), frozenset({121}), frozenset({122}), frozenset({123}), frozenset({124}), frozenset({126}), frozenset({127}), frozenset({128}), frozenset({129}), frozenset({130}), frozenset({131}), frozenset({133}), frozenset({135}), frozenset({136}), frozenset({138}), frozenset({139}), frozenset({140}), frozenset({141}), frozenset({143}), frozenset({144}), frozenset({145}), frozenset({146}), frozenset({147}), frozenset({148}), frozenset({149}), frozenset({150}), frozenset({151}), frozenset({152}), frozenset({153}), frozenset({154}), frozenset({155}), frozenset({156}), frozenset({157}), frozenset({158}), frozenset({159}), frozenset({160}), frozenset({161}), frozenset({162}), frozenset({163}), frozenset({164}), frozenset({165}), frozenset({167}), frozenset({168}), frozenset({169}), frozenset({170}), frozenset({171}), frozenset({172}), frozenset({173}), frozenset({174}), frozenset({175}), frozenset({176}), frozenset({177}), frozenset({178}), frozenset({179}), frozenset({180}), frozenset({181}), frozenset({182}), frozenset({183}), frozenset({184}), frozenset({185}), frozenset({186}), frozenset({187}), frozenset({188}), frozenset({189}), frozenset({190}), frozenset({191}), frozenset({192}), frozenset({193}), frozenset({195}), frozenset({196}), frozenset({197}), frozenset({198}), frozenset({199}), frozenset({200}), frozenset({202}), frozenset({203}), frozenset({205}), frozenset({206}), frozenset({208}), frozenset({209}), frozenset({210}), frozenset({211}), frozenset({212}), frozenset({213}), frozenset({214}), frozenset({215}), frozenset({216}), frozenset({217}), frozenset({218}), frozenset({219}), frozenset({220}), frozenset({221}), frozenset({222}), frozenset({223}), frozenset({224}), frozenset({225}), frozenset({226}), frozenset({227}), frozenset({228}), frozenset({229}), frozenset({230}), frozenset({231}), frozenset({232}), frozenset({233}), frozenset({234}), frozenset({235}), frozenset({238}), frozenset({239}), frozenset({240}), frozenset({241}), frozenset({242}), frozenset({243}), frozenset({244}), frozenset({245}), frozenset({246}), frozenset({247}), frozenset({248}), frozenset({249}), frozenset({250}), frozenset({251}), frozenset({252}), frozenset({253}), frozenset({254}), frozenset({255}), frozenset({256}), frozenset({257}), frozenset({258}), frozenset({259}), frozenset({260}), frozenset({261}), frozenset({262}), frozenset({263}), frozenset({265}), frozenset({266}), frozenset({267}), frozenset({268}), frozenset({269}), frozenset({270}), frozenset({271}), frozenset({272}), frozenset({273}), frozenset({274}), frozenset({275}), frozenset({276}), frozenset({277}), frozenset({278}), frozenset({279}), frozenset({280}), frozenset({281}), frozenset({282}), frozenset({283}), frozenset({284}), frozenset({285}), frozenset({286}), frozenset({287}), frozenset({288}), frozenset({289}), frozenset({291}), frozenset({292}), frozenset({293}), frozenset({294}), frozenset({295}), frozenset({296}), frozenset({297}), frozenset({298}), frozenset({299}), frozenset({300}), frozenset({301}), frozenset({302}), frozenset({303}), frozenset({304}), frozenset({305}), frozenset({306}), frozenset({307}), frozenset({308}), frozenset({309}), frozenset({310}), frozenset({311}), frozenset({313}), frozenset({314}), frozenset({315}), frozenset({316}), frozenset({317}), frozenset({318}), frozenset({319}), frozenset({321}), frozenset({322}), frozenset({323}), frozenset({324}), frozenset({325}), frozenset({326}), frozenset({327}), frozenset({328}), frozenset({329}), frozenset({330}), frozenset({331}), frozenset({332}), frozenset({333}), frozenset({334}), frozenset({335}), frozenset({336}), frozenset({337}), frozenset({338}), frozenset({339}), frozenset({340}), frozenset({341}), frozenset({342}), frozenset({343}), frozenset({344}), frozenset({346}), frozenset({347}), frozenset({348}), frozenset({349}), frozenset({350}), frozenset({351}), frozenset({352}), frozenset({353}), frozenset({354}), frozenset({355}), frozenset({356}), frozenset({357}), frozenset({358}), frozenset({359}), frozenset({360}), frozenset({361}), frozenset({362}), frozenset({363}), frozenset({364}), frozenset({365}), frozenset({366}), frozenset({367}), frozenset({368}), frozenset({369}), frozenset({370}), frozenset({371}), frozenset({372}), frozenset({373}), frozenset({374}), frozenset({375}), frozenset({376}), frozenset({377}), frozenset({378}), frozenset({379}), frozenset({380}), frozenset({381}), frozenset({382}), frozenset({383}), frozenset({384}), frozenset({385}), frozenset({386}), frozenset({387}), frozenset({388}), frozenset({389}), frozenset({390}), frozenset({391}), frozenset({392}), frozenset({393}), frozenset({394}), frozenset({395}), frozenset({396}), frozenset({397}), frozenset({398}), frozenset({399}), frozenset({400}), frozenset({401}), frozenset({402}), frozenset({403}), frozenset({404}), frozenset({405}), frozenset({406}), frozenset({407}), frozenset({408}), frozenset({409}), frozenset({410}), frozenset({411}), frozenset({412}), frozenset({413}), frozenset({414}), frozenset({415}), frozenset({416}), frozenset({417}), frozenset({418}), frozenset({419}), frozenset({420}), frozenset({421}), frozenset({422}), frozenset({423}), frozenset({424}), frozenset({425}), frozenset({426}), frozenset({427}), frozenset({428}), frozenset({429}), frozenset({430}), frozenset({431}), frozenset({432}), frozenset({433}), frozenset({434}), frozenset({435}), frozenset({436}), frozenset({437}), frozenset({438}), frozenset({439}), frozenset({440}), frozenset({441}), frozenset({442}), frozenset({443}), frozenset({444}), frozenset({445}), frozenset({447}), frozenset({448}), frozenset({449}), frozenset({450}), frozenset({451}), frozenset({452}), frozenset({453}), frozenset({454}), frozenset({455}), frozenset({456}), frozenset({457}), frozenset({458}), frozenset({459}), frozenset({460}), frozenset({461}), frozenset({462}), frozenset({463}), frozenset({464}), frozenset({465}), frozenset({466}), frozenset({467}), frozenset({468}), frozenset({469}), frozenset({470}), frozenset({471}), frozenset({472}), frozenset({473}), frozenset({474}), frozenset({475}), frozenset({476}), frozenset({477}), frozenset({478}), frozenset({479}), frozenset({480}), frozenset({481}), frozenset({482}), frozenset({483}), frozenset({484}), frozenset({485}), frozenset({486}), frozenset({487}), frozenset({488}), frozenset({489}), frozenset({490}), frozenset({491}), frozenset({492}), frozenset({493}), frozenset({494}), frozenset({496}), frozenset({497}), frozenset({498}), frozenset({499}), frozenset({500}), frozenset({501}), frozenset({502}), frozenset({503}), frozenset({504}), frozenset({505}), frozenset({506}), frozenset({507}), frozenset({508}), frozenset({509}), frozenset({511}), frozenset({512}), frozenset({513}), frozenset({515}), frozenset({516}), frozenset({517}), frozenset({518}), frozenset({519}), frozenset({520}), frozenset({521}), frozenset({522}), frozenset({523}), frozenset({524}), frozenset({525}), frozenset({526}), frozenset({527}), frozenset({528}), frozenset({529}), frozenset({530}), frozenset({531}), frozenset({532}), frozenset({533}), frozenset({534}), frozenset({536}), frozenset({537}), frozenset({538}), frozenset({541}), frozenset({542}), frozenset({543}), frozenset({544}), frozenset({545}), frozenset({546}), frozenset({547}), frozenset({548}), frozenset({549}), frozenset({551}), frozenset({552}), frozenset({553}), frozenset({554}), frozenset({555}), frozenset({556}), frozenset({557}), frozenset({558}), frozenset({559}), frozenset({560}), frozenset({561}), frozenset({562}), frozenset({563}), frozenset({564}), frozenset({565}), frozenset({566}), frozenset({567}), frozenset({568}), frozenset({569}), frozenset({570}), frozenset({571}), frozenset({572}), frozenset({573}), frozenset({574}), frozenset({575}), frozenset({576}), frozenset({577}), frozenset({578}), frozenset({579}), frozenset({580}), frozenset({581}), frozenset({582}), frozenset({583}), frozenset({584}), frozenset({585}), frozenset({586}), frozenset({587}), frozenset({588}), frozenset({589}), frozenset({590}), frozenset({591}), frozenset({592}), frozenset({593}), frozenset({594}), frozenset({595}), frozenset({596}), frozenset({597}), frozenset({598}), frozenset({599}), frozenset({601}), frozenset({603}), frozenset({604}), frozenset({605}), frozenset({606}), frozenset({607}), frozenset({608}), frozenset({609}), frozenset({610}), frozenset({611}), frozenset({612}), frozenset({613}), frozenset({614}), frozenset({615}), frozenset({616}), frozenset({617}), frozenset({618}), frozenset({619}), frozenset({620}), frozenset({621}), frozenset({622}), frozenset({624}), frozenset({625}), frozenset({626}), frozenset({628}), frozenset({629}), frozenset({630}), frozenset({631}), frozenset({632}), frozenset({633}), frozenset({634}), frozenset({635}), frozenset({636}), frozenset({638}), frozenset({639}), frozenset({640}), frozenset({641}), frozenset({642}), frozenset({643}), frozenset({644}), frozenset({646}), frozenset({647}), frozenset({648}), frozenset({649}), frozenset({650}), frozenset({651}), frozenset({653}), frozenset({654}), frozenset({655}), frozenset({656}), frozenset({657}), frozenset({658}), frozenset({659}), frozenset({660}), frozenset({661}), frozenset({662}), frozenset({663}), frozenset({664}), frozenset({665}), frozenset({666}), frozenset({667}), frozenset({668}), frozenset({669}), frozenset({670}), frozenset({671}), frozenset({672}), frozenset({673}), frozenset({675}), frozenset({676}), frozenset({677}), frozenset({678}), frozenset({679}), frozenset({680}), frozenset({681}), frozenset({682}), frozenset({683}), frozenset({684}), frozenset({685}), frozenset({686}), frozenset({687}), frozenset({688}), frozenset({689}), frozenset({691}), frozenset({692}), frozenset({693}), frozenset({694}), frozenset({696}), frozenset({698}), frozenset({699}), frozenset({700}), frozenset({701}), frozenset({702}), frozenset({703}), frozenset({704}), frozenset({705}), frozenset({707}), frozenset({708}), frozenset({709}), frozenset({710}), frozenset({711}), frozenset({712}), frozenset({713}), frozenset({714}), frozenset({715}), frozenset({716}), frozenset({717}), frozenset({719}), frozenset({720}), frozenset({721}), frozenset({722}), frozenset({723}), frozenset({724}), frozenset({725}), frozenset({726}), frozenset({727}), frozenset({728}), frozenset({729}), frozenset({730}), frozenset({731}), frozenset({732}), frozenset({734}), frozenset({735}), frozenset({736}), frozenset({737}), frozenset({739}), frozenset({740}), frozenset({741}), frozenset({742}), frozenset({743}), frozenset({744}), frozenset({745}), frozenset({747}), frozenset({748}), frozenset({749}), frozenset({750}), frozenset({751}), frozenset({752}), frozenset({753}), frozenset({754}), frozenset({755}), frozenset({756}), frozenset({757}), frozenset({758}), frozenset({759}), frozenset({760}), frozenset({761}), frozenset({762}), frozenset({763}), frozenset({765}), frozenset({767}), frozenset({768}), frozenset({769}), frozenset({770}), frozenset({771}), frozenset({772}), frozenset({773}), frozenset({774}), frozenset({775}), frozenset({776}), frozenset({777}), frozenset({778}), frozenset({779}), frozenset({780}), frozenset({782}), frozenset({783}), frozenset({784}), frozenset({785}), frozenset({788}), frozenset({789}), frozenset({790}), frozenset({791}), frozenset({792}), frozenset({793}), frozenset({794}), frozenset({795}), frozenset({796}), frozenset({797}), frozenset({798}), frozenset({799}), frozenset({800}), frozenset({801}), frozenset({802}), frozenset({803}), frozenset({804}), frozenset({805}), frozenset({806}), frozenset({807}), frozenset({808}), frozenset({809}), frozenset({810}), frozenset({811}), frozenset({812}), frozenset({813}), frozenset({814}), frozenset({815}), frozenset({816}), frozenset({817}), frozenset({818}), frozenset({819}), frozenset({820}), frozenset({821}), frozenset({822}), frozenset({823}), frozenset({824}), frozenset({825}), frozenset({826}), frozenset({827}), frozenset({828}), frozenset({829}), frozenset({830}), frozenset({831}), frozenset({832}), frozenset({833}), frozenset({834}), frozenset({835}), frozenset({837}), frozenset({838}), frozenset({840}), frozenset({841}), frozenset({842}), frozenset({843}), frozenset({844}), frozenset({845}), frozenset({846}), frozenset({847}), frozenset({848}), frozenset({849}), frozenset({850}), frozenset({851}), frozenset({852}), frozenset({853}), frozenset({854}), frozenset({855}), frozenset({856}), frozenset({858}), frozenset({859}), frozenset({860}), frozenset({861}), frozenset({862}), frozenset({863}), frozenset({864}), frozenset({865}), frozenset({866}), frozenset({867}), frozenset({868}), frozenset({869}), frozenset({870}), frozenset({871}), frozenset({872}), frozenset({873}), frozenset({874}), frozenset({875}), frozenset({876}), frozenset({877}), frozenset({878}), frozenset({879}), frozenset({880}), frozenset({881}), frozenset({882}), frozenset({883}), frozenset({884}), frozenset({885}), frozenset({886}), frozenset({887}), frozenset({888}), frozenset({889}), frozenset({890}), frozenset({891}), frozenset({892}), frozenset({893}), frozenset({894}), frozenset({895}), frozenset({896}), frozenset({897}), frozenset({898}), frozenset({899}), frozenset({900}), frozenset({901}), frozenset({902}), frozenset({903}), frozenset({904}), frozenset({905}), frozenset({906}), frozenset({907}), frozenset({908}), frozenset({909}), frozenset({910}), frozenset({911}), frozenset({912}), frozenset({913}), frozenset({914}), frozenset({915}), frozenset({916}), frozenset({917}), frozenset({918}), frozenset({920}), frozenset({921}), frozenset({922}), frozenset({923}), frozenset({924}), frozenset({925}), frozenset({926}), frozenset({927}), frozenset({928}), frozenset({929}), frozenset({930}), frozenset({931}), frozenset({933}), frozenset({934}), frozenset({935}), frozenset({936}), frozenset({937}), frozenset({938}), frozenset({939}), frozenset({940}), frozenset({941}), frozenset({942}), frozenset({943}), frozenset({944}), frozenset({945}), frozenset({946}), frozenset({947}), frozenset({948}), frozenset({949}), frozenset({950}), frozenset({951}), frozenset({952}), frozenset({953}), frozenset({954}), frozenset({955}), frozenset({956}), frozenset({959}), frozenset({960}), frozenset({961}), frozenset({962}), frozenset({963}), frozenset({964}), frozenset({965}), frozenset({966}), frozenset({967}), frozenset({968}), frozenset({969}), frozenset({970}), frozenset({971}), frozenset({972}), frozenset({973}), frozenset({974}), frozenset({975}), frozenset({976}), frozenset({977}), frozenset({978}), frozenset({979}), frozenset({980}), frozenset({981}), frozenset({982}), frozenset({983}), frozenset({984}), frozenset({985}), frozenset({986}), frozenset({987}), frozenset({988}), frozenset({989}), frozenset({990}), frozenset({991}), frozenset({992}), frozenset({993}), frozenset({994}), frozenset({995}), frozenset({997}), frozenset({998}), frozenset({999}), frozenset({1000}), frozenset({1001}), frozenset({1002}), frozenset({1003}), frozenset({1006}), frozenset({1007}), frozenset({1008}), frozenset({1009}), frozenset({1010}), frozenset({1011}), frozenset({1012}), frozenset({1013}), frozenset({1014}), frozenset({1015}), frozenset({1016}), frozenset({1017}), frozenset({1018}), frozenset({1020}), frozenset({1021}), frozenset({1022}), frozenset({1023}), frozenset({1024}), frozenset({1025}), frozenset({1026}), frozenset({1027}), frozenset({1028}), frozenset({1029}), frozenset({1030}), frozenset({1031}), frozenset({1032}), frozenset({1034}), frozenset({1035}), frozenset({1036}), frozenset({1037}), frozenset({1038}), frozenset({1039}), frozenset({1040}), frozenset({1042}), frozenset({1044}), frozenset({1045}), frozenset({1046}), frozenset({1049}), frozenset({1050}), frozenset({1051}), frozenset({1052}), frozenset({1053}), frozenset({1054}), frozenset({1055}), frozenset({1056}), frozenset({1057}), frozenset({1058}), frozenset({1059}), frozenset({1060}), frozenset({1061}), frozenset({1062}), frozenset({1063}), frozenset({1064}), frozenset({1065}), frozenset({1066}), frozenset({1067}), frozenset({1068}), frozenset({1069}), frozenset({1070}), frozenset({1071}), frozenset({1072}), frozenset({1073}), frozenset({1074}), frozenset({1075}), frozenset({1076}), frozenset({1077}), frozenset({1079}), frozenset({1080}), frozenset({1081}), frozenset({1082}), frozenset({1083}), frozenset({1084}), frozenset({1085}), frozenset({1086}), frozenset({1087}), frozenset({1088}), frozenset({1089}), frozenset({1090}), frozenset({1091}), frozenset({1092}), frozenset({1093}), frozenset({1094}), frozenset({1095}), frozenset({1096}), frozenset({1097}), frozenset({1098}), frozenset({1101}), frozenset({1102}), frozenset({1103}), frozenset({1104}), frozenset({1105}), frozenset({1106}), frozenset({1107}), frozenset({1108}), frozenset({1109}), frozenset({1110}), frozenset({1111}), frozenset({1112}), frozenset({1113}), frozenset({1114}), frozenset({1115}), frozenset({1116}), frozenset({1117}), frozenset({1118}), frozenset({1119}), frozenset({1120}), frozenset({1121}), frozenset({1122}), frozenset({1123}), frozenset({1124}), frozenset({1125}), frozenset({1126}), frozenset({1128}), frozenset({1129}), frozenset({1130}), frozenset({1131}), frozenset({1132}), frozenset({1133}), frozenset({1134}), frozenset({1135}), frozenset({1136}), frozenset({1137}), frozenset({1138}), frozenset({1139}), frozenset({1140}), frozenset({1141}), frozenset({1142}), frozenset({1143}), frozenset({1144}), frozenset({1145}), frozenset({1146}), frozenset({1147}), frozenset({1148}), frozenset({1149}), frozenset({1151}), frozenset({1152}), frozenset({1153}), frozenset({1155}), frozenset({1156}), frozenset({1158}), frozenset({1159}), frozenset({1160}), frozenset({1161}), frozenset({1162}), frozenset({1163}), frozenset({1164}), frozenset({1165}), frozenset({1166}), frozenset({1167}), frozenset({1168}), frozenset({1169}), frozenset({1170}), frozenset({1171}), frozenset({1172}), frozenset({1173}), frozenset({1174}), frozenset({1175}), frozenset({1176}), frozenset({1177}), frozenset({1178}), frozenset({1179}), frozenset({1180}), frozenset({1181}), frozenset({1182}), frozenset({1183}), frozenset({1184}), frozenset({1185}), frozenset({1186}), frozenset({1187}), frozenset({1188}), frozenset({1189}), frozenset({1190}), frozenset({1191}), frozenset({1192}), frozenset({1193}), frozenset({1194}), frozenset({1195}), frozenset({1196}), frozenset({1197}), frozenset({1198}), frozenset({1200}), frozenset({1201}), frozenset({1202}), frozenset({1204}), frozenset({1205}), frozenset({1206}), frozenset({1207}), frozenset({1208}), frozenset({1209}), frozenset({1210}), frozenset({1211}), frozenset({1212}), frozenset({1213}), frozenset({1215}), frozenset({1216}), frozenset({1217}), frozenset({1218}), frozenset({1219}), frozenset({1220}), frozenset({1221}), frozenset({1223}), frozenset({1224}), frozenset({1225}), frozenset({1226}), frozenset({1228}), frozenset({1229}), frozenset({1230}), frozenset({1232}), frozenset({1233}), frozenset({1234}), frozenset({1235}), frozenset({1236}), frozenset({1237}), frozenset({1239}), frozenset({1240}), frozenset({1241}), frozenset({1242}), frozenset({1243}), frozenset({1245}), frozenset({1246}), frozenset({1247}), frozenset({1248}), frozenset({1251}), frozenset({1252}), frozenset({1253}), frozenset({1255}), frozenset({1256}), frozenset({1257}), frozenset({1258}), frozenset({1259}), frozenset({1260}), frozenset({1261}), frozenset({1262}), frozenset({1263}), frozenset({1264}), frozenset({1265}), frozenset({1268})]\n",
            "[[0, 1236], [1, 1], [2, 1], [3, 1], [4, 1], [5, 1], [6, 1], [7, 1], [8, 1], [9, 1], [10, 1], [11, 1], [12, 1], [13, 1], [14, 1], [15, 1], [16, 1], [17, 1], [18, 1], [19, 1], [20, 1], [21, 1], [22, 1], [23, 1], [24, 1], [25, 1], [26, 1], [27, 1], [28, 1], [29, 1], [30, 1], [31, 1], [32, 1], [33, 1]]\n"
          ],
          "name": "stdout"
        },
        {
          "output_type": "display_data",
          "data": {
            "image/png": "[encoded data removed]",
            "text/plain": [
              "<Figure size 432x288 with 1 Axes>"
            ]
          },
          "metadata": {
            "tags": []
          }
        }
      ]
    },
    {
      "cell_type": "markdown",
      "metadata": {
        "id": "x5QgWg4iAv1a",
        "colab_type": "text"
      },
      "source": [
        "* Highly unbalanced"
      ]
    },
    {
      "cell_type": "code",
      "metadata": {
        "id": "wHxmEvbfK5eA",
        "colab_type": "code",
        "colab": {}
      },
      "source": [
        "# Testing Clique community detection (Strong Assumption) ...\n",
        "clique_c = node_candidates_clique(G,n_cliques =200)\n",
        "clique_c\n"
      ],
      "execution_count": 0,
      "outputs": []
    },
    {
      "cell_type": "markdown",
      "metadata": {
        "id": "2nQkteB9A2Wu",
        "colab_type": "text"
      },
      "source": [
        "* Memory overflow "
      ]
    },
    {
      "cell_type": "code",
      "metadata": {
        "id": "OfawFYtoRerO",
        "colab_type": "code",
        "colab": {}
      },
      "source": [
        "from networkx import edge_betweenness_centrality as betweenness\n",
        "def most_central_edge(G):\n",
        "    centrality = betweenness(G, weight='weight')\n",
        "    return max(centrality, key=centrality.get)\n",
        "\n",
        "\n",
        "comp = girvan_newman(G, most_valuable_edge=most_central_edge)\n",
        "tuple(sorted(c) for c in next(comp))\n"
      ],
      "execution_count": 0,
      "outputs": []
    },
    {
      "cell_type": "code",
      "metadata": {
        "id": "6cyiFI1QK53S",
        "colab_type": "code",
        "outputId": "03589a9f-fbe5-4d30-a72c-a72dc5feb3c0",
        "colab": {
          "base_uri": "https://localhost:8080/",
          "height": 34
        }
      },
      "source": [
        "# Testing ranking candidate ... \n",
        "v,p = ranking_candidate(G, [5], [2,3,6,7])\n",
        "print(v,p)"
      ],
      "execution_count": 0,
      "outputs": [
        {
          "output_type": "stream",
          "text": [
            "[7, 2, 3, 6] {7: 15.4, 2: 4.4, 3: 4.4, 6: 4.4}\n"
          ],
          "name": "stdout"
        }
      ]
    },
    {
      "cell_type": "markdown",
      "metadata": {
        "id": "SwbaLBLcS0Tc",
        "colab_type": "text"
      },
      "source": [
        "### 6- System Evaluation ..."
      ]
    },
    {
      "cell_type": "markdown",
      "metadata": {
        "id": "67rcV-kSCfoQ",
        "colab_type": "text"
      },
      "source": [
        "### 7 - Demo (console)"
      ]
    },
    {
      "cell_type": "code",
      "metadata": {
        "id": "gSHgsz_6qqZ3",
        "colab_type": "code",
        "colab": {}
      },
      "source": [
        "all_communities,_,_ = detect_communities(G)\n"
      ],
      "execution_count": 0,
      "outputs": []
    },
    {
      "cell_type": "code",
      "metadata": {
        "id": "9f59K3aH-DnK",
        "colab_type": "code",
        "outputId": "7885e83d-7aed-4d63-ad3f-63c0e5ddc84e",
        "colab": {
          "base_uri": "https://localhost:8080/",
          "height": 1000
        }
      },
      "source": [
        "book_read_id = None \n",
        "n_nodes = G.number_of_nodes()\n",
        "list_read = list()\n",
        "while True:\n",
        "  book_read_id = input(\"What book have you read <Enter END to exit>: \")\n",
        "  if book_read_id.upper().strip() == \"END\":\n",
        "    break\n",
        "  elif is_positive_integer(book_read_id) is True: \n",
        "    if int(book_read_id)  in range(n_nodes) :\n",
        "      list_read.append(int(book_read_id))\n",
        "    else:\n",
        "       print(\"Invalid Input. book_id selected does not exists \")\n",
        "  else:\n",
        "    print(\"Invalid Input. Positive Number Expected \")\n",
        "\n",
        "\n",
        "# Recommendation ...\n",
        "list_read =  list(set(list_read))\n",
        "print(\"\\n\\nYou have read {} Articles : [ {} ]\".format( str(len(list_read)), str(list_read) ) )\n",
        "\n",
        "if(len(list_read) == 0 ):\n",
        "  raise Exception(\"No Articles provided \")\n",
        "print(\"\\nRecommendation \")\n",
        "print(\"---------------\")\n",
        "\n",
        "lst_neighbors = node_candidates(all_communities,list_read, nb_candidates = 20)\n",
        "sorted_node , ranking_index = ranking_candidate(G, list_read, lst_neighbors)\n",
        "\n",
        "\n",
        "result_df = pd.DataFrame(columns=[\"Id\",\"Score\",\"Title\"])\n",
        "i = 0 \n",
        "for n in sorted_node:\n",
        "  result_df.loc[i, \"Id\"] = n\n",
        "  result_df.loc[i, \"Score\"] = ranking_index[n]\n",
        "  result_df.loc[i, \"Title\"] = str(G.nodes[n][\"title\"]).strip()\n",
        "  #print(\"id: \",n,\" | \", ranking_index[n], \"| Title:\",G.nodes[n][\"title\"])\n",
        "  i+=1\n",
        "\n",
        "pd.set_option(\"display.max_colwidth\",800)\n",
        "result_df\n",
        "\n",
        "# Be careful with with stop word elimination since there are some docs in english and french \n",
        "#30  |  0.22 | Title: Exploration et analyses multi-objectifs de séries temporelles de données météorologiques\n",
        "#14  |  0.02 | Title: Community structure in complex networks\n",
        " "
      ],
      "execution_count": 0,
      "outputs": [
        {
          "output_type": "stream",
          "text": [
            "What book have you read <Enter END to exit>: 2\n",
            "What book have you read <Enter END to exit>: 45\n",
            "What book have you read <Enter END to exit>: 67\n",
            "What book have you read <Enter END to exit>: end\n",
            "\n",
            "\n",
            "You have read 3 Articles : [ [2, 67, 45] ]\n",
            "\n",
            "Recommendation \n",
            "---------------\n",
            "[2, 67, 45, 879, 778, 1190, 547, 316, 268, 324, 814, 878, 874, 780, 1031, 415, 514, 558, 1168, 888, 192, 103]\n",
            "\n"
          ],
          "name": "stdout"
        },
        {
          "output_type": "display_data",
          "data": {
            "image/png": "[encoded data removed]",
            "text/plain": [
              "<Figure size 432x288 with 1 Axes>"
            ]
          },
          "metadata": {
            "tags": []
          }
        },
        {
          "output_type": "display_data",
          "data": {
            "text/plain": [
              "<Figure size 1224x216 with 0 Axes>"
            ]
          },
          "metadata": {
            "tags": []
          }
        },
        {
          "output_type": "execute_result",
          "data": {
            "text/html": [
              "<div>\n",
              "<style scoped>\n",
              "    .dataframe tbody tr th:only-of-type {\n",
              "        vertical-align: middle;\n",
              "    }\n",
              "\n",
              "    .dataframe tbody tr th {\n",
              "        vertical-align: top;\n",
              "    }\n",
              "\n",
              "    .dataframe thead th {\n",
              "        text-align: right;\n",
              "    }\n",
              "</style>\n",
              "<table border=\"1\" class=\"dataframe\">\n",
              "  <thead>\n",
              "    <tr style=\"text-align: right;\">\n",
              "      <th></th>\n",
              "      <th>Id</th>\n",
              "      <th>Score</th>\n",
              "      <th>Title</th>\n",
              "    </tr>\n",
              "  </thead>\n",
              "  <tbody>\n",
              "    <tr>\n",
              "      <th>0</th>\n",
              "      <td>814</td>\n",
              "      <td>0.238</td>\n",
              "      <td>Conception de systèmes d'information spatio-temporelle adaptatifs avec ASTIS</td>\n",
              "    </tr>\n",
              "    <tr>\n",
              "      <th>1</th>\n",
              "      <td>103</td>\n",
              "      <td>0.195</td>\n",
              "      <td>Faciliter les contributions personnelles pour préserver la mémoire des événements historiques</td>\n",
              "    </tr>\n",
              "    <tr>\n",
              "      <th>2</th>\n",
              "      <td>268</td>\n",
              "      <td>0.176</td>\n",
              "      <td>Modèle de Biclustering dans un paradigme \"Mapreduce\"</td>\n",
              "    </tr>\n",
              "    <tr>\n",
              "      <th>3</th>\n",
              "      <td>780</td>\n",
              "      <td>0.16</td>\n",
              "      <td>RDBToOnto : un logiciel dédié à l'apprentissage d'ontologies à partir de bases de données relationnelles</td>\n",
              "    </tr>\n",
              "    <tr>\n",
              "      <th>4</th>\n",
              "      <td>1168</td>\n",
              "      <td>0.16</td>\n",
              "      <td>Restructuration automatique de documents dans les corpus semi-structurés hétérogènes</td>\n",
              "    </tr>\n",
              "    <tr>\n",
              "      <th>5</th>\n",
              "      <td>874</td>\n",
              "      <td>0.152</td>\n",
              "      <td>SOM pour la Classification Automatique Non supervisée de Documents Textuels basés sur Wordnet</td>\n",
              "    </tr>\n",
              "    <tr>\n",
              "      <th>6</th>\n",
              "      <td>888</td>\n",
              "      <td>0.152</td>\n",
              "      <td>Une approche ontologique pour automatiser le contrôle de conformité dans le domaine du bâtiment</td>\n",
              "    </tr>\n",
              "    <tr>\n",
              "      <th>7</th>\n",
              "      <td>1190</td>\n",
              "      <td>0.145</td>\n",
              "      <td>Accélération de EM pour données qualitatives : études comparative de différentes versions</td>\n",
              "    </tr>\n",
              "    <tr>\n",
              "      <th>8</th>\n",
              "      <td>878</td>\n",
              "      <td>0.143</td>\n",
              "      <td>Système multi-agent argumentatif pour la classification des connaissances cruciales</td>\n",
              "    </tr>\n",
              "    <tr>\n",
              "      <th>9</th>\n",
              "      <td>316</td>\n",
              "      <td>0.141</td>\n",
              "      <td>Construction de cube OLAP à partir d'un entrepôt de données orienté colonnes</td>\n",
              "    </tr>\n",
              "    <tr>\n",
              "      <th>10</th>\n",
              "      <td>879</td>\n",
              "      <td>0.134</td>\n",
              "      <td>Un algorithme de classification topographique non supervisée à deux niveaux simultanés</td>\n",
              "    </tr>\n",
              "    <tr>\n",
              "      <th>11</th>\n",
              "      <td>547</td>\n",
              "      <td>0.134</td>\n",
              "      <td>Intégration de données haptiques brutes dans des systèmes experts de diagnostic des connaissances</td>\n",
              "    </tr>\n",
              "    <tr>\n",
              "      <th>12</th>\n",
              "      <td>1031</td>\n",
              "      <td>0.134</td>\n",
              "      <td>Enrichissement d'ontologies dans le secteur de l'eau douce en environnement Internet distribué et multilingue</td>\n",
              "    </tr>\n",
              "    <tr>\n",
              "      <th>13</th>\n",
              "      <td>415</td>\n",
              "      <td>0.126</td>\n",
              "      <td>Paramétrage intelligent de l'alignement d'ontologies par l'intégrale de Choquet</td>\n",
              "    </tr>\n",
              "    <tr>\n",
              "      <th>14</th>\n",
              "      <td>192</td>\n",
              "      <td>0.126</td>\n",
              "      <td>Nettoyage de données guidé par la sémantique inter-colonnes</td>\n",
              "    </tr>\n",
              "    <tr>\n",
              "      <th>15</th>\n",
              "      <td>778</td>\n",
              "      <td>0.117</td>\n",
              "      <td>Privacy and Data Mining: New Developments and Challenges</td>\n",
              "    </tr>\n",
              "    <tr>\n",
              "      <th>16</th>\n",
              "      <td>324</td>\n",
              "      <td>0.108</td>\n",
              "      <td>Du texte à la base de données géographiques</td>\n",
              "    </tr>\n",
              "    <tr>\n",
              "      <th>17</th>\n",
              "      <td>514</td>\n",
              "      <td>0.108</td>\n",
              "      <td>Apport de la catégorisation iconique pour la gestion coopérative des connaissances1</td>\n",
              "    </tr>\n",
              "    <tr>\n",
              "      <th>18</th>\n",
              "      <td>558</td>\n",
              "      <td>0.108</td>\n",
              "      <td>Modèle pour une analyse du phénomène de linéarité de catégories sémantiques dans les énoncés en français</td>\n",
              "    </tr>\n",
              "  </tbody>\n",
              "</table>\n",
              "</div>"
            ],
            "text/plain": [
              "      Id  ...                                                                                                          Title\n",
              "0    814  ...                                   Conception de systèmes d'information spatio-temporelle adaptatifs avec ASTIS\n",
              "1    103  ...                  Faciliter les contributions personnelles pour préserver la mémoire des événements historiques\n",
              "2    268  ...                                                           Modèle de Biclustering dans un paradigme \"Mapreduce\"\n",
              "3    780  ...       RDBToOnto : un logiciel dédié à l'apprentissage d'ontologies à partir de bases de données relationnelles\n",
              "4   1168  ...                           Restructuration automatique de documents dans les corpus semi-structurés hétérogènes\n",
              "5    874  ...                  SOM pour la Classification Automatique Non supervisée de Documents Textuels basés sur Wordnet\n",
              "6    888  ...                Une approche ontologique pour automatiser le contrôle de conformité dans le domaine du bâtiment\n",
              "7   1190  ...                      Accélération de EM pour données qualitatives : études comparative de différentes versions\n",
              "8    878  ...                            Système multi-agent argumentatif pour la classification des connaissances cruciales\n",
              "9    316  ...                                   Construction de cube OLAP à partir d'un entrepôt de données orienté colonnes\n",
              "10   879  ...                         Un algorithme de classification topographique non supervisée à deux niveaux simultanés\n",
              "11   547  ...              Intégration de données haptiques brutes dans des systèmes experts de diagnostic des connaissances\n",
              "12  1031  ...  Enrichissement d'ontologies dans le secteur de l'eau douce en environnement Internet distribué et multilingue\n",
              "13   415  ...                                Paramétrage intelligent de l'alignement d'ontologies par l'intégrale de Choquet\n",
              "14   192  ...                                                    Nettoyage de données guidé par la sémantique inter-colonnes\n",
              "15   778  ...                                                       Privacy and Data Mining: New Developments and Challenges\n",
              "16   324  ...                                                                    Du texte à la base de données géographiques\n",
              "17   514  ...                            Apport de la catégorisation iconique pour la gestion coopérative des connaissances1\n",
              "18   558  ...       Modèle pour une analyse du phénomène de linéarité de catégories sémantiques dans les énoncés en français\n",
              "\n",
              "[19 rows x 3 columns]"
            ]
          },
          "metadata": {
            "tags": []
          },
          "execution_count": 32
        }
      ]
    },
    {
      "cell_type": "markdown",
      "metadata": {
        "id": "eu6VGh1pSNDr",
        "colab_type": "text"
      },
      "source": [
        "For Live demo (Graphical User Interface) [link text](https://)"
      ]
    },
    {
      "cell_type": "markdown",
      "metadata": {
        "id": "5UFuqXgSmGiB",
        "colab_type": "text"
      },
      "source": [
        "### 8 -  Intermission "
      ]
    },
    {
      "cell_type": "markdown",
      "metadata": {
        "id": "4e8rX-OjOsUV",
        "colab_type": "text"
      },
      "source": [
        "#### 8-1 Scraping & Translating Documents"
      ]
    },
    {
      "cell_type": "code",
      "metadata": {
        "id": "5ZaC7svmYITg",
        "colab_type": "code",
        "outputId": "c689d4b7-6ef0-425c-fc0f-43ef8fd2c80e",
        "colab": {
          "base_uri": "https://localhost:8080/",
          "height": 1000
        }
      },
      "source": [
        "! pip install langdetect\n",
        "! pip install py-translate\n",
        "! pip install googletrans\n",
        "! pip install textract\n",
        "! pip install tika \n",
        "\n",
        "from langdetect import detect\n",
        "from googletrans import Translator\n",
        "import textract\n",
        "import urllib.request\n",
        "import time\n",
        "from tika import parser"
      ],
      "execution_count": 0,
      "outputs": [
        {
          "output_type": "stream",
          "text": [
            "Collecting langdetect\n",
            "\u001b[?25l  Downloading https://files.pythonhosted.org/packages/59/59/4bc44158a767a6d66de18c4136c8aa90491d56cc951c10b74dd1e13213c9/langdetect-1.0.7.zip (998kB)\n",
            "\u001b[K     |████████████████████████████████| 1.0MB 4.9MB/s \n",
            "\u001b[?25hRequirement already satisfied: six in /usr/local/lib/python3.6/dist-packages (from langdetect) (1.12.0)\n",
            "Building wheels for collected packages: langdetect\n",
            "  Building wheel for langdetect (setup.py) ... \u001b[?25l\u001b[?25hdone\n",
            "  Created wheel for langdetect: filename=langdetect-1.0.7-cp36-none-any.whl size=993460 sha256=18dc9c4013f094fb8953a32f4a33d01502eaf33e022cdf878afd5ed4a1fa7277\n",
            "  Stored in directory: /root/.cache/pip/wheels/ec/0c/a9/1647275e7ef5014e7b83ff30105180e332867d65e7617ddafe\n",
            "Successfully built langdetect\n",
            "Installing collected packages: langdetect\n",
            "Successfully installed langdetect-1.0.7\n",
            "Collecting py-translate\n",
            "\u001b[?25l  Downloading https://files.pythonhosted.org/packages/8f/bd/8ee839d3965f832e6a3eb054290aedf9ff0bb37350e0a0e81a0357d0a447/py_translate-1.0.3-py2.py3-none-any.whl (61kB)\n",
            "\u001b[K     |████████████████████████████████| 61kB 3.0MB/s \n",
            "\u001b[?25hInstalling collected packages: py-translate\n",
            "Successfully installed py-translate-1.0.3\n",
            "Collecting googletrans\n",
            "  Downloading https://files.pythonhosted.org/packages/fd/f0/a22d41d3846d1f46a4f20086141e0428ccc9c6d644aacbfd30990cf46886/googletrans-2.4.0.tar.gz\n",
            "Requirement already satisfied: requests in /usr/local/lib/python3.6/dist-packages (from googletrans) (2.21.0)\n",
            "Requirement already satisfied: certifi>=2017.4.17 in /usr/local/lib/python3.6/dist-packages (from requests->googletrans) (2019.11.28)\n",
            "Requirement already satisfied: chardet<3.1.0,>=3.0.2 in /usr/local/lib/python3.6/dist-packages (from requests->googletrans) (3.0.4)\n",
            "Requirement already satisfied: urllib3<1.25,>=1.21.1 in /usr/local/lib/python3.6/dist-packages (from requests->googletrans) (1.24.3)\n",
            "Requirement already satisfied: idna<2.9,>=2.5 in /usr/local/lib/python3.6/dist-packages (from requests->googletrans) (2.8)\n",
            "Building wheels for collected packages: googletrans\n",
            "  Building wheel for googletrans (setup.py) ... \u001b[?25l\u001b[?25hdone\n",
            "  Created wheel for googletrans: filename=googletrans-2.4.0-cp36-none-any.whl size=15776 sha256=d4881465d0bb2f9c7989c5b6d8545f8df5271ca3ccd1d1991255258f5c0bf957\n",
            "  Stored in directory: /root/.cache/pip/wheels/50/d6/e7/a8efd5f2427d5eb258070048718fa56ee5ac57fd6f53505f95\n",
            "Successfully built googletrans\n",
            "Installing collected packages: googletrans\n",
            "Successfully installed googletrans-2.4.0\n",
            "Collecting textract\n",
            "  Downloading https://files.pythonhosted.org/packages/32/31/ef9451e6e48a1a57e337c5f20d4ef58c1a13d91560d2574c738b1320bb8d/textract-1.6.3-py3-none-any.whl\n",
            "Collecting docx2txt==0.8\n",
            "  Downloading https://files.pythonhosted.org/packages/7d/7d/60ee3f2b16d9bfdfa72e8599470a2c1a5b759cb113c6fe1006be28359327/docx2txt-0.8.tar.gz\n",
            "Collecting pdfminer.six==20181108\n",
            "\u001b[?25l  Downloading https://files.pythonhosted.org/packages/8a/fd/6e8746e6965d1a7ea8e97253e3d79e625da5547e8f376f88de5d024bacb9/pdfminer.six-20181108-py2.py3-none-any.whl (5.6MB)\n",
            "\u001b[K     |████████████████████████████████| 5.6MB 6.8MB/s \n",
            "\u001b[?25hRequirement already satisfied: six==1.12.0 in /usr/local/lib/python3.6/dist-packages (from textract) (1.12.0)\n",
            "Collecting extract-msg==0.23.1\n",
            "\u001b[?25l  Downloading https://files.pythonhosted.org/packages/a1/90/84485a914ed90adb5e87df17e626be04162fbba146dfecf34643659a4633/extract_msg-0.23.1-py2.py3-none-any.whl (45kB)\n",
            "\u001b[K     |████████████████████████████████| 51kB 7.3MB/s \n",
            "\u001b[?25hCollecting beautifulsoup4==4.8.0\n",
            "\u001b[?25l  Downloading https://files.pythonhosted.org/packages/1a/b7/34eec2fe5a49718944e215fde81288eec1fa04638aa3fb57c1c6cd0f98c3/beautifulsoup4-4.8.0-py3-none-any.whl (97kB)\n",
            "\u001b[K     |████████████████████████████████| 102kB 10.2MB/s \n",
            "\u001b[?25hCollecting SpeechRecognition==3.8.1\n",
            "\u001b[?25l  Downloading https://files.pythonhosted.org/packages/26/e1/7f5678cd94ec1234269d23756dbdaa4c8cfaed973412f88ae8adf7893a50/SpeechRecognition-3.8.1-py2.py3-none-any.whl (32.8MB)\n",
            "\u001b[K     |████████████████████████████████| 32.8MB 117kB/s \n",
            "\u001b[?25hCollecting xlrd==1.2.0\n",
            "\u001b[?25l  Downloading https://files.pythonhosted.org/packages/b0/16/63576a1a001752e34bf8ea62e367997530dc553b689356b9879339cf45a4/xlrd-1.2.0-py2.py3-none-any.whl (103kB)\n",
            "\u001b[K     |████████████████████████████████| 112kB 50.4MB/s \n",
            "\u001b[?25hRequirement already satisfied: chardet==3.0.4 in /usr/local/lib/python3.6/dist-packages (from textract) (3.0.4)\n",
            "Collecting EbookLib==0.17.1\n",
            "\u001b[?25l  Downloading https://files.pythonhosted.org/packages/00/38/7d6ab2e569a9165249619d73b7bc6be0e713a899a3bc2513814b6598a84c/EbookLib-0.17.1.tar.gz (111kB)\n",
            "\u001b[K     |████████████████████████████████| 112kB 52.0MB/s \n",
            "\u001b[?25hCollecting argcomplete==1.10.0\n",
            "  Downloading https://files.pythonhosted.org/packages/4d/82/f44c9661e479207348a979b1f6f063625d11dc4ca6256af053719bbb0124/argcomplete-1.10.0-py2.py3-none-any.whl\n",
            "Collecting python-pptx==0.6.18\n",
            "\u001b[?25l  Downloading https://files.pythonhosted.org/packages/bf/86/eb979f7b0333ec769041aae36df8b9f1bd8bea5bbad44620663890dce561/python-pptx-0.6.18.tar.gz (8.9MB)\n",
            "\u001b[K     |████████████████████████████████| 8.9MB 21.1MB/s \n",
            "\u001b[?25hRequirement already satisfied: sortedcontainers in /usr/local/lib/python3.6/dist-packages (from pdfminer.six==20181108->textract) (2.1.0)\n",
            "Collecting pycryptodome\n",
            "\u001b[?25l  Downloading https://files.pythonhosted.org/packages/93/79/30fb604bf82abbab621ecdbbca932d294e1d4cf95336bb3fc2b5871d297a/pycryptodome-3.9.4-cp36-cp36m-manylinux1_x86_64.whl (9.7MB)\n",
            "\u001b[K     |████████████████████████████████| 9.7MB 44.8MB/s \n",
            "\u001b[?25hCollecting imapclient==2.1.0\n",
            "\u001b[?25l  Downloading https://files.pythonhosted.org/packages/dc/39/e1c2c2c6e2356ab6ea81fcfc0a74b044b311d6a91a45300811d9a6077ef7/IMAPClient-2.1.0-py2.py3-none-any.whl (73kB)\n",
            "\u001b[K     |████████████████████████████████| 81kB 9.3MB/s \n",
            "\u001b[?25hRequirement already satisfied: olefile==0.46 in /usr/local/lib/python3.6/dist-packages (from extract-msg==0.23.1->textract) (0.46)\n",
            "Requirement already satisfied: tzlocal==1.5.1 in /usr/local/lib/python3.6/dist-packages (from extract-msg==0.23.1->textract) (1.5.1)\n",
            "Collecting soupsieve>=1.2\n",
            "  Downloading https://files.pythonhosted.org/packages/81/94/03c0f04471fc245d08d0a99f7946ac228ca98da4fa75796c507f61e688c2/soupsieve-1.9.5-py2.py3-none-any.whl\n",
            "Requirement already satisfied: lxml in /usr/local/lib/python3.6/dist-packages (from EbookLib==0.17.1->textract) (4.2.6)\n",
            "Requirement already satisfied: Pillow>=3.3.2 in /usr/local/lib/python3.6/dist-packages (from python-pptx==0.6.18->textract) (4.3.0)\n",
            "Collecting XlsxWriter>=0.5.7\n",
            "\u001b[?25l  Downloading https://files.pythonhosted.org/packages/f2/16/da654cfbc0b05f2ad253c0f244b0c2a76c403bb774717b39c92653acb290/XlsxWriter-1.2.6-py2.py3-none-any.whl (141kB)\n",
            "\u001b[K     |████████████████████████████████| 143kB 51.2MB/s \n",
            "\u001b[?25hRequirement already satisfied: pytz in /usr/local/lib/python3.6/dist-packages (from tzlocal==1.5.1->extract-msg==0.23.1->textract) (2018.9)\n",
            "Building wheels for collected packages: docx2txt, EbookLib, python-pptx\n",
            "  Building wheel for docx2txt (setup.py) ... \u001b[?25l\u001b[?25hdone\n",
            "  Created wheel for docx2txt: filename=docx2txt-0.8-cp36-none-any.whl size=3965 sha256=57956ffac2c06ea9fc773e91827dfe70836a9fabe413b051261ae19aa767f9af\n",
            "  Stored in directory: /root/.cache/pip/wheels/b2/1f/26/a051209bbb77fc6bcfae2bb7e01fa0ff941b82292ab084d596\n",
            "  Building wheel for EbookLib (setup.py) ... \u001b[?25l\u001b[?25hdone\n",
            "  Created wheel for EbookLib: filename=EbookLib-0.17.1-cp36-none-any.whl size=38164 sha256=c0121da0a9ff52325dd4b76e84969bb9e9579df2585ae613e581f5c1eef9f860\n",
            "  Stored in directory: /root/.cache/pip/wheels/84/11/01/951369cbbf8f96878786a1f4da68bd7ac19a5d945b38e03d54\n",
            "  Building wheel for python-pptx (setup.py) ... \u001b[?25l\u001b[?25hdone\n",
            "  Created wheel for python-pptx: filename=python_pptx-0.6.18-cp36-none-any.whl size=275707 sha256=233dbd0f2f6cee3bc67ae8947d9c16583d06aefbbb2f64298954e9f74eab7f50\n",
            "  Stored in directory: /root/.cache/pip/wheels/1f/1f/2c/29acca422b420a0b5210bd2cd7e9669804520d602d2462f20b\n",
            "Successfully built docx2txt EbookLib python-pptx\n",
            "Installing collected packages: docx2txt, pycryptodome, pdfminer.six, imapclient, extract-msg, soupsieve, beautifulsoup4, SpeechRecognition, xlrd, EbookLib, argcomplete, XlsxWriter, python-pptx, textract\n",
            "  Found existing installation: beautifulsoup4 4.6.3\n",
            "    Uninstalling beautifulsoup4-4.6.3:\n",
            "      Successfully uninstalled beautifulsoup4-4.6.3\n",
            "  Found existing installation: xlrd 1.1.0\n",
            "    Uninstalling xlrd-1.1.0:\n",
            "      Successfully uninstalled xlrd-1.1.0\n",
            "Successfully installed EbookLib-0.17.1 SpeechRecognition-3.8.1 XlsxWriter-1.2.6 argcomplete-1.10.0 beautifulsoup4-4.8.0 docx2txt-0.8 extract-msg-0.23.1 imapclient-2.1.0 pdfminer.six-20181108 pycryptodome-3.9.4 python-pptx-0.6.18 soupsieve-1.9.5 textract-1.6.3 xlrd-1.2.0\n",
            "Collecting tika\n",
            "  Downloading https://files.pythonhosted.org/packages/10/b3/6a4fdab1ac3fb7b933f9803111221d39e2dc26ae87ed6992b9557c540270/tika-1.23.tar.gz\n",
            "Requirement already satisfied: setuptools in /usr/local/lib/python3.6/dist-packages (from tika) (42.0.2)\n",
            "Requirement already satisfied: requests in /usr/local/lib/python3.6/dist-packages (from tika) (2.21.0)\n",
            "Requirement already satisfied: certifi>=2017.4.17 in /usr/local/lib/python3.6/dist-packages (from requests->tika) (2019.11.28)\n",
            "Requirement already satisfied: chardet<3.1.0,>=3.0.2 in /usr/local/lib/python3.6/dist-packages (from requests->tika) (3.0.4)\n",
            "Requirement already satisfied: urllib3<1.25,>=1.21.1 in /usr/local/lib/python3.6/dist-packages (from requests->tika) (1.24.3)\n",
            "Requirement already satisfied: idna<2.9,>=2.5 in /usr/local/lib/python3.6/dist-packages (from requests->tika) (2.8)\n",
            "Building wheels for collected packages: tika\n",
            "  Building wheel for tika (setup.py) ... \u001b[?25l\u001b[?25hdone\n",
            "  Created wheel for tika: filename=tika-1.23-cp36-none-any.whl size=31852 sha256=6c83fb048ebc4603df66ef75b6b76ad36aeb55b97543796dec1f993597d2f682\n",
            "  Stored in directory: /root/.cache/pip/wheels/39/01/4c/184b118bbece0003fd5e7aba3e6a52579e590a84eb3d2b96e5\n",
            "Successfully built tika\n",
            "Installing collected packages: tika\n",
            "Successfully installed tika-1.23\n"
          ],
          "name": "stdout"
        }
      ]
    },
    {
      "cell_type": "code",
      "metadata": {
        "id": "k8l9uWxURd41",
        "colab_type": "code",
        "outputId": "e3e96466-868e-4aa8-d293-5cc2a2db52f7",
        "colab": {
          "base_uri": "https://localhost:8080/",
          "height": 810
        }
      },
      "source": [
        "# Retrieving title Columns from  src_df  \n",
        "article_title = src_df[\"title\"].values \n",
        "language_col  = list()\n",
        "\n",
        "# Browising trough  every title and evaluating their respective languages ...\n",
        "for i in range( article_title.shape[0] ):\n",
        "  lang = detect(article_title[i])\n",
        "  language_col.append(\"fr\" if lang != \"fr\" and lang != \"en\" else lang)\n",
        "\n",
        "# Adding new column  [lang] to new Dataframe [src_scrap_df]  ... \n",
        "src_scrap_df = pd.DataFrame(src_df)\n",
        "src_scrap_df[\"lang\"] = language_col\n",
        "\n",
        "# Saving new datafracme to output file ... \n",
        "#src_scrap_df.to_csv(_root+\"/out/articles_plus_lang.csv\")\n",
        "\n",
        "# Visualising Dataframe ....\n",
        "src_scrap_df.head(100)\n"
      ],
      "execution_count": 0,
      "outputs": [
        {
          "output_type": "execute_result",
          "data": {
            "text/html": [
              "<div>\n",
              "<style scoped>\n",
              "    .dataframe tbody tr th:only-of-type {\n",
              "        vertical-align: middle;\n",
              "    }\n",
              "\n",
              "    .dataframe tbody tr th {\n",
              "        vertical-align: top;\n",
              "    }\n",
              "\n",
              "    .dataframe thead th {\n",
              "        text-align: right;\n",
              "    }\n",
              "</style>\n",
              "<table border=\"1\" class=\"dataframe\">\n",
              "  <thead>\n",
              "    <tr style=\"text-align: right;\">\n",
              "      <th></th>\n",
              "      <th>series</th>\n",
              "      <th>booktitle</th>\n",
              "      <th>year</th>\n",
              "      <th>title</th>\n",
              "      <th>abstract</th>\n",
              "      <th>authors</th>\n",
              "      <th>pdf1page</th>\n",
              "      <th>pdfarticle</th>\n",
              "      <th>lang</th>\n",
              "    </tr>\n",
              "  </thead>\n",
              "  <tbody>\n",
              "    <tr>\n",
              "      <th>0</th>\n",
              "      <td>Revue des Nouvelles Technologies de l'Information</td>\n",
              "      <td>EGC</td>\n",
              "      <td>2018</td>\n",
              "      <td>#Idéo2017 : une plateforme citoyenne dédiée à ...</td>\n",
              "      <td>Cette plateforme a pour objectif de permettre ...</td>\n",
              "      <td>Claudia Marinica, Julien Longhi, Nader Hassine...</td>\n",
              "      <td>http://editions-rnti.fr/render_pdf.php?p1&amp;p=10...</td>\n",
              "      <td>http://editions-rnti.fr/render_pdf.php?p=1002425</td>\n",
              "      <td>fr</td>\n",
              "    </tr>\n",
              "    <tr>\n",
              "      <th>1</th>\n",
              "      <td>Revue des Nouvelles Technologies de l'Information</td>\n",
              "      <td>EGC</td>\n",
              "      <td>2018</td>\n",
              "      <td>A two level co-clustering algorithm for very l...</td>\n",
              "      <td>La classification croisée (co-clustering) est ...</td>\n",
              "      <td>Marius Barctus, Marc Boullé, Fabrice Clérot</td>\n",
              "      <td>http://editions-rnti.fr/render_pdf.php?p1&amp;p=10...</td>\n",
              "      <td>http://editions-rnti.fr/render_pdf.php?p=1002372</td>\n",
              "      <td>en</td>\n",
              "    </tr>\n",
              "    <tr>\n",
              "      <th>2</th>\n",
              "      <td>Revue des Nouvelles Technologies de l'Information</td>\n",
              "      <td>EGC</td>\n",
              "      <td>2018</td>\n",
              "      <td>ALGeoSPF: Un modèle de factorisation basé sur ...</td>\n",
              "      <td>La recommandation de points d'intérêts est dev...</td>\n",
              "      <td>Jean-Benoît Griesner, Talel Abdesssalem, Huber...</td>\n",
              "      <td>http://editions-rnti.fr/render_pdf.php?p1&amp;p=10...</td>\n",
              "      <td>http://editions-rnti.fr/render_pdf.php?p=1002380</td>\n",
              "      <td>fr</td>\n",
              "    </tr>\n",
              "    <tr>\n",
              "      <th>3</th>\n",
              "      <td>Revue des Nouvelles Technologies de l'Information</td>\n",
              "      <td>EGC</td>\n",
              "      <td>2018</td>\n",
              "      <td>Analyse des sentiments à partir des commentair...</td>\n",
              "      <td>L'analyse des sentiments est un processus pend...</td>\n",
              "      <td>Abdeljalil Elouardighi, Mohcine Maghfour, Hafd...</td>\n",
              "      <td>http://editions-rnti.fr/render_pdf.php?p1&amp;p=10...</td>\n",
              "      <td>http://editions-rnti.fr/render_pdf.php?p=1002397</td>\n",
              "      <td>fr</td>\n",
              "    </tr>\n",
              "    <tr>\n",
              "      <th>4</th>\n",
              "      <td>Revue des Nouvelles Technologies de l'Information</td>\n",
              "      <td>EGC</td>\n",
              "      <td>2018</td>\n",
              "      <td>Analyse en rôles sémantiques pour le résumé au...</td>\n",
              "      <td>Cet article présente une approche visant à ext...</td>\n",
              "      <td>Elyase Lassouli, Yasmine Mesbahi, Camille Prad...</td>\n",
              "      <td>http://editions-rnti.fr/render_pdf.php?p1&amp;p=10...</td>\n",
              "      <td>http://editions-rnti.fr/render_pdf.php?p=1002384</td>\n",
              "      <td>fr</td>\n",
              "    </tr>\n",
              "    <tr>\n",
              "      <th>...</th>\n",
              "      <td>...</td>\n",
              "      <td>...</td>\n",
              "      <td>...</td>\n",
              "      <td>...</td>\n",
              "      <td>...</td>\n",
              "      <td>...</td>\n",
              "      <td>...</td>\n",
              "      <td>...</td>\n",
              "      <td>...</td>\n",
              "    </tr>\n",
              "    <tr>\n",
              "      <th>95</th>\n",
              "      <td>Revue des Nouvelles Technologies de l'Information</td>\n",
              "      <td>EGC</td>\n",
              "      <td>2017</td>\n",
              "      <td>Expression des connaissances en langage nature...</td>\n",
              "      <td>NaN</td>\n",
              "      <td>Jérémy Vizzini, Cyril Labbé, François Portet</td>\n",
              "      <td>http://editions-rnti.fr/render_pdf.php?p1&amp;p=10...</td>\n",
              "      <td>http://editions-rnti.fr/render_pdf.php?p=1002319</td>\n",
              "      <td>fr</td>\n",
              "    </tr>\n",
              "    <tr>\n",
              "      <th>96</th>\n",
              "      <td>Revue des Nouvelles Technologies de l'Information</td>\n",
              "      <td>EGC</td>\n",
              "      <td>2017</td>\n",
              "      <td>Extraction automatique de paysages en imagerie...</td>\n",
              "      <td>Nous présentons ici une méthode originale pour...</td>\n",
              "      <td>Anne Toulet, Emmanuel Roux, Anne-Elisabeth Laq...</td>\n",
              "      <td>http://editions-rnti.fr/render_pdf.php?p1&amp;p=10...</td>\n",
              "      <td>http://editions-rnti.fr/render_pdf.php?p=1002285</td>\n",
              "      <td>fr</td>\n",
              "    </tr>\n",
              "    <tr>\n",
              "      <th>97</th>\n",
              "      <td>Revue des Nouvelles Technologies de l'Information</td>\n",
              "      <td>EGC</td>\n",
              "      <td>2017</td>\n",
              "      <td>Extraction de chroniques discriminantes</td>\n",
              "      <td>L'extraction de motifs séquentiels vise à extr...</td>\n",
              "      <td>Yann Dauxais, David Gross-Amblard, Thomas Guye...</td>\n",
              "      <td>http://editions-rnti.fr/render_pdf.php?p1&amp;p=10...</td>\n",
              "      <td>http://editions-rnti.fr/render_pdf.php?p=1002278</td>\n",
              "      <td>fr</td>\n",
              "    </tr>\n",
              "    <tr>\n",
              "      <th>98</th>\n",
              "      <td>Revue des Nouvelles Technologies de l'Information</td>\n",
              "      <td>EGC</td>\n",
              "      <td>2017</td>\n",
              "      <td>Extraction de relations pour le peuplement d'u...</td>\n",
              "      <td>Dans une base de connaissance, les entités se ...</td>\n",
              "      <td>Cédric Lopez, Elena Cabrio, Frédérique Segond</td>\n",
              "      <td>http://editions-rnti.fr/render_pdf.php?p1&amp;p=10...</td>\n",
              "      <td>http://editions-rnti.fr/render_pdf.php?p=1002301</td>\n",
              "      <td>fr</td>\n",
              "    </tr>\n",
              "    <tr>\n",
              "      <th>99</th>\n",
              "      <td>Revue des Nouvelles Technologies de l'Information</td>\n",
              "      <td>EGC</td>\n",
              "      <td>2017</td>\n",
              "      <td>Extraction des évolutions récurrentes dans un ...</td>\n",
              "      <td>Un grand nombre d'applications nécessitent d'a...</td>\n",
              "      <td>Zhi Cheng, Frédéric Flouvat, Nazha Selmaoui-Fo...</td>\n",
              "      <td>http://editions-rnti.fr/render_pdf.php?p1&amp;p=10...</td>\n",
              "      <td>http://editions-rnti.fr/render_pdf.php?p=1002273</td>\n",
              "      <td>fr</td>\n",
              "    </tr>\n",
              "  </tbody>\n",
              "</table>\n",
              "<p>100 rows × 9 columns</p>\n",
              "</div>"
            ],
            "text/plain": [
              "                                               series  ... lang\n",
              "0   Revue des Nouvelles Technologies de l'Information  ...   fr\n",
              "1   Revue des Nouvelles Technologies de l'Information  ...   en\n",
              "2   Revue des Nouvelles Technologies de l'Information  ...   fr\n",
              "3   Revue des Nouvelles Technologies de l'Information  ...   fr\n",
              "4   Revue des Nouvelles Technologies de l'Information  ...   fr\n",
              "..                                                ...  ...  ...\n",
              "95  Revue des Nouvelles Technologies de l'Information  ...   fr\n",
              "96  Revue des Nouvelles Technologies de l'Information  ...   fr\n",
              "97  Revue des Nouvelles Technologies de l'Information  ...   fr\n",
              "98  Revue des Nouvelles Technologies de l'Information  ...   fr\n",
              "99  Revue des Nouvelles Technologies de l'Information  ...   fr\n",
              "\n",
              "[100 rows x 9 columns]"
            ]
          },
          "metadata": {
            "tags": []
          },
          "execution_count": 8
        }
      ]
    },
    {
      "cell_type": "code",
      "metadata": {
        "id": "1H9Rupd4RnkF",
        "colab_type": "code",
        "outputId": "2a128f29-f37d-4860-e535-381800772c93",
        "colab": {
          "base_uri": "https://localhost:8080/",
          "height": 34
        }
      },
      "source": [
        "# Counting the number of Document written in english \n",
        "english_articles_df = src_scrap_df[src_scrap_df['lang'] == \"en\"]\n",
        "print(\"Number of documents detected in English: {} \".format( str(len(english_articles_df))))\n",
        "\n",
        "urls_articles_full = english_articles_df[\"pdfarticle\"].values \n",
        "ids  = english_articles_df.index.values\n",
        "\n",
        "\n",
        "# Downloading content of English Articles and save it locally...\n",
        "i = 0 \n",
        "for url in urls_articles_full: \n",
        "  if ids[i] < 967:\n",
        "    continue \n",
        "  filename = _root+\"/data/articles/pdf_{}.pdf\".format(str(ids[i]))\n",
        "  urllib.request.urlretrieve(url, filename) \n",
        "  time.sleep(2)\n",
        "  i += 1\n"
      ],
      "execution_count": 0,
      "outputs": [
        {
          "output_type": "stream",
          "text": [
            "Number of documents detected in English: 123 \n"
          ],
          "name": "stdout"
        }
      ]
    },
    {
      "cell_type": "code",
      "metadata": {
        "id": "bUvdFvf9hIEC",
        "colab_type": "code",
        "outputId": "2a6ce89d-c0db-46a1-aac1-224637584046",
        "colab": {
          "base_uri": "https://localhost:8080/",
          "height": 102
        }
      },
      "source": [
        "\n",
        "# Translating English articles into French using selenium/GoogleTrans ...\n",
        "max_char_google_trans = 4000\n",
        "docs_content = content_part4\n",
        "\n",
        "while True:\n",
        "  for cur_id in ids: \n",
        "    \n",
        "    if cur_id  in docs_content.keys():\n",
        "      continue\n",
        "    filename = _root+\"/data/articles/pdf_{}.pdf\".format(str(cur_id))\n",
        "    # Extracting content from pdf ...\n",
        "\n",
        "    \"\"\"\n",
        "    text = textract.process(filename, method=\"tesseract\", encoding = \"latin\", language='en')\n",
        "    #print(\"Lenght of Text \",len(text))\n",
        "    \"\"\"\n",
        "    \n",
        "    \n",
        "    # Parse data from file\n",
        "    text = parser.from_file(filename)\n",
        "    # Get files text content\n",
        "    text = text['content']\n",
        "\n",
        "    #print(text[0:300])\n",
        "\n",
        "    # Spliting content into chuncks using [max_char_google_trans]\n",
        "    text_parts  = split_string_in_chunks(text,max_char_google_trans)\n",
        "    print(\"Number of chuncks \",len(text_parts))\n",
        "\n",
        "    \n",
        "    # Translate each chunk \n",
        "    tmp = list()\n",
        "    is_break = False\n",
        "    try:\n",
        "      for chunk  in text_parts:\n",
        "        translator = Translator()\n",
        "        chunk  =chunk.strip()\n",
        "        chunk = chunk.replace(\"\\n\", \" \")\n",
        "        st = random.randint(2, 4)\n",
        "        time.sleep(st)\n",
        "        tmp.append( str(translator.translate(chunk[0:1000], src=\"en\", dest=\"fr\").text) )\n",
        "    except Exception as e :\n",
        "        is_break = True \n",
        "        print(e)\n",
        "        pass\n",
        "    if is_break is False:\n",
        "      translated_text = \" \".join(tmp)\n",
        "      docs_content[cur_id] = translated_text\n",
        "\n",
        "  if len(docs_content)  == len(ids) :\n",
        "    break\n",
        "  \n",
        "\n",
        "#print(docs_content)\n",
        "\n",
        "\n",
        "#src_scrap_df[\"content_translated\"] = list(docs_content.values())"
      ],
      "execution_count": 0,
      "outputs": [
        {
          "output_type": "stream",
          "text": [
            "Number of chuncks  9\n",
            "Number of chuncks  2\n",
            "Number of chuncks  2\n",
            "Number of chuncks  1\n",
            "Number of chuncks  7\n"
          ],
          "name": "stdout"
        }
      ]
    },
    {
      "cell_type": "code",
      "metadata": {
        "id": "kjK0zNBrAt5y",
        "colab_type": "code",
        "outputId": "27d9abff-5dce-42dc-993c-0ff48713f6b7",
        "colab": {
          "base_uri": "https://localhost:8080/",
          "height": 34
        }
      },
      "source": [
        "docs_content =content_part3\n",
        "len(docs_content)"
      ],
      "execution_count": 0,
      "outputs": [
        {
          "output_type": "execute_result",
          "data": {
            "text/plain": [
              "123"
            ]
          },
          "metadata": {
            "tags": []
          },
          "execution_count": 55
        }
      ]
    },
    {
      "cell_type": "code",
      "metadata": {
        "id": "wvSr4zsNBPHU",
        "colab_type": "code",
        "outputId": "ceaebda4-d6c3-4294-e5e4-e083674ccfe8",
        "colab": {
          "base_uri": "https://localhost:8080/",
          "height": 34
        }
      },
      "source": [
        "content_part4 = dict(docs_content)\n",
        "len(content_part4)"
      ],
      "execution_count": 0,
      "outputs": [
        {
          "output_type": "execute_result",
          "data": {
            "text/plain": [
              "118"
            ]
          },
          "metadata": {
            "tags": []
          },
          "execution_count": 64
        }
      ]
    },
    {
      "cell_type": "code",
      "metadata": {
        "id": "j1XTZJNmPgow",
        "colab_type": "code",
        "outputId": "8ca6b048-3da9-43f5-92df-e0edac8179a8",
        "colab": {
          "base_uri": "https://localhost:8080/",
          "height": 34
        }
      },
      "source": [
        "content_part5 = dict(docs_content)\n",
        "len(content_part5)"
      ],
      "execution_count": 0,
      "outputs": [
        {
          "output_type": "execute_result",
          "data": {
            "text/plain": [
              "123"
            ]
          },
          "metadata": {
            "tags": []
          },
          "execution_count": 66
        }
      ]
    },
    {
      "cell_type": "code",
      "metadata": {
        "id": "hr4H5mPp9WgY",
        "colab_type": "code",
        "outputId": "db682d81-160d-4485-ae25-c32a22d45dcd",
        "colab": {
          "base_uri": "https://localhost:8080/",
          "height": 139
        }
      },
      "source": [
        "english_articles_df[\"content_translated\"] = list(docs_content.values())\n",
        "english_articles_df.to_csv(_root+\"/out/english_articles_translated.csv\")"
      ],
      "execution_count": 0,
      "outputs": [
        {
          "output_type": "stream",
          "text": [
            "/usr/local/lib/python3.6/dist-packages/ipykernel_launcher.py:1: SettingWithCopyWarning: \n",
            "A value is trying to be set on a copy of a slice from a DataFrame.\n",
            "Try using .loc[row_indexer,col_indexer] = value instead\n",
            "\n",
            "See the caveats in the documentation: http://pandas.pydata.org/pandas-docs/stable/user_guide/indexing.html#returning-a-view-versus-a-copy\n",
            "  \"\"\"Entry point for launching an IPython kernel.\n"
          ],
          "name": "stderr"
        }
      ]
    },
    {
      "cell_type": "code",
      "metadata": {
        "id": "Sa3yyzWyBJxT",
        "colab_type": "code",
        "colab": {}
      },
      "source": [
        "docs_content_saved = dict(docs_content)"
      ],
      "execution_count": 0,
      "outputs": []
    },
    {
      "cell_type": "markdown",
      "metadata": {
        "id": "9ChrKm5-uibi",
        "colab_type": "text"
      },
      "source": [
        "#### 8-2 Exporting graph to and GML and PAJEK .."
      ]
    },
    {
      "cell_type": "code",
      "metadata": {
        "id": "w9Qg_qs9urqM",
        "colab_type": "code",
        "outputId": "c5b9bc46-d29f-4981-b13a-7aa15f8218d6",
        "colab": {
          "base_uri": "https://localhost:8080/",
          "height": 105
        }
      },
      "source": [
        "strigifier = lambda x : str(x)\n",
        "nx.write_gml(G, _root+\"/out/full_graph.gml\", stringizer= strigifier)\n",
        "nx.write_pajek(G, _root+\"/out/full_graph.pajek\" )"
      ],
      "execution_count": 0,
      "outputs": [
        {
          "output_type": "stream",
          "text": [
            "/usr/local/lib/python3.6/dist-packages/networkx/readwrite/pajek.py:77: UserWarning: Node attribute year is not processed. Non-string attribute.\n",
            "  'Non-string attribute'))\n",
            "/usr/local/lib/python3.6/dist-packages/networkx/readwrite/pajek.py:77: UserWarning: Node attribute abstract is not processed. Non-string attribute.\n",
            "  'Non-string attribute'))\n"
          ],
          "name": "stderr"
        }
      ]
    },
    {
      "cell_type": "markdown",
      "metadata": {
        "id": "92abagLYmvVZ",
        "colab_type": "text"
      },
      "source": [
        "### 9- Deploying as a class "
      ]
    },
    {
      "cell_type": "code",
      "metadata": {
        "id": "oMzQzjm6nGdy",
        "colab_type": "code",
        "colab": {}
      },
      "source": [
        "####################\n",
        "#   DEPENDENCIES   #\n",
        "####################\n",
        "import networkx as nx \n",
        "from networkx.algorithms.distance_measures import diameter\n",
        "from networkx.algorithms.community import community_utils\n",
        "from networkx.algorithms.community import greedy_modularity_communities\n",
        "from networkx.algorithms.community import k_clique_communities\n",
        "from networkx.algorithms.centrality import edge_betweenness_centrality\n",
        "from networkx.algorithms.community.centrality import girvan_newman\n",
        "import pandas as pd\n",
        "import numpy as np\n",
        "import statistics as stats\n",
        "import community\n",
        "import collections\n",
        "import os.path\n",
        "\n",
        "import math\n",
        "from matplotlib  import pyplot as plt \n",
        "from textblob import TextBlob\n",
        "import re\n",
        "import random \n",
        "import json\n",
        "\n",
        "_root = \"/content/drive/My Drive/SOCIAL_MINING\"\n",
        "_url_src_dataset = _root+\"/data/export_articles_EGC_2004_2018.csv\"\n",
        "_url_similarity_score = _root+\"/data/similarityscore.csv\"\n",
        "\n",
        "class SocialMining :\n",
        "###############################################################################\n",
        "#                         SOCIAL MINING CLASS   \n",
        "###############################################################################\n",
        "  def __init__(self, _url_src_dataset, _url_similarity_score, _threashold = 0.07 ):\n",
        "    if os.path.exists(_url_src_dataset) is False:\n",
        "      raise Exception(\"File [{}] does not exit \".format(_url_src_dataset))\n",
        "    if os.path.exists(_url_similarity_score) is False:\n",
        "      raise Exception(\"File [{}] does not exit \".format(_url_similarity_score))\n",
        "    assert( type(_threashold) == float  and _threashold >= 0 )\n",
        "\n",
        "    self.url_src_dataset = _url_src_dataset \n",
        "    self.url_similarity_score = _url_similarity_score\n",
        "    self.threashold = _threashold\n",
        "    self.src_df = None\n",
        "    self.sim_df = None\n",
        "    self.G = None \n",
        "    self.dist_matrix = None\n",
        "    self.n_nodes = 0 \n",
        "    self.n_edges = 0\n",
        "    self.communities = None\n",
        "    \n",
        "    if self._load_data() is False:\n",
        "        raise Exception(\"Error occured while loading data \")\n",
        "\n",
        "    if self._build_graph() is False:\n",
        "        raise Exception(\"Error occured while Building graph \")\n",
        "    \n",
        "  \n",
        "\n",
        "  ####################\n",
        "  #     PUBLIC       #\n",
        "  ####################\n",
        "\n",
        "  def describe_graph(self):\n",
        "    # Global Network Analysis ...\n",
        "    n_edges = self.G.number_of_edges()\n",
        "    n_nodes = self.G.number_of_nodes()\n",
        "    g_degree = nx.degree(self.G)\n",
        "    g_max_degree = max( [ x[1] for x in  g_degree ] )\n",
        "    g_min_degree = min( [ x[1] for x in  g_degree ] )\n",
        "    g_avg_degree = math.ceil(stats.mean( [ x[1] for x in  g_degree ] ))\n",
        "    g_density = round(nx.density(self.G),2)\n",
        "    # printing metrics ...\n",
        "    print(\"Number of Edges\", n_edges )\n",
        "    print(\"Number of Node\", n_nodes)\n",
        "    print(\"Graph Max Degree \",g_max_degree  )\n",
        "    print(\"Graph Min Degree \",g_min_degree  )\n",
        "    print(\"Graph Mean Degree \",g_avg_degree  )\n",
        "    print(\"Graph Density \", g_density)\n",
        "\n",
        "\n",
        "  def detect_communities(self):\n",
        "    self.communities = self._node_candidates_girvan_newman()\n",
        "    return self.communities , SocialMining._reverse_key_value( self.communities),community.modularity(self.communities, self.G )\n",
        "\n",
        "\n",
        "  def recommend_articles(self, article_already_read, nb_recommendations = 10, plot_subgraph = True):\n",
        "    if  self.communities is None:\n",
        "      self.detect_communities()\n",
        "    \n",
        "    list_candidate = self._node_candidates(article_already_read, nb_candidates = nb_recommendations)\n",
        "    list_candidate_ranked = self._ranking_candidate(article_already_read, list_candidate, plot_subgraph = plot_subgraph )\n",
        "    return list_candidate_ranked\n",
        "\n",
        "  def set_threashold(self,_threashold):\n",
        "    assert( type(_threashold) == float )\n",
        "    self.threashold = _threashold\n",
        "    # Rebuilding  Graph ... \n",
        "    return self._build_graph()\n",
        "\n",
        "  def get_graph(self):\n",
        "    return self.G\n",
        "\n",
        "  ####################\n",
        "  #    PRIVATE       #\n",
        "  ####################\n",
        "\n",
        "  def _load_data(self):\n",
        "    try:\n",
        "      self.src_df = pd.read_csv(self.url_src_dataset,delimiter=\"\\t\")\n",
        "      self.sim_df = pd.read_csv(self.url_similarity_score,delimiter=\",\")\n",
        "      self.sim_df = self.sim_df.drop('Unnamed: 0', 1)\n",
        "      return True\n",
        "    except Exception as e:\n",
        "      print(e)\n",
        "      return False\n",
        "  \n",
        "  def _build_graph(self):\n",
        "    try:\n",
        "      m,n = self.src_df.shape \n",
        "      self.dist_matrix = self.sim_df.values\n",
        "      for i in range(m):\n",
        "        self.dist_matrix[:,i] = [ 0 if x<self.threashold  else x for x in self.dist_matrix[:,i]   ]\n",
        "      \n",
        "      self.G = nx.Graph()\n",
        "      for n in range(m):\n",
        "        # Adding the properties each node ... \n",
        "        self.G.add_node(n, **SocialMining.get_node_properties(n, self.src_df))\n",
        "\n",
        "      #print(\"Node Title Properties: \",self.G.nodes[0][\"title\"])\n",
        "\n",
        "      # Defining Edegs based on the distance/weight matric  ...\n",
        "      for i in range(m):\n",
        "        for j in range(m):\n",
        "          if self.dist_matrix[i,j] != 0 and i != j  :\n",
        "            self.G.add_edge(i,j,weight= self.dist_matrix[i,j] ) \n",
        "      \n",
        "      self.n_edges = self.G.number_of_edges()\n",
        "      self.n_nodes = self.G.number_of_nodes()\n",
        "\n",
        "      return True\n",
        "    except Exception as e:\n",
        "      print(e)\n",
        "      return False\n",
        "  \n",
        "\n",
        "  # Selecting matching candidates per the book(s) read ... \n",
        "\n",
        "  def _node_candidates_girvan_newman(self):\n",
        "    community_ = community.best_partition(self.G,weight='weight', random_state= 1)\n",
        "    return community_\n",
        "\n",
        "  def _node_candidates_greedy(self):\n",
        "    greedy_com=list(greedy_modularity_communities(self.G, weight=\"weight\"))\n",
        "    return greedy_com\n",
        "\n",
        "  def _node_candidates_clique(self, n_cliques = 3):\n",
        "    clique_com = list(k_clique_communities(self.G, n_cliques))\n",
        "    return clique_com\n",
        "\n",
        "  def _node_candidates(self,list_read, nb_candidates = 10):\n",
        "    rv_community = SocialMining._reverse_key_value( self.communities)\n",
        "    tmp = list()\n",
        "    for one_read in list_read :\n",
        "      tmp.append(self.communities[one_read])\n",
        "\n",
        "    nb_elem = len(tmp)\n",
        "    counter=collections.Counter(tmp)\n",
        "    freq_tmp =  dict(counter)\n",
        "    result = list()\n",
        "    for k,v in freq_tmp.items():\n",
        "      nb_items = int((v/nb_elem) * nb_candidates)\n",
        "      l2 = random.sample(rv_community[k], k=nb_items)\n",
        "      result = [*result, *l2]\n",
        "    return result \n",
        "\n",
        "  # Ranking candidates ( google index based ranking No dead end trap and )...\n",
        "  def _ranking_candidate(self, list_read, list_candidate, plot_subgraph = True ):\n",
        "    assert(type(list_candidate)  == list)\n",
        "    assert(type(list_read) == list )\n",
        "\n",
        "    # remove  list_read from candidate \n",
        "    list_candidate =  [x for x in list_candidate if x not in list_read]\n",
        "    # Plot the subgrah of the articles read + candidates \n",
        "    combined = list_read + list_candidate\n",
        "    H = self.G.subgraph(combined)\n",
        "    if plot_subgraph is True :\n",
        "      nx.draw(H, with_labels=True)\n",
        "      plt.figure(figsize=(17,3))\n",
        "      plt.show()\n",
        "    # Ranking based on proximity measure\n",
        "    # Compute edge betweeness centrality in the Subgraph \n",
        "    all_edge_betweeness = edge_betweenness_centrality(H,weight=\"weight\") \n",
        "    # Compute weighted  betweeness score for each candidates (nodes )  ...\n",
        "    for edge in all_edge_betweeness:\n",
        "      score = all_edge_betweeness[edge]\n",
        "      H.nodes[edge[0]][\"betweeness_score\"] = (0 if  \"betweeness_score\" not in  H.nodes[edge[0]] else H.nodes[edge[0]][\"betweeness_score\"]) +  score\n",
        "      H.nodes[edge[1]][\"betweeness_score\"] = (0 if  \"betweeness_score\" not in  H.nodes[edge[1]] else H.nodes[edge[1]][\"betweeness_score\"]) +  score\n",
        "    \n",
        "    result = dict()\n",
        "    for candidate in list_candidate :\n",
        "      if \"betweeness_score\" in  H.nodes[candidate]:\n",
        "        result[candidate] = round( H.nodes[candidate][\"betweeness_score\"],3)\n",
        "      else:\n",
        "        result[candidate] = 0\n",
        "\n",
        "    # Sort candidate in Descending order according to w\n",
        "    sorted_result = {k: v for k, v in sorted(result.items(), key=lambda item: item[1],reverse=True )}\n",
        "    return list(sorted_result.keys()), sorted_result\n",
        "\n",
        "\n",
        "  ####################\n",
        "  #   AXILIARIES     #\n",
        "  ####################\n",
        "    # Implementing Utilities Functions ...\n",
        "  def get_node_properties(node_id, df):\n",
        "    \"\"\"\n",
        "      Method used to get details/properties of a node given a node number \n",
        "    \n",
        "      @params: \n",
        "        node_id[Integer]: Node number / ID \n",
        "        df[Pandas.Dataframe]: Source DataFrame \n",
        "      @Returns:\n",
        "        Dictionaries of all details about the Node \n",
        "    \"\"\"\n",
        "    assert( node_id  in range(df.shape[0]) )\n",
        "    return dict(df.iloc[node_id])\n",
        "\n",
        "  def is_positive_integer(i):\n",
        "    try:\n",
        "      i = int(i)\n",
        "      if i >=0:\n",
        "        return True\n",
        "    except Exception as e:\n",
        "      pass\n",
        "    return False \n",
        "\n",
        "  def split_string_in_chunks(x, chunk_size  ):\n",
        "    chunks = len(x)\n",
        "    return [ x[i:i+chunk_size] for i in range(0, chunks, chunk_size) ]\n",
        "\n",
        "  def _remove_all_special_chars(input_text):\n",
        "    assert (type(input_text) == str)\n",
        "\n",
        "    output_text = [re.sub(r\"[^a-zA-Z]+\", ' ', k) for k in input_text.split(\"\\n\")]\n",
        "    output_text = \" \".join(output_text).replace(\"\\n\", \" \")\n",
        "    output_text = output_text.lower()\n",
        "    return output_text\n",
        "\n",
        "  def _reverse_key_value(my_dict):\n",
        "    tmp = dict()\n",
        "    for (k,v) in my_dict.items() :\n",
        "      if v not in tmp:\n",
        "        tmp[v] = list() \n",
        "      tmp[v].append(k)\n",
        "\n",
        "    return tmp \n",
        "  \n",
        "\n",
        "###############################################################################\n",
        "#                         END SOCIAL MINING CLASS   \n",
        "###############################################################################\n"
      ],
      "execution_count": 0,
      "outputs": []
    },
    {
      "cell_type": "code",
      "metadata": {
        "id": "I--4OWC76MKH",
        "colab_type": "code",
        "outputId": "7d8260f4-388c-4d90-975b-67034c101b25",
        "colab": {
          "base_uri": "https://localhost:8080/",
          "height": 156
        }
      },
      "source": [
        "\n",
        "_root = \"/content/drive/My Drive/SOCIAL_MINING\"\n",
        "_url_src_dataset = _root+\"/data/export_articles_EGC_2004_2018.csv\"\n",
        "_url_similarity_score = _root+\"/data/similarityscore.csv\"\n",
        "\n",
        "# Instantiating Class ...\n",
        "sc = SocialMining(_url_src_dataset,_url_similarity_score,_threashold = 0.03)\n",
        "\n",
        "# Detecting communities ...\n",
        "_, rev_com , _ = sc.detect_communities()\n",
        "print(json.dumps(rev_com))\n",
        "\n",
        "# Describing Graph ...\n",
        "sc.describe_graph()"
      ],
      "execution_count": 0,
      "outputs": [
        {
          "output_type": "stream",
          "text": [
            "{\"0\": [0, 4, 5, 12, 16, 17, 18, 19, 25, 28, 31, 35, 36, 38, 43, 44, 45, 46, 49, 53, 55, 56, 57, 60, 61, 62, 63, 65, 67, 68, 69, 73, 76, 78, 86, 89, 93, 95, 96, 98, 100, 101, 103, 104, 106, 109, 110, 111, 114, 120, 121, 125, 132, 137, 138, 140, 142, 143, 144, 147, 148, 152, 158, 166, 169, 171, 172, 174, 179, 180, 181, 182, 188, 192, 194, 196, 197, 204, 210, 211, 215, 217, 219, 220, 222, 225, 226, 228, 229, 230, 231, 233, 237, 240, 242, 248, 249, 250, 252, 254, 257, 258, 259, 260, 261, 262, 263, 264, 266, 269, 278, 279, 286, 287, 289, 290, 295, 296, 297, 301, 302, 312, 315, 318, 319, 320, 324, 326, 327, 335, 340, 343, 344, 354, 356, 357, 365, 366, 370, 372, 374, 377, 383, 384, 387, 388, 395, 398, 401, 405, 408, 412, 413, 415, 417, 418, 419, 423, 425, 427, 429, 431, 433, 437, 439, 440, 459, 460, 465, 466, 474, 477, 478, 481, 482, 485, 486, 495, 496, 501, 502, 503, 504, 509, 514, 515, 518, 524, 526, 527, 530, 532, 540, 550, 551, 552, 555, 556, 558, 559, 562, 563, 565, 566, 568, 573, 575, 579, 581, 583, 584, 585, 586, 588, 589, 590, 593, 595, 597, 599, 600, 608, 612, 613, 615, 620, 621, 622, 623, 624, 626, 627, 630, 631, 632, 635, 638, 644, 645, 646, 648, 649, 657, 666, 667, 669, 671, 678, 683, 684, 687, 690, 692, 695, 697, 704, 705, 706, 707, 708, 710, 712, 716, 717, 718, 719, 721, 728, 736, 743, 762, 763, 765, 768, 771, 774, 777, 780, 781, 783, 786, 791, 802, 803, 806, 810, 814, 823, 827, 831, 832, 834, 837, 841, 842, 843, 845, 850, 851, 852, 853, 857, 863, 865, 868, 870, 873, 874, 878, 881, 882, 884, 885, 886, 888, 890, 893, 894, 898, 901, 902, 903, 904, 906, 911, 914, 916, 922, 923, 932, 933, 934, 942, 945, 946, 952, 959, 960, 963, 964, 967, 969, 970, 973, 976, 978, 982, 984, 987, 988, 993, 994, 998, 1001, 1004, 1011, 1013, 1014, 1018, 1019, 1020, 1024, 1027, 1028, 1030, 1031, 1034, 1036, 1039, 1040, 1041, 1043, 1048, 1050, 1051, 1052, 1055, 1057, 1059, 1060, 1069, 1071, 1072, 1076, 1078, 1082, 1083, 1084, 1085, 1088, 1089, 1093, 1095, 1097, 1098, 1099, 1100, 1102, 1105, 1119, 1122, 1123, 1125, 1126, 1130, 1131, 1133, 1134, 1139, 1146, 1148, 1152, 1153, 1154, 1155, 1157, 1160, 1161, 1165, 1166, 1167, 1168, 1179, 1181, 1183, 1185, 1186, 1191, 1196, 1198, 1199, 1203, 1210, 1214, 1215, 1216, 1219, 1222, 1225, 1227, 1228, 1230, 1231, 1232, 1236, 1238, 1239, 1241, 1245, 1246, 1251, 1259, 1264, 1267], \"1\": [1, 2, 3, 6, 7, 8, 9, 10, 11, 13, 22, 30, 32, 37, 41, 47, 50, 51, 52, 54, 58, 59, 64, 66, 74, 75, 77, 79, 80, 81, 82, 83, 85, 87, 90, 105, 107, 108, 113, 116, 117, 118, 119, 123, 124, 126, 127, 128, 130, 135, 139, 141, 146, 149, 150, 151, 153, 155, 156, 157, 161, 167, 176, 177, 183, 184, 186, 189, 190, 193, 195, 199, 200, 201, 202, 206, 208, 216, 218, 221, 224, 227, 235, 236, 238, 239, 241, 244, 245, 247, 255, 256, 267, 268, 270, 271, 276, 277, 280, 281, 282, 288, 291, 292, 294, 298, 299, 300, 304, 305, 307, 308, 309, 313, 316, 322, 323, 328, 334, 337, 341, 345, 347, 348, 351, 352, 353, 358, 359, 360, 361, 362, 367, 368, 371, 375, 378, 385, 390, 391, 392, 393, 399, 400, 404, 407, 409, 410, 414, 416, 420, 421, 422, 426, 428, 432, 434, 436, 438, 442, 443, 444, 445, 446, 447, 448, 449, 450, 451, 454, 455, 456, 457, 469, 470, 473, 475, 476, 479, 480, 483, 484, 489, 490, 491, 494, 498, 505, 506, 510, 516, 520, 525, 528, 531, 534, 535, 537, 538, 547, 548, 549, 553, 554, 557, 561, 569, 572, 574, 576, 577, 580, 582, 596, 601, 604, 610, 614, 616, 617, 618, 628, 633, 634, 636, 641, 642, 656, 662, 663, 664, 665, 668, 670, 673, 679, 682, 686, 688, 689, 693, 696, 698, 699, 700, 701, 703, 709, 722, 723, 724, 725, 726, 727, 729, 731, 735, 737, 741, 748, 749, 751, 752, 754, 755, 756, 766, 767, 769, 770, 772, 773, 775, 778, 779, 782, 785, 789, 790, 792, 793, 796, 797, 799, 800, 801, 804, 807, 808, 811, 812, 813, 817, 819, 820, 822, 824, 826, 835, 838, 840, 844, 849, 858, 859, 860, 862, 871, 872, 875, 876, 879, 883, 887, 891, 892, 896, 897, 900, 905, 907, 908, 909, 910, 912, 917, 918, 920, 921, 924, 927, 928, 929, 930, 931, 939, 948, 949, 950, 951, 954, 955, 962, 968, 974, 975, 977, 979, 980, 981, 985, 986, 992, 996, 997, 1005, 1006, 1007, 1009, 1010, 1012, 1016, 1017, 1021, 1022, 1025, 1032, 1033, 1035, 1042, 1045, 1056, 1061, 1062, 1064, 1067, 1068, 1074, 1075, 1090, 1094, 1109, 1110, 1111, 1112, 1114, 1116, 1121, 1124, 1136, 1137, 1141, 1147, 1151, 1159, 1162, 1169, 1170, 1172, 1173, 1175, 1178, 1180, 1182, 1184, 1188, 1189, 1190, 1195, 1202, 1206, 1217, 1218, 1220, 1221, 1224, 1226, 1235, 1243, 1244, 1252, 1256, 1257, 1258, 1262, 1268], \"2\": [14, 15, 24, 26, 27, 29, 39, 40, 42, 70, 71, 94, 102, 112, 129, 134, 136, 145, 154, 164, 168, 170, 175, 198, 205, 232, 243, 246, 251, 265, 273, 283, 284, 285, 293, 311, 325, 338, 339, 342, 355, 379, 380, 382, 386, 397, 411, 424, 452, 458, 488, 493, 497, 507, 508, 517, 533, 539, 543, 546, 571, 658, 702, 715, 753, 788, 839, 846, 848, 880, 925, 953, 956, 991, 1086, 1192, 1194, 1234, 1242, 1265], \"3\": [20, 21, 23, 33, 34, 48, 88, 91, 97, 99, 115, 131, 133, 160, 162, 163, 165, 173, 178, 185, 187, 191, 203, 207, 212, 213, 223, 234, 253, 272, 274, 275, 303, 310, 314, 317, 321, 329, 330, 331, 332, 333, 336, 346, 350, 363, 364, 369, 373, 381, 394, 396, 402, 403, 406, 435, 441, 453, 461, 462, 463, 464, 467, 471, 472, 487, 499, 500, 513, 519, 522, 523, 529, 536, 541, 542, 544, 545, 560, 564, 567, 570, 587, 591, 592, 594, 598, 602, 603, 605, 606, 607, 609, 625, 629, 637, 639, 640, 647, 650, 651, 653, 654, 655, 659, 661, 672, 674, 675, 676, 680, 691, 694, 711, 713, 730, 732, 733, 738, 739, 740, 742, 745, 746, 747, 750, 757, 758, 759, 760, 761, 764, 784, 787, 805, 816, 818, 821, 825, 828, 830, 833, 847, 854, 861, 864, 866, 869, 877, 889, 895, 899, 913, 915, 919, 926, 935, 936, 937, 938, 940, 943, 944, 947, 957, 958, 965, 966, 971, 972, 983, 989, 990, 999, 1002, 1003, 1008, 1015, 1023, 1026, 1029, 1038, 1044, 1046, 1047, 1053, 1054, 1058, 1065, 1066, 1070, 1077, 1079, 1081, 1087, 1091, 1092, 1096, 1101, 1104, 1107, 1108, 1127, 1128, 1129, 1132, 1138, 1140, 1150, 1158, 1163, 1164, 1174, 1176, 1177, 1187, 1197, 1201, 1207, 1208, 1209, 1233, 1249, 1250, 1254], \"4\": [72, 84, 92, 122, 159, 209, 214, 306, 349, 376, 389, 430, 468, 492, 511, 512, 521, 578, 611, 619, 643, 652, 660, 677, 685, 714, 720, 734, 744, 794, 795, 798, 815, 829, 836, 855, 856, 867, 941, 961, 1000, 1037, 1049, 1063, 1106, 1113, 1205, 1211, 1237, 1247, 1266], \"5\": [681], \"6\": [776], \"7\": [809], \"8\": [995], \"9\": [1073], \"10\": [1080], \"11\": [1103], \"12\": [1115], \"13\": [1117], \"14\": [1118], \"15\": [1120], \"16\": [1135], \"17\": [1142], \"18\": [1143], \"19\": [1144], \"20\": [1145], \"21\": [1149], \"22\": [1156], \"23\": [1171], \"24\": [1193], \"25\": [1200], \"26\": [1204], \"27\": [1212], \"28\": [1213], \"29\": [1223], \"30\": [1229], \"31\": [1240], \"32\": [1248], \"33\": [1253], \"34\": [1255], \"35\": [1260], \"36\": [1261], \"37\": [1263]}\n",
            "Number of Edges 490158\n",
            "Number of Node 1269\n",
            "Graph Max Degree  1194\n",
            "Graph Min Degree  0\n",
            "Graph Mean Degree  773\n",
            "Graph Density  0.61\n"
          ],
          "name": "stdout"
        }
      ]
    },
    {
      "cell_type": "code",
      "metadata": {
        "id": "93gKbPFLvP5A",
        "colab_type": "code",
        "colab": {}
      },
      "source": [
        "# Recommanding articles ...\n",
        "_article_already_read = [2,5,67,17,233]\n",
        "_nb_recommendation = 10\n",
        "_plot_subgraph = True\n",
        "sorted_node , ranking_index = sc.recommend_articles(article_already_read= _article_already_read ,\n",
        "                                                    nb_recommendations=_nb_recommendation,\n",
        "                                                    plot_subgraph = _plot_subgraph)\n",
        "\n",
        "# Printing results  in dataFrame ...  \n",
        "result_df = pd.DataFrame(columns=[\"Id\",\"Score\",\"Title\"])\n",
        "i = 0 \n",
        "for n in sorted_node:\n",
        "  result_df.loc[i, \"Id\"] = n\n",
        "  result_df.loc[i, \"Score\"] = ranking_index[n]\n",
        "  result_df.loc[i, \"Title\"] = str(sc.get_graph().nodes[n][\"title\"]).strip()\n",
        "  # print(\"id: \",n,\" | \", ranking_index[n], \"| Title:\",G.nodes[n][\"title\"])\n",
        "  i+=1\n",
        "\n",
        "\n",
        "\n",
        "pd.set_option(\"display.max_colwidth\",800)\n",
        "result_df"
      ],
      "execution_count": 0,
      "outputs": []
    },
    {
      "cell_type": "markdown",
      "metadata": {
        "id": "vcY4FBVzZ9yd",
        "colab_type": "text"
      },
      "source": [
        " \n",
        "* GoogleTrans https://pypi.org/project/googletrans/  \\[ 15k max string \\]\n",
        "* Textract http://textract.readthedocs.io/en/latest/\n",
        "* http://ryancompton.net/2014/06/16/community-detection-and-colored-plotting-in-networkx/\n",
        "* https://automatetheboringstuff.com/chapter13/\n",
        "* https://pypi.org/project/PyPDF2/\n",
        "* https://github.com/euske/pdfminer\n",
        "* https://www.geeksforgeeks.org/python-reading-contents-of-pdf-using-ocr-optical-character-recognition/\n",
        "\n"
      ]
    },
    {
      "cell_type": "code",
      "metadata": {
        "id": "OOZYMJ4DGWHS",
        "colab_type": "code",
        "colab": {}
      },
      "source": [
        ""
      ],
      "execution_count": 0,
      "outputs": []
    }
  ]
}