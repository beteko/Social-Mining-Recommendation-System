{
 "cells": [
  {
   "cell_type": "markdown",
   "metadata": {
    "colab_type": "text",
    "id": "pyvbZcpBy0Xo"
   },
   "source": [
    "<center>\n",
    "\n",
    "#  Datamining for Big Data \n",
    "##  Recommendation System  with Graph Mining \n",
    "</center> \n"
   ]
  },
  {
   "cell_type": "markdown",
   "metadata": {
    "colab_type": "text",
    "id": "odUCrFoCzOed"
   },
   "source": [
    "### 0- Mounting Drive ..."
   ]
  },
  {
   "cell_type": "code",
   "execution_count": 1,
   "metadata": {
    "colab": {
     "base_uri": "https://localhost:8080/",
     "height": 122
    },
    "colab_type": "code",
    "id": "XYWuDCGIytsq",
    "outputId": "99eb00a6-d607-4610-a8e0-0eafc0ab8e31"
   },
   "outputs": [
    {
     "name": "stdout",
     "output_type": "stream",
     "text": [
      "Go to this URL in a browser: https://accounts.google.com/o/oauth2/auth?client_id=947318989803-6bn6qk8qdgf4n4g3pfee6491hc0brc4i.apps.googleusercontent.com&redirect_uri=urn%3aietf%3awg%3aoauth%3a2.0%3aoob&response_type=code&scope=email%20https%3a%2f%2fwww.googleapis.com%2fauth%2fdocs.test%20https%3a%2f%2fwww.googleapis.com%2fauth%2fdrive%20https%3a%2f%2fwww.googleapis.com%2fauth%2fdrive.photos.readonly%20https%3a%2f%2fwww.googleapis.com%2fauth%2fpeopleapi.readonly\n",
      "\n",
      "Enter your authorization code:\n",
      "··········\n",
      "Mounted at /content/drive\n"
     ]
    }
   ],
   "source": [
    "from google.colab import drive\n",
    "drive.mount('/content/drive')"
   ]
  },
  {
   "cell_type": "markdown",
   "metadata": {
    "colab_type": "text",
    "id": "ENyZ3EikzeF-"
   },
   "source": [
    "### 1- Loading Library, Dataset and Utilities functions ... "
   ]
  },
  {
   "cell_type": "code",
   "execution_count": 1,
   "metadata": {
    "colab": {
     "base_uri": "https://localhost:8080/",
     "height": 68
    },
    "colab_type": "code",
    "id": "2aDTi3xjzUqD",
    "outputId": "415b5d47-2c55-4d11-b15d-debda844022d"
   },
   "outputs": [
    {
     "name": "stdout",
     "output_type": "stream",
     "text": [
      "Requirement already satisfied: textblob in /home/kenneth/miniconda3/lib/python3.7/site-packages (0.15.3)\n",
      "Requirement already satisfied: nltk>=3.1 in /home/kenneth/miniconda3/lib/python3.7/site-packages (from textblob) (3.4.5)\n",
      "Requirement already satisfied: six in /home/kenneth/miniconda3/lib/python3.7/site-packages (from nltk>=3.1->textblob) (1.12.0)\n"
     ]
    }
   ],
   "source": [
    "# Installing dependencies ....\n",
    "! pip install textblob\n",
    "\n",
    "# Loading dependencies  ....\n",
    "import networkx as nx \n",
    "from networkx.algorithms.distance_measures import diameter\n",
    "from networkx.algorithms.community import community_utils\n",
    "from networkx.algorithms.community import greedy_modularity_communities\n",
    "\n",
    "from networkx.algorithms.community import k_clique_communities\n",
    "from networkx.algorithms.centrality import edge_betweenness_centrality\n",
    "from networkx.algorithms.community.centrality import girvan_newman\n",
    "import pandas as pd\n",
    "import numpy as np\n",
    "import statistics as stats\n",
    "import community\n",
    "import collections\n",
    "import math\n",
    "from matplotlib  import pyplot as plt \n",
    "from textblob import TextBlob\n",
    "import re\n",
    "import random \n",
    "import json"
   ]
  },
  {
   "cell_type": "code",
   "execution_count": 0,
   "metadata": {
    "colab": {},
    "colab_type": "code",
    "id": "7cgW3RZLz6gy"
   },
   "outputs": [],
   "source": [
    "# Initializing gloabal variables ...\n",
    "_root = \"/content/drive/My Drive/SOCIAL_MINING\"\n",
    "_url_src_dataset = _root+\"/data/export_articles_EGC_2004_2018.csv\"\n",
    "_url_similarity_score = _root+\"/data/similarityscore.csv\""
   ]
  },
  {
   "cell_type": "code",
   "execution_count": 2,
   "metadata": {},
   "outputs": [],
   "source": [
    "path = '/home/kenneth/Documents/MLDM M2/DATA MINING FOR BIG DATA/PROJECT/'+\\\n",
    "        'Social-Mining-Recommendation-System/DATASET'"
   ]
  },
  {
   "cell_type": "code",
   "execution_count": 5,
   "metadata": {},
   "outputs": [],
   "source": [
    "import os\n",
    "\n",
    "data = pd.read_csv(os.path.join(path, 'processed/pcomplete.csv'), sep = ',',).iloc[:, 1:]\n",
    "sort_dataset = data.sort_values(by=['year'])\n",
    "simscore = pd.read_csv(os.path.join(path, 'processed/similarityscore.csv')).iloc[:, 1:]"
   ]
  },
  {
   "cell_type": "code",
   "execution_count": 6,
   "metadata": {},
   "outputs": [
    {
     "data": {
      "text/html": [
       "<div>\n",
       "<style scoped>\n",
       "    .dataframe tbody tr th:only-of-type {\n",
       "        vertical-align: middle;\n",
       "    }\n",
       "\n",
       "    .dataframe tbody tr th {\n",
       "        vertical-align: top;\n",
       "    }\n",
       "\n",
       "    .dataframe thead th {\n",
       "        text-align: right;\n",
       "    }\n",
       "</style>\n",
       "<table border=\"1\" class=\"dataframe\">\n",
       "  <thead>\n",
       "    <tr style=\"text-align: right;\">\n",
       "      <th></th>\n",
       "      <th>0</th>\n",
       "      <th>1</th>\n",
       "      <th>2</th>\n",
       "      <th>3</th>\n",
       "      <th>4</th>\n",
       "      <th>5</th>\n",
       "      <th>6</th>\n",
       "      <th>7</th>\n",
       "      <th>8</th>\n",
       "      <th>9</th>\n",
       "      <th>...</th>\n",
       "      <th>1259</th>\n",
       "      <th>1260</th>\n",
       "      <th>1261</th>\n",
       "      <th>1262</th>\n",
       "      <th>1263</th>\n",
       "      <th>1264</th>\n",
       "      <th>1265</th>\n",
       "      <th>1266</th>\n",
       "      <th>1267</th>\n",
       "      <th>1268</th>\n",
       "    </tr>\n",
       "  </thead>\n",
       "  <tbody>\n",
       "    <tr>\n",
       "      <th>0</th>\n",
       "      <td>1.000000</td>\n",
       "      <td>0.029532</td>\n",
       "      <td>0.053901</td>\n",
       "      <td>0.053560</td>\n",
       "      <td>0.060623</td>\n",
       "      <td>0.063785</td>\n",
       "      <td>0.025400</td>\n",
       "      <td>0.038503</td>\n",
       "      <td>0.013188</td>\n",
       "      <td>0.030437</td>\n",
       "      <td>...</td>\n",
       "      <td>0.021660</td>\n",
       "      <td>0.0</td>\n",
       "      <td>0.0</td>\n",
       "      <td>0.016758</td>\n",
       "      <td>0.0</td>\n",
       "      <td>0.032758</td>\n",
       "      <td>0.031142</td>\n",
       "      <td>0.000000</td>\n",
       "      <td>0.016213</td>\n",
       "      <td>0.020832</td>\n",
       "    </tr>\n",
       "    <tr>\n",
       "      <th>1</th>\n",
       "      <td>0.029532</td>\n",
       "      <td>1.000000</td>\n",
       "      <td>0.070888</td>\n",
       "      <td>0.054872</td>\n",
       "      <td>0.067451</td>\n",
       "      <td>0.034809</td>\n",
       "      <td>0.036648</td>\n",
       "      <td>0.124817</td>\n",
       "      <td>0.035075</td>\n",
       "      <td>0.071775</td>\n",
       "      <td>...</td>\n",
       "      <td>0.042609</td>\n",
       "      <td>0.0</td>\n",
       "      <td>0.0</td>\n",
       "      <td>0.026103</td>\n",
       "      <td>0.0</td>\n",
       "      <td>0.049501</td>\n",
       "      <td>0.046239</td>\n",
       "      <td>0.002306</td>\n",
       "      <td>0.021818</td>\n",
       "      <td>0.031917</td>\n",
       "    </tr>\n",
       "    <tr>\n",
       "      <th>2</th>\n",
       "      <td>0.053901</td>\n",
       "      <td>0.070888</td>\n",
       "      <td>1.000000</td>\n",
       "      <td>0.053640</td>\n",
       "      <td>0.070727</td>\n",
       "      <td>0.051718</td>\n",
       "      <td>0.037077</td>\n",
       "      <td>0.116249</td>\n",
       "      <td>0.038164</td>\n",
       "      <td>0.083996</td>\n",
       "      <td>...</td>\n",
       "      <td>0.052078</td>\n",
       "      <td>0.0</td>\n",
       "      <td>0.0</td>\n",
       "      <td>0.048642</td>\n",
       "      <td>0.0</td>\n",
       "      <td>0.061961</td>\n",
       "      <td>0.092791</td>\n",
       "      <td>0.000000</td>\n",
       "      <td>0.026852</td>\n",
       "      <td>0.058738</td>\n",
       "    </tr>\n",
       "    <tr>\n",
       "      <th>3</th>\n",
       "      <td>0.053560</td>\n",
       "      <td>0.054872</td>\n",
       "      <td>0.053640</td>\n",
       "      <td>1.000000</td>\n",
       "      <td>0.080480</td>\n",
       "      <td>0.046704</td>\n",
       "      <td>0.051510</td>\n",
       "      <td>0.121847</td>\n",
       "      <td>0.036769</td>\n",
       "      <td>0.064792</td>\n",
       "      <td>...</td>\n",
       "      <td>0.024703</td>\n",
       "      <td>0.0</td>\n",
       "      <td>0.0</td>\n",
       "      <td>0.032768</td>\n",
       "      <td>0.0</td>\n",
       "      <td>0.052762</td>\n",
       "      <td>0.037557</td>\n",
       "      <td>0.003402</td>\n",
       "      <td>0.010180</td>\n",
       "      <td>0.024779</td>\n",
       "    </tr>\n",
       "    <tr>\n",
       "      <th>4</th>\n",
       "      <td>0.060623</td>\n",
       "      <td>0.067451</td>\n",
       "      <td>0.070727</td>\n",
       "      <td>0.080480</td>\n",
       "      <td>1.000000</td>\n",
       "      <td>0.071383</td>\n",
       "      <td>0.046404</td>\n",
       "      <td>0.104442</td>\n",
       "      <td>0.050913</td>\n",
       "      <td>0.087752</td>\n",
       "      <td>...</td>\n",
       "      <td>0.035774</td>\n",
       "      <td>0.0</td>\n",
       "      <td>0.0</td>\n",
       "      <td>0.045625</td>\n",
       "      <td>0.0</td>\n",
       "      <td>0.099166</td>\n",
       "      <td>0.041126</td>\n",
       "      <td>0.002121</td>\n",
       "      <td>0.102722</td>\n",
       "      <td>0.047201</td>\n",
       "    </tr>\n",
       "  </tbody>\n",
       "</table>\n",
       "<p>5 rows × 1269 columns</p>\n",
       "</div>"
      ],
      "text/plain": [
       "          0         1         2         3         4         5         6  \\\n",
       "0  1.000000  0.029532  0.053901  0.053560  0.060623  0.063785  0.025400   \n",
       "1  0.029532  1.000000  0.070888  0.054872  0.067451  0.034809  0.036648   \n",
       "2  0.053901  0.070888  1.000000  0.053640  0.070727  0.051718  0.037077   \n",
       "3  0.053560  0.054872  0.053640  1.000000  0.080480  0.046704  0.051510   \n",
       "4  0.060623  0.067451  0.070727  0.080480  1.000000  0.071383  0.046404   \n",
       "\n",
       "          7         8         9  ...      1259  1260  1261      1262  1263  \\\n",
       "0  0.038503  0.013188  0.030437  ...  0.021660   0.0   0.0  0.016758   0.0   \n",
       "1  0.124817  0.035075  0.071775  ...  0.042609   0.0   0.0  0.026103   0.0   \n",
       "2  0.116249  0.038164  0.083996  ...  0.052078   0.0   0.0  0.048642   0.0   \n",
       "3  0.121847  0.036769  0.064792  ...  0.024703   0.0   0.0  0.032768   0.0   \n",
       "4  0.104442  0.050913  0.087752  ...  0.035774   0.0   0.0  0.045625   0.0   \n",
       "\n",
       "       1264      1265      1266      1267      1268  \n",
       "0  0.032758  0.031142  0.000000  0.016213  0.020832  \n",
       "1  0.049501  0.046239  0.002306  0.021818  0.031917  \n",
       "2  0.061961  0.092791  0.000000  0.026852  0.058738  \n",
       "3  0.052762  0.037557  0.003402  0.010180  0.024779  \n",
       "4  0.099166  0.041126  0.002121  0.102722  0.047201  \n",
       "\n",
       "[5 rows x 1269 columns]"
      ]
     },
     "execution_count": 6,
     "metadata": {},
     "output_type": "execute_result"
    }
   ],
   "source": [
    "simscore.head()"
   ]
  },
  {
   "cell_type": "code",
   "execution_count": 15,
   "metadata": {
    "colab": {},
    "colab_type": "code",
    "id": "NIzGE_Fz1Ti6"
   },
   "outputs": [],
   "source": [
    "# Implementing Utilities Functions ...\n",
    "def get_node_properties(node_id, df):\n",
    "  \"\"\"\n",
    "    Method used to get details/properties of a node given a node number \n",
    "  \n",
    "    @params: \n",
    "      node_id[Integer]: Node number / ID \n",
    "      df[Pandas.Dataframe]: Source DataFrame \n",
    "    @Returns:\n",
    "      Dictionaries of all details about the Node \n",
    "  \"\"\"\n",
    "  assert( node_id  in range(df.shape[0]) )\n",
    "  return dict(df.iloc[node_id])\n",
    "\n",
    "def is_positive_integer(i):\n",
    "  try:\n",
    "    i = int(i)\n",
    "    if i >=0:\n",
    "      return True\n",
    "  except Exception as e:\n",
    "    pass\n",
    "  return False \n",
    "\n",
    "def split_string_in_chunks(x, chunk_size  ):\n",
    "  chunks = len(x)\n",
    "  return [ x[i:i+chunk_size] for i in range(0, chunks, chunk_size) ]\n",
    "\n",
    "def _remove_all_special_chars(input_text):\n",
    "  assert (type(input_text) == str)\n",
    "\n",
    "  output_text = [re.sub(r\"[^a-zA-Z]+\", ' ', k) for k in input_text.split(\"\\n\")]\n",
    "  output_text = \" \".join(output_text).replace(\"\\n\", \" \")\n",
    "  output_text = output_text.lower()\n",
    "  return output_text\n",
    "\n",
    "def _reverse_key_value(my_dict):\n",
    "  tmp = dict()\n",
    "  for (k,v) in my_dict.items() :\n",
    "    if v not in tmp:\n",
    "      tmp[v] = list() \n",
    "    tmp[v].append(k)\n",
    "\n",
    "  return tmp \n"
   ]
  },
  {
   "cell_type": "code",
   "execution_count": 0,
   "metadata": {
    "colab": {},
    "colab_type": "code",
    "id": "x3luTeTd2ApJ"
   },
   "outputs": [],
   "source": [
    "# Loading Dataset ...\n",
    "src_df = pd.read_csv(_url_src_dataset,delimiter=\"\\t\")\n",
    "sim_df = pd.read_csv(_url_similarity_score,delimiter=\",\")\n",
    "sim_df = sim_df.drop('Unnamed: 0', 1)"
   ]
  },
  {
   "cell_type": "markdown",
   "metadata": {
    "colab_type": "text",
    "id": "b9mV28c31IIo"
   },
   "source": [
    "### 2- Data Visualization  ... "
   ]
  },
  {
   "cell_type": "code",
   "execution_count": 6,
   "metadata": {
    "colab": {
     "base_uri": "https://localhost:8080/",
     "height": 527
    },
    "colab_type": "code",
    "id": "3cQLNgTD1FfU",
    "outputId": "b9b0117f-f12b-49e1-d03e-f34f3074d07c"
   },
   "outputs": [
    {
     "name": "stdout",
     "output_type": "stream",
     "text": [
      "src_df.shape:  (1269, 8)\n",
      "Index(['series', 'booktitle', 'year', 'title', 'abstract', 'authors',\n",
      "       'pdf1page', 'pdfarticle'],\n",
      "      dtype='object')\n",
      "Index(['0', '1', '2', '3', '4', '5', '6', '7', '8', '9',\n",
      "       ...\n",
      "       '1259', '1260', '1261', '1262', '1263', '1264', '1265', '1266', '1267',\n",
      "       '1268'],\n",
      "      dtype='object', length=1269)\n"
     ]
    },
    {
     "data": {
      "text/html": [
       "<div>\n",
       "<style scoped>\n",
       "    .dataframe tbody tr th:only-of-type {\n",
       "        vertical-align: middle;\n",
       "    }\n",
       "\n",
       "    .dataframe tbody tr th {\n",
       "        vertical-align: top;\n",
       "    }\n",
       "\n",
       "    .dataframe thead th {\n",
       "        text-align: right;\n",
       "    }\n",
       "</style>\n",
       "<table border=\"1\" class=\"dataframe\">\n",
       "  <thead>\n",
       "    <tr style=\"text-align: right;\">\n",
       "      <th></th>\n",
       "      <th>series</th>\n",
       "      <th>booktitle</th>\n",
       "      <th>year</th>\n",
       "      <th>title</th>\n",
       "      <th>abstract</th>\n",
       "      <th>authors</th>\n",
       "      <th>pdf1page</th>\n",
       "      <th>pdfarticle</th>\n",
       "    </tr>\n",
       "  </thead>\n",
       "  <tbody>\n",
       "    <tr>\n",
       "      <th>0</th>\n",
       "      <td>Revue des Nouvelles Technologies de l'Information</td>\n",
       "      <td>EGC</td>\n",
       "      <td>2018</td>\n",
       "      <td>#Idéo2017 : une plateforme citoyenne dédiée à ...</td>\n",
       "      <td>Cette plateforme a pour objectif de permettre ...</td>\n",
       "      <td>Claudia Marinica, Julien Longhi, Nader Hassine...</td>\n",
       "      <td>http://editions-rnti.fr/render_pdf.php?p1&amp;p=10...</td>\n",
       "      <td>http://editions-rnti.fr/render_pdf.php?p=1002425</td>\n",
       "    </tr>\n",
       "    <tr>\n",
       "      <th>1</th>\n",
       "      <td>Revue des Nouvelles Technologies de l'Information</td>\n",
       "      <td>EGC</td>\n",
       "      <td>2018</td>\n",
       "      <td>A two level co-clustering algorithm for very l...</td>\n",
       "      <td>La classification croisée (co-clustering) est ...</td>\n",
       "      <td>Marius Barctus, Marc Boullé, Fabrice Clérot</td>\n",
       "      <td>http://editions-rnti.fr/render_pdf.php?p1&amp;p=10...</td>\n",
       "      <td>http://editions-rnti.fr/render_pdf.php?p=1002372</td>\n",
       "    </tr>\n",
       "    <tr>\n",
       "      <th>2</th>\n",
       "      <td>Revue des Nouvelles Technologies de l'Information</td>\n",
       "      <td>EGC</td>\n",
       "      <td>2018</td>\n",
       "      <td>ALGeoSPF: Un modèle de factorisation basé sur ...</td>\n",
       "      <td>La recommandation de points d'intérêts est dev...</td>\n",
       "      <td>Jean-Benoît Griesner, Talel Abdesssalem, Huber...</td>\n",
       "      <td>http://editions-rnti.fr/render_pdf.php?p1&amp;p=10...</td>\n",
       "      <td>http://editions-rnti.fr/render_pdf.php?p=1002380</td>\n",
       "    </tr>\n",
       "    <tr>\n",
       "      <th>3</th>\n",
       "      <td>Revue des Nouvelles Technologies de l'Information</td>\n",
       "      <td>EGC</td>\n",
       "      <td>2018</td>\n",
       "      <td>Analyse des sentiments à partir des commentair...</td>\n",
       "      <td>L'analyse des sentiments est un processus pend...</td>\n",
       "      <td>Abdeljalil Elouardighi, Mohcine Maghfour, Hafd...</td>\n",
       "      <td>http://editions-rnti.fr/render_pdf.php?p1&amp;p=10...</td>\n",
       "      <td>http://editions-rnti.fr/render_pdf.php?p=1002397</td>\n",
       "    </tr>\n",
       "    <tr>\n",
       "      <th>4</th>\n",
       "      <td>Revue des Nouvelles Technologies de l'Information</td>\n",
       "      <td>EGC</td>\n",
       "      <td>2018</td>\n",
       "      <td>Analyse en rôles sémantiques pour le résumé au...</td>\n",
       "      <td>Cet article présente une approche visant à ext...</td>\n",
       "      <td>Elyase Lassouli, Yasmine Mesbahi, Camille Prad...</td>\n",
       "      <td>http://editions-rnti.fr/render_pdf.php?p1&amp;p=10...</td>\n",
       "      <td>http://editions-rnti.fr/render_pdf.php?p=1002384</td>\n",
       "    </tr>\n",
       "  </tbody>\n",
       "</table>\n",
       "</div>"
      ],
      "text/plain": [
       "                                              series  ...                                        pdfarticle\n",
       "0  Revue des Nouvelles Technologies de l'Information  ...  http://editions-rnti.fr/render_pdf.php?p=1002425\n",
       "1  Revue des Nouvelles Technologies de l'Information  ...  http://editions-rnti.fr/render_pdf.php?p=1002372\n",
       "2  Revue des Nouvelles Technologies de l'Information  ...  http://editions-rnti.fr/render_pdf.php?p=1002380\n",
       "3  Revue des Nouvelles Technologies de l'Information  ...  http://editions-rnti.fr/render_pdf.php?p=1002397\n",
       "4  Revue des Nouvelles Technologies de l'Information  ...  http://editions-rnti.fr/render_pdf.php?p=1002384\n",
       "\n",
       "[5 rows x 8 columns]"
      ]
     },
     "execution_count": 6,
     "metadata": {
      "tags": []
     },
     "output_type": "execute_result"
    }
   ],
   "source": [
    "print(\"src_df.shape: \", src_df.shape)\n",
    "print(src_df.columns)\n",
    "print(sim_df.columns)\n",
    "src_df.head(5)"
   ]
  },
  {
   "cell_type": "code",
   "execution_count": 7,
   "metadata": {
    "colab": {
     "base_uri": "https://localhost:8080/",
     "height": 170
    },
    "colab_type": "code",
    "id": "RBJy1h4BUNI8",
    "outputId": "d040a55c-954f-452b-a847-674c3528669b"
   },
   "outputs": [
    {
     "data": {
      "text/plain": [
       "series        Revue des Nouvelles Technologies de l'Information\n",
       "booktitle                                                   EGC\n",
       "year                                                       2018\n",
       "title         Analyse en rôles sémantiques pour le résumé au...\n",
       "abstract      Cet article présente une approche visant à ext...\n",
       "authors       Elyase Lassouli, Yasmine Mesbahi, Camille Prad...\n",
       "pdf1page      http://editions-rnti.fr/render_pdf.php?p1&p=10...\n",
       "pdfarticle     http://editions-rnti.fr/render_pdf.php?p=1002384\n",
       "Name: 4, dtype: object"
      ]
     },
     "execution_count": 7,
     "metadata": {
      "tags": []
     },
     "output_type": "execute_result"
    }
   ],
   "source": [
    "#src_df.loc[1145]\n",
    "src_df.loc[4]"
   ]
  },
  {
   "cell_type": "markdown",
   "metadata": {
    "colab_type": "text",
    "id": "zFyaQ8bnB35U"
   },
   "source": [
    "### 3- Data Preprocessing ..."
   ]
  },
  {
   "cell_type": "code",
   "execution_count": 8,
   "metadata": {
    "colab": {
     "base_uri": "https://localhost:8080/",
     "height": 153
    },
    "colab_type": "code",
    "id": "lPlM0CXT24-5",
    "outputId": "9caa2899-8e78-4c8e-a974-1f56f0d9b8c5"
   },
   "outputs": [
    {
     "name": "stdout",
     "output_type": "stream",
     "text": [
      "dist_matrix: \n",
      " [[1.         0.03175874 0.03774489 ... 0.         0.0163006  0.0202879 ]\n",
      " [0.03175874 1.         0.12842015 ... 0.00364649 0.01581375 0.14576674]\n",
      " [0.03774489 0.12842015 1.         ... 0.         0.02892527 0.06165638]\n",
      " ...\n",
      " [0.         0.00364649 0.         ... 1.         0.         0.        ]\n",
      " [0.0163006  0.01581375 0.02892527 ... 0.         1.         0.00410653]\n",
      " [0.0202879  0.14576674 0.06165638 ... 0.         0.00410653 1.        ]]\n"
     ]
    }
   ],
   "source": [
    "# Creating Trivial Distance Function base on disctance function derived from mxm matrix ...\n",
    "m,n = src_df.shape \n",
    "#m= 1000\n",
    "#dist_matrix = np.random.randint(0,1000, size=(m,m) ) \n",
    "dist_matrix = sim_df.values\n",
    "print(\"dist_matrix: \\n\", dist_matrix)"
   ]
  },
  {
   "cell_type": "code",
   "execution_count": 7,
   "metadata": {},
   "outputs": [],
   "source": [
    "dist_matrix = np.array(simscore)"
   ]
  },
  {
   "cell_type": "code",
   "execution_count": 12,
   "metadata": {},
   "outputs": [],
   "source": [
    "m, n = dist_matrix.shape"
   ]
  },
  {
   "cell_type": "code",
   "execution_count": 13,
   "metadata": {
    "colab": {
     "base_uri": "https://localhost:8080/",
     "height": 153
    },
    "colab_type": "code",
    "id": "8HdXNJwv4hHD",
    "outputId": "bab9590c-5d10-4479-a039-ab775be5d580"
   },
   "outputs": [
    {
     "name": "stdout",
     "output_type": "stream",
     "text": [
      "dist_matrix: \n",
      " [[1.         0.         0.05390069 ... 0.         0.         0.        ]\n",
      " [0.         1.         0.07088781 ... 0.         0.         0.03191737]\n",
      " [0.05390069 0.07088781 1.         ... 0.         0.         0.05873764]\n",
      " ...\n",
      " [0.         0.         0.         ... 1.         0.         0.        ]\n",
      " [0.         0.         0.         ... 0.         1.         0.        ]\n",
      " [0.         0.03191737 0.05873764 ... 0.         0.         1.        ]]\n"
     ]
    }
   ],
   "source": [
    "# Filtering the distance function using the defined threashold ... \n",
    "#_threashold = 0.04\n",
    "#_threashold = 0.07\n",
    "_threashold = 0.03\n",
    "for i in range(m):\n",
    "  dist_matrix[:,i] = [ 0 if x<_threashold  else x for x in dist_matrix[:,i]   ]\n",
    "print(\"dist_matrix: \\n\", dist_matrix)"
   ]
  },
  {
   "cell_type": "code",
   "execution_count": 17,
   "metadata": {
    "colab": {
     "base_uri": "https://localhost:8080/",
     "height": 34
    },
    "colab_type": "code",
    "id": "lOQSORZi6lsp",
    "outputId": "ba9cc844-b146-4c23-daec-235a6ed3d6a3"
   },
   "outputs": [
    {
     "name": "stdout",
     "output_type": "stream",
     "text": [
      "Node Title Properties:  #Idéo2017 : une plateforme citoyenne dédiée à l'analyse des tweets lors des événements politiques\n"
     ]
    }
   ],
   "source": [
    "# Defining Nodes using source dataframe ...\n",
    "G = nx.Graph()\n",
    "for n in range(m):\n",
    "  # Adding the properties each node ... \n",
    "  G.add_node(n, **get_node_properties(n, data))\n",
    "\n",
    "print(\"Node Title Properties: \",G.nodes[0][\"title\"])\n",
    "\n",
    "# Defining Edegs based on the distance/weight matric  ...\n",
    "for i in range(m):\n",
    "  for j in range(m):\n",
    "    if dist_matrix[i,j] != 0 and i != j  :\n",
    "      G.add_edge(i,j,weight=dist_matrix[i,j]) \n",
    "\n",
    "#print(\"Edge weight : \",G.edges[0, 1]['weight'])"
   ]
  },
  {
   "cell_type": "code",
   "execution_count": 22,
   "metadata": {},
   "outputs": [],
   "source": [
    "E = [E for E in G.edges]"
   ]
  },
  {
   "cell_type": "code",
   "execution_count": 24,
   "metadata": {},
   "outputs": [
    {
     "data": {
      "text/plain": [
       "546103"
      ]
     },
     "execution_count": 24,
     "metadata": {},
     "output_type": "execute_result"
    }
   ],
   "source": [
    "len(E)"
   ]
  },
  {
   "cell_type": "code",
   "execution_count": 26,
   "metadata": {},
   "outputs": [],
   "source": [
    "pos = nx.fruchterman_reingold_layout(G)"
   ]
  },
  {
   "cell_type": "code",
   "execution_count": 27,
   "metadata": {},
   "outputs": [],
   "source": [
    "Xv = [pos[k][0] for k in range(n)]\n",
    "Yv = [pos[k][1] for k in range(n)]\n"
   ]
  },
  {
   "cell_type": "code",
   "execution_count": 31,
   "metadata": {},
   "outputs": [
    {
     "data": {
      "text/plain": [
       "1268"
      ]
     },
     "execution_count": 31,
     "metadata": {},
     "output_type": "execute_result"
    }
   ],
   "source": [
    "len(Yv)"
   ]
  },
  {
   "cell_type": "code",
   "execution_count": 32,
   "metadata": {},
   "outputs": [],
   "source": [
    "Xed = []\n",
    "Yed = []\n",
    "for edge in E:\n",
    "    Xed += [pos[edge[0]][0], pos[edge[1]][0], None]\n",
    "    Yed += [pos[edge[0]][1], pos[edge[1]][1], None]"
   ]
  },
  {
   "cell_type": "code",
   "execution_count": 25,
   "metadata": {
    "colab": {
     "base_uri": "https://localhost:8080/",
     "height": 336
    },
    "colab_type": "code",
    "id": "nxoGne_MJkIS",
    "outputId": "e32fbbf9-d8ed-49a5-8d07-7abdf897572c"
   },
   "outputs": [
    {
     "data": {
      "image/png": "[encoded data removed]",
      "text/plain": [
       "<Figure size 432x288 with 1 Axes>"
      ]
     },
     "metadata": {},
     "output_type": "display_data"
    },
    {
     "data": {
      "text/plain": [
       "<Figure size 1224x216 with 0 Axes>"
      ]
     },
     "metadata": {},
     "output_type": "display_data"
    }
   ],
   "source": [
    "# Plotting graph ...\n",
    "G.add_nodes_from(list(range(m) ))\n",
    "nx.draw(G, with_labels=True)\n",
    "plt.figure(figsize=(17,3))\n",
    "plt.show()\n",
    "\n"
   ]
  },
  {
   "cell_type": "markdown",
   "metadata": {
    "colab_type": "text",
    "id": "YTCyeq8EPrpX"
   },
   "source": [
    "### 4- Network  Analysis ... "
   ]
  },
  {
   "cell_type": "code",
   "execution_count": 11,
   "metadata": {
    "colab": {
     "base_uri": "https://localhost:8080/",
     "height": 119
    },
    "colab_type": "code",
    "id": "tBNFXpBoP1HQ",
    "outputId": "3e9cdef7-c932-4c00-cb84-b1ffff9873ec"
   },
   "outputs": [
    {
     "name": "stdout",
     "output_type": "stream",
     "text": [
      "Number of Edges 490158\n",
      "Number of Node 1269\n",
      "Graph Max Degree  1194\n",
      "Graph Min Degree  0\n",
      "Graph Mean Degree  773\n",
      "Graph Density  0.61\n"
     ]
    }
   ],
   "source": [
    "# Global Network Analysis ...\n",
    "n_edges = G.number_of_edges()\n",
    "n_nodes = G.number_of_nodes()\n",
    "#g_diameter = nx.diameter(G)\n",
    "g_degree = nx.degree(G)\n",
    "g_max_degree = max( [ x[1] for x in  g_degree ] )\n",
    "g_min_degree = min( [ x[1] for x in  g_degree ] )\n",
    "g_avg_degree = math.ceil(stats.mean( [ x[1] for x in  g_degree ] ))\n",
    "g_density = round(nx.density(G),2)\n",
    "\n",
    "print(\"Number of Edges\", n_edges )\n",
    "print(\"Number of Node\", n_nodes)\n",
    "#print(\"Graph Diameter\", g_diameter)\n",
    "print(\"Graph Max Degree \",g_max_degree  )\n",
    "print(\"Graph Min Degree \",g_min_degree  )\n",
    "print(\"Graph Mean Degree \",g_avg_degree  )\n",
    "print(\"Graph Density \", g_density)\n",
    "\n",
    "# Local Network Analysis ... \n",
    "\n"
   ]
  },
  {
   "cell_type": "markdown",
   "metadata": {
    "colab_type": "text",
    "id": "VuVa4fBrQ7F7"
   },
   "source": [
    "### 5- Recommendation System Implementation ..."
   ]
  },
  {
   "cell_type": "code",
   "execution_count": 0,
   "metadata": {
    "colab": {},
    "colab_type": "code",
    "id": "wM1yw-ZAcStH"
   },
   "outputs": [],
   "source": [
    "# Selecting matching candidates per the book(s) read ... \n",
    "def detect_communities(G):\n",
    "  community_ = node_candidates_girvan_newman(G)\n",
    "  return community_ , _reverse_key_value( community_),community.modularity(community_, G )\n",
    "\n",
    "\n",
    "def node_candidates_girvan_newman(G):\n",
    "  community_ = community.best_partition(G,weight='weight', random_state= 1)\n",
    "  return community_\n",
    "\n",
    "def node_candidates_greedy(G):\n",
    "  greedy_com=list(greedy_modularity_communities(G, weight=\"weight\"))\n",
    "  return greedy_com\n",
    "\n",
    "def node_candidates_clique(G, n_cliques = 3):\n",
    "  clique_com = list(k_clique_communities(G, n_cliques))\n",
    "  return clique_com\n",
    "\n",
    "def node_candidates(community,list_read, nb_candidates = 10):\n",
    "  rv_community = _reverse_key_value( community)\n",
    "  tmp = list()\n",
    "  for one_read in list_read :\n",
    "    tmp.append(community[one_read])\n",
    "\n",
    "  nb_elem = len(tmp)\n",
    "  counter=collections.Counter(tmp)\n",
    "  freq_tmp =  dict(counter)\n",
    "  result = list()\n",
    "  for k,v in freq_tmp.items():\n",
    "    nb_items = int((v/nb_elem) * nb_candidates)\n",
    "    l2 = random.sample(rv_community[k], k=nb_items)\n",
    "    result = [*result, *l2]\n",
    "  return result \n",
    "\n",
    "# Ranking candidates ( google index based ranking No dead end trap and )...\n",
    "def ranking_candidate(G, list_read, list_candidate ):\n",
    "  assert(type(list_candidate)  == list)\n",
    "  assert(type(list_read) == list )\n",
    "\n",
    "  # remove  list_read from candidate \n",
    "  list_candidate =  [x for x in list_candidate if x not in list_read]\n",
    "  # Plot the subgrah of the articles read + candidates \n",
    "  combined = list_read + list_candidate\n",
    "  print(combined)\n",
    "  H = G.subgraph(combined)\n",
    "  print(H)\n",
    "  nx.draw(H, with_labels=True)\n",
    "  plt.figure(figsize=(17,3))\n",
    "  plt.show()\n",
    "  # Ranking based on proximity measure\n",
    "  #print(G.number_of_edges(1,7))\n",
    "  # Compute edge betweeness centrality in the Subgraph \n",
    "  all_edge_betweeness = edge_betweenness_centrality(H,weight=\"weight\") \n",
    "  #print(edge_betweenness_centrality(H,weight=\"weight\") )\n",
    "  # Compute weighted  betweeness score for each candidates (nodes )  ...\n",
    "  for edge in all_edge_betweeness:\n",
    "    score = all_edge_betweeness[edge]\n",
    "    H.nodes[edge[0]][\"betweeness_score\"] = (0 if  \"betweeness_score\" not in  H.nodes[edge[0]] else H.nodes[edge[0]][\"betweeness_score\"]) +  score\n",
    "    H.nodes[edge[1]][\"betweeness_score\"] = (0 if  \"betweeness_score\" not in  H.nodes[edge[1]] else H.nodes[edge[1]][\"betweeness_score\"]) +  score\n",
    "  \n",
    "  result = dict()\n",
    "  for candidate in list_candidate :\n",
    "    if \"betweeness_score\" in  H.nodes[candidate]:\n",
    "      result[candidate] = round( H.nodes[candidate][\"betweeness_score\"],3)\n",
    "    else:\n",
    "      result[candidate] = 0\n",
    "  \n",
    "  # Sort candidate in Descending order according to w\n",
    "  sorted_result = {k: v for k, v in sorted(result.items(), key=lambda item: item[1],reverse=True )}\n",
    "  return list(sorted_result.keys()), sorted_result\n",
    "\n",
    "#all_communities,_,_ = detect_communities(G)\n",
    "#node_candidates(all_communities,[4,5,6,7,8,9,1,2], nb_candidates = 100)"
   ]
  },
  {
   "cell_type": "code",
   "execution_count": 13,
   "metadata": {
    "colab": {
     "base_uri": "https://localhost:8080/",
     "height": 373
    },
    "colab_type": "code",
    "id": "XrzXFdZuKP5r",
    "outputId": "79ff9d40-3431-4751-9173-3e1147a50da7"
   },
   "outputs": [
    {
     "name": "stdout",
     "output_type": "stream",
     "text": [
      "modularity_score 0.12828382669842328\n",
      "{\"0\": [0, 4, 5, 12, 16, 17, 18, 19, 25, 28, 31, 35, 36, 38, 43, 44, 45, 46, 49, 53, 55, 56, 57, 60, 61, 62, 63, 65, 67, 68, 69, 73, 76, 78, 86, 89, 93, 95, 96, 98, 100, 101, 103, 104, 106, 109, 110, 111, 114, 120, 121, 125, 132, 137, 138, 140, 142, 143, 144, 147, 148, 152, 158, 166, 169, 171, 172, 174, 179, 180, 181, 182, 188, 192, 194, 196, 197, 204, 210, 211, 215, 217, 219, 220, 222, 225, 226, 228, 229, 230, 231, 233, 237, 240, 242, 248, 249, 250, 252, 254, 257, 258, 259, 260, 261, 262, 263, 264, 266, 269, 278, 279, 286, 287, 289, 290, 295, 296, 297, 301, 302, 312, 315, 318, 319, 320, 324, 326, 327, 335, 340, 343, 344, 354, 356, 357, 365, 366, 370, 372, 374, 377, 383, 384, 387, 388, 395, 398, 401, 405, 408, 412, 413, 415, 417, 418, 419, 423, 425, 427, 429, 431, 433, 437, 439, 440, 459, 460, 465, 466, 474, 477, 478, 481, 482, 485, 486, 495, 496, 501, 502, 503, 504, 509, 514, 515, 518, 524, 526, 527, 530, 532, 540, 550, 551, 552, 555, 556, 558, 559, 562, 563, 565, 566, 568, 573, 575, 579, 581, 583, 584, 585, 586, 588, 589, 590, 593, 595, 597, 599, 600, 608, 612, 613, 615, 620, 621, 622, 623, 624, 626, 627, 630, 631, 632, 635, 638, 644, 645, 646, 648, 649, 657, 666, 667, 669, 671, 678, 683, 684, 687, 690, 692, 695, 697, 704, 705, 706, 707, 708, 710, 712, 716, 717, 718, 719, 721, 728, 736, 743, 762, 763, 765, 768, 771, 774, 777, 780, 781, 783, 786, 791, 802, 803, 806, 810, 814, 823, 827, 831, 832, 834, 837, 841, 842, 843, 845, 850, 851, 852, 853, 857, 863, 865, 868, 870, 873, 874, 878, 881, 882, 884, 885, 886, 888, 890, 893, 894, 898, 901, 902, 903, 904, 906, 911, 914, 916, 922, 923, 932, 933, 934, 942, 945, 946, 952, 959, 960, 963, 964, 967, 969, 970, 973, 976, 978, 982, 984, 987, 988, 993, 994, 998, 1001, 1004, 1011, 1013, 1014, 1018, 1019, 1020, 1024, 1027, 1028, 1030, 1031, 1034, 1036, 1039, 1040, 1041, 1043, 1048, 1050, 1051, 1052, 1055, 1057, 1059, 1060, 1069, 1071, 1072, 1076, 1078, 1082, 1083, 1084, 1085, 1088, 1089, 1093, 1095, 1097, 1098, 1099, 1100, 1102, 1105, 1119, 1122, 1123, 1125, 1126, 1130, 1131, 1133, 1134, 1139, 1146, 1148, 1152, 1153, 1154, 1155, 1157, 1160, 1161, 1165, 1166, 1167, 1168, 1179, 1181, 1183, 1185, 1186, 1191, 1196, 1198, 1199, 1203, 1210, 1214, 1215, 1216, 1219, 1222, 1225, 1227, 1228, 1230, 1231, 1232, 1236, 1238, 1239, 1241, 1245, 1246, 1251, 1259, 1264, 1267], \"1\": [1, 2, 3, 6, 7, 8, 9, 10, 11, 13, 22, 30, 32, 37, 41, 47, 50, 51, 52, 54, 58, 59, 64, 66, 74, 75, 77, 79, 80, 81, 82, 83, 85, 87, 90, 105, 107, 108, 113, 116, 117, 118, 119, 123, 124, 126, 127, 128, 130, 135, 139, 141, 146, 149, 150, 151, 153, 155, 156, 157, 161, 167, 176, 177, 183, 184, 186, 189, 190, 193, 195, 199, 200, 201, 202, 206, 208, 216, 218, 221, 224, 227, 235, 236, 238, 239, 241, 244, 245, 247, 255, 256, 267, 268, 270, 271, 276, 277, 280, 281, 282, 288, 291, 292, 294, 298, 299, 300, 304, 305, 307, 308, 309, 313, 316, 322, 323, 328, 334, 337, 341, 345, 347, 348, 351, 352, 353, 358, 359, 360, 361, 362, 367, 368, 371, 375, 378, 385, 390, 391, 392, 393, 399, 400, 404, 407, 409, 410, 414, 416, 420, 421, 422, 426, 428, 432, 434, 436, 438, 442, 443, 444, 445, 446, 447, 448, 449, 450, 451, 454, 455, 456, 457, 469, 470, 473, 475, 476, 479, 480, 483, 484, 489, 490, 491, 494, 498, 505, 506, 510, 516, 520, 525, 528, 531, 534, 535, 537, 538, 547, 548, 549, 553, 554, 557, 561, 569, 572, 574, 576, 577, 580, 582, 596, 601, 604, 610, 614, 616, 617, 618, 628, 633, 634, 636, 641, 642, 656, 662, 663, 664, 665, 668, 670, 673, 679, 682, 686, 688, 689, 693, 696, 698, 699, 700, 701, 703, 709, 722, 723, 724, 725, 726, 727, 729, 731, 735, 737, 741, 748, 749, 751, 752, 754, 755, 756, 766, 767, 769, 770, 772, 773, 775, 778, 779, 782, 785, 789, 790, 792, 793, 796, 797, 799, 800, 801, 804, 807, 808, 811, 812, 813, 817, 819, 820, 822, 824, 826, 835, 838, 840, 844, 849, 858, 859, 860, 862, 871, 872, 875, 876, 879, 883, 887, 891, 892, 896, 897, 900, 905, 907, 908, 909, 910, 912, 917, 918, 920, 921, 924, 927, 928, 929, 930, 931, 939, 948, 949, 950, 951, 954, 955, 962, 968, 974, 975, 977, 979, 980, 981, 985, 986, 992, 996, 997, 1005, 1006, 1007, 1009, 1010, 1012, 1016, 1017, 1021, 1022, 1025, 1032, 1033, 1035, 1042, 1045, 1056, 1061, 1062, 1064, 1067, 1068, 1074, 1075, 1090, 1094, 1109, 1110, 1111, 1112, 1114, 1116, 1121, 1124, 1136, 1137, 1141, 1147, 1151, 1159, 1162, 1169, 1170, 1172, 1173, 1175, 1178, 1180, 1182, 1184, 1188, 1189, 1190, 1195, 1202, 1206, 1217, 1218, 1220, 1221, 1224, 1226, 1235, 1243, 1244, 1252, 1256, 1257, 1258, 1262, 1268], \"2\": [14, 15, 24, 26, 27, 29, 39, 40, 42, 70, 71, 94, 102, 112, 129, 134, 136, 145, 154, 164, 168, 170, 175, 198, 205, 232, 243, 246, 251, 265, 273, 283, 284, 285, 293, 311, 325, 338, 339, 342, 355, 379, 380, 382, 386, 397, 411, 424, 452, 458, 488, 493, 497, 507, 508, 517, 533, 539, 543, 546, 571, 658, 702, 715, 753, 788, 839, 846, 848, 880, 925, 953, 956, 991, 1086, 1192, 1194, 1234, 1242, 1265], \"3\": [20, 21, 23, 33, 34, 48, 88, 91, 97, 99, 115, 131, 133, 160, 162, 163, 165, 173, 178, 185, 187, 191, 203, 207, 212, 213, 223, 234, 253, 272, 274, 275, 303, 310, 314, 317, 321, 329, 330, 331, 332, 333, 336, 346, 350, 363, 364, 369, 373, 381, 394, 396, 402, 403, 406, 435, 441, 453, 461, 462, 463, 464, 467, 471, 472, 487, 499, 500, 513, 519, 522, 523, 529, 536, 541, 542, 544, 545, 560, 564, 567, 570, 587, 591, 592, 594, 598, 602, 603, 605, 606, 607, 609, 625, 629, 637, 639, 640, 647, 650, 651, 653, 654, 655, 659, 661, 672, 674, 675, 676, 680, 691, 694, 711, 713, 730, 732, 733, 738, 739, 740, 742, 745, 746, 747, 750, 757, 758, 759, 760, 761, 764, 784, 787, 805, 816, 818, 821, 825, 828, 830, 833, 847, 854, 861, 864, 866, 869, 877, 889, 895, 899, 913, 915, 919, 926, 935, 936, 937, 938, 940, 943, 944, 947, 957, 958, 965, 966, 971, 972, 983, 989, 990, 999, 1002, 1003, 1008, 1015, 1023, 1026, 1029, 1038, 1044, 1046, 1047, 1053, 1054, 1058, 1065, 1066, 1070, 1077, 1079, 1081, 1087, 1091, 1092, 1096, 1101, 1104, 1107, 1108, 1127, 1128, 1129, 1132, 1138, 1140, 1150, 1158, 1163, 1164, 1174, 1176, 1177, 1187, 1197, 1201, 1207, 1208, 1209, 1233, 1249, 1250, 1254], \"4\": [72, 84, 92, 122, 159, 209, 214, 306, 349, 376, 389, 430, 468, 492, 511, 512, 521, 578, 611, 619, 643, 652, 660, 677, 685, 714, 720, 734, 744, 794, 795, 798, 815, 829, 836, 855, 856, 867, 941, 961, 1000, 1037, 1049, 1063, 1106, 1113, 1205, 1211, 1237, 1247, 1266], \"5\": [681], \"6\": [776], \"7\": [809], \"8\": [995], \"9\": [1073], \"10\": [1080], \"11\": [1103], \"12\": [1115], \"13\": [1117], \"14\": [1118], \"15\": [1120], \"16\": [1135], \"17\": [1142], \"18\": [1143], \"19\": [1144], \"20\": [1145], \"21\": [1149], \"22\": [1156], \"23\": [1171], \"24\": [1193], \"25\": [1200], \"26\": [1204], \"27\": [1212], \"28\": [1213], \"29\": [1223], \"30\": [1229], \"31\": [1240], \"32\": [1248], \"33\": [1253], \"34\": [1255], \"35\": [1260], \"36\": [1261], \"37\": [1263]}\n"
     ]
    },
    {
     "data": {
      "image/png": "[encoded data removed]",
      "text/plain": [
       "<Figure size 432x288 with 1 Axes>"
      ]
     },
     "metadata": {
      "tags": []
     },
     "output_type": "display_data"
    }
   ],
   "source": [
    "# Testing edge betweeness based community detection ...\n",
    "all_communities  = node_candidates_girvan_newman(G)\n",
    "all_communities_as_clusters = _reverse_key_value( all_communities)\n",
    "print(\"modularity_score\", community.modularity(all_communities, G ))\n",
    "print(json.dumps(all_communities_as_clusters)  )\n",
    "\n",
    "values = [all_communities.get(node) for node in G.nodes()]\n",
    "nx.draw_spring(G, cmap = plt.get_cmap('jet'), node_color = values, node_size=30, with_labels=False)"
   ]
  },
  {
   "cell_type": "code",
   "execution_count": 0,
   "metadata": {
    "colab": {},
    "colab_type": "code",
    "id": "N8egR4ioBzsv"
   },
   "outputs": [],
   "source": [
    "# Testing Greedy community detection ...\n",
    "greedy_c = node_candidates_greedy(G, )\n",
    "sorted(sorted(greedy_c) )"
   ]
  },
  {
   "cell_type": "code",
   "execution_count": 0,
   "metadata": {
    "colab": {},
    "colab_type": "code",
    "id": "wHxmEvbfK5eA"
   },
   "outputs": [],
   "source": [
    "# Testing Clique community detection (Strong Assumption) ...\n",
    "clique_c = node_candidates_clique(G)\n",
    "clique_c"
   ]
  },
  {
   "cell_type": "code",
   "execution_count": 0,
   "metadata": {
    "colab": {
     "base_uri": "https://localhost:8080/",
     "height": 34
    },
    "colab_type": "code",
    "id": "6cyiFI1QK53S",
    "outputId": "03589a9f-fbe5-4d30-a72c-a72dc5feb3c0"
   },
   "outputs": [
    {
     "name": "stdout",
     "output_type": "stream",
     "text": [
      "[7, 2, 3, 6] {7: 15.4, 2: 4.4, 3: 4.4, 6: 4.4}\n"
     ]
    }
   ],
   "source": [
    "# Testing ranking candidate ... \n",
    "v,p = ranking_candidate(G, [5], [2,3,6,7])\n",
    "print(v,p)"
   ]
  },
  {
   "cell_type": "code",
   "execution_count": 0,
   "metadata": {
    "colab": {},
    "colab_type": "code",
    "id": "OfawFYtoRerO"
   },
   "outputs": [],
   "source": [
    "from networkx import edge_betweenness_centrality as betweenness\n",
    "def most_central_edge(G):\n",
    "    centrality = betweenness(G, weight='weight')\n",
    "    return max(centrality, key=centrality.get)\n",
    "\n",
    "\n",
    "comp = girvan_newman(G, most_valuable_edge=most_central_edge)\n",
    "tuple(sorted(c) for c in next(comp))\n"
   ]
  },
  {
   "cell_type": "markdown",
   "metadata": {
    "colab_type": "text",
    "id": "SwbaLBLcS0Tc"
   },
   "source": [
    "### 6- System Evaluation ..."
   ]
  },
  {
   "cell_type": "markdown",
   "metadata": {
    "colab_type": "text",
    "id": "67rcV-kSCfoQ"
   },
   "source": [
    "### 7 - Demo (console)"
   ]
  },
  {
   "cell_type": "code",
   "execution_count": 0,
   "metadata": {
    "colab": {},
    "colab_type": "code",
    "id": "gSHgsz_6qqZ3"
   },
   "outputs": [],
   "source": [
    "all_communities,_,_ = detect_communities(G)\n"
   ]
  },
  {
   "cell_type": "code",
   "execution_count": 15,
   "metadata": {
    "colab": {
     "base_uri": "https://localhost:8080/",
     "height": 911
    },
    "colab_type": "code",
    "id": "9f59K3aH-DnK",
    "outputId": "8e98167e-130b-4ac5-fed8-076d324cc255"
   },
   "outputs": [
    {
     "name": "stdout",
     "output_type": "stream",
     "text": [
      "What book have you read : 34\n",
      "\n",
      "\n",
      "You have read book id 34: [ Fouille de motifs temporels négatifs ]\n",
      "\n",
      "Recommendation \n",
      "---------------\n",
      "[34, 8, 9, 1, 2, 915, 234, 310, 1233, 567, 711, 713, 691, 23, 971, 464, 523, 560, 1002, 1150, 676, 1163, 1091, 730, 653, 490, 432, 309, 85, 385, 361, 939, 807, 679, 1172, 1075, 1017, 79, 83, 456, 1042, 1226, 183, 153, 443, 986, 323, 161, 469, 900, 236, 844, 689, 1220, 483, 52, 195, 975, 82, 840, 445, 244, 81, 473, 118, 1257, 859, 770, 535, 176, 307, 22, 876, 238, 337, 909, 907, 1190, 811, 548, 255, 800, 547, 123, 371, 1268, 789, 819, 656, 1195, 470, 281, 313, 534, 449, 1025, 709, 167, 910, 392, 146, 572, 347, 135]\n",
      "\n"
     ]
    },
    {
     "data": {
      "image/png": "[encoded data removed]",
      "text/plain": [
       "<Figure size 432x288 with 1 Axes>"
      ]
     },
     "metadata": {
      "tags": []
     },
     "output_type": "display_data"
    },
    {
     "data": {
      "text/plain": [
       "<Figure size 1224x216 with 0 Axes>"
      ]
     },
     "metadata": {
      "tags": []
     },
     "output_type": "display_data"
    },
    {
     "data": {
      "text/html": [
       "<div>\n",
       "<style scoped>\n",
       "    .dataframe tbody tr th:only-of-type {\n",
       "        vertical-align: middle;\n",
       "    }\n",
       "\n",
       "    .dataframe tbody tr th {\n",
       "        vertical-align: top;\n",
       "    }\n",
       "\n",
       "    .dataframe thead th {\n",
       "        text-align: right;\n",
       "    }\n",
       "</style>\n",
       "<table border=\"1\" class=\"dataframe\">\n",
       "  <thead>\n",
       "    <tr style=\"text-align: right;\">\n",
       "      <th></th>\n",
       "      <th>Id</th>\n",
       "      <th>Score</th>\n",
       "      <th>Title</th>\n",
       "    </tr>\n",
       "  </thead>\n",
       "  <tbody>\n",
       "    <tr>\n",
       "      <th>0</th>\n",
       "      <td>1163</td>\n",
       "      <td>0.077</td>\n",
       "      <td>Raisonnement en gestion des compétences</td>\n",
       "    </tr>\n",
       "    <tr>\n",
       "      <th>1</th>\n",
       "      <td>392</td>\n",
       "      <td>0.066</td>\n",
       "      <td>Comprendre et interpréter les données : enjeux et implantations d'un système de codage dans des gisements de données historiques</td>\n",
       "    </tr>\n",
       "    <tr>\n",
       "      <th>2</th>\n",
       "      <td>1195</td>\n",
       "      <td>0.062</td>\n",
       "      <td>Apprentissage et optimisation conjoints : extraction de connaissances pertinentes sur les systèmes de production</td>\n",
       "    </tr>\n",
       "    <tr>\n",
       "      <th>3</th>\n",
       "      <td>534</td>\n",
       "      <td>0.062</td>\n",
       "      <td>Early Classification on Temporal Sequences</td>\n",
       "    </tr>\n",
       "    <tr>\n",
       "      <th>4</th>\n",
       "      <td>323</td>\n",
       "      <td>0.06</td>\n",
       "      <td>Détection de situations à risque basée sur des détecteurs de mouvement à domicile pour les personnes dépendantes</td>\n",
       "    </tr>\n",
       "    <tr>\n",
       "      <th>...</th>\n",
       "      <td>...</td>\n",
       "      <td>...</td>\n",
       "      <td>...</td>\n",
       "    </tr>\n",
       "    <tr>\n",
       "      <th>94</th>\n",
       "      <td>1220</td>\n",
       "      <td>0.019</td>\n",
       "      <td>Fouille de grands ensembles de données avec un boosting proximal SVM</td>\n",
       "    </tr>\n",
       "    <tr>\n",
       "      <th>95</th>\n",
       "      <td>82</td>\n",
       "      <td>0.019</td>\n",
       "      <td>Classification d'objets 3D par extraction aléatoire de sous-parties discriminantes pour l'étude du sous-sol en prospection pétrolière</td>\n",
       "    </tr>\n",
       "    <tr>\n",
       "      <th>96</th>\n",
       "      <td>789</td>\n",
       "      <td>0.019</td>\n",
       "      <td>Un critère d'évaluation Bayésienne pour la construction d'arbres de décision</td>\n",
       "    </tr>\n",
       "    <tr>\n",
       "      <th>97</th>\n",
       "      <td>313</td>\n",
       "      <td>0.019</td>\n",
       "      <td>Comparaison de bornes théoriques pour l'accélération du clustering incrémental en une passe</td>\n",
       "    </tr>\n",
       "    <tr>\n",
       "      <th>98</th>\n",
       "      <td>709</td>\n",
       "      <td>0.019</td>\n",
       "      <td>Une nouvelle stratégie d'Apprentissage Bayésienne</td>\n",
       "    </tr>\n",
       "  </tbody>\n",
       "</table>\n",
       "<p>99 rows × 3 columns</p>\n",
       "</div>"
      ],
      "text/plain": [
       "      Id  ...                                                                                                                                  Title\n",
       "0   1163  ...                                                                                                Raisonnement en gestion des compétences\n",
       "1    392  ...       Comprendre et interpréter les données : enjeux et implantations d'un système de codage dans des gisements de données historiques\n",
       "2   1195  ...                       Apprentissage et optimisation conjoints : extraction de connaissances pertinentes sur les systèmes de production\n",
       "3    534  ...                                                                                             Early Classification on Temporal Sequences\n",
       "4    323  ...                       Détection de situations à risque basée sur des détecteurs de mouvement à domicile pour les personnes dépendantes\n",
       "..   ...  ...                                                                                                                                    ...\n",
       "94  1220  ...                                                                   Fouille de grands ensembles de données avec un boosting proximal SVM\n",
       "95    82  ...  Classification d'objets 3D par extraction aléatoire de sous-parties discriminantes pour l'étude du sous-sol en prospection pétrolière\n",
       "96   789  ...                                                           Un critère d'évaluation Bayésienne pour la construction d'arbres de décision\n",
       "97   313  ...                                            Comparaison de bornes théoriques pour l'accélération du clustering incrémental en une passe\n",
       "98   709  ...                                                                                      Une nouvelle stratégie d'Apprentissage Bayésienne\n",
       "\n",
       "[99 rows x 3 columns]"
      ]
     },
     "execution_count": 15,
     "metadata": {
      "tags": []
     },
     "output_type": "execute_result"
    }
   ],
   "source": [
    "book_read_id = None \n",
    "n_nodes = G.number_of_nodes()\n",
    "while True:\n",
    "  book_read_id = input(\"What book have you read : \")\n",
    "  if is_positive_integer(book_read_id) is True: \n",
    "    if int(book_read_id)  in range(n_nodes) :\n",
    "      break\n",
    "    else:\n",
    "       print(\"Invalid Input. book_id selected does not exists \")\n",
    "  else:\n",
    "    print(\"Invalid Input. Positive Number Expected \")\n",
    "\n",
    "\n",
    "# Recommendation ...\n",
    "node_selected = int(book_read_id)\n",
    "print(\"\\n\\nYou have read book id {}: [ {} ]\".format(book_read_id,G.nodes[node_selected][\"title\"]) )\n",
    "print(\"\\nRecommendation \")\n",
    "print(\"---------------\")\n",
    "list_read = [node_selected,8,9,1,2]\n",
    "lst_neighbors = node_candidates(all_communities,list_read, nb_candidates = 100)\n",
    "sorted_node , ranking_index = ranking_candidate(G, list_read, lst_neighbors)\n",
    "\n",
    "\n",
    "result_df = pd.DataFrame(columns=[\"Id\",\"Score\",\"Title\"])\n",
    "i = 0 \n",
    "for n in sorted_node:\n",
    "  result_df.loc[i, \"Id\"] = n\n",
    "  result_df.loc[i, \"Score\"] = ranking_index[n]\n",
    "  result_df.loc[i, \"Title\"] = str(G.nodes[n][\"title\"]).strip()\n",
    "  #print(\"id: \",n,\" | \", ranking_index[n], \"| Title:\",G.nodes[n][\"title\"])\n",
    "  i+=1\n",
    "\n",
    "pd.set_option(\"display.max_colwidth\",800)\n",
    "result_df\n",
    "\n",
    "# Be careful with with stop word elimination since there are some docs in english and french \n",
    "#30  |  0.22 | Title: Exploration et analyses multi-objectifs de séries temporelles de données météorologiques\n",
    "#14  |  0.02 | Title: Community structure in complex networks\n",
    " "
   ]
  },
  {
   "cell_type": "markdown",
   "metadata": {
    "colab_type": "text",
    "id": "eu6VGh1pSNDr"
   },
   "source": [
    "For Live demo (Graphical User Interface) [link text](https://)"
   ]
  },
  {
   "cell_type": "markdown",
   "metadata": {
    "colab_type": "text",
    "id": "5UFuqXgSmGiB"
   },
   "source": [
    "### 8 -  Intermission "
   ]
  },
  {
   "cell_type": "markdown",
   "metadata": {
    "colab_type": "text",
    "id": "4e8rX-OjOsUV"
   },
   "source": [
    "#### 8-1 Scraping & Translating Documents"
   ]
  },
  {
   "cell_type": "code",
   "execution_count": 1,
   "metadata": {
    "colab": {
     "base_uri": "https://localhost:8080/",
     "height": 1000
    },
    "colab_type": "code",
    "id": "5ZaC7svmYITg",
    "outputId": "c689d4b7-6ef0-425c-fc0f-43ef8fd2c80e",
    "scrolled": true
   },
   "outputs": [
    {
     "name": "stdout",
     "output_type": "stream",
     "text": [
      "Requirement already satisfied: langdetect in /home/kenneth/miniconda3/lib/python3.7/site-packages (1.0.7)\n",
      "Requirement already satisfied: six in /home/kenneth/miniconda3/lib/python3.7/site-packages (from langdetect) (1.12.0)\n",
      "Collecting py-translate\n",
      "\u001b[?25l  Downloading https://files.pythonhosted.org/packages/8f/bd/8ee839d3965f832e6a3eb054290aedf9ff0bb37350e0a0e81a0357d0a447/py_translate-1.0.3-py2.py3-none-any.whl (61kB)\n",
      "\u001b[K     |████████████████████████████████| 61kB 771kB/s eta 0:00:01\n",
      "\u001b[?25hInstalling collected packages: py-translate\n",
      "Successfully installed py-translate-1.0.3\n",
      "Requirement already satisfied: googletrans in /home/kenneth/miniconda3/lib/python3.7/site-packages (2.4.0)\n",
      "Requirement already satisfied: requests in /home/kenneth/miniconda3/lib/python3.7/site-packages (from googletrans) (2.22.0)\n",
      "Requirement already satisfied: urllib3!=1.25.0,!=1.25.1,<1.26,>=1.21.1 in /home/kenneth/miniconda3/lib/python3.7/site-packages (from requests->googletrans) (1.25.7)\n",
      "Requirement already satisfied: idna<2.9,>=2.5 in /home/kenneth/miniconda3/lib/python3.7/site-packages (from requests->googletrans) (2.8)\n",
      "Requirement already satisfied: chardet<3.1.0,>=3.0.2 in /home/kenneth/miniconda3/lib/python3.7/site-packages (from requests->googletrans) (3.0.4)\n",
      "Requirement already satisfied: certifi>=2017.4.17 in /home/kenneth/miniconda3/lib/python3.7/site-packages (from requests->googletrans) (2019.11.28)\n",
      "Requirement already satisfied: textract in /home/kenneth/miniconda3/lib/python3.7/site-packages (1.6.3)\n",
      "Requirement already satisfied: six==1.12.0 in /home/kenneth/miniconda3/lib/python3.7/site-packages (from textract) (1.12.0)\n",
      "Requirement already satisfied: python-pptx==0.6.18 in /home/kenneth/miniconda3/lib/python3.7/site-packages (from textract) (0.6.18)\n",
      "Requirement already satisfied: chardet==3.0.4 in /home/kenneth/miniconda3/lib/python3.7/site-packages (from textract) (3.0.4)\n",
      "Requirement already satisfied: EbookLib==0.17.1 in /home/kenneth/miniconda3/lib/python3.7/site-packages (from textract) (0.17.1)\n",
      "Requirement already satisfied: argcomplete==1.10.0 in /home/kenneth/miniconda3/lib/python3.7/site-packages (from textract) (1.10.0)\n",
      "Requirement already satisfied: SpeechRecognition==3.8.1 in /home/kenneth/miniconda3/lib/python3.7/site-packages (from textract) (3.8.1)\n",
      "Requirement already satisfied: docx2txt==0.8 in /home/kenneth/miniconda3/lib/python3.7/site-packages (from textract) (0.8)\n",
      "Requirement already satisfied: xlrd==1.2.0 in /home/kenneth/miniconda3/lib/python3.7/site-packages (from textract) (1.2.0)\n",
      "Requirement already satisfied: beautifulsoup4==4.8.0 in /home/kenneth/miniconda3/lib/python3.7/site-packages (from textract) (4.8.0)\n",
      "Requirement already satisfied: pdfminer.six==20181108 in /home/kenneth/miniconda3/lib/python3.7/site-packages (from textract) (20181108)\n",
      "Requirement already satisfied: extract-msg==0.23.1 in /home/kenneth/miniconda3/lib/python3.7/site-packages (from textract) (0.23.1)\n",
      "Requirement already satisfied: Pillow>=3.3.2 in /home/kenneth/miniconda3/lib/python3.7/site-packages (from python-pptx==0.6.18->textract) (6.2.1)\n",
      "Requirement already satisfied: XlsxWriter>=0.5.7 in /home/kenneth/miniconda3/lib/python3.7/site-packages (from python-pptx==0.6.18->textract) (1.2.7)\n",
      "Requirement already satisfied: lxml>=3.1.0 in /home/kenneth/miniconda3/lib/python3.7/site-packages (from python-pptx==0.6.18->textract) (4.4.2)\n",
      "Requirement already satisfied: soupsieve>=1.2 in /home/kenneth/miniconda3/lib/python3.7/site-packages (from beautifulsoup4==4.8.0->textract) (1.9.5)\n",
      "Requirement already satisfied: pycryptodome in /home/kenneth/miniconda3/lib/python3.7/site-packages (from pdfminer.six==20181108->textract) (3.9.4)\n",
      "Requirement already satisfied: sortedcontainers in /home/kenneth/miniconda3/lib/python3.7/site-packages (from pdfminer.six==20181108->textract) (2.1.0)\n",
      "Requirement already satisfied: imapclient==2.1.0 in /home/kenneth/miniconda3/lib/python3.7/site-packages (from extract-msg==0.23.1->textract) (2.1.0)\n",
      "Requirement already satisfied: tzlocal==1.5.1 in /home/kenneth/miniconda3/lib/python3.7/site-packages (from extract-msg==0.23.1->textract) (1.5.1)\n",
      "Requirement already satisfied: olefile==0.46 in /home/kenneth/miniconda3/lib/python3.7/site-packages (from extract-msg==0.23.1->textract) (0.46)\n",
      "Requirement already satisfied: pytz in /home/kenneth/miniconda3/lib/python3.7/site-packages (from tzlocal==1.5.1->extract-msg==0.23.1->textract) (2019.3)\n",
      "Collecting tika\n",
      "  Downloading https://files.pythonhosted.org/packages/10/b3/6a4fdab1ac3fb7b933f9803111221d39e2dc26ae87ed6992b9557c540270/tika-1.23.tar.gz\n",
      "Requirement already satisfied: setuptools in /home/kenneth/miniconda3/lib/python3.7/site-packages (from tika) (42.0.2.post20191203)\n",
      "Requirement already satisfied: requests in /home/kenneth/miniconda3/lib/python3.7/site-packages (from tika) (2.22.0)\n",
      "Requirement already satisfied: certifi>=2017.4.17 in /home/kenneth/miniconda3/lib/python3.7/site-packages (from requests->tika) (2019.11.28)\n",
      "Requirement already satisfied: chardet<3.1.0,>=3.0.2 in /home/kenneth/miniconda3/lib/python3.7/site-packages (from requests->tika) (3.0.4)\n",
      "Requirement already satisfied: urllib3!=1.25.0,!=1.25.1,<1.26,>=1.21.1 in /home/kenneth/miniconda3/lib/python3.7/site-packages (from requests->tika) (1.25.7)\n",
      "Requirement already satisfied: idna<2.9,>=2.5 in /home/kenneth/miniconda3/lib/python3.7/site-packages (from requests->tika) (2.8)\n",
      "Building wheels for collected packages: tika\n",
      "  Building wheel for tika (setup.py) ... \u001b[?25ldone\n",
      "\u001b[?25h  Created wheel for tika: filename=tika-1.23-cp37-none-any.whl size=31854 sha256=51c8fba4f39bcdebe54052abf4066ad5f49b17fa081b87af70ed01e2596d6806\n",
      "  Stored in directory: /home/kenneth/.cache/pip/wheels/39/01/4c/184b118bbece0003fd5e7aba3e6a52579e590a84eb3d2b96e5\n",
      "Successfully built tika\n",
      "Installing collected packages: tika\n",
      "Successfully installed tika-1.23\n"
     ]
    }
   ],
   "source": [
    "! pip install langdetect\n",
    "! pip install py-translate\n",
    "! pip install googletrans\n",
    "! pip install textract\n",
    "! pip install tika \n",
    "\n",
    "from langdetect import detect\n",
    "from googletrans import Translator\n",
    "import textract\n",
    "import urllib.request\n",
    "import time\n",
    "from tika import parser"
   ]
  },
  {
   "cell_type": "code",
   "execution_count": 0,
   "metadata": {
    "colab": {
     "base_uri": "https://localhost:8080/",
     "height": 810
    },
    "colab_type": "code",
    "id": "k8l9uWxURd41",
    "outputId": "e3e96466-868e-4aa8-d293-5cc2a2db52f7"
   },
   "outputs": [
    {
     "data": {
      "text/html": [
       "<div>\n",
       "<style scoped>\n",
       "    .dataframe tbody tr th:only-of-type {\n",
       "        vertical-align: middle;\n",
       "    }\n",
       "\n",
       "    .dataframe tbody tr th {\n",
       "        vertical-align: top;\n",
       "    }\n",
       "\n",
       "    .dataframe thead th {\n",
       "        text-align: right;\n",
       "    }\n",
       "</style>\n",
       "<table border=\"1\" class=\"dataframe\">\n",
       "  <thead>\n",
       "    <tr style=\"text-align: right;\">\n",
       "      <th></th>\n",
       "      <th>series</th>\n",
       "      <th>booktitle</th>\n",
       "      <th>year</th>\n",
       "      <th>title</th>\n",
       "      <th>abstract</th>\n",
       "      <th>authors</th>\n",
       "      <th>pdf1page</th>\n",
       "      <th>pdfarticle</th>\n",
       "      <th>lang</th>\n",
       "    </tr>\n",
       "  </thead>\n",
       "  <tbody>\n",
       "    <tr>\n",
       "      <th>0</th>\n",
       "      <td>Revue des Nouvelles Technologies de l'Information</td>\n",
       "      <td>EGC</td>\n",
       "      <td>2018</td>\n",
       "      <td>#Idéo2017 : une plateforme citoyenne dédiée à ...</td>\n",
       "      <td>Cette plateforme a pour objectif de permettre ...</td>\n",
       "      <td>Claudia Marinica, Julien Longhi, Nader Hassine...</td>\n",
       "      <td>http://editions-rnti.fr/render_pdf.php?p1&amp;p=10...</td>\n",
       "      <td>http://editions-rnti.fr/render_pdf.php?p=1002425</td>\n",
       "      <td>fr</td>\n",
       "    </tr>\n",
       "    <tr>\n",
       "      <th>1</th>\n",
       "      <td>Revue des Nouvelles Technologies de l'Information</td>\n",
       "      <td>EGC</td>\n",
       "      <td>2018</td>\n",
       "      <td>A two level co-clustering algorithm for very l...</td>\n",
       "      <td>La classification croisée (co-clustering) est ...</td>\n",
       "      <td>Marius Barctus, Marc Boullé, Fabrice Clérot</td>\n",
       "      <td>http://editions-rnti.fr/render_pdf.php?p1&amp;p=10...</td>\n",
       "      <td>http://editions-rnti.fr/render_pdf.php?p=1002372</td>\n",
       "      <td>en</td>\n",
       "    </tr>\n",
       "    <tr>\n",
       "      <th>2</th>\n",
       "      <td>Revue des Nouvelles Technologies de l'Information</td>\n",
       "      <td>EGC</td>\n",
       "      <td>2018</td>\n",
       "      <td>ALGeoSPF: Un modèle de factorisation basé sur ...</td>\n",
       "      <td>La recommandation de points d'intérêts est dev...</td>\n",
       "      <td>Jean-Benoît Griesner, Talel Abdesssalem, Huber...</td>\n",
       "      <td>http://editions-rnti.fr/render_pdf.php?p1&amp;p=10...</td>\n",
       "      <td>http://editions-rnti.fr/render_pdf.php?p=1002380</td>\n",
       "      <td>fr</td>\n",
       "    </tr>\n",
       "    <tr>\n",
       "      <th>3</th>\n",
       "      <td>Revue des Nouvelles Technologies de l'Information</td>\n",
       "      <td>EGC</td>\n",
       "      <td>2018</td>\n",
       "      <td>Analyse des sentiments à partir des commentair...</td>\n",
       "      <td>L'analyse des sentiments est un processus pend...</td>\n",
       "      <td>Abdeljalil Elouardighi, Mohcine Maghfour, Hafd...</td>\n",
       "      <td>http://editions-rnti.fr/render_pdf.php?p1&amp;p=10...</td>\n",
       "      <td>http://editions-rnti.fr/render_pdf.php?p=1002397</td>\n",
       "      <td>fr</td>\n",
       "    </tr>\n",
       "    <tr>\n",
       "      <th>4</th>\n",
       "      <td>Revue des Nouvelles Technologies de l'Information</td>\n",
       "      <td>EGC</td>\n",
       "      <td>2018</td>\n",
       "      <td>Analyse en rôles sémantiques pour le résumé au...</td>\n",
       "      <td>Cet article présente une approche visant à ext...</td>\n",
       "      <td>Elyase Lassouli, Yasmine Mesbahi, Camille Prad...</td>\n",
       "      <td>http://editions-rnti.fr/render_pdf.php?p1&amp;p=10...</td>\n",
       "      <td>http://editions-rnti.fr/render_pdf.php?p=1002384</td>\n",
       "      <td>fr</td>\n",
       "    </tr>\n",
       "    <tr>\n",
       "      <th>...</th>\n",
       "      <td>...</td>\n",
       "      <td>...</td>\n",
       "      <td>...</td>\n",
       "      <td>...</td>\n",
       "      <td>...</td>\n",
       "      <td>...</td>\n",
       "      <td>...</td>\n",
       "      <td>...</td>\n",
       "      <td>...</td>\n",
       "    </tr>\n",
       "    <tr>\n",
       "      <th>95</th>\n",
       "      <td>Revue des Nouvelles Technologies de l'Information</td>\n",
       "      <td>EGC</td>\n",
       "      <td>2017</td>\n",
       "      <td>Expression des connaissances en langage nature...</td>\n",
       "      <td>NaN</td>\n",
       "      <td>Jérémy Vizzini, Cyril Labbé, François Portet</td>\n",
       "      <td>http://editions-rnti.fr/render_pdf.php?p1&amp;p=10...</td>\n",
       "      <td>http://editions-rnti.fr/render_pdf.php?p=1002319</td>\n",
       "      <td>fr</td>\n",
       "    </tr>\n",
       "    <tr>\n",
       "      <th>96</th>\n",
       "      <td>Revue des Nouvelles Technologies de l'Information</td>\n",
       "      <td>EGC</td>\n",
       "      <td>2017</td>\n",
       "      <td>Extraction automatique de paysages en imagerie...</td>\n",
       "      <td>Nous présentons ici une méthode originale pour...</td>\n",
       "      <td>Anne Toulet, Emmanuel Roux, Anne-Elisabeth Laq...</td>\n",
       "      <td>http://editions-rnti.fr/render_pdf.php?p1&amp;p=10...</td>\n",
       "      <td>http://editions-rnti.fr/render_pdf.php?p=1002285</td>\n",
       "      <td>fr</td>\n",
       "    </tr>\n",
       "    <tr>\n",
       "      <th>97</th>\n",
       "      <td>Revue des Nouvelles Technologies de l'Information</td>\n",
       "      <td>EGC</td>\n",
       "      <td>2017</td>\n",
       "      <td>Extraction de chroniques discriminantes</td>\n",
       "      <td>L'extraction de motifs séquentiels vise à extr...</td>\n",
       "      <td>Yann Dauxais, David Gross-Amblard, Thomas Guye...</td>\n",
       "      <td>http://editions-rnti.fr/render_pdf.php?p1&amp;p=10...</td>\n",
       "      <td>http://editions-rnti.fr/render_pdf.php?p=1002278</td>\n",
       "      <td>fr</td>\n",
       "    </tr>\n",
       "    <tr>\n",
       "      <th>98</th>\n",
       "      <td>Revue des Nouvelles Technologies de l'Information</td>\n",
       "      <td>EGC</td>\n",
       "      <td>2017</td>\n",
       "      <td>Extraction de relations pour le peuplement d'u...</td>\n",
       "      <td>Dans une base de connaissance, les entités se ...</td>\n",
       "      <td>Cédric Lopez, Elena Cabrio, Frédérique Segond</td>\n",
       "      <td>http://editions-rnti.fr/render_pdf.php?p1&amp;p=10...</td>\n",
       "      <td>http://editions-rnti.fr/render_pdf.php?p=1002301</td>\n",
       "      <td>fr</td>\n",
       "    </tr>\n",
       "    <tr>\n",
       "      <th>99</th>\n",
       "      <td>Revue des Nouvelles Technologies de l'Information</td>\n",
       "      <td>EGC</td>\n",
       "      <td>2017</td>\n",
       "      <td>Extraction des évolutions récurrentes dans un ...</td>\n",
       "      <td>Un grand nombre d'applications nécessitent d'a...</td>\n",
       "      <td>Zhi Cheng, Frédéric Flouvat, Nazha Selmaoui-Fo...</td>\n",
       "      <td>http://editions-rnti.fr/render_pdf.php?p1&amp;p=10...</td>\n",
       "      <td>http://editions-rnti.fr/render_pdf.php?p=1002273</td>\n",
       "      <td>fr</td>\n",
       "    </tr>\n",
       "  </tbody>\n",
       "</table>\n",
       "<p>100 rows × 9 columns</p>\n",
       "</div>"
      ],
      "text/plain": [
       "                                               series  ... lang\n",
       "0   Revue des Nouvelles Technologies de l'Information  ...   fr\n",
       "1   Revue des Nouvelles Technologies de l'Information  ...   en\n",
       "2   Revue des Nouvelles Technologies de l'Information  ...   fr\n",
       "3   Revue des Nouvelles Technologies de l'Information  ...   fr\n",
       "4   Revue des Nouvelles Technologies de l'Information  ...   fr\n",
       "..                                                ...  ...  ...\n",
       "95  Revue des Nouvelles Technologies de l'Information  ...   fr\n",
       "96  Revue des Nouvelles Technologies de l'Information  ...   fr\n",
       "97  Revue des Nouvelles Technologies de l'Information  ...   fr\n",
       "98  Revue des Nouvelles Technologies de l'Information  ...   fr\n",
       "99  Revue des Nouvelles Technologies de l'Information  ...   fr\n",
       "\n",
       "[100 rows x 9 columns]"
      ]
     },
     "execution_count": 8,
     "metadata": {
      "tags": []
     },
     "output_type": "execute_result"
    }
   ],
   "source": [
    "# Retrieving title Columns from  src_df  \n",
    "article_title = src_df[\"title\"].values \n",
    "language_col  = list()\n",
    "\n",
    "# Browising trough  every title and evaluating their respective languages ...\n",
    "for i in range( article_title.shape[0] ):\n",
    "  lang = detect(article_title[i])\n",
    "  language_col.append(\"fr\" if lang != \"fr\" and lang != \"en\" else lang)\n",
    "\n",
    "# Adding new column  [lang] to new Dataframe [src_scrap_df]  ... \n",
    "src_scrap_df = pd.DataFrame(src_df)\n",
    "src_scrap_df[\"lang\"] = language_col\n",
    "\n",
    "# Saving new datafracme to output file ... \n",
    "#src_scrap_df.to_csv(_root+\"/out/articles_plus_lang.csv\")\n",
    "\n",
    "# Visualising Dataframe ....\n",
    "src_scrap_df.head(100)\n"
   ]
  },
  {
   "cell_type": "code",
   "execution_count": 0,
   "metadata": {
    "colab": {
     "base_uri": "https://localhost:8080/",
     "height": 34
    },
    "colab_type": "code",
    "id": "1H9Rupd4RnkF",
    "outputId": "2a128f29-f37d-4860-e535-381800772c93"
   },
   "outputs": [
    {
     "name": "stdout",
     "output_type": "stream",
     "text": [
      "Number of documents detected in English: 123 \n"
     ]
    }
   ],
   "source": [
    "# Counting the number of Document written in english \n",
    "english_articles_df = src_scrap_df[src_scrap_df['lang'] == \"en\"]\n",
    "print(\"Number of documents detected in English: {} \".format( str(len(english_articles_df))))\n",
    "\n",
    "urls_articles_full = english_articles_df[\"pdfarticle\"].values \n",
    "ids  = english_articles_df.index.values\n",
    "\n",
    "\n",
    "# Downloading content of English Articles and save it locally...\n",
    "i = 0 \n",
    "for url in urls_articles_full: \n",
    "  if ids[i] < 967:\n",
    "    continue \n",
    "  filename = _root+\"/data/articles/pdf_{}.pdf\".format(str(ids[i]))\n",
    "  urllib.request.urlretrieve(url, filename) \n",
    "  time.sleep(2)\n",
    "  i += 1\n"
   ]
  },
  {
   "cell_type": "code",
   "execution_count": 0,
   "metadata": {
    "colab": {
     "base_uri": "https://localhost:8080/",
     "height": 102
    },
    "colab_type": "code",
    "id": "bUvdFvf9hIEC",
    "outputId": "2a6ce89d-c0db-46a1-aac1-224637584046"
   },
   "outputs": [
    {
     "name": "stdout",
     "output_type": "stream",
     "text": [
      "Number of chuncks  9\n",
      "Number of chuncks  2\n",
      "Number of chuncks  2\n",
      "Number of chuncks  1\n",
      "Number of chuncks  7\n"
     ]
    }
   ],
   "source": [
    "\n",
    "# Translating English articles into French using selenium/GoogleTrans ...\n",
    "max_char_google_trans = 4000\n",
    "docs_content = content_part4\n",
    "\n",
    "while True:\n",
    "  for cur_id in ids: \n",
    "    \n",
    "    if cur_id  in docs_content.keys():\n",
    "      continue\n",
    "    filename = _root+\"/data/articles/pdf_{}.pdf\".format(str(cur_id))\n",
    "    # Extracting content from pdf ...\n",
    "\n",
    "    \"\"\"\n",
    "    text = textract.process(filename, method=\"tesseract\", encoding = \"latin\", language='en')\n",
    "    #print(\"Lenght of Text \",len(text))\n",
    "    \"\"\"\n",
    "    \n",
    "    \n",
    "    # Parse data from file\n",
    "    text = parser.from_file(filename)\n",
    "    # Get files text content\n",
    "    text = text['content']\n",
    "\n",
    "    #print(text[0:300])\n",
    "\n",
    "    # Spliting content into chuncks using [max_char_google_trans]\n",
    "    text_parts  = split_string_in_chunks(text,max_char_google_trans)\n",
    "    print(\"Number of chuncks \",len(text_parts))\n",
    "\n",
    "    \n",
    "    # Translate each chunk \n",
    "    tmp = list()\n",
    "    is_break = False\n",
    "    try:\n",
    "      for chunk  in text_parts:\n",
    "        translator = Translator()\n",
    "        chunk  =chunk.strip()\n",
    "        chunk = chunk.replace(\"\\n\", \" \")\n",
    "        st = random.randint(2, 4)\n",
    "        time.sleep(st)\n",
    "        tmp.append( str(translator.translate(chunk[0:1000], src=\"en\", dest=\"fr\").text) )\n",
    "    except Exception as e :\n",
    "        is_break = True \n",
    "        print(e)\n",
    "        pass\n",
    "    if is_break is False:\n",
    "      translated_text = \" \".join(tmp)\n",
    "      docs_content[cur_id] = translated_text\n",
    "\n",
    "  if len(docs_content)  == len(ids) :\n",
    "    break\n",
    "  \n",
    "\n",
    "#print(docs_content)\n",
    "\n",
    "\n",
    "#src_scrap_df[\"content_translated\"] = list(docs_content.values())"
   ]
  },
  {
   "cell_type": "markdown",
   "metadata": {
    "colab_type": "text",
    "id": "vcY4FBVzZ9yd"
   },
   "source": [
    "* Next week wednesday for class 26th on Social mining \n",
    "* GoogleTrans https://pypi.org/project/googletrans/  \\[ 15k max string \\]\n",
    "* Textract http://textract.readthedocs.io/en/latest/\n",
    "* http://ryancompton.net/2014/06/16/community-detection-and-colored-plotting-in-networkx/\n"
   ]
  },
  {
   "cell_type": "code",
   "execution_count": 0,
   "metadata": {
    "colab": {
     "base_uri": "https://localhost:8080/",
     "height": 34
    },
    "colab_type": "code",
    "id": "kjK0zNBrAt5y",
    "outputId": "27d9abff-5dce-42dc-993c-0ff48713f6b7"
   },
   "outputs": [
    {
     "data": {
      "text/plain": [
       "123"
      ]
     },
     "execution_count": 55,
     "metadata": {
      "tags": []
     },
     "output_type": "execute_result"
    }
   ],
   "source": [
    "docs_content =content_part3\n",
    "len(docs_content)"
   ]
  },
  {
   "cell_type": "code",
   "execution_count": 0,
   "metadata": {
    "colab": {
     "base_uri": "https://localhost:8080/",
     "height": 34
    },
    "colab_type": "code",
    "id": "wvSr4zsNBPHU",
    "outputId": "ceaebda4-d6c3-4294-e5e4-e083674ccfe8"
   },
   "outputs": [
    {
     "data": {
      "text/plain": [
       "118"
      ]
     },
     "execution_count": 64,
     "metadata": {
      "tags": []
     },
     "output_type": "execute_result"
    }
   ],
   "source": [
    "content_part4 = dict(docs_content)\n",
    "len(content_part4)"
   ]
  },
  {
   "cell_type": "code",
   "execution_count": 0,
   "metadata": {
    "colab": {
     "base_uri": "https://localhost:8080/",
     "height": 34
    },
    "colab_type": "code",
    "id": "j1XTZJNmPgow",
    "outputId": "8ca6b048-3da9-43f5-92df-e0edac8179a8"
   },
   "outputs": [
    {
     "data": {
      "text/plain": [
       "123"
      ]
     },
     "execution_count": 66,
     "metadata": {
      "tags": []
     },
     "output_type": "execute_result"
    }
   ],
   "source": [
    "content_part5 = dict(docs_content)\n",
    "len(content_part5)"
   ]
  },
  {
   "cell_type": "code",
   "execution_count": 0,
   "metadata": {
    "colab": {
     "base_uri": "https://localhost:8080/",
     "height": 139
    },
    "colab_type": "code",
    "id": "hr4H5mPp9WgY",
    "outputId": "db682d81-160d-4485-ae25-c32a22d45dcd"
   },
   "outputs": [
    {
     "name": "stderr",
     "output_type": "stream",
     "text": [
      "/usr/local/lib/python3.6/dist-packages/ipykernel_launcher.py:1: SettingWithCopyWarning: \n",
      "A value is trying to be set on a copy of a slice from a DataFrame.\n",
      "Try using .loc[row_indexer,col_indexer] = value instead\n",
      "\n",
      "See the caveats in the documentation: http://pandas.pydata.org/pandas-docs/stable/user_guide/indexing.html#returning-a-view-versus-a-copy\n",
      "  \"\"\"Entry point for launching an IPython kernel.\n"
     ]
    }
   ],
   "source": [
    "english_articles_df[\"content_translated\"] = list(docs_content.values())\n",
    "english_articles_df.to_csv(_root+\"/out/english_articles_translated.csv\")"
   ]
  },
  {
   "cell_type": "code",
   "execution_count": 0,
   "metadata": {
    "colab": {},
    "colab_type": "code",
    "id": "Sa3yyzWyBJxT"
   },
   "outputs": [],
   "source": [
    "docs_content_saved = dict(docs_content)"
   ]
  },
  {
   "cell_type": "code",
   "execution_count": 0,
   "metadata": {
    "colab": {},
    "colab_type": "code",
    "id": "GU-OJRQZFT7r"
   },
   "outputs": [],
   "source": []
  },
  {
   "cell_type": "markdown",
   "metadata": {
    "colab_type": "text",
    "id": "92abagLYmvVZ"
   },
   "source": [
    "### 9- Deploying as a class "
   ]
  },
  {
   "cell_type": "code",
   "execution_count": 0,
   "metadata": {
    "colab": {},
    "colab_type": "code",
    "id": "oMzQzjm6nGdy"
   },
   "outputs": [],
   "source": [
    "####################\n",
    "#   DEPENDENCIES   #\n",
    "####################\n",
    "import networkx as nx \n",
    "from networkx.algorithms.distance_measures import diameter\n",
    "from networkx.algorithms.community import community_utils\n",
    "from networkx.algorithms.community import greedy_modularity_communities\n",
    "from networkx.algorithms.community import k_clique_communities\n",
    "from networkx.algorithms.centrality import edge_betweenness_centrality\n",
    "from networkx.algorithms.community.centrality import girvan_newman\n",
    "import pandas as pd\n",
    "import numpy as np\n",
    "import statistics as stats\n",
    "import community\n",
    "import collections\n",
    "import os.path\n",
    "\n",
    "import math\n",
    "from matplotlib  import pyplot as plt \n",
    "from textblob import TextBlob\n",
    "import re\n",
    "import random \n",
    "import json\n",
    "\n",
    "_root = \"/content/drive/My Drive/SOCIAL_MINING\"\n",
    "_url_src_dataset = _root+\"/data/export_articles_EGC_2004_2018.csv\"\n",
    "_url_similarity_score = _root+\"/data/similarityscore.csv\"\n",
    "\n",
    "class SocialMining :\n",
    "###############################################################################\n",
    "#                         SOCIAL MINING CLASS   \n",
    "###############################################################################\n",
    "  def __init__(self, _url_src_dataset, _url_similarity_score, _threashold = 0.07 ):\n",
    "    if os.path.exists(_url_src_dataset) is False:\n",
    "      raise Exception(\"File [{}] does not exit \".format(_url_src_dataset))\n",
    "    if os.path.exists(_url_similarity_score) is False:\n",
    "      raise Exception(\"File [{}] does not exit \".format(_url_similarity_score))\n",
    "    assert( type(_threashold) == float  and _threashold >= 0 )\n",
    "\n",
    "    self.url_src_dataset = _url_src_dataset \n",
    "    self.url_similarity_score = _url_similarity_score\n",
    "    self.threashold = _threashold\n",
    "    self.src_df = None\n",
    "    self.sim_df = None\n",
    "    self.G = None \n",
    "    self.dist_matrix = None\n",
    "    self.n_nodes = 0 \n",
    "    self.n_edges = 0\n",
    "    self.communities = None\n",
    "    \n",
    "    if self._load_data() is False:\n",
    "        raise Exception(\"Error occured while loading data \")\n",
    "\n",
    "    if self._build_graph() is False:\n",
    "        raise Exception(\"Error occured while Building graph \")\n",
    "    \n",
    "  \n",
    "\n",
    "  ####################\n",
    "  #     PUBLIC       #\n",
    "  ####################\n",
    "\n",
    "  def describe_graph(self):\n",
    "    # Global Network Analysis ...\n",
    "    n_edges = self.G.number_of_edges()\n",
    "    n_nodes = self.G.number_of_nodes()\n",
    "    g_degree = nx.degree(self.G)\n",
    "    g_max_degree = max( [ x[1] for x in  g_degree ] )\n",
    "    g_min_degree = min( [ x[1] for x in  g_degree ] )\n",
    "    g_avg_degree = math.ceil(stats.mean( [ x[1] for x in  g_degree ] ))\n",
    "    g_density = round(nx.density(self.G),2)\n",
    "    # printing metrics ...\n",
    "    print(\"Number of Edges\", n_edges )\n",
    "    print(\"Number of Node\", n_nodes)\n",
    "    print(\"Graph Max Degree \",g_max_degree  )\n",
    "    print(\"Graph Min Degree \",g_min_degree  )\n",
    "    print(\"Graph Mean Degree \",g_avg_degree  )\n",
    "    print(\"Graph Density \", g_density)\n",
    "\n",
    "\n",
    "  def detect_communities(self):\n",
    "    self.communities = self._node_candidates_girvan_newman()\n",
    "    return self.communities , SocialMining._reverse_key_value( self.communities),community.modularity(self.communities, self.G )\n",
    "\n",
    "\n",
    "  def recommend_articles(self, article_already_read, nb_recommendations = 10, plot_subgraph = True):\n",
    "    if  self.communities is None:\n",
    "      self.detect_communities()\n",
    "    \n",
    "    list_candidate = self._node_candidates(article_already_read, nb_candidates = nb_recommendations)\n",
    "    list_candidate_ranked = self._ranking_candidate(article_already_read, list_candidate, plot_subgraph = plot_subgraph )\n",
    "    return list_candidate_ranked\n",
    "\n",
    "  def set_threashold(self,_threashold):\n",
    "    assert( type(_threashold) == float )\n",
    "    self.threashold = _threashold\n",
    "    # Rebuilding  Graph ... \n",
    "    return self._build_graph()\n",
    "\n",
    "  def get_graph(self):\n",
    "    return self.G\n",
    "\n",
    "  ####################\n",
    "  #    PRIVATE       #\n",
    "  ####################\n",
    "\n",
    "  def _load_data(self):\n",
    "    try:\n",
    "      self.src_df = pd.read_csv(self.url_src_dataset,delimiter=\"\\t\")\n",
    "      self.sim_df = pd.read_csv(self.url_similarity_score,delimiter=\",\")\n",
    "      self.sim_df = self.sim_df.drop('Unnamed: 0', 1)\n",
    "      return True\n",
    "    except Exception as e:\n",
    "      print(e)\n",
    "      return False\n",
    "  \n",
    "  def _build_graph(self):\n",
    "    try:\n",
    "      m,n = self.src_df.shape \n",
    "      self.dist_matrix = self.sim_df.values\n",
    "      for i in range(m):\n",
    "        self.dist_matrix[:,i] = [ 0 if x<self.threashold  else x for x in self.dist_matrix[:,i]   ]\n",
    "      \n",
    "      self.G = nx.Graph()\n",
    "      for n in range(m):\n",
    "        # Adding the properties each node ... \n",
    "        self.G.add_node(n, **SocialMining.get_node_properties(n, self.src_df))\n",
    "\n",
    "      #print(\"Node Title Properties: \",self.G.nodes[0][\"title\"])\n",
    "\n",
    "      # Defining Edegs based on the distance/weight matric  ...\n",
    "      for i in range(m):\n",
    "        for j in range(m):\n",
    "          if self.dist_matrix[i,j] != 0 and i != j  :\n",
    "            self.G.add_edge(i,j,weight= self.dist_matrix[i,j] ) \n",
    "      \n",
    "      self.n_edges = self.G.number_of_edges()\n",
    "      self.n_nodes = self.G.number_of_nodes()\n",
    "\n",
    "      return True\n",
    "    except Exception as e:\n",
    "      print(e)\n",
    "      return False\n",
    "  \n",
    "\n",
    "  # Selecting matching candidates per the book(s) read ... \n",
    "\n",
    "  def _node_candidates_girvan_newman(self):\n",
    "    community_ = community.best_partition(self.G,weight='weight', random_state= 1)\n",
    "    return community_\n",
    "\n",
    "  def _node_candidates_greedy(self):\n",
    "    greedy_com=list(greedy_modularity_communities(self.G, weight=\"weight\"))\n",
    "    return greedy_com\n",
    "\n",
    "  def _node_candidates_clique(self, n_cliques = 3):\n",
    "    clique_com = list(k_clique_communities(self.G, n_cliques))\n",
    "    return clique_com\n",
    "\n",
    "  def _node_candidates(self,list_read, nb_candidates = 10):\n",
    "    rv_community = SocialMining._reverse_key_value( self.communities)\n",
    "    tmp = list()\n",
    "    for one_read in list_read :\n",
    "      tmp.append(self.communities[one_read])\n",
    "\n",
    "    nb_elem = len(tmp)\n",
    "    counter=collections.Counter(tmp)\n",
    "    freq_tmp =  dict(counter)\n",
    "    result = list()\n",
    "    for k,v in freq_tmp.items():\n",
    "      nb_items = int((v/nb_elem) * nb_candidates)\n",
    "      l2 = random.sample(rv_community[k], k=nb_items)\n",
    "      result = [*result, *l2]\n",
    "    return result \n",
    "\n",
    "  # Ranking candidates ( google index based ranking No dead end trap and )...\n",
    "  def _ranking_candidate(self, list_read, list_candidate, plot_subgraph = True ):\n",
    "    assert(type(list_candidate)  == list)\n",
    "    assert(type(list_read) == list )\n",
    "\n",
    "    # remove  list_read from candidate \n",
    "    list_candidate =  [x for x in list_candidate if x not in list_read]\n",
    "    # Plot the subgrah of the articles read + candidates \n",
    "    combined = list_read + list_candidate\n",
    "    H = self.G.subgraph(combined)\n",
    "    if plot_subgraph is True :\n",
    "      nx.draw(H, with_labels=True)\n",
    "      plt.figure(figsize=(17,3))\n",
    "      plt.show()\n",
    "    # Ranking based on proximity measure\n",
    "    # Compute edge betweeness centrality in the Subgraph \n",
    "    all_edge_betweeness = edge_betweenness_centrality(H,weight=\"weight\") \n",
    "    # Compute weighted  betweeness score for each candidates (nodes )  ...\n",
    "    for edge in all_edge_betweeness:\n",
    "      score = all_edge_betweeness[edge]\n",
    "      H.nodes[edge[0]][\"betweeness_score\"] = (0 if  \"betweeness_score\" not in  H.nodes[edge[0]] else H.nodes[edge[0]][\"betweeness_score\"]) +  score\n",
    "      H.nodes[edge[1]][\"betweeness_score\"] = (0 if  \"betweeness_score\" not in  H.nodes[edge[1]] else H.nodes[edge[1]][\"betweeness_score\"]) +  score\n",
    "    \n",
    "    result = dict()\n",
    "    for candidate in list_candidate :\n",
    "      if \"betweeness_score\" in  H.nodes[candidate]:\n",
    "        result[candidate] = round( H.nodes[candidate][\"betweeness_score\"],3)\n",
    "      else:\n",
    "        result[candidate] = 0\n",
    "\n",
    "    # Sort candidate in Descending order according to w\n",
    "    sorted_result = {k: v for k, v in sorted(result.items(), key=lambda item: item[1],reverse=True )}\n",
    "    return list(sorted_result.keys()), sorted_result\n",
    "\n",
    "\n",
    "  ####################\n",
    "  #   AXILIARIES     #\n",
    "  ####################\n",
    "    # Implementing Utilities Functions ...\n",
    "  def get_node_properties(node_id, df):\n",
    "    \"\"\"\n",
    "      Method used to get details/properties of a node given a node number \n",
    "    \n",
    "      @params: \n",
    "        node_id[Integer]: Node number / ID \n",
    "        df[Pandas.Dataframe]: Source DataFrame \n",
    "      @Returns:\n",
    "        Dictionaries of all details about the Node \n",
    "    \"\"\"\n",
    "    assert( node_id  in range(df.shape[0]) )\n",
    "    return dict(df.iloc[node_id])\n",
    "\n",
    "  def is_positive_integer(i):\n",
    "    try:\n",
    "      i = int(i)\n",
    "      if i >=0:\n",
    "        return True\n",
    "    except Exception as e:\n",
    "      pass\n",
    "    return False \n",
    "\n",
    "  def split_string_in_chunks(x, chunk_size  ):\n",
    "    chunks = len(x)\n",
    "    return [ x[i:i+chunk_size] for i in range(0, chunks, chunk_size) ]\n",
    "\n",
    "  def _remove_all_special_chars(input_text):\n",
    "    assert (type(input_text) == str)\n",
    "\n",
    "    output_text = [re.sub(r\"[^a-zA-Z]+\", ' ', k) for k in input_text.split(\"\\n\")]\n",
    "    output_text = \" \".join(output_text).replace(\"\\n\", \" \")\n",
    "    output_text = output_text.lower()\n",
    "    return output_text\n",
    "\n",
    "  def _reverse_key_value(my_dict):\n",
    "    tmp = dict()\n",
    "    for (k,v) in my_dict.items() :\n",
    "      if v not in tmp:\n",
    "        tmp[v] = list() \n",
    "      tmp[v].append(k)\n",
    "\n",
    "    return tmp \n",
    "  \n",
    "\n",
    "###############################################################################\n",
    "#                         END SOCIAL MINING CLASS   \n",
    "###############################################################################\n"
   ]
  },
  {
   "cell_type": "code",
   "execution_count": 0,
   "metadata": {
    "colab": {
     "base_uri": "https://localhost:8080/",
     "height": 156
    },
    "colab_type": "code",
    "id": "I--4OWC76MKH",
    "outputId": "474fb9b3-f206-478d-d1d3-122611892276"
   },
   "outputs": [
    {
     "name": "stdout",
     "output_type": "stream",
     "text": [
      "{\"0\": [0, 4, 5, 12, 16, 17, 18, 19, 25, 28, 31, 35, 36, 38, 43, 44, 45, 46, 49, 53, 55, 56, 57, 60, 61, 62, 63, 65, 67, 68, 69, 73, 76, 78, 86, 89, 93, 95, 96, 98, 100, 101, 103, 104, 106, 109, 110, 111, 114, 120, 121, 125, 132, 137, 138, 140, 142, 143, 144, 147, 148, 152, 158, 166, 169, 171, 172, 174, 179, 180, 181, 182, 188, 192, 194, 196, 197, 204, 210, 211, 215, 217, 219, 220, 222, 225, 226, 228, 229, 230, 231, 233, 237, 240, 242, 248, 249, 250, 252, 254, 257, 258, 259, 260, 261, 262, 263, 264, 266, 269, 278, 279, 286, 287, 289, 290, 295, 296, 297, 301, 302, 312, 315, 318, 319, 320, 324, 326, 327, 335, 340, 343, 344, 354, 356, 357, 365, 366, 370, 372, 374, 377, 383, 384, 387, 388, 395, 398, 401, 405, 408, 412, 413, 415, 417, 418, 419, 423, 425, 427, 429, 431, 433, 437, 439, 440, 459, 460, 465, 466, 474, 477, 478, 481, 482, 485, 486, 495, 496, 501, 502, 503, 504, 509, 514, 515, 518, 524, 526, 527, 530, 532, 540, 550, 551, 552, 555, 556, 558, 559, 562, 563, 565, 566, 568, 573, 575, 579, 581, 583, 584, 585, 586, 588, 589, 590, 593, 595, 597, 599, 600, 608, 612, 613, 615, 620, 621, 622, 623, 624, 626, 627, 630, 631, 632, 635, 638, 644, 645, 646, 648, 649, 657, 666, 667, 669, 671, 678, 683, 684, 687, 690, 692, 695, 697, 704, 705, 706, 707, 708, 710, 712, 716, 717, 718, 719, 721, 728, 736, 743, 762, 763, 765, 768, 771, 774, 777, 780, 781, 783, 786, 791, 802, 803, 806, 810, 814, 823, 827, 831, 832, 834, 837, 841, 842, 843, 845, 850, 851, 852, 853, 857, 863, 865, 868, 870, 873, 874, 878, 881, 882, 884, 885, 886, 888, 890, 893, 894, 898, 901, 902, 903, 904, 906, 911, 914, 916, 922, 923, 932, 933, 934, 942, 945, 946, 952, 959, 960, 963, 964, 967, 969, 970, 973, 976, 978, 982, 984, 987, 988, 993, 994, 998, 1001, 1004, 1011, 1013, 1014, 1018, 1019, 1020, 1024, 1027, 1028, 1030, 1031, 1034, 1036, 1039, 1040, 1041, 1043, 1048, 1050, 1051, 1052, 1055, 1057, 1059, 1060, 1069, 1071, 1072, 1076, 1078, 1082, 1083, 1084, 1085, 1088, 1089, 1093, 1095, 1097, 1098, 1099, 1100, 1102, 1105, 1119, 1122, 1123, 1125, 1126, 1130, 1131, 1133, 1134, 1139, 1146, 1148, 1152, 1153, 1154, 1155, 1157, 1160, 1161, 1165, 1166, 1167, 1168, 1179, 1181, 1183, 1185, 1186, 1191, 1196, 1198, 1199, 1203, 1210, 1214, 1215, 1216, 1219, 1222, 1225, 1227, 1228, 1230, 1231, 1232, 1236, 1238, 1239, 1241, 1245, 1246, 1251, 1259, 1264, 1267], \"1\": [1, 2, 3, 6, 7, 8, 9, 10, 11, 13, 22, 30, 32, 37, 41, 47, 50, 51, 52, 54, 58, 59, 64, 66, 74, 75, 77, 79, 80, 81, 82, 83, 85, 87, 90, 105, 107, 108, 113, 116, 117, 118, 119, 123, 124, 126, 127, 128, 130, 135, 139, 141, 146, 149, 150, 151, 153, 155, 156, 157, 161, 167, 176, 177, 183, 184, 186, 189, 190, 193, 195, 199, 200, 201, 202, 206, 208, 216, 218, 221, 224, 227, 235, 236, 238, 239, 241, 244, 245, 247, 255, 256, 267, 268, 270, 271, 276, 277, 280, 281, 282, 288, 291, 292, 294, 298, 299, 300, 304, 305, 307, 308, 309, 313, 316, 322, 323, 328, 334, 337, 341, 345, 347, 348, 351, 352, 353, 358, 359, 360, 361, 362, 367, 368, 371, 375, 378, 385, 390, 391, 392, 393, 399, 400, 404, 407, 409, 410, 414, 416, 420, 421, 422, 426, 428, 432, 434, 436, 438, 442, 443, 444, 445, 446, 447, 448, 449, 450, 451, 454, 455, 456, 457, 469, 470, 473, 475, 476, 479, 480, 483, 484, 489, 490, 491, 494, 498, 505, 506, 510, 516, 520, 525, 528, 531, 534, 535, 537, 538, 547, 548, 549, 553, 554, 557, 561, 569, 572, 574, 576, 577, 580, 582, 596, 601, 604, 610, 614, 616, 617, 618, 628, 633, 634, 636, 641, 642, 656, 662, 663, 664, 665, 668, 670, 673, 679, 682, 686, 688, 689, 693, 696, 698, 699, 700, 701, 703, 709, 722, 723, 724, 725, 726, 727, 729, 731, 735, 737, 741, 748, 749, 751, 752, 754, 755, 756, 766, 767, 769, 770, 772, 773, 775, 778, 779, 782, 785, 789, 790, 792, 793, 796, 797, 799, 800, 801, 804, 807, 808, 811, 812, 813, 817, 819, 820, 822, 824, 826, 835, 838, 840, 844, 849, 858, 859, 860, 862, 871, 872, 875, 876, 879, 883, 887, 891, 892, 896, 897, 900, 905, 907, 908, 909, 910, 912, 917, 918, 920, 921, 924, 927, 928, 929, 930, 931, 939, 948, 949, 950, 951, 954, 955, 962, 968, 974, 975, 977, 979, 980, 981, 985, 986, 992, 996, 997, 1005, 1006, 1007, 1009, 1010, 1012, 1016, 1017, 1021, 1022, 1025, 1032, 1033, 1035, 1042, 1045, 1056, 1061, 1062, 1064, 1067, 1068, 1074, 1075, 1090, 1094, 1109, 1110, 1111, 1112, 1114, 1116, 1121, 1124, 1136, 1137, 1141, 1147, 1151, 1159, 1162, 1169, 1170, 1172, 1173, 1175, 1178, 1180, 1182, 1184, 1188, 1189, 1190, 1195, 1202, 1206, 1217, 1218, 1220, 1221, 1224, 1226, 1235, 1243, 1244, 1252, 1256, 1257, 1258, 1262, 1268], \"2\": [14, 15, 24, 26, 27, 29, 39, 40, 42, 70, 71, 94, 102, 112, 129, 134, 136, 145, 154, 164, 168, 170, 175, 198, 205, 232, 243, 246, 251, 265, 273, 283, 284, 285, 293, 311, 325, 338, 339, 342, 355, 379, 380, 382, 386, 397, 411, 424, 452, 458, 488, 493, 497, 507, 508, 517, 533, 539, 543, 546, 571, 658, 702, 715, 753, 788, 839, 846, 848, 880, 925, 953, 956, 991, 1086, 1192, 1194, 1234, 1242, 1265], \"3\": [20, 21, 23, 33, 34, 48, 88, 91, 97, 99, 115, 131, 133, 160, 162, 163, 165, 173, 178, 185, 187, 191, 203, 207, 212, 213, 223, 234, 253, 272, 274, 275, 303, 310, 314, 317, 321, 329, 330, 331, 332, 333, 336, 346, 350, 363, 364, 369, 373, 381, 394, 396, 402, 403, 406, 435, 441, 453, 461, 462, 463, 464, 467, 471, 472, 487, 499, 500, 513, 519, 522, 523, 529, 536, 541, 542, 544, 545, 560, 564, 567, 570, 587, 591, 592, 594, 598, 602, 603, 605, 606, 607, 609, 625, 629, 637, 639, 640, 647, 650, 651, 653, 654, 655, 659, 661, 672, 674, 675, 676, 680, 691, 694, 711, 713, 730, 732, 733, 738, 739, 740, 742, 745, 746, 747, 750, 757, 758, 759, 760, 761, 764, 784, 787, 805, 816, 818, 821, 825, 828, 830, 833, 847, 854, 861, 864, 866, 869, 877, 889, 895, 899, 913, 915, 919, 926, 935, 936, 937, 938, 940, 943, 944, 947, 957, 958, 965, 966, 971, 972, 983, 989, 990, 999, 1002, 1003, 1008, 1015, 1023, 1026, 1029, 1038, 1044, 1046, 1047, 1053, 1054, 1058, 1065, 1066, 1070, 1077, 1079, 1081, 1087, 1091, 1092, 1096, 1101, 1104, 1107, 1108, 1127, 1128, 1129, 1132, 1138, 1140, 1150, 1158, 1163, 1164, 1174, 1176, 1177, 1187, 1197, 1201, 1207, 1208, 1209, 1233, 1249, 1250, 1254], \"4\": [72, 84, 92, 122, 159, 209, 214, 306, 349, 376, 389, 430, 468, 492, 511, 512, 521, 578, 611, 619, 643, 652, 660, 677, 685, 714, 720, 734, 744, 794, 795, 798, 815, 829, 836, 855, 856, 867, 941, 961, 1000, 1037, 1049, 1063, 1106, 1113, 1205, 1211, 1237, 1247, 1266], \"5\": [681], \"6\": [776], \"7\": [809], \"8\": [995], \"9\": [1073], \"10\": [1080], \"11\": [1103], \"12\": [1115], \"13\": [1117], \"14\": [1118], \"15\": [1120], \"16\": [1135], \"17\": [1142], \"18\": [1143], \"19\": [1144], \"20\": [1145], \"21\": [1149], \"22\": [1156], \"23\": [1171], \"24\": [1193], \"25\": [1200], \"26\": [1204], \"27\": [1212], \"28\": [1213], \"29\": [1223], \"30\": [1229], \"31\": [1240], \"32\": [1248], \"33\": [1253], \"34\": [1255], \"35\": [1260], \"36\": [1261], \"37\": [1263]}\n",
      "Number of Edges 490158\n",
      "Number of Node 1269\n",
      "Graph Max Degree  1194\n",
      "Graph Min Degree  0\n",
      "Graph Mean Degree  773\n",
      "Graph Density  0.61\n"
     ]
    }
   ],
   "source": [
    "\n",
    "_root = \"/content/drive/My Drive/SOCIAL_MINING\"\n",
    "_url_src_dataset = _root+\"/data/export_articles_EGC_2004_2018.csv\"\n",
    "_url_similarity_score = _root+\"/data/similarityscore.csv\"\n",
    "\n",
    "# Instantiating Class ...\n",
    "sc = SocialMining(_url_src_dataset,_url_similarity_score,_threashold = 0.03)\n",
    "\n",
    "# Detecting communities ...\n",
    "_, rev_com , _ = sc.detect_communities()\n",
    "print(json.dumps(rev_com))\n",
    "\n",
    "# Describing Graph ...\n",
    "sc.describe_graph()"
   ]
  },
  {
   "cell_type": "code",
   "execution_count": 0,
   "metadata": {
    "colab": {
     "base_uri": "https://localhost:8080/",
     "height": 647
    },
    "colab_type": "code",
    "id": "93gKbPFLvP5A",
    "outputId": "7b591616-da19-4ca6-b861-8f573f77e789"
   },
   "outputs": [
    {
     "data": {
      "image/png": "[encoded data removed]",
      "text/plain": [
       "<Figure size 432x288 with 1 Axes>"
      ]
     },
     "metadata": {
      "tags": []
     },
     "output_type": "display_data"
    },
    {
     "data": {
      "text/plain": [
       "<Figure size 1224x216 with 0 Axes>"
      ]
     },
     "metadata": {
      "tags": []
     },
     "output_type": "display_data"
    },
    {
     "data": {
      "text/html": [
       "<div>\n",
       "<style scoped>\n",
       "    .dataframe tbody tr th:only-of-type {\n",
       "        vertical-align: middle;\n",
       "    }\n",
       "\n",
       "    .dataframe tbody tr th {\n",
       "        vertical-align: top;\n",
       "    }\n",
       "\n",
       "    .dataframe thead th {\n",
       "        text-align: right;\n",
       "    }\n",
       "</style>\n",
       "<table border=\"1\" class=\"dataframe\">\n",
       "  <thead>\n",
       "    <tr style=\"text-align: right;\">\n",
       "      <th></th>\n",
       "      <th>Id</th>\n",
       "      <th>Score</th>\n",
       "      <th>Title</th>\n",
       "    </tr>\n",
       "  </thead>\n",
       "  <tbody>\n",
       "    <tr>\n",
       "      <th>0</th>\n",
       "      <td>456</td>\n",
       "      <td>0.495</td>\n",
       "      <td>Development of a distributed recommender system using the Hadoop Framework</td>\n",
       "    </tr>\n",
       "    <tr>\n",
       "      <th>1</th>\n",
       "      <td>1133</td>\n",
       "      <td>0.319</td>\n",
       "      <td>Extraction de termes centrée autour de l'expert</td>\n",
       "    </tr>\n",
       "    <tr>\n",
       "      <th>2</th>\n",
       "      <td>705</td>\n",
       "      <td>0.275</td>\n",
       "      <td>Une approche fondée sur la corrélation entre prédicats pour le traitement des réponses pléthoriques</td>\n",
       "    </tr>\n",
       "    <tr>\n",
       "      <th>3</th>\n",
       "      <td>448</td>\n",
       "      <td>0.231</td>\n",
       "      <td>Clustering hiérarchique non paramétrique de données fonctionnelles</td>\n",
       "    </tr>\n",
       "    <tr>\n",
       "      <th>4</th>\n",
       "      <td>615</td>\n",
       "      <td>0.209</td>\n",
       "      <td>Apprentissage de patrons lexico-syntaxiques à partir de textes</td>\n",
       "    </tr>\n",
       "    <tr>\n",
       "      <th>5</th>\n",
       "      <td>12</td>\n",
       "      <td>0.165</td>\n",
       "      <td>Catégorisation d'articles scientifiques basée sur les relations sémantiques des mots-clés</td>\n",
       "    </tr>\n",
       "    <tr>\n",
       "      <th>6</th>\n",
       "      <td>340</td>\n",
       "      <td>0.165</td>\n",
       "      <td>Intégration de plusieurs formes de représentations spatiales dans un modèle de simulation</td>\n",
       "    </tr>\n",
       "    <tr>\n",
       "      <th>7</th>\n",
       "      <td>46</td>\n",
       "      <td>0.143</td>\n",
       "      <td>NFB: protocole de Notarisation des Documents dans la Blockchain</td>\n",
       "    </tr>\n",
       "    <tr>\n",
       "      <th>8</th>\n",
       "      <td>623</td>\n",
       "      <td>0.143</td>\n",
       "      <td>CARTOCEL : Un outil de cartographie des connaissances guidée par la machine cellulaire CASI</td>\n",
       "    </tr>\n",
       "  </tbody>\n",
       "</table>\n",
       "</div>"
      ],
      "text/plain": [
       "     Id  ...                                                                                                Title\n",
       "0   456  ...                           Development of a distributed recommender system using the Hadoop Framework\n",
       "1  1133  ...                                                      Extraction de termes centrée autour de l'expert\n",
       "2   705  ...  Une approche fondée sur la corrélation entre prédicats pour le traitement des réponses pléthoriques\n",
       "3   448  ...                                   Clustering hiérarchique non paramétrique de données fonctionnelles\n",
       "4   615  ...                                       Apprentissage de patrons lexico-syntaxiques à partir de textes\n",
       "5    12  ...            Catégorisation d'articles scientifiques basée sur les relations sémantiques des mots-clés\n",
       "6   340  ...            Intégration de plusieurs formes de représentations spatiales dans un modèle de simulation\n",
       "7    46  ...                                      NFB: protocole de Notarisation des Documents dans la Blockchain\n",
       "8   623  ...          CARTOCEL : Un outil de cartographie des connaissances guidée par la machine cellulaire CASI\n",
       "\n",
       "[9 rows x 3 columns]"
      ]
     },
     "execution_count": 23,
     "metadata": {
      "tags": []
     },
     "output_type": "execute_result"
    }
   ],
   "source": [
    "# Recommanding articles ...\n",
    "_article_already_read = [2,5,67,17,233]\n",
    "_nb_recommendation = 10\n",
    "_plot_subgraph = True\n",
    "sorted_node , ranking_index = sc.recommend_articles(article_already_read= _article_already_read ,\n",
    "                                                    nb_recommendations=_nb_recommendation,\n",
    "                                                    plot_subgraph = _plot_subgraph)\n",
    "\n",
    "# Printing results  in dataFrame ...  \n",
    "result_df = pd.DataFrame(columns=[\"Id\",\"Score\",\"Title\"])\n",
    "i = 0 \n",
    "for n in sorted_node:\n",
    "  result_df.loc[i, \"Id\"] = n\n",
    "  result_df.loc[i, \"Score\"] = ranking_index[n]\n",
    "  result_df.loc[i, \"Title\"] = str(sc.get_graph().nodes[n][\"title\"]).strip()\n",
    "  #print(\"id: \",n,\" | \", ranking_index[n], \"| Title:\",G.nodes[n][\"title\"])\n",
    "  i+=1\n",
    "\n",
    "pd.set_option(\"display.max_colwidth\",800)\n",
    "result_df"
   ]
  },
  {
   "cell_type": "code",
   "execution_count": 0,
   "metadata": {
    "colab": {},
    "colab_type": "code",
    "id": "ShQTKdzH27jT"
   },
   "outputs": [],
   "source": []
  }
 ],
 "metadata": {
  "accelerator": "GPU",
  "colab": {
   "collapsed_sections": [],
   "name": "social_mining.ipynb",
   "provenance": [],
   "toc_visible": true
  },
  "kernelspec": {
   "display_name": "Python 3",
   "language": "python",
   "name": "python3"
  },
  "language_info": {
   "codemirror_mode": {
    "name": "ipython",
    "version": 3
   },
   "file_extension": ".py",
   "mimetype": "text/x-python",
   "name": "python",
   "nbconvert_exporter": "python",
   "pygments_lexer": "ipython3",
   "version": "3.7.5"
  }
 },
 "nbformat": 4,
 "nbformat_minor": 1
}
